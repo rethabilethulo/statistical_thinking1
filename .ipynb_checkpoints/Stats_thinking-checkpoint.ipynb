{
 "cells": [
  {
   "cell_type": "markdown",
   "metadata": {},
   "source": [
    "# Introduction"
   ]
  },
  {
   "cell_type": "markdown",
   "metadata": {},
   "source": [
    "In this notebook I was exploring and analyzing data from the Millennium Development Goals(MDG).A set of 8 Goals for 2015were defined by the United Nations to help improve living conditions and the condition of our planet.Key indicators were defined for each of the goals .In this project I had to work with Goal 7 which is to ensure environmental sustainability of carbon dioxide(CO2)emissions protected land and sea areas,and forests.I had to find the measure of central tendency,describe distributions and interpret it's histogram and know what outliers are and know how they affect measures of central tendency. "
   ]
  },
  {
   "cell_type": "markdown",
   "metadata": {},
   "source": [
    "# Importing needed modules"
   ]
  },
  {
   "cell_type": "code",
   "execution_count": 1,
   "metadata": {},
   "outputs": [],
   "source": [
    "import pandas as pd\n",
    "import numpy as np\n",
    "import matplotlib.pyplot as plt\n",
    "import seaborn as sns\n",
    "import matplotlib as mpl\n",
    "from scipy.stats import stats\n",
    "import warnings\n",
    "warnings.filterwarnings(\"ignore\")\n",
    "from scipy.stats.stats import pearsonr\n",
    "\n",
    "\n",
    "%matplotlib inline\n",
    "\n",
    "from itertools import chain"
   ]
  },
  {
   "cell_type": "markdown",
   "metadata": {},
   "source": [
    "# Examining dataframe"
   ]
  },
  {
   "cell_type": "code",
   "execution_count": 2,
   "metadata": {},
   "outputs": [
    {
     "data": {
      "text/html": [
       "<div>\n",
       "<style scoped>\n",
       "    .dataframe tbody tr th:only-of-type {\n",
       "        vertical-align: middle;\n",
       "    }\n",
       "\n",
       "    .dataframe tbody tr th {\n",
       "        vertical-align: top;\n",
       "    }\n",
       "\n",
       "    .dataframe thead th {\n",
       "        text-align: right;\n",
       "    }\n",
       "</style>\n",
       "<table border=\"1\" class=\"dataframe\">\n",
       "  <thead>\n",
       "    <tr style=\"text-align: right;\">\n",
       "      <th></th>\n",
       "      <th>CountryCode</th>\n",
       "      <th>Country</th>\n",
       "      <th>SeriesCode</th>\n",
       "      <th>MDG</th>\n",
       "      <th>Series</th>\n",
       "      <th>1990</th>\n",
       "      <th>Footnotes</th>\n",
       "      <th>Type</th>\n",
       "      <th>1991</th>\n",
       "      <th>Footnotes.1</th>\n",
       "      <th>...</th>\n",
       "      <th>Type.26</th>\n",
       "      <th>2017</th>\n",
       "      <th>Footnotes.27</th>\n",
       "      <th>Type.27</th>\n",
       "      <th>2018</th>\n",
       "      <th>Footnotes.28</th>\n",
       "      <th>Type.28</th>\n",
       "      <th>2019</th>\n",
       "      <th>Footnotes.29</th>\n",
       "      <th>Type.29</th>\n",
       "    </tr>\n",
       "  </thead>\n",
       "  <tbody>\n",
       "    <tr>\n",
       "      <th>0</th>\n",
       "      <td>4</td>\n",
       "      <td>Afghanistan</td>\n",
       "      <td>567</td>\n",
       "      <td>Y</td>\n",
       "      <td>Proportion of land area covered by forest, per...</td>\n",
       "      <td>2.1</td>\n",
       "      <td>NaN</td>\n",
       "      <td>E</td>\n",
       "      <td></td>\n",
       "      <td></td>\n",
       "      <td>...</td>\n",
       "      <td></td>\n",
       "      <td></td>\n",
       "      <td></td>\n",
       "      <td></td>\n",
       "      <td></td>\n",
       "      <td></td>\n",
       "      <td></td>\n",
       "      <td></td>\n",
       "      <td></td>\n",
       "      <td></td>\n",
       "    </tr>\n",
       "    <tr>\n",
       "      <th>1</th>\n",
       "      <td>4</td>\n",
       "      <td>Afghanistan</td>\n",
       "      <td>749</td>\n",
       "      <td>Y</td>\n",
       "      <td>Carbon dioxide emissions (CO2), thousand metri...</td>\n",
       "      <td>2676.9</td>\n",
       "      <td>NaN</td>\n",
       "      <td>G</td>\n",
       "      <td>2493.6</td>\n",
       "      <td>NaN</td>\n",
       "      <td>...</td>\n",
       "      <td></td>\n",
       "      <td></td>\n",
       "      <td></td>\n",
       "      <td></td>\n",
       "      <td></td>\n",
       "      <td></td>\n",
       "      <td></td>\n",
       "      <td></td>\n",
       "      <td></td>\n",
       "      <td></td>\n",
       "    </tr>\n",
       "    <tr>\n",
       "      <th>2</th>\n",
       "      <td>4</td>\n",
       "      <td>Afghanistan</td>\n",
       "      <td>616</td>\n",
       "      <td>Y</td>\n",
       "      <td>Terrestrial and marine areas protected to tota...</td>\n",
       "      <td>0.36</td>\n",
       "      <td>NaN</td>\n",
       "      <td>C</td>\n",
       "      <td></td>\n",
       "      <td></td>\n",
       "      <td>...</td>\n",
       "      <td></td>\n",
       "      <td></td>\n",
       "      <td></td>\n",
       "      <td></td>\n",
       "      <td></td>\n",
       "      <td></td>\n",
       "      <td></td>\n",
       "      <td></td>\n",
       "      <td></td>\n",
       "      <td></td>\n",
       "    </tr>\n",
       "    <tr>\n",
       "      <th>3</th>\n",
       "      <td>8</td>\n",
       "      <td>Albania</td>\n",
       "      <td>567</td>\n",
       "      <td>Y</td>\n",
       "      <td>Proportion of land area covered by forest, per...</td>\n",
       "      <td>28.8</td>\n",
       "      <td>NaN</td>\n",
       "      <td>C</td>\n",
       "      <td></td>\n",
       "      <td></td>\n",
       "      <td>...</td>\n",
       "      <td></td>\n",
       "      <td></td>\n",
       "      <td></td>\n",
       "      <td></td>\n",
       "      <td></td>\n",
       "      <td></td>\n",
       "      <td></td>\n",
       "      <td></td>\n",
       "      <td></td>\n",
       "      <td></td>\n",
       "    </tr>\n",
       "    <tr>\n",
       "      <th>4</th>\n",
       "      <td>8</td>\n",
       "      <td>Albania</td>\n",
       "      <td>749</td>\n",
       "      <td>Y</td>\n",
       "      <td>Carbon dioxide emissions (CO2), thousand metri...</td>\n",
       "      <td>7488</td>\n",
       "      <td>NaN</td>\n",
       "      <td>G</td>\n",
       "      <td>3971.4</td>\n",
       "      <td>NaN</td>\n",
       "      <td>...</td>\n",
       "      <td></td>\n",
       "      <td></td>\n",
       "      <td></td>\n",
       "      <td></td>\n",
       "      <td></td>\n",
       "      <td></td>\n",
       "      <td></td>\n",
       "      <td></td>\n",
       "      <td></td>\n",
       "      <td></td>\n",
       "    </tr>\n",
       "  </tbody>\n",
       "</table>\n",
       "<p>5 rows × 95 columns</p>\n",
       "</div>"
      ],
      "text/plain": [
       "   CountryCode      Country  SeriesCode MDG  \\\n",
       "0            4  Afghanistan         567   Y   \n",
       "1            4  Afghanistan         749   Y   \n",
       "2            4  Afghanistan         616   Y   \n",
       "3            8      Albania         567   Y   \n",
       "4            8      Albania         749   Y   \n",
       "\n",
       "                                              Series    1990 Footnotes Type  \\\n",
       "0  Proportion of land area covered by forest, per...     2.1       NaN    E   \n",
       "1  Carbon dioxide emissions (CO2), thousand metri...  2676.9       NaN    G   \n",
       "2  Terrestrial and marine areas protected to tota...    0.36       NaN    C   \n",
       "3  Proportion of land area covered by forest, per...    28.8       NaN    C   \n",
       "4  Carbon dioxide emissions (CO2), thousand metri...    7488       NaN    G   \n",
       "\n",
       "     1991 Footnotes.1  ... Type.26 2017 Footnotes.27 Type.27 2018  \\\n",
       "0                      ...                                          \n",
       "1  2493.6         NaN  ...                                          \n",
       "2                      ...                                          \n",
       "3                      ...                                          \n",
       "4  3971.4         NaN  ...                                          \n",
       "\n",
       "  Footnotes.28 Type.28 2019 Footnotes.29 Type.29  \n",
       "0                                                 \n",
       "1                                                 \n",
       "2                                                 \n",
       "3                                                 \n",
       "4                                                 \n",
       "\n",
       "[5 rows x 95 columns]"
      ]
     },
     "execution_count": 2,
     "metadata": {},
     "output_type": "execute_result"
    }
   ],
   "source": [
    "stats = pd.read_csv(\"MDG_Export_20191227 (1).csv\")\n",
    "stats.head()"
   ]
  },
  {
   "cell_type": "markdown",
   "metadata": {},
   "source": [
    "# Checking Statistical summary"
   ]
  },
  {
   "cell_type": "code",
   "execution_count": 3,
   "metadata": {},
   "outputs": [
    {
     "data": {
      "text/html": [
       "<div>\n",
       "<style scoped>\n",
       "    .dataframe tbody tr th:only-of-type {\n",
       "        vertical-align: middle;\n",
       "    }\n",
       "\n",
       "    .dataframe tbody tr th {\n",
       "        vertical-align: top;\n",
       "    }\n",
       "\n",
       "    .dataframe thead th {\n",
       "        text-align: right;\n",
       "    }\n",
       "</style>\n",
       "<table border=\"1\" class=\"dataframe\">\n",
       "  <thead>\n",
       "    <tr style=\"text-align: right;\">\n",
       "      <th></th>\n",
       "      <th>CountryCode</th>\n",
       "      <th>SeriesCode</th>\n",
       "    </tr>\n",
       "  </thead>\n",
       "  <tbody>\n",
       "    <tr>\n",
       "      <th>count</th>\n",
       "      <td>690.000000</td>\n",
       "      <td>690.000000</td>\n",
       "    </tr>\n",
       "    <tr>\n",
       "      <th>mean</th>\n",
       "      <td>439.465217</td>\n",
       "      <td>644.000000</td>\n",
       "    </tr>\n",
       "    <tr>\n",
       "      <th>std</th>\n",
       "      <td>254.138802</td>\n",
       "      <td>76.949647</td>\n",
       "    </tr>\n",
       "    <tr>\n",
       "      <th>min</th>\n",
       "      <td>4.000000</td>\n",
       "      <td>567.000000</td>\n",
       "    </tr>\n",
       "    <tr>\n",
       "      <th>25%</th>\n",
       "      <td>222.000000</td>\n",
       "      <td>567.000000</td>\n",
       "    </tr>\n",
       "    <tr>\n",
       "      <th>50%</th>\n",
       "      <td>439.000000</td>\n",
       "      <td>616.000000</td>\n",
       "    </tr>\n",
       "    <tr>\n",
       "      <th>75%</th>\n",
       "      <td>660.000000</td>\n",
       "      <td>749.000000</td>\n",
       "    </tr>\n",
       "    <tr>\n",
       "      <th>max</th>\n",
       "      <td>894.000000</td>\n",
       "      <td>749.000000</td>\n",
       "    </tr>\n",
       "  </tbody>\n",
       "</table>\n",
       "</div>"
      ],
      "text/plain": [
       "       CountryCode  SeriesCode\n",
       "count   690.000000  690.000000\n",
       "mean    439.465217  644.000000\n",
       "std     254.138802   76.949647\n",
       "min       4.000000  567.000000\n",
       "25%     222.000000  567.000000\n",
       "50%     439.000000  616.000000\n",
       "75%     660.000000  749.000000\n",
       "max     894.000000  749.000000"
      ]
     },
     "execution_count": 3,
     "metadata": {},
     "output_type": "execute_result"
    }
   ],
   "source": [
    "stats.describe()"
   ]
  },
  {
   "cell_type": "code",
   "execution_count": 4,
   "metadata": {},
   "outputs": [
    {
     "data": {
      "text/plain": [
       "object    93\n",
       "int64      2\n",
       "dtype: int64"
      ]
     },
     "execution_count": 4,
     "metadata": {},
     "output_type": "execute_result"
    }
   ],
   "source": [
    "#Checking data types\n",
    "\n",
    "stats.dtypes.value_counts()"
   ]
  },
  {
   "cell_type": "code",
   "execution_count": 5,
   "metadata": {},
   "outputs": [
    {
     "data": {
      "text/plain": [
       "Index(['Country', 'MDG', 'Series', '1990', 'Footnotes', 'Type', '1991',\n",
       "       'Footnotes.1', 'Type.1', '1992', 'Footnotes.2', 'Type.2', '1993',\n",
       "       'Footnotes.3', 'Type.3', '1994', 'Footnotes.4', 'Type.4', '1995',\n",
       "       'Footnotes.5', 'Type.5', '1996', 'Footnotes.6', 'Type.6', '1997',\n",
       "       'Footnotes.7', 'Type.7', '1998', 'Footnotes.8', 'Type.8', '1999',\n",
       "       'Footnotes.9', 'Type.9', '2000', 'Footnotes.10', 'Type.10', '2001',\n",
       "       'Footnotes.11', 'Type.11', '2002', 'Footnotes.12', 'Type.12', '2003',\n",
       "       'Footnotes.13', 'Type.13', '2004', 'Footnotes.14', 'Type.14', '2005',\n",
       "       'Footnotes.15', 'Type.15', '2006', 'Footnotes.16', 'Type.16', '2007',\n",
       "       'Footnotes.17', 'Type.17', '2008', 'Footnotes.18', 'Type.18', '2009',\n",
       "       'Footnotes.19', 'Type.19', '2010', 'Footnotes.20', 'Type.20', '2011',\n",
       "       'Footnotes.21', 'Type.21', '2012', 'Footnotes.22', 'Type.22', '2013',\n",
       "       'Footnotes.23', 'Type.23', '2014', 'Footnotes.24', 'Type.24', '2015',\n",
       "       'Footnotes.25', 'Type.25', '2016', 'Footnotes.26', 'Type.26', '2017',\n",
       "       'Footnotes.27', 'Type.27', '2018', 'Footnotes.28', 'Type.28', '2019',\n",
       "       'Footnotes.29', 'Type.29'],\n",
       "      dtype='object')"
      ]
     },
     "execution_count": 5,
     "metadata": {},
     "output_type": "execute_result"
    }
   ],
   "source": [
    "stats.select_dtypes(include = [\"object\"]).columns"
   ]
  },
  {
   "cell_type": "markdown",
   "metadata": {},
   "source": [
    "# Cleaning And Preparing Data"
   ]
  },
  {
   "cell_type": "code",
   "execution_count": 6,
   "metadata": {
    "scrolled": true
   },
   "outputs": [],
   "source": [
    "#Replacing all empty string and records with on'ly spaces nan\n",
    "#replacing = stats.replace(r'^\\s*$', np.nan,regex = True)"
   ]
  },
  {
   "cell_type": "code",
   "execution_count": 7,
   "metadata": {},
   "outputs": [
    {
     "data": {
      "text/html": [
       "<div>\n",
       "<style scoped>\n",
       "    .dataframe tbody tr th:only-of-type {\n",
       "        vertical-align: middle;\n",
       "    }\n",
       "\n",
       "    .dataframe tbody tr th {\n",
       "        vertical-align: top;\n",
       "    }\n",
       "\n",
       "    .dataframe thead th {\n",
       "        text-align: right;\n",
       "    }\n",
       "</style>\n",
       "<table border=\"1\" class=\"dataframe\">\n",
       "  <thead>\n",
       "    <tr style=\"text-align: right;\">\n",
       "      <th></th>\n",
       "      <th>CountryCode</th>\n",
       "      <th>Country</th>\n",
       "      <th>SeriesCode</th>\n",
       "      <th>MDG</th>\n",
       "      <th>Series</th>\n",
       "      <th>1990</th>\n",
       "      <th>Type</th>\n",
       "      <th>1991</th>\n",
       "      <th>1992</th>\n",
       "      <th>1993</th>\n",
       "      <th>...</th>\n",
       "      <th>2010</th>\n",
       "      <th>2011</th>\n",
       "      <th>2012</th>\n",
       "      <th>2013</th>\n",
       "      <th>2014</th>\n",
       "      <th>2015</th>\n",
       "      <th>2016</th>\n",
       "      <th>2017</th>\n",
       "      <th>2018</th>\n",
       "      <th>2019</th>\n",
       "    </tr>\n",
       "  </thead>\n",
       "  <tbody>\n",
       "    <tr>\n",
       "      <th>0</th>\n",
       "      <td>4</td>\n",
       "      <td>Afghanistan</td>\n",
       "      <td>567</td>\n",
       "      <td>Y</td>\n",
       "      <td>Proportion of land area covered by forest, per...</td>\n",
       "      <td>2.1</td>\n",
       "      <td>E</td>\n",
       "      <td></td>\n",
       "      <td></td>\n",
       "      <td></td>\n",
       "      <td>...</td>\n",
       "      <td>2.1</td>\n",
       "      <td></td>\n",
       "      <td></td>\n",
       "      <td></td>\n",
       "      <td></td>\n",
       "      <td></td>\n",
       "      <td></td>\n",
       "      <td></td>\n",
       "      <td></td>\n",
       "      <td></td>\n",
       "    </tr>\n",
       "    <tr>\n",
       "      <th>1</th>\n",
       "      <td>4</td>\n",
       "      <td>Afghanistan</td>\n",
       "      <td>749</td>\n",
       "      <td>Y</td>\n",
       "      <td>Carbon dioxide emissions (CO2), thousand metri...</td>\n",
       "      <td>2676.9</td>\n",
       "      <td>G</td>\n",
       "      <td>2493.6</td>\n",
       "      <td>1426.5</td>\n",
       "      <td>1375.1</td>\n",
       "      <td>...</td>\n",
       "      <td>8470.8</td>\n",
       "      <td>12251.4</td>\n",
       "      <td></td>\n",
       "      <td></td>\n",
       "      <td></td>\n",
       "      <td></td>\n",
       "      <td></td>\n",
       "      <td></td>\n",
       "      <td></td>\n",
       "      <td></td>\n",
       "    </tr>\n",
       "    <tr>\n",
       "      <th>2</th>\n",
       "      <td>4</td>\n",
       "      <td>Afghanistan</td>\n",
       "      <td>616</td>\n",
       "      <td>Y</td>\n",
       "      <td>Terrestrial and marine areas protected to tota...</td>\n",
       "      <td>0.36</td>\n",
       "      <td>C</td>\n",
       "      <td></td>\n",
       "      <td></td>\n",
       "      <td></td>\n",
       "      <td>...</td>\n",
       "      <td></td>\n",
       "      <td></td>\n",
       "      <td></td>\n",
       "      <td></td>\n",
       "      <td>0.46</td>\n",
       "      <td></td>\n",
       "      <td></td>\n",
       "      <td></td>\n",
       "      <td></td>\n",
       "      <td></td>\n",
       "    </tr>\n",
       "    <tr>\n",
       "      <th>3</th>\n",
       "      <td>8</td>\n",
       "      <td>Albania</td>\n",
       "      <td>567</td>\n",
       "      <td>Y</td>\n",
       "      <td>Proportion of land area covered by forest, per...</td>\n",
       "      <td>28.8</td>\n",
       "      <td>C</td>\n",
       "      <td></td>\n",
       "      <td></td>\n",
       "      <td></td>\n",
       "      <td>...</td>\n",
       "      <td>28.3</td>\n",
       "      <td></td>\n",
       "      <td></td>\n",
       "      <td></td>\n",
       "      <td></td>\n",
       "      <td></td>\n",
       "      <td></td>\n",
       "      <td></td>\n",
       "      <td></td>\n",
       "      <td></td>\n",
       "    </tr>\n",
       "    <tr>\n",
       "      <th>4</th>\n",
       "      <td>8</td>\n",
       "      <td>Albania</td>\n",
       "      <td>749</td>\n",
       "      <td>Y</td>\n",
       "      <td>Carbon dioxide emissions (CO2), thousand metri...</td>\n",
       "      <td>7488</td>\n",
       "      <td>G</td>\n",
       "      <td>3971.4</td>\n",
       "      <td>2387.2</td>\n",
       "      <td>2343.2</td>\n",
       "      <td>...</td>\n",
       "      <td>4415.1</td>\n",
       "      <td>4668.1</td>\n",
       "      <td></td>\n",
       "      <td></td>\n",
       "      <td></td>\n",
       "      <td></td>\n",
       "      <td></td>\n",
       "      <td></td>\n",
       "      <td></td>\n",
       "      <td></td>\n",
       "    </tr>\n",
       "  </tbody>\n",
       "</table>\n",
       "<p>5 rows × 36 columns</p>\n",
       "</div>"
      ],
      "text/plain": [
       "   CountryCode      Country  SeriesCode MDG  \\\n",
       "0            4  Afghanistan         567   Y   \n",
       "1            4  Afghanistan         749   Y   \n",
       "2            4  Afghanistan         616   Y   \n",
       "3            8      Albania         567   Y   \n",
       "4            8      Albania         749   Y   \n",
       "\n",
       "                                              Series    1990 Type    1991  \\\n",
       "0  Proportion of land area covered by forest, per...     2.1    E           \n",
       "1  Carbon dioxide emissions (CO2), thousand metri...  2676.9    G  2493.6   \n",
       "2  Terrestrial and marine areas protected to tota...    0.36    C           \n",
       "3  Proportion of land area covered by forest, per...    28.8    C           \n",
       "4  Carbon dioxide emissions (CO2), thousand metri...    7488    G  3971.4   \n",
       "\n",
       "     1992    1993  ...    2010     2011 2012 2013  2014 2015 2016 2017 2018  \\\n",
       "0                  ...     2.1                                                \n",
       "1  1426.5  1375.1  ...  8470.8  12251.4                                       \n",
       "2                  ...                             0.46                       \n",
       "3                  ...    28.3                                                \n",
       "4  2387.2  2343.2  ...  4415.1   4668.1                                       \n",
       "\n",
       "  2019  \n",
       "0       \n",
       "1       \n",
       "2       \n",
       "3       \n",
       "4       \n",
       "\n",
       "[5 rows x 36 columns]"
      ]
     },
     "execution_count": 7,
     "metadata": {},
     "output_type": "execute_result"
    }
   ],
   "source": [
    "# Removing columns that I don't need\n",
    "\n",
    "for row in stats:\n",
    "    if \"Footnotes\" in row:\n",
    "        del stats[row]\n",
    "    elif \"Type.\" in row:\n",
    "        del stats[row]\n",
    "        \n",
    "stats.head()        "
   ]
  },
  {
   "cell_type": "code",
   "execution_count": 8,
   "metadata": {},
   "outputs": [
    {
     "name": "stdout",
     "output_type": "stream",
     "text": [
      "<class 'pandas.core.frame.DataFrame'>\n",
      "RangeIndex: 690 entries, 0 to 689\n",
      "Data columns (total 36 columns):\n",
      " #   Column       Non-Null Count  Dtype \n",
      "---  ------       --------------  ----- \n",
      " 0   CountryCode  690 non-null    int64 \n",
      " 1   Country      690 non-null    object\n",
      " 2   SeriesCode   690 non-null    int64 \n",
      " 3   MDG          690 non-null    object\n",
      " 4   Series       690 non-null    object\n",
      " 5   1990         689 non-null    object\n",
      " 6   Type         690 non-null    object\n",
      " 7   1991         690 non-null    object\n",
      " 8   1992         690 non-null    object\n",
      " 9   1993         690 non-null    object\n",
      " 10  1994         690 non-null    object\n",
      " 11  1995         690 non-null    object\n",
      " 12  1996         690 non-null    object\n",
      " 13  1997         690 non-null    object\n",
      " 14  1998         690 non-null    object\n",
      " 15  1999         690 non-null    object\n",
      " 16  2000         689 non-null    object\n",
      " 17  2001         690 non-null    object\n",
      " 18  2002         690 non-null    object\n",
      " 19  2003         690 non-null    object\n",
      " 20  2004         690 non-null    object\n",
      " 21  2005         689 non-null    object\n",
      " 22  2006         690 non-null    object\n",
      " 23  2007         690 non-null    object\n",
      " 24  2008         690 non-null    object\n",
      " 25  2009         690 non-null    object\n",
      " 26  2010         689 non-null    object\n",
      " 27  2011         690 non-null    object\n",
      " 28  2012         690 non-null    object\n",
      " 29  2013         690 non-null    object\n",
      " 30  2014         690 non-null    object\n",
      " 31  2015         690 non-null    object\n",
      " 32  2016         690 non-null    object\n",
      " 33  2017         690 non-null    object\n",
      " 34  2018         690 non-null    object\n",
      " 35  2019         690 non-null    object\n",
      "dtypes: int64(2), object(34)\n",
      "memory usage: 194.2+ KB\n"
     ]
    }
   ],
   "source": [
    "stats.info()"
   ]
  },
  {
   "cell_type": "markdown",
   "metadata": {},
   "source": [
    "# Checking duplicates"
   ]
  },
  {
   "cell_type": "code",
   "execution_count": 9,
   "metadata": {},
   "outputs": [
    {
     "data": {
      "text/plain": [
       "CountryCode    230\n",
       "Country        230\n",
       "SeriesCode       3\n",
       "MDG              1\n",
       "Series           3\n",
       "1990           516\n",
       "Type             4\n",
       "1991           175\n",
       "1992           199\n",
       "1993           195\n",
       "1994           194\n",
       "1995           194\n",
       "1996           199\n",
       "1997           198\n",
       "1998           204\n",
       "1999           200\n",
       "2000           569\n",
       "2001           200\n",
       "2002           205\n",
       "2003           207\n",
       "2004           208\n",
       "2005           391\n",
       "2006           208\n",
       "2007           206\n",
       "2008           206\n",
       "2009           211\n",
       "2010           387\n",
       "2011           208\n",
       "2012             1\n",
       "2013             1\n",
       "2014           202\n",
       "2015             1\n",
       "2016             1\n",
       "2017             1\n",
       "2018             1\n",
       "2019             1\n",
       "dtype: int64"
      ]
     },
     "execution_count": 9,
     "metadata": {},
     "output_type": "execute_result"
    }
   ],
   "source": [
    "#Checking nunique values\n",
    "stats.nunique()"
   ]
  },
  {
   "cell_type": "code",
   "execution_count": 10,
   "metadata": {},
   "outputs": [
    {
     "data": {
      "text/html": [
       "<div>\n",
       "<style scoped>\n",
       "    .dataframe tbody tr th:only-of-type {\n",
       "        vertical-align: middle;\n",
       "    }\n",
       "\n",
       "    .dataframe tbody tr th {\n",
       "        vertical-align: top;\n",
       "    }\n",
       "\n",
       "    .dataframe thead th {\n",
       "        text-align: right;\n",
       "    }\n",
       "</style>\n",
       "<table border=\"1\" class=\"dataframe\">\n",
       "  <thead>\n",
       "    <tr style=\"text-align: right;\">\n",
       "      <th></th>\n",
       "      <th>CountryCode</th>\n",
       "      <th>SeriesCode</th>\n",
       "    </tr>\n",
       "  </thead>\n",
       "  <tbody>\n",
       "    <tr>\n",
       "      <th>CountryCode</th>\n",
       "      <td>1.000000e+00</td>\n",
       "      <td>-1.532248e-17</td>\n",
       "    </tr>\n",
       "    <tr>\n",
       "      <th>SeriesCode</th>\n",
       "      <td>-1.532248e-17</td>\n",
       "      <td>1.000000e+00</td>\n",
       "    </tr>\n",
       "  </tbody>\n",
       "</table>\n",
       "</div>"
      ],
      "text/plain": [
       "              CountryCode    SeriesCode\n",
       "CountryCode  1.000000e+00 -1.532248e-17\n",
       "SeriesCode  -1.532248e-17  1.000000e+00"
      ]
     },
     "execution_count": 10,
     "metadata": {},
     "output_type": "execute_result"
    }
   ],
   "source": [
    "stats.corr()"
   ]
  },
  {
   "cell_type": "markdown",
   "metadata": {},
   "source": [
    "There is a perfect negative relationship between Country code and Series code meaning they are inversely proportional.When on increases the other decreases."
   ]
  },
  {
   "cell_type": "code",
   "execution_count": 11,
   "metadata": {},
   "outputs": [],
   "source": [
    "# Replacing missing values with 0\n",
    "#replacing_null =replacing.replace(np.nan,439.465217,regex = True)\n",
    "#replacing_null"
   ]
  },
  {
   "cell_type": "markdown",
   "metadata": {},
   "source": [
    "# 1.How many different countries are represented? How many missing values are there by country, year and series?"
   ]
  },
  {
   "cell_type": "code",
   "execution_count": 12,
   "metadata": {},
   "outputs": [
    {
     "name": "stdout",
     "output_type": "stream",
     "text": [
      "Number of countries in dataframes = 230\n"
     ]
    }
   ],
   "source": [
    "#Checking the number of countries represented\n",
    "country_name = stats.Country.unique()\n",
    "\n",
    "print(\"Number of countries in dataframes =\", len(country_name))\n"
   ]
  },
  {
   "cell_type": "code",
   "execution_count": 13,
   "metadata": {},
   "outputs": [
    {
     "data": {
      "text/plain": [
       "0    32\n",
       "1     4\n",
       "dtype: int64"
      ]
     },
     "execution_count": 13,
     "metadata": {},
     "output_type": "execute_result"
    }
   ],
   "source": [
    "#Checking missing values in the data frame\n",
    "stats.isnull().sum().value_counts()"
   ]
  },
  {
   "cell_type": "markdown",
   "metadata": {},
   "source": [
    "There are 0 missing values in the data frame."
   ]
  },
  {
   "cell_type": "code",
   "execution_count": 14,
   "metadata": {},
   "outputs": [
    {
     "data": {
      "text/plain": [
       "0"
      ]
     },
     "execution_count": 14,
     "metadata": {},
     "output_type": "execute_result"
    }
   ],
   "source": [
    "#Checking missing values in country\n",
    "\n",
    "stats[\"Country\"].isnull().any().sum()"
   ]
  },
  {
   "cell_type": "markdown",
   "metadata": {},
   "source": [
    "There are no missing values in the Country column"
   ]
  },
  {
   "cell_type": "code",
   "execution_count": 15,
   "metadata": {},
   "outputs": [
    {
     "data": {
      "text/plain": [
       "0"
      ]
     },
     "execution_count": 15,
     "metadata": {},
     "output_type": "execute_result"
    }
   ],
   "source": [
    "#Checking missing values in series\n",
    "\n",
    "stats[\"Series\"].isnull().sum()"
   ]
  },
  {
   "cell_type": "markdown",
   "metadata": {},
   "source": [
    "There are 0 missing values in the Series column."
   ]
  },
  {
   "cell_type": "code",
   "execution_count": 16,
   "metadata": {},
   "outputs": [
    {
     "data": {
      "text/plain": [
       "1"
      ]
     },
     "execution_count": 16,
     "metadata": {},
     "output_type": "execute_result"
    }
   ],
   "source": [
    "#Checking missing values in 1990\n",
    "\n",
    "stats[\"1990\"].isnull().any().sum()"
   ]
  },
  {
   "cell_type": "markdown",
   "metadata": {},
   "source": [
    "There are 1 missing values in 1990  "
   ]
  },
  {
   "cell_type": "code",
   "execution_count": 17,
   "metadata": {},
   "outputs": [
    {
     "data": {
      "text/plain": [
       "False    689\n",
       "True       1\n",
       "Name: 2000, dtype: int64"
      ]
     },
     "execution_count": 17,
     "metadata": {},
     "output_type": "execute_result"
    }
   ],
   "source": [
    "#Checking missing values in 2000\n",
    "\n",
    "stats[\"2000\"].isnull().value_counts()"
   ]
  },
  {
   "cell_type": "markdown",
   "metadata": {},
   "source": [
    "\n",
    "There is 1 missing values in 2000"
   ]
  },
  {
   "cell_type": "code",
   "execution_count": 18,
   "metadata": {},
   "outputs": [
    {
     "data": {
      "text/plain": [
       "False    689\n",
       "True       1\n",
       "Name: 2005, dtype: int64"
      ]
     },
     "execution_count": 18,
     "metadata": {},
     "output_type": "execute_result"
    }
   ],
   "source": [
    "#Checking missing values in 2005\n",
    "\n",
    "stats[\"2005\"].isnull().value_counts()"
   ]
  },
  {
   "cell_type": "markdown",
   "metadata": {},
   "source": [
    "There is 1 missing values in 2005"
   ]
  },
  {
   "cell_type": "code",
   "execution_count": 19,
   "metadata": {},
   "outputs": [
    {
     "data": {
      "text/plain": [
       "False    689\n",
       "True       1\n",
       "Name: 2010, dtype: int64"
      ]
     },
     "execution_count": 19,
     "metadata": {},
     "output_type": "execute_result"
    }
   ],
   "source": [
    "#Checking missing values in 2010\n",
    "\n",
    "stats[\"2010\"].isnull().value_counts()"
   ]
  },
  {
   "cell_type": "markdown",
   "metadata": {},
   "source": [
    "There is 1 missing values in 2010"
   ]
  },
  {
   "cell_type": "markdown",
   "metadata": {},
   "source": [
    "All in all year has 4 missing values."
   ]
  },
  {
   "cell_type": "markdown",
   "metadata": {},
   "source": [
    "# 2.Who are the top and bottom 5 countries in terms of C02 emissions in 1990 and what are their emissions? How has this changed by 2011?\n",
    "Do you spot any problems with the data? If so, fix it."
   ]
  },
  {
   "cell_type": "code",
   "execution_count": 20,
   "metadata": {},
   "outputs": [
    {
     "ename": "TypeError",
     "evalue": "not all arguments converted during string formatting",
     "output_type": "error",
     "traceback": [
      "\u001b[0;31m---------------------------------------------------------------------------\u001b[0m",
      "\u001b[0;31mTypeError\u001b[0m                                 Traceback (most recent call last)",
      "\u001b[0;32m<ipython-input-20-51297be33e05>\u001b[0m in \u001b[0;36m<module>\u001b[0;34m\u001b[0m\n\u001b[1;32m      5\u001b[0m         \u001b[0mfirst_row\u001b[0m \u001b[0;34m=\u001b[0m \u001b[0;32mFalse\u001b[0m\u001b[0;34m\u001b[0m\u001b[0;34m\u001b[0m\u001b[0m\n\u001b[1;32m      6\u001b[0m         \u001b[0;32mcontinue\u001b[0m\u001b[0;34m\u001b[0m\u001b[0;34m\u001b[0m\u001b[0m\n\u001b[0;32m----> 7\u001b[0;31m     \u001b[0;32mif\u001b[0m \u001b[0mrow\u001b[0m \u001b[0;34m%\u001b[0m \u001b[0;36m3\u001b[0m \u001b[0;34m==\u001b[0m \u001b[0;36m2\u001b[0m\u001b[0;34m:\u001b[0m\u001b[0;34m\u001b[0m\u001b[0;34m\u001b[0m\u001b[0m\n\u001b[0m\u001b[1;32m      8\u001b[0m         \u001b[0mcode\u001b[0m \u001b[0;34m=\u001b[0m \u001b[0mrow\u001b[0m\u001b[0;34m[\u001b[0m\u001b[0;36m0\u001b[0m\u001b[0;34m]\u001b[0m\u001b[0;34m\u001b[0m\u001b[0;34m\u001b[0m\u001b[0m\n\u001b[1;32m      9\u001b[0m         \u001b[0mCountry\u001b[0m \u001b[0;34m=\u001b[0m \u001b[0mrow\u001b[0m\u001b[0;34m[\u001b[0m\u001b[0;36m1\u001b[0m\u001b[0;34m]\u001b[0m\u001b[0;34m\u001b[0m\u001b[0;34m\u001b[0m\u001b[0m\n",
      "\u001b[0;31mTypeError\u001b[0m: not all arguments converted during string formatting"
     ]
    }
   ],
   "source": [
    "data = []\n",
    "first_row = True\n",
    "for row in stats:\n",
    "    if first_row:\n",
    "        first_row = False\n",
    "        continue\n",
    "    if row % 3 == 2:\n",
    "        code = row[0]\n",
    "        Country = row[1]\n",
    "        if row[5] == ' ':\n",
    "            emission = 0\n",
    "        else:\n",
    "            emission = float(row[5])\n",
    "        line_data = [code,Country,emission]\n",
    "        data.append(line_data)\n",
    "        \n",
    "data = sorted(data, key=itemgetter(2))       "
   ]
  },
  {
   "cell_type": "code",
   "execution_count": null,
   "metadata": {},
   "outputs": [],
   "source": [
    "#Creating a new data frame for Country and 1990\n",
    "Cou_1990 = replacing_null.loc[:, (\"Country\",\"1990\") ]\n",
    "\n",
    "\n",
    "Cou_1990"
   ]
  },
  {
   "cell_type": "code",
   "execution_count": null,
   "metadata": {},
   "outputs": [],
   "source": [
    "Cou_1990.dtypes.value_counts()"
   ]
  },
  {
   "cell_type": "markdown",
   "metadata": {},
   "source": [
    "# Data type summary\n",
    "\n",
    "This data frame has 2 objects"
   ]
  },
  {
   "cell_type": "code",
   "execution_count": null,
   "metadata": {},
   "outputs": [],
   "source": [
    "#Dataframe stats summary\n",
    "Cou_1990.describe()"
   ]
  },
  {
   "cell_type": "code",
   "execution_count": null,
   "metadata": {},
   "outputs": [],
   "source": [
    "#Grouping by country and 1990,then changing data type from object to float \n",
    "\n",
    "byCou = Cou_1990.groupby(\"Country\")[\"1990\"].apply(lambda country : country.astype(float).sum())\n",
    "byCou"
   ]
  },
  {
   "cell_type": "code",
   "execution_count": null,
   "metadata": {},
   "outputs": [],
   "source": [
    "#Sorting my dataframe to see the bottom  countries in descending order in the 1990 column\n",
    "\n",
    "byCou.reset_index().sort_values([\"1990\"],ascending = True).head(6)"
   ]
  },
  {
   "cell_type": "markdown",
   "metadata": {},
   "source": [
    "# Bottom 5 countries in 1990 and the amount of CO2 emisson\n",
    "\n",
    "1.Yemen = -2998.60\n",
    "\n",
    "2.San Marino = 0.00\n",
    "\n",
    "3.Tokelau = 0.00\n",
    "\n",
    "4.Monaco = 0.18\n",
    "\n",
    "5.State of Palestine = 1.28"
   ]
  },
  {
   "cell_type": "code",
   "execution_count": null,
   "metadata": {},
   "outputs": [],
   "source": [
    "#Sorting index for top 5 countries\n",
    "byCou1 = byCou.reset_index().sort_values([\"1990\"],ascending = False).head(5)\n",
    "byCou1"
   ]
  },
  {
   "cell_type": "markdown",
   "metadata": {},
   "source": [
    "# Top 5 countries in 1990 and the amount of CO2 emisson\n",
    "\n",
    "1.United States = 4823599.85\n",
    "\n",
    "2.China = 2460773.08\n",
    "\n",
    "3.Japan = 1094358.17\n",
    "\n",
    "4.India = 690601.04\n",
    "\n",
    "5.United Kingdom = 555919.37"
   ]
  },
  {
   "cell_type": "code",
   "execution_count": null,
   "metadata": {},
   "outputs": [],
   "source": [
    "#Creating a new data frame for country and year 2011\n",
    "Cou_2011 = replacing_null.loc[:, (\"Country\",\"2011\") ]\n",
    "Cou_2011"
   ]
  },
  {
   "cell_type": "code",
   "execution_count": null,
   "metadata": {},
   "outputs": [],
   "source": [
    "Cou_2011.describe()"
   ]
  },
  {
   "cell_type": "code",
   "execution_count": null,
   "metadata": {},
   "outputs": [],
   "source": [
    "Cou_2011.dtypes.value_counts()"
   ]
  },
  {
   "cell_type": "code",
   "execution_count": null,
   "metadata": {},
   "outputs": [],
   "source": [
    "#Grouping by country and 2011,then changing data type from object to float \n",
    "\n",
    "byCoun = Cou_2011.groupby(\"Country\")[\"2011\"].apply(lambda country : country.astype(float).sum())\n",
    "byCoun"
   ]
  },
  {
   "cell_type": "code",
   "execution_count": null,
   "metadata": {},
   "outputs": [],
   "source": [
    "#Reseting and sorting dataframe in the 2011 column\n",
    "byCoun.reset_index().sort_values( [\"2011\"],ascending = False).head(5)"
   ]
  },
  {
   "cell_type": "markdown",
   "metadata": {},
   "source": [
    "# Top 5 countries in 2011 and the amount of CO2 emisson\n",
    "\n",
    "1.China = 9019520.2\n",
    "\n",
    "2.United States = 5305571.6\n",
    "\n",
    "3.India = 2074346.9\n",
    "\n",
    "4.Russian Federation = 2074346.9\n",
    "\n",
    "5.Japan = 1187659.0"
   ]
  },
  {
   "cell_type": "code",
   "execution_count": null,
   "metadata": {},
   "outputs": [],
   "source": [
    "byCoun.reset_index().sort_values( [\"2011\"],ascending = True).head(10)"
   ]
  },
  {
   "cell_type": "markdown",
   "metadata": {},
   "source": [
    "# Bottom 5 countries in 2011 and the amount of CO2 emisson"
   ]
  },
  {
   "cell_type": "markdown",
   "metadata": {},
   "source": [
    "1.Saint Helena\t= 889.9304\n",
    "\n",
    "2.Niue\t= 889.930434\n",
    "\n",
    "3.Wallis and Futuna Islands =\t904.630434\n",
    "\n",
    "4.Liechtenstein =\t930.230434\n",
    "\n",
    "5.Nauru\t= 930.230434\n"
   ]
  },
  {
   "cell_type": "markdown",
   "metadata": {},
   "source": [
    "The bottom 5 countries in 2011 had missing values,so I replaced missing values with zero.Also I think in these countries there were no or CO2 emisions at these countries because they are not developed countries and so they don't use fossil fuels and there are a lot of forests there.\n"
   ]
  },
  {
   "cell_type": "markdown",
   "metadata": {},
   "source": [
    "# 3.Calculate the mean and median C02 emissions for 1990. Why do you think these values differ?"
   ]
  },
  {
   "cell_type": "code",
   "execution_count": null,
   "metadata": {
    "scrolled": true
   },
   "outputs": [],
   "source": [
    "#statistical summary of data frame 4\n",
    "\n",
    "byCou.describe()"
   ]
  },
  {
   "cell_type": "markdown",
   "metadata": {},
   "source": [
    " # Mean"
   ]
  },
  {
   "cell_type": "code",
   "execution_count": null,
   "metadata": {},
   "outputs": [],
   "source": [
    "#Checking mean\n",
    "byCou.mean()"
   ]
  },
  {
   "cell_type": "markdown",
   "metadata": {},
   "source": [
    "The mean or overall average is 71685.030"
   ]
  },
  {
   "cell_type": "markdown",
   "metadata": {},
   "source": [
    "# Median"
   ]
  },
  {
   "cell_type": "code",
   "execution_count": null,
   "metadata": {},
   "outputs": [],
   "source": [
    "#Checking median\n",
    "byCou.median()"
   ]
  },
  {
   "cell_type": "markdown",
   "metadata": {},
   "source": [
    "The median is 1236.95."
   ]
  },
  {
   "cell_type": "code",
   "execution_count": null,
   "metadata": {},
   "outputs": [],
   "source": [
    "dist_df = byCou\n",
    "dist_df = np.random.gamma(4, 0.5,1000)\n",
    "mean = dist_df.mean()\n",
    "median = np.median(dist_df)\n",
    "plt.ylabel(\"Density Probability\")\n",
    "plt.axvline(mean,color = 'blue',label = 'Mean')\n",
    "plt.axvline(median,color = 'green',label = 'Median')\n",
    "\n",
    "_ = sns.distplot(dist_df,color = \"grey\")\n",
    "_ = plt.legend()\n"
   ]
  },
  {
   "cell_type": "markdown",
   "metadata": {},
   "source": [
    "The mean is greater than the median, the distribution is positively skewed."
   ]
  },
  {
   "cell_type": "markdown",
   "metadata": {},
   "source": [
    "# 4.Calculate the minimum, maximum and interquartile range of the CO2 emissions for 1990. Using this information, and the mean and median, what does this tell you about the distribution of CO2 emissions?"
   ]
  },
  {
   "cell_type": "markdown",
   "metadata": {},
   "source": [
    "# Minimum"
   ]
  },
  {
   "cell_type": "code",
   "execution_count": null,
   "metadata": {},
   "outputs": [],
   "source": [
    "byCou.min()"
   ]
  },
  {
   "cell_type": "markdown",
   "metadata": {},
   "source": [
    "# Maximum"
   ]
  },
  {
   "cell_type": "code",
   "execution_count": null,
   "metadata": {},
   "outputs": [],
   "source": [
    "byCou.max()"
   ]
  },
  {
   "cell_type": "markdown",
   "metadata": {},
   "source": [
    "# InterQuartile Range"
   ]
  },
  {
   "cell_type": "code",
   "execution_count": null,
   "metadata": {},
   "outputs": [],
   "source": [
    "q1 = byCou.quantile(0.25)\n",
    "q1"
   ]
  },
  {
   "cell_type": "code",
   "execution_count": null,
   "metadata": {},
   "outputs": [],
   "source": [
    "\n",
    "q2 = byCou.median()\n",
    "q2"
   ]
  },
  {
   "cell_type": "code",
   "execution_count": null,
   "metadata": {},
   "outputs": [],
   "source": [
    "q3 = byCou.quantile(0.75)\n",
    "q3"
   ]
  },
  {
   "cell_type": "code",
   "execution_count": null,
   "metadata": {},
   "outputs": [],
   "source": [
    "iqr = q3 - q1\n",
    "iqr "
   ]
  },
  {
   "cell_type": "markdown",
   "metadata": {},
   "source": [
    "The distribution is skewed/ assymetrical distribution because on tail is more than the other.This data is  right-skewed because the right hand side has a longer tail than the left.If this was a normal distribution the mean and the median were gonna be equal,now that the mean is more than the median it means that this distribution is positively(right-skewed)"
   ]
  },
  {
   "cell_type": "markdown",
   "metadata": {},
   "source": [
    "# 5. Create a histogram of the CO2 emissions for 1990. Is this what you expected from your answers in questions 3 and 4?"
   ]
  },
  {
   "cell_type": "code",
   "execution_count": null,
   "metadata": {},
   "outputs": [],
   "source": [
    "#Assigning new data frame\n",
    "new_df = byCou\n",
    "\n",
    "plt.figure(figsize = [10,8])\n",
    "new_df = np.random.gamma(4, 0.5, 1000)\n",
    "\n",
    "#Showing values specific points on coordinate axis \n",
    "plt.xticks(fontsize = 15)\n",
    "plt.yticks(fontsize = 15)\n",
    "\n",
    "#Showing specific labels on coordinate axis\n",
    "plt.xlabel('CO2 emission', fontsize = 15)\n",
    "plt.ylabel('Frequency', fontsize = 15)\n",
    "\n",
    "\n",
    "#Showing plot title\n",
    "plt.title('Skewed Distribution Histogram',fontsize = 15)\n",
    "\n",
    "plot = plt.hist(new_df, bins = 20, color='r',edgecolor = 'k', alpha = 0.65)"
   ]
  },
  {
   "cell_type": "markdown",
   "metadata": {},
   "source": [
    "Yes this is what I expected my histogram to look like because this distribution is skewed and it is positively distributed(right-skewed) as the tail is on the right."
   ]
  },
  {
   "cell_type": "markdown",
   "metadata": {},
   "source": [
    "# 6.Calculate the standard deviation and standard error of the mean for CO2 emissions in 1990. How is the standard error different from the standard deviation?"
   ]
  },
  {
   "cell_type": "markdown",
   "metadata": {},
   "source": [
    "# Standard deviation"
   ]
  },
  {
   "cell_type": "code",
   "execution_count": null,
   "metadata": {},
   "outputs": [],
   "source": [
    "byCou.std()"
   ]
  },
  {
   "cell_type": "markdown",
   "metadata": {},
   "source": [
    "# Standard error mean"
   ]
  },
  {
   "cell_type": "code",
   "execution_count": null,
   "metadata": {},
   "outputs": [],
   "source": [
    "byCou.sem()"
   ]
  },
  {
   "cell_type": "markdown",
   "metadata": {},
   "source": [
    "Standard deviation measures dispersion for a subject set of data from mean while standard error measures how far the sample mean of data is likely to be from true population mean."
   ]
  },
  {
   "cell_type": "markdown",
   "metadata": {},
   "source": [
    "# 7.Create a line graph to show C02 emissions in Brazil, Russia, China, India, the USA and South Africa over time. What does the graph tell you about the difference and change in C02 emissions in these countries?"
   ]
  },
  {
   "cell_type": "code",
   "execution_count": null,
   "metadata": {
    "scrolled": true
   },
   "outputs": [],
   "source": [
    "#Locating countries\n",
    "BRZ =replacing_null[\"Country\"][replacing_null[\"Country\"] == \"Brazil\"]\n",
    "CHN = replacing_null[\"Country\"][replacing_null[\"Country\"] == \"China\"]\n",
    "IND = replacing_null[\"Country\"][replacing_null[\"Country\"] == \"India\"]\n",
    "RSA = replacing_null[\"Country\"][replacing_null[\"Country\"] == \"South Africa\"]\n",
    "RSF = replacing_null[\"Country\"][replacing_null[\"Country\"] == \"Russian Federation\"]\n",
    "USA = replacing_null[\"Country\"][replacing_null[\"Country\"] == \"United States\"]\n",
    "\n",
    "#Displaying posotions of the countries \n",
    "\n",
    "display(BRZ,CHN,IND,RSA,RSF,USA)\n"
   ]
  },
  {
   "cell_type": "code",
   "execution_count": null,
   "metadata": {},
   "outputs": [],
   "source": [
    "#Creating a new data frame\n",
    "\n",
    "all_df = replacing_null.loc[(82,124,277,563,499,652),(\"Country\",\"1990\",\"1991\",\"1992\",\"1993\",\"1994\",\"1995\",\n",
    "                                        \"1996\",\"1997\",\"1998\",\"1999\",\"2000\",\"2001\",\"2002\",\n",
    "                                        \"2003\",\"2004\",\"2005\",\"2006\",\"2007\",\"2008\",\"2009\",\"2010\",\n",
    "                                        \"2011\",\"2012\",\"2013\",\"2014\",\"2015\",\"2016\",\"2017\",\"2018\",\"2019\")]\n",
    " \n",
    "all_df"
   ]
  },
  {
   "cell_type": "code",
   "execution_count": null,
   "metadata": {},
   "outputs": [],
   "source": [
    "#Grouping and changing data types using callable function lambda\n",
    "byAll = all_df.groupby(\"Country\")[\"1990\",\"1991\",\"1992\",\"1993\",\"1994\",\"1995\",\n",
    "                                        \"1996\",\"1997\",\"1998\",\"1999\",\"2000\",\"2001\",\"2002\",\n",
    "                                        \"2003\",\"2004\",\"2005\",\"2006\",\"2007\",\"2008\",\"2009\",\"2010\",\n",
    "                                        \"2011\",\"2012\",\"2013\",\"2014\",\"2015\",\"2016\",\"2017\",\n",
    "                                        \"2018\",\"2019\"].apply(lambda country : country.astype(float).sum()).reset_index()\n",
    "byAll"
   ]
  },
  {
   "cell_type": "code",
   "execution_count": null,
   "metadata": {
    "scrolled": true
   },
   "outputs": [],
   "source": [
    "byAll.dtypes.value_counts()"
   ]
  },
  {
   "cell_type": "code",
   "execution_count": null,
   "metadata": {},
   "outputs": [],
   "source": [
    "#Firstly I need to transpose my data set\n",
    "allg = byAll.set_index(\"Country\").T\n",
    "\n",
    "#Plot setting\n",
    "fig, ax = plt.subplots(figsize = (10,4))\n",
    "ax.set_xlabel(\"Year\")\n",
    "ax.set_ylabel(\"CO2 emissions\")\n",
    "ax.set_title(\"A Line Graph Showing CO2 emissions From 1990-2019\")\n",
    "\n",
    "_ = allg.plot(ax = ax, color = (\"cyan\",\"g\", \"y\",\"r\", \"fuchsia\",\"darkblue\"))\n",
    " "
   ]
  },
  {
   "cell_type": "markdown",
   "metadata": {},
   "source": [
    "# 8.What is the mean and standard deviation for land area covered by forest in 1990? Why do you think the standard deviation is so large?"
   ]
  },
  {
   "cell_type": "code",
   "execution_count": null,
   "metadata": {},
   "outputs": [],
   "source": [
    "forest = replacing_null[((replacing_null.SeriesCode == 567))]\n",
    "forest.head()"
   ]
  },
  {
   "cell_type": "code",
   "execution_count": null,
   "metadata": {
    "scrolled": true
   },
   "outputs": [],
   "source": [
    "for_est = forest.loc[:, ('Country','1990') ]\n",
    "for_est"
   ]
  },
  {
   "cell_type": "code",
   "execution_count": null,
   "metadata": {},
   "outputs": [],
   "source": [
    "for_est.describe()"
   ]
  },
  {
   "cell_type": "code",
   "execution_count": null,
   "metadata": {},
   "outputs": [],
   "source": [
    "for_est.dtypes"
   ]
  },
  {
   "cell_type": "code",
   "execution_count": null,
   "metadata": {},
   "outputs": [],
   "source": [
    "#Changing 1990 from string to float and finding mean\n",
    "\n",
    "for_est[\"1990\"].astype(float).mean()"
   ]
  },
  {
   "cell_type": "code",
   "execution_count": null,
   "metadata": {},
   "outputs": [],
   "source": [
    "#Changing 1990 from string to float and finding standard deviation\n",
    "for_est[\"1990\"].astype(float).std()"
   ]
  },
  {
   "cell_type": "markdown",
   "metadata": {},
   "source": [
    "A high standard deviation indicates that the data points are spread out over a large range of values."
   ]
  },
  {
   "cell_type": "markdown",
   "metadata": {},
   "source": [
    "# 9.Create histograms for land area covered by forest and percentage of area protected in 1990. Describe the distributions."
   ]
  },
  {
   "cell_type": "code",
   "execution_count": null,
   "metadata": {},
   "outputs": [],
   "source": [
    "protected = df2[((df2.SeriesCode == 616))]\n",
    "protected.head()"
   ]
  },
  {
   "cell_type": "code",
   "execution_count": null,
   "metadata": {},
   "outputs": [],
   "source": [
    "prot_df = protected.loc[:, ('Country','1990') ]\n",
    "prot_df"
   ]
  },
  {
   "cell_type": "code",
   "execution_count": null,
   "metadata": {},
   "outputs": [],
   "source": [
    "new_df = prot_df\n",
    "#Defining the measures of central tendency\n",
    "mean = new_df.mean()\n",
    "median = new_df.median()\n",
    "\n",
    "plt.figure(figsize = [8,4])\n",
    "new_df = np.random.gamma(6, 0.4, 1000)\n",
    "#new_df = np.random.gamma(1000)\n",
    "\n",
    "#Showing values specific points on coordinate axis \n",
    "plt.xticks(fontsize = 15)\n",
    "plt.yticks(fontsize = 15)\n",
    "\n",
    "#Showing specific labels on coordinate axis\n",
    "plt.xlabel('Protected land', fontsize = 15)\n",
    "plt.ylabel('Frequency', fontsize = 15)\n",
    "\n",
    "\n",
    "#Showing plot title\n",
    "plt.title('Histogram For Protected Land',fontsize = 15)\n",
    "\n",
    "plot = plt.hist(new_df.astype(float), bins = 20, color='purple',edgecolor = 'k', alpha = 0.65)"
   ]
  },
  {
   "cell_type": "code",
   "execution_count": null,
   "metadata": {},
   "outputs": [],
   "source": [
    "dist_df = prot_df\n",
    "dist_df = np.random.gamma(4, 0.5,1000)\n",
    "mean = dist_df.mean()\n",
    "median = np.median(dist_df)\n",
    "\n",
    "plt.axvline(mean,color = 'blue',label = 'Mean')\n",
    "plt.axvline(median,color = 'yellow',label = 'Median')\n",
    "plt.ylabel(\"Density Probability\")\n",
    "plt.title(\"Distribution For Protected Area\")\n",
    "_ = sns.distplot(dist_df,color = \"green\")\n",
    "_ = plt.legend()"
   ]
  },
  {
   "cell_type": "code",
   "execution_count": null,
   "metadata": {},
   "outputs": [],
   "source": [
    "new_df = for_est\n",
    "#Defining the measures of central tendency\n",
    "mean = new_df.mean()\n",
    "median = new_df.median()\n",
    "\n",
    "plt.figure(figsize = [8,4])\n",
    "new_df = np.random.gamma(6, 0.4, 1000)\n",
    "#new_df = np.random.gamma(1000)\n",
    "\n",
    "#Showing values specific points on coordinate axis \n",
    "plt.xticks(fontsize = 15)\n",
    "plt.yticks(fontsize = 15)\n",
    "\n",
    "#Showing specific labels on coordinate axis\n",
    "plt.xlabel('Forest Covered Land', fontsize = 15)\n",
    "plt.ylabel('Frequency', fontsize = 15)\n",
    "\n",
    "\n",
    "#Showing plot title\n",
    "plt.title('Histogram for Forest Covered Land',fontsize = 15)\n",
    "\n",
    "plot = plt.hist(new_df.astype(float), bins = 20, color='blue',edgecolor = 'k', alpha = 0.65)"
   ]
  },
  {
   "cell_type": "code",
   "execution_count": null,
   "metadata": {},
   "outputs": [],
   "source": [
    "dist_df = for_est\n",
    "dist_df = np.random.gamma(4, 0.5,1000)\n",
    "mean = dist_df.mean()\n",
    "median = np.median(dist_df)\n",
    "\n",
    "plt.axvline(mean,color = 'maroon',label = 'Mean')\n",
    "plt.axvline(median,color = 'blue',label = 'Median')\n",
    "plt.ylabel(\"Density Probability\")\n",
    "plt.title(\"Distribution For Forest Covered Land\")\n",
    "_ = sns.distplot(dist_df,color = \"purple\")\n",
    "_ = plt.legend()"
   ]
  },
  {
   "cell_type": "markdown",
   "metadata": {},
   "source": [
    "Both graphs are positively skew dostributed meaning the mean value is more than the median value."
   ]
  },
  {
   "cell_type": "markdown",
   "metadata": {},
   "source": [
    "# 10.Create a scatterplot with a regression line using seaborn.regplot to show the relationship between the proportion of land area covered by forest and the percentage of area protected in 2000.\n",
    "What is the relationship between these two variables?\n",
    "Describe any patterns in the scatterplot.\n",
    "Do you notice any unusual/extreme values that do not fit the general trend? If you see any unusual values, briefly describe them (Who are they? In what way are they different?)."
   ]
  },
  {
   "cell_type": "code",
   "execution_count": null,
   "metadata": {},
   "outputs": [],
   "source": [
    "#Creating a data frame for forest land and resetting the index while droping the old index\n",
    "\n",
    "for_df = forest.loc[:, (\"Country\",\"2000\") ].reset_index(drop = True)\n",
    "for_df.drop(\"Country\", axis =1)"
   ]
  },
  {
   "cell_type": "code",
   "execution_count": null,
   "metadata": {},
   "outputs": [],
   "source": [
    "#Creating dataframe for protected land\n",
    "\n",
    "df_prot = protected.loc[:, (\"Country\",\"2000\") ].reset_index(drop = True)\n",
    "df_prot.drop(\"Country\", axis =1)"
   ]
  },
  {
   "cell_type": "code",
   "execution_count": null,
   "metadata": {},
   "outputs": [],
   "source": [
    "result = pd.concat([for_df, df_prot[\"2000\"]], axis = 1).fillna(0)\n",
    "result"
   ]
  },
  {
   "cell_type": "code",
   "execution_count": null,
   "metadata": {},
   "outputs": [],
   "source": [
    "result.dtypes"
   ]
  },
  {
   "cell_type": "code",
   "execution_count": null,
   "metadata": {},
   "outputs": [],
   "source": [
    "#Renaming columns\n",
    "\n",
    "result.columns = [\"Country\", \"2000f\", \"2000p\"]\n",
    "result"
   ]
  },
  {
   "cell_type": "code",
   "execution_count": null,
   "metadata": {},
   "outputs": [],
   "source": [
    "result.drop([\"Country\"], axis = 1)"
   ]
  },
  {
   "cell_type": "code",
   "execution_count": null,
   "metadata": {},
   "outputs": [],
   "source": [
    "sns.regplot(result,x = result.astype(float), y = df2[\"2000\"].apply(lambda x :x.asype(float)), color = \"indigo\")\n",
    "_ = plt.title(\"A Scatter.regplot For Forest Covered And Protected Area\")\n",
    "plt.legend(\"Country\")"
   ]
  },
  {
   "cell_type": "markdown",
   "metadata": {},
   "source": [
    "This is no relationship because the plot slope is flat meaning.All the variables are independent,an increase/decrease in one variable on forest covered area doesn't affect the variables in protected land.Yes,I notice unusual values and they are called outliers.Outliers are obsevations with larger residuals.They either indicate data entry error,sample peculiarity or other problems.\n",
    "\n",
    "# There are three types of outliers namely:\n",
    "\n",
    " # 1.Global Outliers\n",
    " It's the values that are far outside the entire dataset.\n",
    " \n",
    " # 2.Contextual Outliers \n",
    " These significantly deviates from the rest of the data points in the same context.\n",
    " \n",
    " # 3.Collective Outliers\n",
    " This is when a collection of related data instances is anomalous/inconsistent with respect to the entire dataset."
   ]
  },
  {
   "cell_type": "markdown",
   "metadata": {},
   "source": [
    "# 11.Since neither forested land area nor protected area is normally distributed, we will need to log transform these variables in order to calculate a correlation coefficient. Log transform the variables and show the transformed distributions in a histogram."
   ]
  },
  {
   "cell_type": "code",
   "execution_count": null,
   "metadata": {},
   "outputs": [],
   "source": [
    "result_log = result\n",
    "result_log['log_2000f'] = np.log10(result['2000f'].astype(float))\n",
    "result_log['log_2000p'] = np.log10(result['2000p'].astype(float))\n",
    "result_log"
   ]
  },
  {
   "cell_type": "code",
   "execution_count": null,
   "metadata": {},
   "outputs": [],
   "source": [
    "result.dtypes\n"
   ]
  },
  {
   "cell_type": "code",
   "execution_count": null,
   "metadata": {},
   "outputs": [],
   "source": [
    "result_log1 = result_log.drop([\"2000f\",\"2000p\"], axis = 1)\n",
    "result_log1"
   ]
  },
  {
   "cell_type": "code",
   "execution_count": null,
   "metadata": {
    "scrolled": true
   },
   "outputs": [],
   "source": [
    "# Removing infinite\n",
    "\n",
    "result_log2 = result_log1[~result_log1.isin([np.nan, np.inf, -np.inf]).any(1)]\n",
    "result_log2"
   ]
  },
  {
   "cell_type": "code",
   "execution_count": null,
   "metadata": {},
   "outputs": [],
   "source": [
    "result_log2.dtypes"
   ]
  },
  {
   "cell_type": "code",
   "execution_count": null,
   "metadata": {},
   "outputs": [],
   "source": [
    "result_log3 = result_log2.drop([\"Country\"], axis = 1)\n",
    "result_log3"
   ]
  },
  {
   "cell_type": "code",
   "execution_count": null,
   "metadata": {},
   "outputs": [],
   "source": [
    "\n",
    "_= result_log3.plot( kind = \"hist\", bins = 28,edgecolor = 'k',color = (\"blue\", \"purple\"))\n",
    "_ = plt.title(\"Log Transformed Distribution Histrogram Of Forest Vs Protected Land\", fontsize = 14)"
   ]
  },
  {
   "cell_type": "code",
   "execution_count": null,
   "metadata": {},
   "outputs": [],
   "source": [
    "pearsoncorr = result_log3.corr(method='pearson')\n",
    "pearsoncorr"
   ]
  },
  {
   "cell_type": "code",
   "execution_count": null,
   "metadata": {},
   "outputs": [],
   "source": [
    "ax = sns.heatmap(pearsoncorr, cmap = 'RdBu_r',annot = True,linewidth = 0.5)"
   ]
  },
  {
   "cell_type": "markdown",
   "metadata": {},
   "source": [
    "The coefficient of correlation is more than zero but less than one,this means that there is a weak positive relationship between the values.This means that while both variables tend to go up in response to one another, the relationship is not very strong."
   ]
  },
  {
   "cell_type": "markdown",
   "metadata": {},
   "source": [
    "# 12.Using the pearsonr function from the scipy.stats module, calculate the Pearson correlation coefficient (and its corresponding p value) to determine the nature of the relationship between proportion of land area covered by forest and the percentage of area protected (as measured in 1990 and log transformed). See help(pearsonr) for help on this function."
   ]
  },
  {
   "cell_type": "code",
   "execution_count": null,
   "metadata": {},
   "outputs": [],
   "source": [
    "#Creating a data frame for forest land and resetting the index while droping the old index\n",
    "\n",
    "for1_df = forest.loc[:, (\"Country\",\"1990\") ].reset_index(drop = True)\n",
    "for1_df"
   ]
  },
  {
   "cell_type": "code",
   "execution_count": null,
   "metadata": {},
   "outputs": [],
   "source": [
    "df_prot1 = protected.loc[:, (\"Country\",\"1990\") ].reset_index(drop = True)\n",
    "df_prot1"
   ]
  },
  {
   "cell_type": "code",
   "execution_count": null,
   "metadata": {},
   "outputs": [],
   "source": [
    "for_prot= pd.concat([for1_df, df_prot1[\"1990\"]], axis = 1).fillna(0)\n",
    "for_prot"
   ]
  },
  {
   "cell_type": "code",
   "execution_count": null,
   "metadata": {},
   "outputs": [],
   "source": [
    "for_prot.columns = [\"Country\", \"f1990\", \"p1990\"]\n",
    "for_prot"
   ]
  },
  {
   "cell_type": "code",
   "execution_count": null,
   "metadata": {},
   "outputs": [],
   "source": [
    "for_prot.drop([\"Country\"], axis = 1)"
   ]
  },
  {
   "cell_type": "code",
   "execution_count": null,
   "metadata": {},
   "outputs": [],
   "source": [
    "for_prot.corr()"
   ]
  },
  {
   "cell_type": "code",
   "execution_count": null,
   "metadata": {},
   "outputs": [],
   "source": [
    "for_prot_log = for_prot\n",
    "for_prot_log['log_f1990'] = np.log10(for_prot['f1990'].astype(float))\n",
    "for_prot_log['log_p1990'] = np.log10(for_prot['p1990'].astype(float))\n",
    "#for_prot_log"
   ]
  },
  {
   "cell_type": "code",
   "execution_count": null,
   "metadata": {},
   "outputs": [],
   "source": [
    "for_prot_log1 = for_prot_log.drop([\"f1990\",\"p1990\"], axis = 1)\n",
    "#for_prot_log1"
   ]
  },
  {
   "cell_type": "code",
   "execution_count": null,
   "metadata": {},
   "outputs": [],
   "source": [
    "for_prot_log2 = for_prot_log1[~for_prot_log1.isin([np.nan, np.inf, -np.inf]).any(1)]\n",
    "for_prot_log2"
   ]
  },
  {
   "cell_type": "code",
   "execution_count": null,
   "metadata": {},
   "outputs": [],
   "source": [
    "for_prot_log3 = for_prot_log2.drop([\"Country\"], axis = 1)\n",
    "for_prot_log3"
   ]
  },
  {
   "cell_type": "code",
   "execution_count": null,
   "metadata": {},
   "outputs": [],
   "source": [
    "for_prot_log3.corr()"
   ]
  },
  {
   "cell_type": "code",
   "execution_count": null,
   "metadata": {},
   "outputs": [],
   "source": [
    "from scipy.stats.stats import pearsonr\n",
    "help(pearsonr)"
   ]
  },
  {
   "cell_type": "code",
   "execution_count": null,
   "metadata": {},
   "outputs": [],
   "source": [
    "from scipy.stats import linregress\n",
    "linregress(for_prot_log3)"
   ]
  },
  {
   "cell_type": "markdown",
   "metadata": {},
   "source": [
    "The Pearson correlation coefficient(rvalue) = 0.1243,the Pearson correlation coefficient(pvalue) = 0.09254.This means that there is a positive week linear relationship between the variables.The slope = 0.1769 this means that the direction is going up to the right,meaning it is a weak increase relationship.This is not statistically significant.Thed p-value is compared to the significance level(alpha) which is usually 0.05 and works well.In this case the p-value is greater than 0.05 wgich means that i cannot conclude that the correlation is different from zero."
   ]
  },
  {
   "cell_type": "code",
   "execution_count": null,
   "metadata": {},
   "outputs": [],
   "source": []
  }
 ],
 "metadata": {
  "kernelspec": {
   "display_name": "Python 3",
   "language": "python",
   "name": "python3"
  },
  "language_info": {
   "codemirror_mode": {
    "name": "ipython",
    "version": 3
   },
   "file_extension": ".py",
   "mimetype": "text/x-python",
   "name": "python",
   "nbconvert_exporter": "python",
   "pygments_lexer": "ipython3",
   "version": "3.6.9"
  }
 },
 "nbformat": 4,
 "nbformat_minor": 4
}
