{
 "cells": [
  {
   "cell_type": "markdown",
   "metadata": {},
   "source": [
    "# Introduction"
   ]
  },
  {
   "cell_type": "markdown",
   "metadata": {},
   "source": [
    "In this notebook I was exploring and analyzing data from the Millennium Development Goals(MDG).A set of 8 Goals for 2015were defined by the United Nations to help improve living conditions and the condition of our planet.Key indicators were defined for each of the goals .In this project I had to work with Goal 7 which is to ensure environmental sustainability of carbon dioxide(CO2)emissions protected land and sea areas,and forests.I had to find the measure of central tendency,describe distributions and interpret it's histogram and know what outliers are and know how they affect measures of central tendency. "
   ]
  },
  {
   "cell_type": "markdown",
   "metadata": {},
   "source": [
    "### Importing needed modules"
   ]
  },
  {
   "cell_type": "code",
   "execution_count": 1,
   "metadata": {},
   "outputs": [],
   "source": [
    "import pandas as pd\n",
    "import numpy as np\n",
    "import matplotlib.pyplot as plt\n",
    "import seaborn as sns\n",
    "import matplotlib as mpl\n",
    "from scipy.stats import stats\n",
    "import warnings\n",
    "warnings.filterwarnings(\"ignore\")\n",
    "from scipy.stats.stats import pearsonr\n",
    "%matplotlib inline\n",
    "\n",
    "from itertools import chain"
   ]
  },
  {
   "cell_type": "markdown",
   "metadata": {},
   "source": [
    "# Examining dataframe"
   ]
  },
  {
   "cell_type": "code",
   "execution_count": 2,
   "metadata": {},
   "outputs": [
    {
     "data": {
      "text/html": [
       "<div>\n",
       "<style scoped>\n",
       "    .dataframe tbody tr th:only-of-type {\n",
       "        vertical-align: middle;\n",
       "    }\n",
       "\n",
       "    .dataframe tbody tr th {\n",
       "        vertical-align: top;\n",
       "    }\n",
       "\n",
       "    .dataframe thead th {\n",
       "        text-align: right;\n",
       "    }\n",
       "</style>\n",
       "<table border=\"1\" class=\"dataframe\">\n",
       "  <thead>\n",
       "    <tr style=\"text-align: right;\">\n",
       "      <th></th>\n",
       "      <th>CountryCode</th>\n",
       "      <th>Country</th>\n",
       "      <th>SeriesCode</th>\n",
       "      <th>MDG</th>\n",
       "      <th>Series</th>\n",
       "      <th>1990</th>\n",
       "      <th>Footnotes</th>\n",
       "      <th>Type</th>\n",
       "      <th>1991</th>\n",
       "      <th>Footnotes.1</th>\n",
       "      <th>...</th>\n",
       "      <th>Type.26</th>\n",
       "      <th>2017</th>\n",
       "      <th>Footnotes.27</th>\n",
       "      <th>Type.27</th>\n",
       "      <th>2018</th>\n",
       "      <th>Footnotes.28</th>\n",
       "      <th>Type.28</th>\n",
       "      <th>2019</th>\n",
       "      <th>Footnotes.29</th>\n",
       "      <th>Type.29</th>\n",
       "    </tr>\n",
       "  </thead>\n",
       "  <tbody>\n",
       "    <tr>\n",
       "      <th>0</th>\n",
       "      <td>4</td>\n",
       "      <td>Afghanistan</td>\n",
       "      <td>567</td>\n",
       "      <td>Y</td>\n",
       "      <td>Proportion of land area covered by forest, per...</td>\n",
       "      <td>2.1</td>\n",
       "      <td>NaN</td>\n",
       "      <td>E</td>\n",
       "      <td></td>\n",
       "      <td></td>\n",
       "      <td>...</td>\n",
       "      <td></td>\n",
       "      <td></td>\n",
       "      <td></td>\n",
       "      <td></td>\n",
       "      <td></td>\n",
       "      <td></td>\n",
       "      <td></td>\n",
       "      <td></td>\n",
       "      <td></td>\n",
       "      <td></td>\n",
       "    </tr>\n",
       "    <tr>\n",
       "      <th>1</th>\n",
       "      <td>4</td>\n",
       "      <td>Afghanistan</td>\n",
       "      <td>749</td>\n",
       "      <td>Y</td>\n",
       "      <td>Carbon dioxide emissions (CO2), thousand metri...</td>\n",
       "      <td>2676.9</td>\n",
       "      <td>NaN</td>\n",
       "      <td>G</td>\n",
       "      <td>2493.6</td>\n",
       "      <td>NaN</td>\n",
       "      <td>...</td>\n",
       "      <td></td>\n",
       "      <td></td>\n",
       "      <td></td>\n",
       "      <td></td>\n",
       "      <td></td>\n",
       "      <td></td>\n",
       "      <td></td>\n",
       "      <td></td>\n",
       "      <td></td>\n",
       "      <td></td>\n",
       "    </tr>\n",
       "    <tr>\n",
       "      <th>2</th>\n",
       "      <td>4</td>\n",
       "      <td>Afghanistan</td>\n",
       "      <td>616</td>\n",
       "      <td>Y</td>\n",
       "      <td>Terrestrial and marine areas protected to tota...</td>\n",
       "      <td>0.36</td>\n",
       "      <td>NaN</td>\n",
       "      <td>C</td>\n",
       "      <td></td>\n",
       "      <td></td>\n",
       "      <td>...</td>\n",
       "      <td></td>\n",
       "      <td></td>\n",
       "      <td></td>\n",
       "      <td></td>\n",
       "      <td></td>\n",
       "      <td></td>\n",
       "      <td></td>\n",
       "      <td></td>\n",
       "      <td></td>\n",
       "      <td></td>\n",
       "    </tr>\n",
       "    <tr>\n",
       "      <th>3</th>\n",
       "      <td>8</td>\n",
       "      <td>Albania</td>\n",
       "      <td>567</td>\n",
       "      <td>Y</td>\n",
       "      <td>Proportion of land area covered by forest, per...</td>\n",
       "      <td>28.8</td>\n",
       "      <td>NaN</td>\n",
       "      <td>C</td>\n",
       "      <td></td>\n",
       "      <td></td>\n",
       "      <td>...</td>\n",
       "      <td></td>\n",
       "      <td></td>\n",
       "      <td></td>\n",
       "      <td></td>\n",
       "      <td></td>\n",
       "      <td></td>\n",
       "      <td></td>\n",
       "      <td></td>\n",
       "      <td></td>\n",
       "      <td></td>\n",
       "    </tr>\n",
       "    <tr>\n",
       "      <th>4</th>\n",
       "      <td>8</td>\n",
       "      <td>Albania</td>\n",
       "      <td>749</td>\n",
       "      <td>Y</td>\n",
       "      <td>Carbon dioxide emissions (CO2), thousand metri...</td>\n",
       "      <td>7488</td>\n",
       "      <td>NaN</td>\n",
       "      <td>G</td>\n",
       "      <td>3971.4</td>\n",
       "      <td>NaN</td>\n",
       "      <td>...</td>\n",
       "      <td></td>\n",
       "      <td></td>\n",
       "      <td></td>\n",
       "      <td></td>\n",
       "      <td></td>\n",
       "      <td></td>\n",
       "      <td></td>\n",
       "      <td></td>\n",
       "      <td></td>\n",
       "      <td></td>\n",
       "    </tr>\n",
       "  </tbody>\n",
       "</table>\n",
       "<p>5 rows × 95 columns</p>\n",
       "</div>"
      ],
      "text/plain": [
       "   CountryCode      Country  SeriesCode MDG  \\\n",
       "0            4  Afghanistan         567   Y   \n",
       "1            4  Afghanistan         749   Y   \n",
       "2            4  Afghanistan         616   Y   \n",
       "3            8      Albania         567   Y   \n",
       "4            8      Albania         749   Y   \n",
       "\n",
       "                                              Series    1990 Footnotes Type  \\\n",
       "0  Proportion of land area covered by forest, per...     2.1       NaN    E   \n",
       "1  Carbon dioxide emissions (CO2), thousand metri...  2676.9       NaN    G   \n",
       "2  Terrestrial and marine areas protected to tota...    0.36       NaN    C   \n",
       "3  Proportion of land area covered by forest, per...    28.8       NaN    C   \n",
       "4  Carbon dioxide emissions (CO2), thousand metri...    7488       NaN    G   \n",
       "\n",
       "     1991 Footnotes.1  ... Type.26 2017 Footnotes.27 Type.27 2018  \\\n",
       "0                      ...                                          \n",
       "1  2493.6         NaN  ...                                          \n",
       "2                      ...                                          \n",
       "3                      ...                                          \n",
       "4  3971.4         NaN  ...                                          \n",
       "\n",
       "  Footnotes.28 Type.28 2019 Footnotes.29 Type.29  \n",
       "0                                                 \n",
       "1                                                 \n",
       "2                                                 \n",
       "3                                                 \n",
       "4                                                 \n",
       "\n",
       "[5 rows x 95 columns]"
      ]
     },
     "execution_count": 2,
     "metadata": {},
     "output_type": "execute_result"
    }
   ],
   "source": [
    "stats = pd.read_csv(\"MDG_Export_20191227 (1).csv\")\n",
    "stats.head()"
   ]
  },
  {
   "cell_type": "code",
   "execution_count": 3,
   "metadata": {},
   "outputs": [
    {
     "name": "stdout",
     "output_type": "stream",
     "text": [
      "<class 'pandas.core.frame.DataFrame'>\n",
      "RangeIndex: 690 entries, 0 to 689\n",
      "Data columns (total 95 columns):\n",
      " #   Column        Non-Null Count  Dtype \n",
      "---  ------        --------------  ----- \n",
      " 0   CountryCode   690 non-null    int64 \n",
      " 1   Country       690 non-null    object\n",
      " 2   SeriesCode    690 non-null    int64 \n",
      " 3   MDG           690 non-null    object\n",
      " 4   Series        690 non-null    object\n",
      " 5   1990          689 non-null    object\n",
      " 6   Footnotes     67 non-null     object\n",
      " 7   Type          690 non-null    object\n",
      " 8   1991          690 non-null    object\n",
      " 9   Footnotes.1   508 non-null    object\n",
      " 10  Type.1        690 non-null    object\n",
      " 11  1992          690 non-null    object\n",
      " 12  Footnotes.2   486 non-null    object\n",
      " 13  Type.2        690 non-null    object\n",
      " 14  1993          690 non-null    object\n",
      " 15  Footnotes.3   486 non-null    object\n",
      " 16  Type.3        690 non-null    object\n",
      " 17  1994          690 non-null    object\n",
      " 18  Footnotes.4   485 non-null    object\n",
      " 19  Type.4        690 non-null    object\n",
      " 20  1995          690 non-null    object\n",
      " 21  Footnotes.5   483 non-null    object\n",
      " 22  Type.5        690 non-null    object\n",
      " 23  1996          690 non-null    object\n",
      " 24  Footnotes.6   484 non-null    object\n",
      " 25  Type.6        690 non-null    object\n",
      " 26  1997          690 non-null    object\n",
      " 27  Footnotes.7   481 non-null    object\n",
      " 28  Type.7        690 non-null    object\n",
      " 29  1998          690 non-null    object\n",
      " 30  Footnotes.8   481 non-null    object\n",
      " 31  Type.8        690 non-null    object\n",
      " 32  1999          690 non-null    object\n",
      " 33  Footnotes.9   481 non-null    object\n",
      " 34  Type.9        690 non-null    object\n",
      " 35  2000          689 non-null    object\n",
      " 36  Footnotes.10  38 non-null     object\n",
      " 37  Type.10       690 non-null    object\n",
      " 38  2001          690 non-null    object\n",
      " 39  Footnotes.11  479 non-null    object\n",
      " 40  Type.11       690 non-null    object\n",
      " 41  2002          690 non-null    object\n",
      " 42  Footnotes.12  478 non-null    object\n",
      " 43  Type.12       690 non-null    object\n",
      " 44  2003          690 non-null    object\n",
      " 45  Footnotes.13  478 non-null    object\n",
      " 46  Type.13       690 non-null    object\n",
      " 47  2004          690 non-null    object\n",
      " 48  Footnotes.14  478 non-null    object\n",
      " 49  Type.14       690 non-null    object\n",
      " 50  2005          689 non-null    object\n",
      " 51  Footnotes.15  258 non-null    object\n",
      " 52  Type.15       690 non-null    object\n",
      " 53  2006          690 non-null    object\n",
      " 54  Footnotes.16  476 non-null    object\n",
      " 55  Type.16       690 non-null    object\n",
      " 56  2007          690 non-null    object\n",
      " 57  Footnotes.17  475 non-null    object\n",
      " 58  Type.17       690 non-null    object\n",
      " 59  2008          690 non-null    object\n",
      " 60  Footnotes.18  475 non-null    object\n",
      " 61  Type.18       690 non-null    object\n",
      " 62  2009          690 non-null    object\n",
      " 63  Footnotes.19  475 non-null    object\n",
      " 64  Type.19       690 non-null    object\n",
      " 65  2010          689 non-null    object\n",
      " 66  Footnotes.20  256 non-null    object\n",
      " 67  Type.20       690 non-null    object\n",
      " 68  2011          690 non-null    object\n",
      " 69  Footnotes.21  475 non-null    object\n",
      " 70  Type.21       690 non-null    object\n",
      " 71  2012          690 non-null    object\n",
      " 72  Footnotes.22  690 non-null    object\n",
      " 73  Type.22       690 non-null    object\n",
      " 74  2013          690 non-null    object\n",
      " 75  Footnotes.23  690 non-null    object\n",
      " 76  Type.23       690 non-null    object\n",
      " 77  2014          690 non-null    object\n",
      " 78  Footnotes.24  467 non-null    object\n",
      " 79  Type.24       690 non-null    object\n",
      " 80  2015          690 non-null    object\n",
      " 81  Footnotes.25  690 non-null    object\n",
      " 82  Type.25       690 non-null    object\n",
      " 83  2016          690 non-null    object\n",
      " 84  Footnotes.26  690 non-null    object\n",
      " 85  Type.26       690 non-null    object\n",
      " 86  2017          690 non-null    object\n",
      " 87  Footnotes.27  690 non-null    object\n",
      " 88  Type.27       690 non-null    object\n",
      " 89  2018          690 non-null    object\n",
      " 90  Footnotes.28  690 non-null    object\n",
      " 91  Type.28       690 non-null    object\n",
      " 92  2019          690 non-null    object\n",
      " 93  Footnotes.29  690 non-null    object\n",
      " 94  Type.29       690 non-null    object\n",
      "dtypes: int64(2), object(93)\n",
      "memory usage: 512.2+ KB\n"
     ]
    }
   ],
   "source": [
    "stats.info()"
   ]
  },
  {
   "cell_type": "markdown",
   "metadata": {},
   "source": [
    "# Checking Statistical summary"
   ]
  },
  {
   "cell_type": "code",
   "execution_count": 4,
   "metadata": {},
   "outputs": [
    {
     "data": {
      "text/html": [
       "<div>\n",
       "<style scoped>\n",
       "    .dataframe tbody tr th:only-of-type {\n",
       "        vertical-align: middle;\n",
       "    }\n",
       "\n",
       "    .dataframe tbody tr th {\n",
       "        vertical-align: top;\n",
       "    }\n",
       "\n",
       "    .dataframe thead th {\n",
       "        text-align: right;\n",
       "    }\n",
       "</style>\n",
       "<table border=\"1\" class=\"dataframe\">\n",
       "  <thead>\n",
       "    <tr style=\"text-align: right;\">\n",
       "      <th></th>\n",
       "      <th>CountryCode</th>\n",
       "      <th>SeriesCode</th>\n",
       "    </tr>\n",
       "  </thead>\n",
       "  <tbody>\n",
       "    <tr>\n",
       "      <th>count</th>\n",
       "      <td>690.000000</td>\n",
       "      <td>690.000000</td>\n",
       "    </tr>\n",
       "    <tr>\n",
       "      <th>mean</th>\n",
       "      <td>439.465217</td>\n",
       "      <td>644.000000</td>\n",
       "    </tr>\n",
       "    <tr>\n",
       "      <th>std</th>\n",
       "      <td>254.138802</td>\n",
       "      <td>76.949647</td>\n",
       "    </tr>\n",
       "    <tr>\n",
       "      <th>min</th>\n",
       "      <td>4.000000</td>\n",
       "      <td>567.000000</td>\n",
       "    </tr>\n",
       "    <tr>\n",
       "      <th>25%</th>\n",
       "      <td>222.000000</td>\n",
       "      <td>567.000000</td>\n",
       "    </tr>\n",
       "    <tr>\n",
       "      <th>50%</th>\n",
       "      <td>439.000000</td>\n",
       "      <td>616.000000</td>\n",
       "    </tr>\n",
       "    <tr>\n",
       "      <th>75%</th>\n",
       "      <td>660.000000</td>\n",
       "      <td>749.000000</td>\n",
       "    </tr>\n",
       "    <tr>\n",
       "      <th>max</th>\n",
       "      <td>894.000000</td>\n",
       "      <td>749.000000</td>\n",
       "    </tr>\n",
       "  </tbody>\n",
       "</table>\n",
       "</div>"
      ],
      "text/plain": [
       "       CountryCode  SeriesCode\n",
       "count   690.000000  690.000000\n",
       "mean    439.465217  644.000000\n",
       "std     254.138802   76.949647\n",
       "min       4.000000  567.000000\n",
       "25%     222.000000  567.000000\n",
       "50%     439.000000  616.000000\n",
       "75%     660.000000  749.000000\n",
       "max     894.000000  749.000000"
      ]
     },
     "execution_count": 4,
     "metadata": {},
     "output_type": "execute_result"
    }
   ],
   "source": [
    "stats.describe()"
   ]
  },
  {
   "cell_type": "code",
   "execution_count": 5,
   "metadata": {},
   "outputs": [
    {
     "data": {
      "text/plain": [
       "{dtype('int64'): Index(['CountryCode', 'SeriesCode'], dtype='object'),\n",
       " dtype('O'): Index(['Country', 'MDG', 'Series', '1990', 'Footnotes', 'Type', '1991',\n",
       "        'Footnotes.1', 'Type.1', '1992', 'Footnotes.2', 'Type.2', '1993',\n",
       "        'Footnotes.3', 'Type.3', '1994', 'Footnotes.4', 'Type.4', '1995',\n",
       "        'Footnotes.5', 'Type.5', '1996', 'Footnotes.6', 'Type.6', '1997',\n",
       "        'Footnotes.7', 'Type.7', '1998', 'Footnotes.8', 'Type.8', '1999',\n",
       "        'Footnotes.9', 'Type.9', '2000', 'Footnotes.10', 'Type.10', '2001',\n",
       "        'Footnotes.11', 'Type.11', '2002', 'Footnotes.12', 'Type.12', '2003',\n",
       "        'Footnotes.13', 'Type.13', '2004', 'Footnotes.14', 'Type.14', '2005',\n",
       "        'Footnotes.15', 'Type.15', '2006', 'Footnotes.16', 'Type.16', '2007',\n",
       "        'Footnotes.17', 'Type.17', '2008', 'Footnotes.18', 'Type.18', '2009',\n",
       "        'Footnotes.19', 'Type.19', '2010', 'Footnotes.20', 'Type.20', '2011',\n",
       "        'Footnotes.21', 'Type.21', '2012', 'Footnotes.22', 'Type.22', '2013',\n",
       "        'Footnotes.23', 'Type.23', '2014', 'Footnotes.24', 'Type.24', '2015',\n",
       "        'Footnotes.25', 'Type.25', '2016', 'Footnotes.26', 'Type.26', '2017',\n",
       "        'Footnotes.27', 'Type.27', '2018', 'Footnotes.28', 'Type.28', '2019',\n",
       "        'Footnotes.29', 'Type.29'],\n",
       "       dtype='object')}"
      ]
     },
     "execution_count": 5,
     "metadata": {},
     "output_type": "execute_result"
    }
   ],
   "source": [
    "#checking data type columns\n",
    "stats.columns.to_series().groupby(stats.dtypes).groups"
   ]
  },
  {
   "cell_type": "code",
   "execution_count": 6,
   "metadata": {},
   "outputs": [
    {
     "data": {
      "text/plain": [
       "object    93\n",
       "int64      2\n",
       "dtype: int64"
      ]
     },
     "execution_count": 6,
     "metadata": {},
     "output_type": "execute_result"
    }
   ],
   "source": [
    "#Checking data types\n",
    "\n",
    "stats.dtypes.value_counts()"
   ]
  },
  {
   "cell_type": "markdown",
   "metadata": {},
   "source": [
    "# Cleaning And Preparing Data"
   ]
  },
  {
   "cell_type": "code",
   "execution_count": 7,
   "metadata": {},
   "outputs": [
    {
     "data": {
      "text/html": [
       "<div>\n",
       "<style scoped>\n",
       "    .dataframe tbody tr th:only-of-type {\n",
       "        vertical-align: middle;\n",
       "    }\n",
       "\n",
       "    .dataframe tbody tr th {\n",
       "        vertical-align: top;\n",
       "    }\n",
       "\n",
       "    .dataframe thead th {\n",
       "        text-align: right;\n",
       "    }\n",
       "</style>\n",
       "<table border=\"1\" class=\"dataframe\">\n",
       "  <thead>\n",
       "    <tr style=\"text-align: right;\">\n",
       "      <th></th>\n",
       "      <th>CountryCode</th>\n",
       "      <th>Country</th>\n",
       "      <th>SeriesCode</th>\n",
       "      <th>MDG</th>\n",
       "      <th>Series</th>\n",
       "      <th>1990</th>\n",
       "      <th>Type</th>\n",
       "      <th>1991</th>\n",
       "      <th>1992</th>\n",
       "      <th>1993</th>\n",
       "      <th>...</th>\n",
       "      <th>2010</th>\n",
       "      <th>2011</th>\n",
       "      <th>2012</th>\n",
       "      <th>2013</th>\n",
       "      <th>2014</th>\n",
       "      <th>2015</th>\n",
       "      <th>2016</th>\n",
       "      <th>2017</th>\n",
       "      <th>2018</th>\n",
       "      <th>2019</th>\n",
       "    </tr>\n",
       "  </thead>\n",
       "  <tbody>\n",
       "    <tr>\n",
       "      <th>0</th>\n",
       "      <td>4</td>\n",
       "      <td>Afghanistan</td>\n",
       "      <td>567</td>\n",
       "      <td>Y</td>\n",
       "      <td>Proportion of land area covered by forest, per...</td>\n",
       "      <td>2.1</td>\n",
       "      <td>E</td>\n",
       "      <td></td>\n",
       "      <td></td>\n",
       "      <td></td>\n",
       "      <td>...</td>\n",
       "      <td>2.1</td>\n",
       "      <td></td>\n",
       "      <td></td>\n",
       "      <td></td>\n",
       "      <td></td>\n",
       "      <td></td>\n",
       "      <td></td>\n",
       "      <td></td>\n",
       "      <td></td>\n",
       "      <td></td>\n",
       "    </tr>\n",
       "    <tr>\n",
       "      <th>1</th>\n",
       "      <td>4</td>\n",
       "      <td>Afghanistan</td>\n",
       "      <td>749</td>\n",
       "      <td>Y</td>\n",
       "      <td>Carbon dioxide emissions (CO2), thousand metri...</td>\n",
       "      <td>2676.9</td>\n",
       "      <td>G</td>\n",
       "      <td>2493.6</td>\n",
       "      <td>1426.5</td>\n",
       "      <td>1375.1</td>\n",
       "      <td>...</td>\n",
       "      <td>8470.8</td>\n",
       "      <td>12251.4</td>\n",
       "      <td></td>\n",
       "      <td></td>\n",
       "      <td></td>\n",
       "      <td></td>\n",
       "      <td></td>\n",
       "      <td></td>\n",
       "      <td></td>\n",
       "      <td></td>\n",
       "    </tr>\n",
       "    <tr>\n",
       "      <th>2</th>\n",
       "      <td>4</td>\n",
       "      <td>Afghanistan</td>\n",
       "      <td>616</td>\n",
       "      <td>Y</td>\n",
       "      <td>Terrestrial and marine areas protected to tota...</td>\n",
       "      <td>0.36</td>\n",
       "      <td>C</td>\n",
       "      <td></td>\n",
       "      <td></td>\n",
       "      <td></td>\n",
       "      <td>...</td>\n",
       "      <td></td>\n",
       "      <td></td>\n",
       "      <td></td>\n",
       "      <td></td>\n",
       "      <td>0.46</td>\n",
       "      <td></td>\n",
       "      <td></td>\n",
       "      <td></td>\n",
       "      <td></td>\n",
       "      <td></td>\n",
       "    </tr>\n",
       "    <tr>\n",
       "      <th>3</th>\n",
       "      <td>8</td>\n",
       "      <td>Albania</td>\n",
       "      <td>567</td>\n",
       "      <td>Y</td>\n",
       "      <td>Proportion of land area covered by forest, per...</td>\n",
       "      <td>28.8</td>\n",
       "      <td>C</td>\n",
       "      <td></td>\n",
       "      <td></td>\n",
       "      <td></td>\n",
       "      <td>...</td>\n",
       "      <td>28.3</td>\n",
       "      <td></td>\n",
       "      <td></td>\n",
       "      <td></td>\n",
       "      <td></td>\n",
       "      <td></td>\n",
       "      <td></td>\n",
       "      <td></td>\n",
       "      <td></td>\n",
       "      <td></td>\n",
       "    </tr>\n",
       "    <tr>\n",
       "      <th>4</th>\n",
       "      <td>8</td>\n",
       "      <td>Albania</td>\n",
       "      <td>749</td>\n",
       "      <td>Y</td>\n",
       "      <td>Carbon dioxide emissions (CO2), thousand metri...</td>\n",
       "      <td>7488</td>\n",
       "      <td>G</td>\n",
       "      <td>3971.4</td>\n",
       "      <td>2387.2</td>\n",
       "      <td>2343.2</td>\n",
       "      <td>...</td>\n",
       "      <td>4415.1</td>\n",
       "      <td>4668.1</td>\n",
       "      <td></td>\n",
       "      <td></td>\n",
       "      <td></td>\n",
       "      <td></td>\n",
       "      <td></td>\n",
       "      <td></td>\n",
       "      <td></td>\n",
       "      <td></td>\n",
       "    </tr>\n",
       "  </tbody>\n",
       "</table>\n",
       "<p>5 rows × 36 columns</p>\n",
       "</div>"
      ],
      "text/plain": [
       "   CountryCode      Country  SeriesCode MDG  \\\n",
       "0            4  Afghanistan         567   Y   \n",
       "1            4  Afghanistan         749   Y   \n",
       "2            4  Afghanistan         616   Y   \n",
       "3            8      Albania         567   Y   \n",
       "4            8      Albania         749   Y   \n",
       "\n",
       "                                              Series    1990 Type    1991  \\\n",
       "0  Proportion of land area covered by forest, per...     2.1    E           \n",
       "1  Carbon dioxide emissions (CO2), thousand metri...  2676.9    G  2493.6   \n",
       "2  Terrestrial and marine areas protected to tota...    0.36    C           \n",
       "3  Proportion of land area covered by forest, per...    28.8    C           \n",
       "4  Carbon dioxide emissions (CO2), thousand metri...    7488    G  3971.4   \n",
       "\n",
       "     1992    1993  ...    2010     2011 2012 2013  2014 2015 2016 2017 2018  \\\n",
       "0                  ...     2.1                                                \n",
       "1  1426.5  1375.1  ...  8470.8  12251.4                                       \n",
       "2                  ...                             0.46                       \n",
       "3                  ...    28.3                                                \n",
       "4  2387.2  2343.2  ...  4415.1   4668.1                                       \n",
       "\n",
       "  2019  \n",
       "0       \n",
       "1       \n",
       "2       \n",
       "3       \n",
       "4       \n",
       "\n",
       "[5 rows x 36 columns]"
      ]
     },
     "execution_count": 7,
     "metadata": {},
     "output_type": "execute_result"
    }
   ],
   "source": [
    "# Removing columns that I don't need\n",
    "\n",
    "for row in stats:\n",
    "    if \"Footnotes\" in row:\n",
    "        del stats[row]\n",
    "    elif \"Type.\" in row:\n",
    "        del stats[row]\n",
    "        \n",
    "stats.head()        "
   ]
  },
  {
   "cell_type": "code",
   "execution_count": 8,
   "metadata": {},
   "outputs": [],
   "source": [
    "#Replacing all empty string and records with on'ly spaces nan\n",
    "replacing_re = stats.replace(r'^\\s*$', np.nan,regex = True)"
   ]
  },
  {
   "cell_type": "markdown",
   "metadata": {},
   "source": [
    "# Checking duplicates"
   ]
  },
  {
   "cell_type": "code",
   "execution_count": 9,
   "metadata": {},
   "outputs": [
    {
     "data": {
      "text/plain": [
       "CountryCode    230\n",
       "Country        230\n",
       "SeriesCode       3\n",
       "MDG              1\n",
       "Series           3\n",
       "1990           516\n",
       "Type             4\n",
       "1991           175\n",
       "1992           199\n",
       "1993           195\n",
       "1994           194\n",
       "1995           194\n",
       "1996           199\n",
       "1997           198\n",
       "1998           204\n",
       "1999           200\n",
       "2000           569\n",
       "2001           200\n",
       "2002           205\n",
       "2003           207\n",
       "2004           208\n",
       "2005           391\n",
       "2006           208\n",
       "2007           206\n",
       "2008           206\n",
       "2009           211\n",
       "2010           387\n",
       "2011           208\n",
       "2012             1\n",
       "2013             1\n",
       "2014           202\n",
       "2015             1\n",
       "2016             1\n",
       "2017             1\n",
       "2018             1\n",
       "2019             1\n",
       "dtype: int64"
      ]
     },
     "execution_count": 9,
     "metadata": {},
     "output_type": "execute_result"
    }
   ],
   "source": [
    "#Checking nunique values\n",
    "stats.nunique()"
   ]
  },
  {
   "cell_type": "code",
   "execution_count": 10,
   "metadata": {},
   "outputs": [
    {
     "data": {
      "text/html": [
       "<div>\n",
       "<style scoped>\n",
       "    .dataframe tbody tr th:only-of-type {\n",
       "        vertical-align: middle;\n",
       "    }\n",
       "\n",
       "    .dataframe tbody tr th {\n",
       "        vertical-align: top;\n",
       "    }\n",
       "\n",
       "    .dataframe thead th {\n",
       "        text-align: right;\n",
       "    }\n",
       "</style>\n",
       "<table border=\"1\" class=\"dataframe\">\n",
       "  <thead>\n",
       "    <tr style=\"text-align: right;\">\n",
       "      <th></th>\n",
       "      <th>CountryCode</th>\n",
       "      <th>SeriesCode</th>\n",
       "    </tr>\n",
       "  </thead>\n",
       "  <tbody>\n",
       "    <tr>\n",
       "      <th>CountryCode</th>\n",
       "      <td>1.000000e+00</td>\n",
       "      <td>-1.532248e-17</td>\n",
       "    </tr>\n",
       "    <tr>\n",
       "      <th>SeriesCode</th>\n",
       "      <td>-1.532248e-17</td>\n",
       "      <td>1.000000e+00</td>\n",
       "    </tr>\n",
       "  </tbody>\n",
       "</table>\n",
       "</div>"
      ],
      "text/plain": [
       "              CountryCode    SeriesCode\n",
       "CountryCode  1.000000e+00 -1.532248e-17\n",
       "SeriesCode  -1.532248e-17  1.000000e+00"
      ]
     },
     "execution_count": 10,
     "metadata": {},
     "output_type": "execute_result"
    }
   ],
   "source": [
    "stats.corr()"
   ]
  },
  {
   "cell_type": "markdown",
   "metadata": {},
   "source": [
    "There is a perfect negative relationship between Country code and Series code meaning they are inversely proportional.When on increases the other decreases."
   ]
  },
  {
   "cell_type": "markdown",
   "metadata": {},
   "source": [
    "# 1.How many different countries are represented? How many missing values are there by country, year and series?"
   ]
  },
  {
   "cell_type": "code",
   "execution_count": 11,
   "metadata": {},
   "outputs": [
    {
     "name": "stdout",
     "output_type": "stream",
     "text": [
      "Number of countries in dataframes = 230\n"
     ]
    }
   ],
   "source": [
    "#Checking the number of countries represented\n",
    "country_name = stats.Country.unique()\n",
    "\n",
    "print(\"Number of countries in dataframes =\", len(country_name))\n"
   ]
  },
  {
   "cell_type": "code",
   "execution_count": 92,
   "metadata": {},
   "outputs": [
    {
     "name": "stdout",
     "output_type": "stream",
     "text": [
      "Number of missing values in dataframe =  4\n"
     ]
    }
   ],
   "source": [
    "#sum of null values\n",
    "print(f\"Number of missing values in dataframe = \",stats.isnull().any().sum())"
   ]
  },
  {
   "cell_type": "code",
   "execution_count": 93,
   "metadata": {},
   "outputs": [
    {
     "name": "stdout",
     "output_type": "stream",
     "text": [
      "Number of missing values in Country = 0\n"
     ]
    }
   ],
   "source": [
    "#Checking missing values in the data frame\n",
    "print(f\"Number of missing values in Country =\",stats[\"Country\"].isnull().any().sum())"
   ]
  },
  {
   "cell_type": "code",
   "execution_count": 95,
   "metadata": {},
   "outputs": [
    {
     "name": "stdout",
     "output_type": "stream",
     "text": [
      "Number of missing values in Series = 0\n"
     ]
    }
   ],
   "source": [
    "#Checking missing values in series\n",
    "print(f\"Number of missing values in Series =\",stats[\"Series\"].isnull().any().sum())"
   ]
  },
  {
   "cell_type": "code",
   "execution_count": 16,
   "metadata": {},
   "outputs": [
    {
     "data": {
      "text/plain": [
       "1"
      ]
     },
     "execution_count": 16,
     "metadata": {},
     "output_type": "execute_result"
    }
   ],
   "source": [
    "#Checking missing values in 1990\n",
    "\n",
    "stats[\"1990\"].isnull().any().sum()"
   ]
  },
  {
   "cell_type": "code",
   "execution_count": 17,
   "metadata": {},
   "outputs": [
    {
     "data": {
      "text/plain": [
       "False    689\n",
       "True       1\n",
       "Name: 2000, dtype: int64"
      ]
     },
     "execution_count": 17,
     "metadata": {},
     "output_type": "execute_result"
    }
   ],
   "source": [
    "#Checking missing values in 2000\n",
    "\n",
    "stats[\"2000\"].isnull().value_counts()"
   ]
  },
  {
   "cell_type": "code",
   "execution_count": 18,
   "metadata": {},
   "outputs": [
    {
     "data": {
      "text/plain": [
       "False    689\n",
       "True       1\n",
       "Name: 2005, dtype: int64"
      ]
     },
     "execution_count": 18,
     "metadata": {},
     "output_type": "execute_result"
    }
   ],
   "source": [
    "#Checking missing values in 2005\n",
    "\n",
    "stats[\"2005\"].isnull().value_counts()"
   ]
  },
  {
   "cell_type": "code",
   "execution_count": 19,
   "metadata": {},
   "outputs": [
    {
     "data": {
      "text/plain": [
       "False    689\n",
       "True       1\n",
       "Name: 2010, dtype: int64"
      ]
     },
     "execution_count": 19,
     "metadata": {},
     "output_type": "execute_result"
    }
   ],
   "source": [
    "#Checking missing values in 2010\n",
    "\n",
    "stats[\"2010\"].isnull().value_counts()"
   ]
  },
  {
   "cell_type": "code",
   "execution_count": 20,
   "metadata": {},
   "outputs": [
    {
     "data": {
      "text/html": [
       "<div>\n",
       "<style scoped>\n",
       "    .dataframe tbody tr th:only-of-type {\n",
       "        vertical-align: middle;\n",
       "    }\n",
       "\n",
       "    .dataframe tbody tr th {\n",
       "        vertical-align: top;\n",
       "    }\n",
       "\n",
       "    .dataframe thead th {\n",
       "        text-align: right;\n",
       "    }\n",
       "</style>\n",
       "<table border=\"1\" class=\"dataframe\">\n",
       "  <thead>\n",
       "    <tr style=\"text-align: right;\">\n",
       "      <th></th>\n",
       "      <th>CountryCode</th>\n",
       "      <th>Country</th>\n",
       "      <th>SeriesCode</th>\n",
       "      <th>MDG</th>\n",
       "      <th>Series</th>\n",
       "      <th>1990</th>\n",
       "      <th>Type</th>\n",
       "      <th>1991</th>\n",
       "      <th>1992</th>\n",
       "      <th>1993</th>\n",
       "      <th>...</th>\n",
       "      <th>2010</th>\n",
       "      <th>2011</th>\n",
       "      <th>2012</th>\n",
       "      <th>2013</th>\n",
       "      <th>2014</th>\n",
       "      <th>2015</th>\n",
       "      <th>2016</th>\n",
       "      <th>2017</th>\n",
       "      <th>2018</th>\n",
       "      <th>2019</th>\n",
       "    </tr>\n",
       "  </thead>\n",
       "  <tbody>\n",
       "    <tr>\n",
       "      <th>0</th>\n",
       "      <td>4</td>\n",
       "      <td>Afghanistan</td>\n",
       "      <td>567</td>\n",
       "      <td>Y</td>\n",
       "      <td>Proportion of land area covered by forest, per...</td>\n",
       "      <td>2.1</td>\n",
       "      <td>E</td>\n",
       "      <td>0</td>\n",
       "      <td>0</td>\n",
       "      <td>0</td>\n",
       "      <td>...</td>\n",
       "      <td>2.1</td>\n",
       "      <td>0</td>\n",
       "      <td>0.0</td>\n",
       "      <td>0.0</td>\n",
       "      <td>0</td>\n",
       "      <td>0.0</td>\n",
       "      <td>0.0</td>\n",
       "      <td>0.0</td>\n",
       "      <td>0.0</td>\n",
       "      <td>0.0</td>\n",
       "    </tr>\n",
       "    <tr>\n",
       "      <th>1</th>\n",
       "      <td>4</td>\n",
       "      <td>Afghanistan</td>\n",
       "      <td>749</td>\n",
       "      <td>Y</td>\n",
       "      <td>Carbon dioxide emissions (CO2), thousand metri...</td>\n",
       "      <td>2676.9</td>\n",
       "      <td>G</td>\n",
       "      <td>2493.6</td>\n",
       "      <td>1426.5</td>\n",
       "      <td>1375.1</td>\n",
       "      <td>...</td>\n",
       "      <td>8470.8</td>\n",
       "      <td>12251.4</td>\n",
       "      <td>0.0</td>\n",
       "      <td>0.0</td>\n",
       "      <td>0</td>\n",
       "      <td>0.0</td>\n",
       "      <td>0.0</td>\n",
       "      <td>0.0</td>\n",
       "      <td>0.0</td>\n",
       "      <td>0.0</td>\n",
       "    </tr>\n",
       "    <tr>\n",
       "      <th>2</th>\n",
       "      <td>4</td>\n",
       "      <td>Afghanistan</td>\n",
       "      <td>616</td>\n",
       "      <td>Y</td>\n",
       "      <td>Terrestrial and marine areas protected to tota...</td>\n",
       "      <td>0.36</td>\n",
       "      <td>C</td>\n",
       "      <td>0</td>\n",
       "      <td>0</td>\n",
       "      <td>0</td>\n",
       "      <td>...</td>\n",
       "      <td>0</td>\n",
       "      <td>0</td>\n",
       "      <td>0.0</td>\n",
       "      <td>0.0</td>\n",
       "      <td>0.46</td>\n",
       "      <td>0.0</td>\n",
       "      <td>0.0</td>\n",
       "      <td>0.0</td>\n",
       "      <td>0.0</td>\n",
       "      <td>0.0</td>\n",
       "    </tr>\n",
       "    <tr>\n",
       "      <th>3</th>\n",
       "      <td>8</td>\n",
       "      <td>Albania</td>\n",
       "      <td>567</td>\n",
       "      <td>Y</td>\n",
       "      <td>Proportion of land area covered by forest, per...</td>\n",
       "      <td>28.8</td>\n",
       "      <td>C</td>\n",
       "      <td>0</td>\n",
       "      <td>0</td>\n",
       "      <td>0</td>\n",
       "      <td>...</td>\n",
       "      <td>28.3</td>\n",
       "      <td>0</td>\n",
       "      <td>0.0</td>\n",
       "      <td>0.0</td>\n",
       "      <td>0</td>\n",
       "      <td>0.0</td>\n",
       "      <td>0.0</td>\n",
       "      <td>0.0</td>\n",
       "      <td>0.0</td>\n",
       "      <td>0.0</td>\n",
       "    </tr>\n",
       "    <tr>\n",
       "      <th>4</th>\n",
       "      <td>8</td>\n",
       "      <td>Albania</td>\n",
       "      <td>749</td>\n",
       "      <td>Y</td>\n",
       "      <td>Carbon dioxide emissions (CO2), thousand metri...</td>\n",
       "      <td>7488</td>\n",
       "      <td>G</td>\n",
       "      <td>3971.4</td>\n",
       "      <td>2387.2</td>\n",
       "      <td>2343.2</td>\n",
       "      <td>...</td>\n",
       "      <td>4415.1</td>\n",
       "      <td>4668.1</td>\n",
       "      <td>0.0</td>\n",
       "      <td>0.0</td>\n",
       "      <td>0</td>\n",
       "      <td>0.0</td>\n",
       "      <td>0.0</td>\n",
       "      <td>0.0</td>\n",
       "      <td>0.0</td>\n",
       "      <td>0.0</td>\n",
       "    </tr>\n",
       "  </tbody>\n",
       "</table>\n",
       "<p>5 rows × 36 columns</p>\n",
       "</div>"
      ],
      "text/plain": [
       "   CountryCode      Country  SeriesCode MDG  \\\n",
       "0            4  Afghanistan         567   Y   \n",
       "1            4  Afghanistan         749   Y   \n",
       "2            4  Afghanistan         616   Y   \n",
       "3            8      Albania         567   Y   \n",
       "4            8      Albania         749   Y   \n",
       "\n",
       "                                              Series    1990 Type    1991  \\\n",
       "0  Proportion of land area covered by forest, per...     2.1    E       0   \n",
       "1  Carbon dioxide emissions (CO2), thousand metri...  2676.9    G  2493.6   \n",
       "2  Terrestrial and marine areas protected to tota...    0.36    C       0   \n",
       "3  Proportion of land area covered by forest, per...    28.8    C       0   \n",
       "4  Carbon dioxide emissions (CO2), thousand metri...    7488    G  3971.4   \n",
       "\n",
       "     1992    1993  ...    2010     2011 2012 2013  2014 2015 2016 2017 2018  \\\n",
       "0       0       0  ...     2.1        0  0.0  0.0     0  0.0  0.0  0.0  0.0   \n",
       "1  1426.5  1375.1  ...  8470.8  12251.4  0.0  0.0     0  0.0  0.0  0.0  0.0   \n",
       "2       0       0  ...       0        0  0.0  0.0  0.46  0.0  0.0  0.0  0.0   \n",
       "3       0       0  ...    28.3        0  0.0  0.0     0  0.0  0.0  0.0  0.0   \n",
       "4  2387.2  2343.2  ...  4415.1   4668.1  0.0  0.0     0  0.0  0.0  0.0  0.0   \n",
       "\n",
       "  2019  \n",
       "0  0.0  \n",
       "1  0.0  \n",
       "2  0.0  \n",
       "3  0.0  \n",
       "4  0.0  \n",
       "\n",
       "[5 rows x 36 columns]"
      ]
     },
     "execution_count": 20,
     "metadata": {},
     "output_type": "execute_result"
    }
   ],
   "source": [
    "replacing = replacing_re.replace(np.nan,0,regex = False)\n",
    "replacing.head()"
   ]
  },
  {
   "cell_type": "markdown",
   "metadata": {},
   "source": [
    "# 2.Who are the top and bottom 5 countries in terms of C02 emissions in 1990 and what are their emissions? How has this changed by 2011?\n",
    "Do you spot any problems with the data? If so, fix it."
   ]
  },
  {
   "cell_type": "code",
   "execution_count": 21,
   "metadata": {},
   "outputs": [
    {
     "data": {
      "text/html": [
       "<div>\n",
       "<style scoped>\n",
       "    .dataframe tbody tr th:only-of-type {\n",
       "        vertical-align: middle;\n",
       "    }\n",
       "\n",
       "    .dataframe tbody tr th {\n",
       "        vertical-align: top;\n",
       "    }\n",
       "\n",
       "    .dataframe thead th {\n",
       "        text-align: right;\n",
       "    }\n",
       "</style>\n",
       "<table border=\"1\" class=\"dataframe\">\n",
       "  <thead>\n",
       "    <tr style=\"text-align: right;\">\n",
       "      <th></th>\n",
       "      <th>Country</th>\n",
       "      <th>1990</th>\n",
       "    </tr>\n",
       "  </thead>\n",
       "  <tbody>\n",
       "    <tr>\n",
       "      <th>0</th>\n",
       "      <td>Afghanistan</td>\n",
       "      <td>2.1</td>\n",
       "    </tr>\n",
       "    <tr>\n",
       "      <th>1</th>\n",
       "      <td>Afghanistan</td>\n",
       "      <td>2676.9</td>\n",
       "    </tr>\n",
       "    <tr>\n",
       "      <th>2</th>\n",
       "      <td>Afghanistan</td>\n",
       "      <td>0.36</td>\n",
       "    </tr>\n",
       "    <tr>\n",
       "      <th>3</th>\n",
       "      <td>Albania</td>\n",
       "      <td>28.8</td>\n",
       "    </tr>\n",
       "    <tr>\n",
       "      <th>4</th>\n",
       "      <td>Albania</td>\n",
       "      <td>7488</td>\n",
       "    </tr>\n",
       "    <tr>\n",
       "      <th>...</th>\n",
       "      <td>...</td>\n",
       "      <td>...</td>\n",
       "    </tr>\n",
       "    <tr>\n",
       "      <th>685</th>\n",
       "      <td>Zambia</td>\n",
       "      <td>2445.9</td>\n",
       "    </tr>\n",
       "    <tr>\n",
       "      <th>686</th>\n",
       "      <td>Zambia</td>\n",
       "      <td>36.05</td>\n",
       "    </tr>\n",
       "    <tr>\n",
       "      <th>687</th>\n",
       "      <td>Zimbabwe</td>\n",
       "      <td>57.3</td>\n",
       "    </tr>\n",
       "    <tr>\n",
       "      <th>688</th>\n",
       "      <td>Zimbabwe</td>\n",
       "      <td>15504.1</td>\n",
       "    </tr>\n",
       "    <tr>\n",
       "      <th>689</th>\n",
       "      <td>Zimbabwe</td>\n",
       "      <td>16.9</td>\n",
       "    </tr>\n",
       "  </tbody>\n",
       "</table>\n",
       "<p>690 rows × 2 columns</p>\n",
       "</div>"
      ],
      "text/plain": [
       "         Country     1990\n",
       "0    Afghanistan      2.1\n",
       "1    Afghanistan   2676.9\n",
       "2    Afghanistan     0.36\n",
       "3        Albania     28.8\n",
       "4        Albania     7488\n",
       "..           ...      ...\n",
       "685       Zambia   2445.9\n",
       "686       Zambia    36.05\n",
       "687     Zimbabwe     57.3\n",
       "688     Zimbabwe  15504.1\n",
       "689     Zimbabwe     16.9\n",
       "\n",
       "[690 rows x 2 columns]"
      ]
     },
     "execution_count": 21,
     "metadata": {},
     "output_type": "execute_result"
    }
   ],
   "source": [
    "#Creating a new data frame for Country and 1990\n",
    "Cou_1990 = replacing.loc[:, (\"Country\",\"1990\") ]\n",
    "\n",
    "\n",
    "Cou_1990"
   ]
  },
  {
   "cell_type": "code",
   "execution_count": 22,
   "metadata": {},
   "outputs": [
    {
     "data": {
      "text/plain": [
       "object    2\n",
       "dtype: int64"
      ]
     },
     "execution_count": 22,
     "metadata": {},
     "output_type": "execute_result"
    }
   ],
   "source": [
    "Cou_1990.dtypes.value_counts()"
   ]
  },
  {
   "cell_type": "markdown",
   "metadata": {},
   "source": [
    "# Data type summary\n",
    "\n",
    "This data frame has 2 objects"
   ]
  },
  {
   "cell_type": "code",
   "execution_count": 23,
   "metadata": {},
   "outputs": [
    {
     "data": {
      "text/html": [
       "<div>\n",
       "<style scoped>\n",
       "    .dataframe tbody tr th:only-of-type {\n",
       "        vertical-align: middle;\n",
       "    }\n",
       "\n",
       "    .dataframe tbody tr th {\n",
       "        vertical-align: top;\n",
       "    }\n",
       "\n",
       "    .dataframe thead th {\n",
       "        text-align: right;\n",
       "    }\n",
       "</style>\n",
       "<table border=\"1\" class=\"dataframe\">\n",
       "  <thead>\n",
       "    <tr style=\"text-align: right;\">\n",
       "      <th></th>\n",
       "      <th>Country</th>\n",
       "      <th>1990</th>\n",
       "    </tr>\n",
       "  </thead>\n",
       "  <tbody>\n",
       "    <tr>\n",
       "      <th>count</th>\n",
       "      <td>690</td>\n",
       "      <td>690</td>\n",
       "    </tr>\n",
       "    <tr>\n",
       "      <th>unique</th>\n",
       "      <td>230</td>\n",
       "      <td>516</td>\n",
       "    </tr>\n",
       "    <tr>\n",
       "      <th>top</th>\n",
       "      <td>New Caledonia</td>\n",
       "      <td>0</td>\n",
       "    </tr>\n",
       "    <tr>\n",
       "      <th>freq</th>\n",
       "      <td>3</td>\n",
       "      <td>63</td>\n",
       "    </tr>\n",
       "  </tbody>\n",
       "</table>\n",
       "</div>"
      ],
      "text/plain": [
       "              Country  1990\n",
       "count             690   690\n",
       "unique            230   516\n",
       "top     New Caledonia     0\n",
       "freq                3    63"
      ]
     },
     "execution_count": 23,
     "metadata": {},
     "output_type": "execute_result"
    }
   ],
   "source": [
    "#Dataframe stats summary\n",
    "Cou_1990.describe()"
   ]
  },
  {
   "cell_type": "code",
   "execution_count": 24,
   "metadata": {},
   "outputs": [
    {
     "data": {
      "text/plain": [
       "Country\n",
       "Afghanistan                                         2679.36\n",
       "Albania                                             7516.95\n",
       "Algeria                                            78931.47\n",
       "American Samoa                                        90.06\n",
       "Andorra                                               41.13\n",
       "                                                    ...    \n",
       "Western Sahara                                         2.70\n",
       "Yemen                                              -2998.60\n",
       "Yugoslavia [former Socialist Federal Republic]    133288.10\n",
       "Zambia                                              2552.95\n",
       "Zimbabwe                                           15578.30\n",
       "Name: 1990, Length: 230, dtype: float64"
      ]
     },
     "execution_count": 24,
     "metadata": {},
     "output_type": "execute_result"
    }
   ],
   "source": [
    "#Grouping by country and 1990,then changing data type from object to float \n",
    "\n",
    "byCou = Cou_1990.groupby(\"Country\")[\"1990\"].apply(lambda country : country.astype(float).sum())\n",
    "byCou"
   ]
  },
  {
   "cell_type": "code",
   "execution_count": 25,
   "metadata": {},
   "outputs": [
    {
     "data": {
      "text/html": [
       "<div>\n",
       "<style scoped>\n",
       "    .dataframe tbody tr th:only-of-type {\n",
       "        vertical-align: middle;\n",
       "    }\n",
       "\n",
       "    .dataframe tbody tr th {\n",
       "        vertical-align: top;\n",
       "    }\n",
       "\n",
       "    .dataframe thead th {\n",
       "        text-align: right;\n",
       "    }\n",
       "</style>\n",
       "<table border=\"1\" class=\"dataframe\">\n",
       "  <thead>\n",
       "    <tr style=\"text-align: right;\">\n",
       "      <th></th>\n",
       "      <th>Country</th>\n",
       "      <th>1990</th>\n",
       "    </tr>\n",
       "  </thead>\n",
       "  <tbody>\n",
       "    <tr>\n",
       "      <th>226</th>\n",
       "      <td>Yemen</td>\n",
       "      <td>-2998.60</td>\n",
       "    </tr>\n",
       "    <tr>\n",
       "      <th>179</th>\n",
       "      <td>Serbia and Montenegro</td>\n",
       "      <td>0.00</td>\n",
       "    </tr>\n",
       "    <tr>\n",
       "      <th>174</th>\n",
       "      <td>San Marino</td>\n",
       "      <td>0.00</td>\n",
       "    </tr>\n",
       "    <tr>\n",
       "      <th>204</th>\n",
       "      <td>Tokelau</td>\n",
       "      <td>0.00</td>\n",
       "    </tr>\n",
       "    <tr>\n",
       "      <th>131</th>\n",
       "      <td>Monaco</td>\n",
       "      <td>0.18</td>\n",
       "    </tr>\n",
       "    <tr>\n",
       "      <th>192</th>\n",
       "      <td>Sudan</td>\n",
       "      <td>1.28</td>\n",
       "    </tr>\n",
       "  </tbody>\n",
       "</table>\n",
       "</div>"
      ],
      "text/plain": [
       "                   Country     1990\n",
       "226                  Yemen -2998.60\n",
       "179  Serbia and Montenegro     0.00\n",
       "174             San Marino     0.00\n",
       "204                Tokelau     0.00\n",
       "131                 Monaco     0.18\n",
       "192                  Sudan     1.28"
      ]
     },
     "execution_count": 25,
     "metadata": {},
     "output_type": "execute_result"
    }
   ],
   "source": [
    "#Sorting my dataframe to see the bottom  countries in descending order in the 1990 column\n",
    "\n",
    "byCou.reset_index().sort_values([\"1990\"],ascending = True).head(6)"
   ]
  },
  {
   "cell_type": "markdown",
   "metadata": {},
   "source": [
    "# Bottom 5 countries in 1990 and the amount of CO2 emisson\n",
    "\n",
    "1.Yemen = -2998.60\n",
    "\n",
    "2.Somalia\t= 31.75\n",
    "\n",
    "3.Kiribati\t= 36.81\n",
    "\n",
    "4.Falkland Islands (Malvinas) =\t36.94\n",
    "\n",
    "5.Namibia =\t43.22"
   ]
  },
  {
   "cell_type": "code",
   "execution_count": 26,
   "metadata": {},
   "outputs": [
    {
     "data": {
      "text/html": [
       "<div>\n",
       "<style scoped>\n",
       "    .dataframe tbody tr th:only-of-type {\n",
       "        vertical-align: middle;\n",
       "    }\n",
       "\n",
       "    .dataframe tbody tr th {\n",
       "        vertical-align: top;\n",
       "    }\n",
       "\n",
       "    .dataframe thead th {\n",
       "        text-align: right;\n",
       "    }\n",
       "</style>\n",
       "<table border=\"1\" class=\"dataframe\">\n",
       "  <thead>\n",
       "    <tr style=\"text-align: right;\">\n",
       "      <th></th>\n",
       "      <th>Country</th>\n",
       "      <th>1990</th>\n",
       "    </tr>\n",
       "  </thead>\n",
       "  <tbody>\n",
       "    <tr>\n",
       "      <th>217</th>\n",
       "      <td>United States</td>\n",
       "      <td>4823599.85</td>\n",
       "    </tr>\n",
       "    <tr>\n",
       "      <th>41</th>\n",
       "      <td>China</td>\n",
       "      <td>2460773.08</td>\n",
       "    </tr>\n",
       "    <tr>\n",
       "      <th>100</th>\n",
       "      <td>Japan</td>\n",
       "      <td>1094358.17</td>\n",
       "    </tr>\n",
       "    <tr>\n",
       "      <th>92</th>\n",
       "      <td>India</td>\n",
       "      <td>690601.04</td>\n",
       "    </tr>\n",
       "    <tr>\n",
       "      <th>215</th>\n",
       "      <td>United Kingdom</td>\n",
       "      <td>555919.37</td>\n",
       "    </tr>\n",
       "  </tbody>\n",
       "</table>\n",
       "</div>"
      ],
      "text/plain": [
       "            Country        1990\n",
       "217   United States  4823599.85\n",
       "41            China  2460773.08\n",
       "100           Japan  1094358.17\n",
       "92            India   690601.04\n",
       "215  United Kingdom   555919.37"
      ]
     },
     "execution_count": 26,
     "metadata": {},
     "output_type": "execute_result"
    }
   ],
   "source": [
    "#Sorting index for top 5 countries\n",
    "byCou1 = byCou.reset_index().sort_values([\"1990\"],ascending = False).head(5)\n",
    "byCou1"
   ]
  },
  {
   "cell_type": "markdown",
   "metadata": {},
   "source": [
    "# Top 5 countries in 1990 and the amount of CO2 emisson\n",
    "\n",
    "1.United States = 4823599.85\n",
    "\n",
    "2.China = 2460773.08\n",
    "\n",
    "3.Japan = 1094358.17\n",
    "\n",
    "4.India = 690601.04\n",
    "\n",
    "5.United Kingdom = 555919.37"
   ]
  },
  {
   "cell_type": "code",
   "execution_count": 27,
   "metadata": {},
   "outputs": [
    {
     "data": {
      "text/html": [
       "<div>\n",
       "<style scoped>\n",
       "    .dataframe tbody tr th:only-of-type {\n",
       "        vertical-align: middle;\n",
       "    }\n",
       "\n",
       "    .dataframe tbody tr th {\n",
       "        vertical-align: top;\n",
       "    }\n",
       "\n",
       "    .dataframe thead th {\n",
       "        text-align: right;\n",
       "    }\n",
       "</style>\n",
       "<table border=\"1\" class=\"dataframe\">\n",
       "  <thead>\n",
       "    <tr style=\"text-align: right;\">\n",
       "      <th></th>\n",
       "      <th>Country</th>\n",
       "      <th>2011</th>\n",
       "    </tr>\n",
       "  </thead>\n",
       "  <tbody>\n",
       "    <tr>\n",
       "      <th>0</th>\n",
       "      <td>Afghanistan</td>\n",
       "      <td>0</td>\n",
       "    </tr>\n",
       "    <tr>\n",
       "      <th>1</th>\n",
       "      <td>Afghanistan</td>\n",
       "      <td>12251.4</td>\n",
       "    </tr>\n",
       "    <tr>\n",
       "      <th>2</th>\n",
       "      <td>Afghanistan</td>\n",
       "      <td>0</td>\n",
       "    </tr>\n",
       "    <tr>\n",
       "      <th>3</th>\n",
       "      <td>Albania</td>\n",
       "      <td>0</td>\n",
       "    </tr>\n",
       "    <tr>\n",
       "      <th>4</th>\n",
       "      <td>Albania</td>\n",
       "      <td>4668.1</td>\n",
       "    </tr>\n",
       "    <tr>\n",
       "      <th>...</th>\n",
       "      <td>...</td>\n",
       "      <td>...</td>\n",
       "    </tr>\n",
       "    <tr>\n",
       "      <th>685</th>\n",
       "      <td>Zambia</td>\n",
       "      <td>3047.3</td>\n",
       "    </tr>\n",
       "    <tr>\n",
       "      <th>686</th>\n",
       "      <td>Zambia</td>\n",
       "      <td>0</td>\n",
       "    </tr>\n",
       "    <tr>\n",
       "      <th>687</th>\n",
       "      <td>Zimbabwe</td>\n",
       "      <td>0</td>\n",
       "    </tr>\n",
       "    <tr>\n",
       "      <th>688</th>\n",
       "      <td>Zimbabwe</td>\n",
       "      <td>9860.6</td>\n",
       "    </tr>\n",
       "    <tr>\n",
       "      <th>689</th>\n",
       "      <td>Zimbabwe</td>\n",
       "      <td>0</td>\n",
       "    </tr>\n",
       "  </tbody>\n",
       "</table>\n",
       "<p>690 rows × 2 columns</p>\n",
       "</div>"
      ],
      "text/plain": [
       "         Country     2011\n",
       "0    Afghanistan        0\n",
       "1    Afghanistan  12251.4\n",
       "2    Afghanistan        0\n",
       "3        Albania        0\n",
       "4        Albania   4668.1\n",
       "..           ...      ...\n",
       "685       Zambia   3047.3\n",
       "686       Zambia        0\n",
       "687     Zimbabwe        0\n",
       "688     Zimbabwe   9860.6\n",
       "689     Zimbabwe        0\n",
       "\n",
       "[690 rows x 2 columns]"
      ]
     },
     "execution_count": 27,
     "metadata": {},
     "output_type": "execute_result"
    }
   ],
   "source": [
    "#Creating a new data frame for country and year 2011\n",
    "Cou_2011 = replacing.loc[:, (\"Country\",\"2011\") ]\n",
    "Cou_2011"
   ]
  },
  {
   "cell_type": "code",
   "execution_count": 28,
   "metadata": {},
   "outputs": [
    {
     "data": {
      "text/html": [
       "<div>\n",
       "<style scoped>\n",
       "    .dataframe tbody tr th:only-of-type {\n",
       "        vertical-align: middle;\n",
       "    }\n",
       "\n",
       "    .dataframe tbody tr th {\n",
       "        vertical-align: top;\n",
       "    }\n",
       "\n",
       "    .dataframe thead th {\n",
       "        text-align: right;\n",
       "    }\n",
       "</style>\n",
       "<table border=\"1\" class=\"dataframe\">\n",
       "  <thead>\n",
       "    <tr style=\"text-align: right;\">\n",
       "      <th></th>\n",
       "      <th>Country</th>\n",
       "      <th>2011</th>\n",
       "    </tr>\n",
       "  </thead>\n",
       "  <tbody>\n",
       "    <tr>\n",
       "      <th>count</th>\n",
       "      <td>690</td>\n",
       "      <td>690</td>\n",
       "    </tr>\n",
       "    <tr>\n",
       "      <th>unique</th>\n",
       "      <td>230</td>\n",
       "      <td>208</td>\n",
       "    </tr>\n",
       "    <tr>\n",
       "      <th>top</th>\n",
       "      <td>New Caledonia</td>\n",
       "      <td>0</td>\n",
       "    </tr>\n",
       "    <tr>\n",
       "      <th>freq</th>\n",
       "      <td>3</td>\n",
       "      <td>475</td>\n",
       "    </tr>\n",
       "  </tbody>\n",
       "</table>\n",
       "</div>"
      ],
      "text/plain": [
       "              Country  2011\n",
       "count             690   690\n",
       "unique            230   208\n",
       "top     New Caledonia     0\n",
       "freq                3   475"
      ]
     },
     "execution_count": 28,
     "metadata": {},
     "output_type": "execute_result"
    }
   ],
   "source": [
    "Cou_2011.describe()"
   ]
  },
  {
   "cell_type": "code",
   "execution_count": 29,
   "metadata": {},
   "outputs": [
    {
     "data": {
      "text/plain": [
       "object    2\n",
       "dtype: int64"
      ]
     },
     "execution_count": 29,
     "metadata": {},
     "output_type": "execute_result"
    }
   ],
   "source": [
    "Cou_2011.dtypes.value_counts()"
   ]
  },
  {
   "cell_type": "code",
   "execution_count": 30,
   "metadata": {},
   "outputs": [
    {
     "data": {
      "text/plain": [
       "Country\n",
       "Afghanistan                                        12251.4\n",
       "Albania                                             4668.1\n",
       "Algeria                                           121755.4\n",
       "American Samoa                                         0.0\n",
       "Andorra                                              491.4\n",
       "                                                    ...   \n",
       "Western Sahara                                         0.0\n",
       "Yemen                                              22295.4\n",
       "Yugoslavia [former Socialist Federal Republic]         0.0\n",
       "Zambia                                              3047.3\n",
       "Zimbabwe                                            9860.6\n",
       "Name: 2011, Length: 230, dtype: float64"
      ]
     },
     "execution_count": 30,
     "metadata": {},
     "output_type": "execute_result"
    }
   ],
   "source": [
    "#Grouping by country and 2011,then changing data type from object to float \n",
    "\n",
    "byCoun = Cou_2011.groupby(\"Country\")[\"2011\"].apply(lambda country : country.astype(float).sum())\n",
    "byCoun"
   ]
  },
  {
   "cell_type": "code",
   "execution_count": 31,
   "metadata": {},
   "outputs": [
    {
     "data": {
      "text/html": [
       "<div>\n",
       "<style scoped>\n",
       "    .dataframe tbody tr th:only-of-type {\n",
       "        vertical-align: middle;\n",
       "    }\n",
       "\n",
       "    .dataframe tbody tr th {\n",
       "        vertical-align: top;\n",
       "    }\n",
       "\n",
       "    .dataframe thead th {\n",
       "        text-align: right;\n",
       "    }\n",
       "</style>\n",
       "<table border=\"1\" class=\"dataframe\">\n",
       "  <thead>\n",
       "    <tr style=\"text-align: right;\">\n",
       "      <th></th>\n",
       "      <th>Country</th>\n",
       "      <th>2011</th>\n",
       "    </tr>\n",
       "  </thead>\n",
       "  <tbody>\n",
       "    <tr>\n",
       "      <th>41</th>\n",
       "      <td>China</td>\n",
       "      <td>9019518.2</td>\n",
       "    </tr>\n",
       "    <tr>\n",
       "      <th>217</th>\n",
       "      <td>United States</td>\n",
       "      <td>5305569.6</td>\n",
       "    </tr>\n",
       "    <tr>\n",
       "      <th>92</th>\n",
       "      <td>India</td>\n",
       "      <td>2074344.9</td>\n",
       "    </tr>\n",
       "    <tr>\n",
       "      <th>166</th>\n",
       "      <td>Russian Federation</td>\n",
       "      <td>1808073.0</td>\n",
       "    </tr>\n",
       "    <tr>\n",
       "      <th>100</th>\n",
       "      <td>Japan</td>\n",
       "      <td>1187657.0</td>\n",
       "    </tr>\n",
       "  </tbody>\n",
       "</table>\n",
       "</div>"
      ],
      "text/plain": [
       "                Country       2011\n",
       "41                China  9019518.2\n",
       "217       United States  5305569.6\n",
       "92                India  2074344.9\n",
       "166  Russian Federation  1808073.0\n",
       "100               Japan  1187657.0"
      ]
     },
     "execution_count": 31,
     "metadata": {},
     "output_type": "execute_result"
    }
   ],
   "source": [
    "#Reseting and sorting dataframe in the 2011 column\n",
    "byCoun.reset_index().sort_values( [\"2011\"],ascending = False).head(5)"
   ]
  },
  {
   "cell_type": "markdown",
   "metadata": {},
   "source": [
    "# Top 5 countries in 2011 and the amount of CO2 emisson\n",
    "\n",
    "1.China = 9019520.2\n",
    "\n",
    "2.United States = 5305571.6\n",
    "\n",
    "3.India = 2074346.9\n",
    "\n",
    "4.Russian Federation = 2074346.9\n",
    "\n",
    "5.Japan = 1187659.0"
   ]
  },
  {
   "cell_type": "code",
   "execution_count": 32,
   "metadata": {},
   "outputs": [
    {
     "data": {
      "text/html": [
       "<div>\n",
       "<style scoped>\n",
       "    .dataframe tbody tr th:only-of-type {\n",
       "        vertical-align: middle;\n",
       "    }\n",
       "\n",
       "    .dataframe tbody tr th {\n",
       "        vertical-align: top;\n",
       "    }\n",
       "\n",
       "    .dataframe thead th {\n",
       "        text-align: right;\n",
       "    }\n",
       "</style>\n",
       "<table border=\"1\" class=\"dataframe\">\n",
       "  <thead>\n",
       "    <tr style=\"text-align: right;\">\n",
       "      <th></th>\n",
       "      <th>Country</th>\n",
       "      <th>2011</th>\n",
       "    </tr>\n",
       "  </thead>\n",
       "  <tbody>\n",
       "    <tr>\n",
       "      <th>188</th>\n",
       "      <td>South Sudan</td>\n",
       "      <td>0.0</td>\n",
       "    </tr>\n",
       "    <tr>\n",
       "      <th>83</th>\n",
       "      <td>Guam</td>\n",
       "      <td>0.0</td>\n",
       "    </tr>\n",
       "    <tr>\n",
       "      <th>227</th>\n",
       "      <td>Yugoslavia [former Socialist Federal Republic]</td>\n",
       "      <td>0.0</td>\n",
       "    </tr>\n",
       "    <tr>\n",
       "      <th>3</th>\n",
       "      <td>American Samoa</td>\n",
       "      <td>0.0</td>\n",
       "    </tr>\n",
       "    <tr>\n",
       "      <th>192</th>\n",
       "      <td>Sudan</td>\n",
       "      <td>0.0</td>\n",
       "    </tr>\n",
       "    <tr>\n",
       "      <th>225</th>\n",
       "      <td>Western Sahara</td>\n",
       "      <td>0.0</td>\n",
       "    </tr>\n",
       "    <tr>\n",
       "      <th>174</th>\n",
       "      <td>San Marino</td>\n",
       "      <td>0.0</td>\n",
       "    </tr>\n",
       "    <tr>\n",
       "      <th>179</th>\n",
       "      <td>Serbia and Montenegro</td>\n",
       "      <td>0.0</td>\n",
       "    </tr>\n",
       "    <tr>\n",
       "      <th>161</th>\n",
       "      <td>Puerto Rico</td>\n",
       "      <td>0.0</td>\n",
       "    </tr>\n",
       "    <tr>\n",
       "      <th>128</th>\n",
       "      <td>Mayotte</td>\n",
       "      <td>0.0</td>\n",
       "    </tr>\n",
       "  </tbody>\n",
       "</table>\n",
       "</div>"
      ],
      "text/plain": [
       "                                            Country  2011\n",
       "188                                     South Sudan   0.0\n",
       "83                                             Guam   0.0\n",
       "227  Yugoslavia [former Socialist Federal Republic]   0.0\n",
       "3                                    American Samoa   0.0\n",
       "192                                           Sudan   0.0\n",
       "225                                  Western Sahara   0.0\n",
       "174                                      San Marino   0.0\n",
       "179                           Serbia and Montenegro   0.0\n",
       "161                                     Puerto Rico   0.0\n",
       "128                                         Mayotte   0.0"
      ]
     },
     "execution_count": 32,
     "metadata": {},
     "output_type": "execute_result"
    }
   ],
   "source": [
    "byCoun.reset_index().sort_values( [\"2011\"],ascending = True).head(10)"
   ]
  },
  {
   "cell_type": "markdown",
   "metadata": {},
   "source": [
    "# Bottom 5 countries in 2011 and the amount of CO2 emisson"
   ]
  },
  {
   "cell_type": "markdown",
   "metadata": {},
   "source": [
    "1.Saint Helena\t= 889.9304\n",
    "\n",
    "2.Niue\t= 889.930434\n",
    "\n",
    "3.Wallis and Futuna Islands =\t904.630434\n",
    "\n",
    "4.Liechtenstein =\t930.230434\n",
    "\n",
    "5.Nauru\t= 930.230434\n"
   ]
  },
  {
   "cell_type": "markdown",
   "metadata": {},
   "source": [
    "The bottom 5 countries in 2011 had missing values,so I replaced missing values with zero.Also I think in these countries there were no or CO2 emisions at these countries because they are not developed countries and so they don't use fossil fuels and there are a lot of forests there.\n"
   ]
  },
  {
   "cell_type": "markdown",
   "metadata": {},
   "source": [
    "# 3.Calculate the mean and median C02 emissions for 1990. Why do you think these values differ?"
   ]
  },
  {
   "cell_type": "code",
   "execution_count": 33,
   "metadata": {
    "scrolled": true
   },
   "outputs": [
    {
     "data": {
      "text/plain": [
       "count    2.300000e+02\n",
       "mean     7.168503e+04\n",
       "std      3.713651e+05\n",
       "min     -2.998600e+03\n",
       "25%      8.575250e+01\n",
       "50%      1.236955e+03\n",
       "75%      2.138662e+04\n",
       "max      4.823600e+06\n",
       "Name: 1990, dtype: float64"
      ]
     },
     "execution_count": 33,
     "metadata": {},
     "output_type": "execute_result"
    }
   ],
   "source": [
    "#statistical summary of data frame 4\n",
    "\n",
    "byCou.describe()"
   ]
  },
  {
   "cell_type": "markdown",
   "metadata": {},
   "source": [
    " # Mean"
   ]
  },
  {
   "cell_type": "code",
   "execution_count": 34,
   "metadata": {},
   "outputs": [
    {
     "data": {
      "text/plain": [
       "71685.03060869566"
      ]
     },
     "execution_count": 34,
     "metadata": {},
     "output_type": "execute_result"
    }
   ],
   "source": [
    "#Checking mean\n",
    "byCou.mean()"
   ]
  },
  {
   "cell_type": "markdown",
   "metadata": {},
   "source": [
    "The mean or overall average is 71685.030"
   ]
  },
  {
   "cell_type": "markdown",
   "metadata": {},
   "source": [
    "# Median"
   ]
  },
  {
   "cell_type": "code",
   "execution_count": 35,
   "metadata": {},
   "outputs": [
    {
     "data": {
      "text/plain": [
       "1236.955"
      ]
     },
     "execution_count": 35,
     "metadata": {},
     "output_type": "execute_result"
    }
   ],
   "source": [
    "#Checking median\n",
    "byCou.median()"
   ]
  },
  {
   "cell_type": "markdown",
   "metadata": {},
   "source": [
    "The median is 1328.6678"
   ]
  },
  {
   "cell_type": "code",
   "execution_count": 36,
   "metadata": {},
   "outputs": [
    {
     "data": {
      "image/png": "[encoded data removed]",
      "text/plain": [
       "<Figure size 432x288 with 1 Axes>"
      ]
     },
     "metadata": {
      "needs_background": "light"
     },
     "output_type": "display_data"
    }
   ],
   "source": [
    "dist_df = byCou\n",
    "dist_df = np.random.gamma(4, 0.5,1000)\n",
    "mean = dist_df.mean()\n",
    "median = np.median(dist_df)\n",
    "plt.ylabel(\"Density Probability\")\n",
    "plt.axvline(mean,color = 'blue',label = 'Mean')\n",
    "plt.axvline(median,color = 'green',label = 'Median')\n",
    "\n",
    "_ = sns.distplot(dist_df,color = \"grey\")\n",
    "_ = plt.legend()\n"
   ]
  },
  {
   "cell_type": "markdown",
   "metadata": {},
   "source": [
    "The mean is greater than the median, the distribution is positively skewed."
   ]
  },
  {
   "cell_type": "markdown",
   "metadata": {},
   "source": [
    "# 4.Calculate the minimum, maximum and interquartile range of the CO2 emissions for 1990. Using this information, and the mean and median, what does this tell you about the distribution of CO2 emissions?"
   ]
  },
  {
   "cell_type": "markdown",
   "metadata": {},
   "source": [
    "# Minimum"
   ]
  },
  {
   "cell_type": "code",
   "execution_count": 37,
   "metadata": {},
   "outputs": [
    {
     "data": {
      "text/plain": [
       "-2998.6"
      ]
     },
     "execution_count": 37,
     "metadata": {},
     "output_type": "execute_result"
    }
   ],
   "source": [
    "byCou.min()"
   ]
  },
  {
   "cell_type": "markdown",
   "metadata": {},
   "source": [
    "# Maximum"
   ]
  },
  {
   "cell_type": "code",
   "execution_count": 38,
   "metadata": {},
   "outputs": [
    {
     "data": {
      "text/plain": [
       "4823599.85"
      ]
     },
     "execution_count": 38,
     "metadata": {},
     "output_type": "execute_result"
    }
   ],
   "source": [
    "byCou.max()"
   ]
  },
  {
   "cell_type": "markdown",
   "metadata": {},
   "source": [
    "# InterQuartile Range"
   ]
  },
  {
   "cell_type": "code",
   "execution_count": 39,
   "metadata": {},
   "outputs": [
    {
     "data": {
      "text/plain": [
       "85.7525"
      ]
     },
     "execution_count": 39,
     "metadata": {},
     "output_type": "execute_result"
    }
   ],
   "source": [
    "q1 = byCou.quantile(0.25)\n",
    "q1"
   ]
  },
  {
   "cell_type": "code",
   "execution_count": 40,
   "metadata": {},
   "outputs": [
    {
     "data": {
      "text/plain": [
       "1236.955"
      ]
     },
     "execution_count": 40,
     "metadata": {},
     "output_type": "execute_result"
    }
   ],
   "source": [
    "\n",
    "q2 = byCou.median()\n",
    "q2"
   ]
  },
  {
   "cell_type": "code",
   "execution_count": 41,
   "metadata": {},
   "outputs": [
    {
     "data": {
      "text/plain": [
       "21386.615"
      ]
     },
     "execution_count": 41,
     "metadata": {},
     "output_type": "execute_result"
    }
   ],
   "source": [
    "q3 = byCou.quantile(0.75)\n",
    "q3"
   ]
  },
  {
   "cell_type": "code",
   "execution_count": 42,
   "metadata": {},
   "outputs": [
    {
     "data": {
      "text/plain": [
       "21300.862500000003"
      ]
     },
     "execution_count": 42,
     "metadata": {},
     "output_type": "execute_result"
    }
   ],
   "source": [
    "iqr = q3 - q1\n",
    "iqr "
   ]
  },
  {
   "cell_type": "markdown",
   "metadata": {},
   "source": [
    "The distribution is skewed/ assymetrical distribution because on tail is more than the other.This data is  right-skewed because the right hand side has a longer tail than the left.If this was a normal distribution the mean and the median were gonna be equal,now that the mean is more than the median it means that this distribution is positively(right-skewed)"
   ]
  },
  {
   "cell_type": "markdown",
   "metadata": {},
   "source": [
    "# 5. Create a histogram of the CO2 emissions for 1990. Is this what you expected from your answers in questions 3 and 4?"
   ]
  },
  {
   "cell_type": "code",
   "execution_count": 43,
   "metadata": {},
   "outputs": [
    {
     "data": {
      "image/png": "[encoded data removed]",
      "text/plain": [
       "<Figure size 720x576 with 1 Axes>"
      ]
     },
     "metadata": {
      "needs_background": "light"
     },
     "output_type": "display_data"
    }
   ],
   "source": [
    "#Assigning new data frame\n",
    "new_df = byCou\n",
    "\n",
    "plt.figure(figsize = [10,8])\n",
    "new_df = np.random.gamma(4, 0.5, 1000)\n",
    "\n",
    "#Showing values specific points on coordinate axis \n",
    "plt.xticks(fontsize = 15)\n",
    "plt.yticks(fontsize = 15)\n",
    "\n",
    "#Showing specific labels on coordinate axis\n",
    "plt.xlabel('CO2 emission', fontsize = 15)\n",
    "plt.ylabel('Frequency', fontsize = 15)\n",
    "\n",
    "\n",
    "#Showing plot title\n",
    "plt.title('Skewed Distribution Histogram',fontsize = 15)\n",
    "\n",
    "plot = plt.hist(new_df, bins = 20, color='r',edgecolor = 'k', alpha = 0.65)"
   ]
  },
  {
   "cell_type": "markdown",
   "metadata": {},
   "source": [
    "Yes this is what I expected my histogram to look like because this distribution is skewed and it is positively distributed(right-skewed) as the tail is on the right."
   ]
  },
  {
   "cell_type": "markdown",
   "metadata": {},
   "source": [
    "# 6.Calculate the standard deviation and standard error of the mean for CO2 emissions in 1990. How is the standard error different from the standard deviation?"
   ]
  },
  {
   "cell_type": "markdown",
   "metadata": {},
   "source": [
    "# Standard deviation"
   ]
  },
  {
   "cell_type": "code",
   "execution_count": 44,
   "metadata": {},
   "outputs": [
    {
     "data": {
      "text/plain": [
       "371365.112172181"
      ]
     },
     "execution_count": 44,
     "metadata": {},
     "output_type": "execute_result"
    }
   ],
   "source": [
    "byCou.std()"
   ]
  },
  {
   "cell_type": "markdown",
   "metadata": {},
   "source": [
    "# Standard error mean"
   ]
  },
  {
   "cell_type": "code",
   "execution_count": 45,
   "metadata": {},
   "outputs": [
    {
     "data": {
      "text/plain": [
       "24487.090346677225"
      ]
     },
     "execution_count": 45,
     "metadata": {},
     "output_type": "execute_result"
    }
   ],
   "source": [
    "byCou.sem()"
   ]
  },
  {
   "cell_type": "markdown",
   "metadata": {},
   "source": [
    "Standard deviation measures dispersion for a subject set of data from mean while standard error measures how far the sample mean of data is likely to be from true population mean."
   ]
  },
  {
   "cell_type": "markdown",
   "metadata": {},
   "source": [
    "# 7.Create a line graph to show C02 emissions in Brazil, Russia, China, India, the USA and South Africa over time. What does the graph tell you about the difference and change in C02 emissions in these countries?"
   ]
  },
  {
   "cell_type": "code",
   "execution_count": 46,
   "metadata": {
    "scrolled": true
   },
   "outputs": [
    {
     "data": {
      "text/plain": [
       "81    Brazil\n",
       "82    Brazil\n",
       "83    Brazil\n",
       "Name: Country, dtype: object"
      ]
     },
     "metadata": {},
     "output_type": "display_data"
    },
    {
     "data": {
      "text/plain": [
       "123    China\n",
       "124    China\n",
       "125    China\n",
       "Name: Country, dtype: object"
      ]
     },
     "metadata": {},
     "output_type": "display_data"
    },
    {
     "data": {
      "text/plain": [
       "276    India\n",
       "277    India\n",
       "278    India\n",
       "Name: Country, dtype: object"
      ]
     },
     "metadata": {},
     "output_type": "display_data"
    },
    {
     "data": {
      "text/plain": [
       "561    South Africa\n",
       "562    South Africa\n",
       "563    South Africa\n",
       "Name: Country, dtype: object"
      ]
     },
     "metadata": {},
     "output_type": "display_data"
    },
    {
     "data": {
      "text/plain": [
       "498    Russian Federation\n",
       "499    Russian Federation\n",
       "500    Russian Federation\n",
       "Name: Country, dtype: object"
      ]
     },
     "metadata": {},
     "output_type": "display_data"
    },
    {
     "data": {
      "text/plain": [
       "651    United States\n",
       "652    United States\n",
       "653    United States\n",
       "Name: Country, dtype: object"
      ]
     },
     "metadata": {},
     "output_type": "display_data"
    }
   ],
   "source": [
    "#Locating countries\n",
    "BRZ =replacing[\"Country\"][replacing[\"Country\"] == \"Brazil\"]\n",
    "CHN = replacing[\"Country\"][replacing[\"Country\"] == \"China\"]\n",
    "IND = replacing[\"Country\"][replacing[\"Country\"] == \"India\"]\n",
    "RSA = replacing[\"Country\"][replacing[\"Country\"] == \"South Africa\"]\n",
    "RSF = replacing[\"Country\"][replacing[\"Country\"] == \"Russian Federation\"]\n",
    "USA = replacing[\"Country\"][replacing[\"Country\"] == \"United States\"]\n",
    "\n",
    "#Displaying posotions of the countries \n",
    "\n",
    "display(BRZ,CHN,IND,RSA,RSF,USA)\n"
   ]
  },
  {
   "cell_type": "code",
   "execution_count": 47,
   "metadata": {},
   "outputs": [
    {
     "data": {
      "text/html": [
       "<div>\n",
       "<style scoped>\n",
       "    .dataframe tbody tr th:only-of-type {\n",
       "        vertical-align: middle;\n",
       "    }\n",
       "\n",
       "    .dataframe tbody tr th {\n",
       "        vertical-align: top;\n",
       "    }\n",
       "\n",
       "    .dataframe thead th {\n",
       "        text-align: right;\n",
       "    }\n",
       "</style>\n",
       "<table border=\"1\" class=\"dataframe\">\n",
       "  <thead>\n",
       "    <tr style=\"text-align: right;\">\n",
       "      <th></th>\n",
       "      <th>Country</th>\n",
       "      <th>1990</th>\n",
       "      <th>1991</th>\n",
       "      <th>1992</th>\n",
       "      <th>1993</th>\n",
       "      <th>1994</th>\n",
       "      <th>1995</th>\n",
       "      <th>1996</th>\n",
       "      <th>1997</th>\n",
       "      <th>1998</th>\n",
       "      <th>...</th>\n",
       "      <th>2010</th>\n",
       "      <th>2011</th>\n",
       "      <th>2012</th>\n",
       "      <th>2013</th>\n",
       "      <th>2014</th>\n",
       "      <th>2015</th>\n",
       "      <th>2016</th>\n",
       "      <th>2017</th>\n",
       "      <th>2018</th>\n",
       "      <th>2019</th>\n",
       "    </tr>\n",
       "  </thead>\n",
       "  <tbody>\n",
       "    <tr>\n",
       "      <th>82</th>\n",
       "      <td>Brazil</td>\n",
       "      <td>208887</td>\n",
       "      <td>219330.6</td>\n",
       "      <td>220705.7</td>\n",
       "      <td>230738.6</td>\n",
       "      <td>242154</td>\n",
       "      <td>258347.5</td>\n",
       "      <td>284782.9</td>\n",
       "      <td>300547.3</td>\n",
       "      <td>312289.1</td>\n",
       "      <td>...</td>\n",
       "      <td>419754.2</td>\n",
       "      <td>439412.9</td>\n",
       "      <td>0.0</td>\n",
       "      <td>0.0</td>\n",
       "      <td>0</td>\n",
       "      <td>0.0</td>\n",
       "      <td>0.0</td>\n",
       "      <td>0.0</td>\n",
       "      <td>0.0</td>\n",
       "      <td>0.0</td>\n",
       "    </tr>\n",
       "    <tr>\n",
       "      <th>124</th>\n",
       "      <td>China</td>\n",
       "      <td>2460744</td>\n",
       "      <td>2584538.3</td>\n",
       "      <td>2695982.1</td>\n",
       "      <td>2878694</td>\n",
       "      <td>3058241.3</td>\n",
       "      <td>3320285.2</td>\n",
       "      <td>3463089.1</td>\n",
       "      <td>3469510</td>\n",
       "      <td>3324344.5</td>\n",
       "      <td>...</td>\n",
       "      <td>8256969.2</td>\n",
       "      <td>9019518.2</td>\n",
       "      <td>0.0</td>\n",
       "      <td>0.0</td>\n",
       "      <td>0</td>\n",
       "      <td>0.0</td>\n",
       "      <td>0.0</td>\n",
       "      <td>0.0</td>\n",
       "      <td>0.0</td>\n",
       "      <td>0.0</td>\n",
       "    </tr>\n",
       "    <tr>\n",
       "      <th>277</th>\n",
       "      <td>India</td>\n",
       "      <td>690576.8</td>\n",
       "      <td>737851.7</td>\n",
       "      <td>783634.2</td>\n",
       "      <td>814297.7</td>\n",
       "      <td>864931.6</td>\n",
       "      <td>920046.6</td>\n",
       "      <td>1002224.1</td>\n",
       "      <td>1043939.9</td>\n",
       "      <td>1071911.8</td>\n",
       "      <td>...</td>\n",
       "      <td>1950950.3</td>\n",
       "      <td>2074344.9</td>\n",
       "      <td>0.0</td>\n",
       "      <td>0.0</td>\n",
       "      <td>0</td>\n",
       "      <td>0.0</td>\n",
       "      <td>0.0</td>\n",
       "      <td>0.0</td>\n",
       "      <td>0.0</td>\n",
       "      <td>0.0</td>\n",
       "    </tr>\n",
       "    <tr>\n",
       "      <th>563</th>\n",
       "      <td>South Africa</td>\n",
       "      <td>2.58</td>\n",
       "      <td>0</td>\n",
       "      <td>0</td>\n",
       "      <td>0</td>\n",
       "      <td>0</td>\n",
       "      <td>0</td>\n",
       "      <td>0</td>\n",
       "      <td>0</td>\n",
       "      <td>0</td>\n",
       "      <td>...</td>\n",
       "      <td>0</td>\n",
       "      <td>0</td>\n",
       "      <td>0.0</td>\n",
       "      <td>0.0</td>\n",
       "      <td>10.24</td>\n",
       "      <td>0.0</td>\n",
       "      <td>0.0</td>\n",
       "      <td>0.0</td>\n",
       "      <td>0.0</td>\n",
       "      <td>0.0</td>\n",
       "    </tr>\n",
       "    <tr>\n",
       "      <th>499</th>\n",
       "      <td>Russian Federation</td>\n",
       "      <td>0</td>\n",
       "      <td>0</td>\n",
       "      <td>2081840.2</td>\n",
       "      <td>1941203.5</td>\n",
       "      <td>1701132.3</td>\n",
       "      <td>1634312.2</td>\n",
       "      <td>1615804.9</td>\n",
       "      <td>1528849.3</td>\n",
       "      <td>1498343.5</td>\n",
       "      <td>...</td>\n",
       "      <td>1742540.1</td>\n",
       "      <td>1808073</td>\n",
       "      <td>0.0</td>\n",
       "      <td>0.0</td>\n",
       "      <td>0</td>\n",
       "      <td>0.0</td>\n",
       "      <td>0.0</td>\n",
       "      <td>0.0</td>\n",
       "      <td>0.0</td>\n",
       "      <td>0.0</td>\n",
       "    </tr>\n",
       "    <tr>\n",
       "      <th>652</th>\n",
       "      <td>United States</td>\n",
       "      <td>4823557.1</td>\n",
       "      <td>4822383.7</td>\n",
       "      <td>4911103.1</td>\n",
       "      <td>5032931.8</td>\n",
       "      <td>5098475.8</td>\n",
       "      <td>5138009.7</td>\n",
       "      <td>5260696.5</td>\n",
       "      <td>5375235.3</td>\n",
       "      <td>5410918.9</td>\n",
       "      <td>...</td>\n",
       "      <td>5408869</td>\n",
       "      <td>5305569.6</td>\n",
       "      <td>0.0</td>\n",
       "      <td>0.0</td>\n",
       "      <td>0</td>\n",
       "      <td>0.0</td>\n",
       "      <td>0.0</td>\n",
       "      <td>0.0</td>\n",
       "      <td>0.0</td>\n",
       "      <td>0.0</td>\n",
       "    </tr>\n",
       "  </tbody>\n",
       "</table>\n",
       "<p>6 rows × 31 columns</p>\n",
       "</div>"
      ],
      "text/plain": [
       "                Country       1990       1991       1992       1993  \\\n",
       "82               Brazil     208887   219330.6   220705.7   230738.6   \n",
       "124               China    2460744  2584538.3  2695982.1    2878694   \n",
       "277               India   690576.8   737851.7   783634.2   814297.7   \n",
       "563        South Africa       2.58          0          0          0   \n",
       "499  Russian Federation          0          0  2081840.2  1941203.5   \n",
       "652       United States  4823557.1  4822383.7  4911103.1  5032931.8   \n",
       "\n",
       "          1994       1995       1996       1997       1998  ...       2010  \\\n",
       "82      242154   258347.5   284782.9   300547.3   312289.1  ...   419754.2   \n",
       "124  3058241.3  3320285.2  3463089.1    3469510  3324344.5  ...  8256969.2   \n",
       "277   864931.6   920046.6  1002224.1  1043939.9  1071911.8  ...  1950950.3   \n",
       "563          0          0          0          0          0  ...          0   \n",
       "499  1701132.3  1634312.2  1615804.9  1528849.3  1498343.5  ...  1742540.1   \n",
       "652  5098475.8  5138009.7  5260696.5  5375235.3  5410918.9  ...    5408869   \n",
       "\n",
       "          2011 2012 2013   2014 2015 2016 2017 2018 2019  \n",
       "82    439412.9  0.0  0.0      0  0.0  0.0  0.0  0.0  0.0  \n",
       "124  9019518.2  0.0  0.0      0  0.0  0.0  0.0  0.0  0.0  \n",
       "277  2074344.9  0.0  0.0      0  0.0  0.0  0.0  0.0  0.0  \n",
       "563          0  0.0  0.0  10.24  0.0  0.0  0.0  0.0  0.0  \n",
       "499    1808073  0.0  0.0      0  0.0  0.0  0.0  0.0  0.0  \n",
       "652  5305569.6  0.0  0.0      0  0.0  0.0  0.0  0.0  0.0  \n",
       "\n",
       "[6 rows x 31 columns]"
      ]
     },
     "execution_count": 47,
     "metadata": {},
     "output_type": "execute_result"
    }
   ],
   "source": [
    "#Creating a new data frame\n",
    "\n",
    "all_df = replacing.loc[(82,124,277,563,499,652),(\"Country\",\"1990\",\"1991\",\"1992\",\"1993\",\"1994\",\"1995\",\n",
    "                                        \"1996\",\"1997\",\"1998\",\"1999\",\"2000\",\"2001\",\"2002\",\n",
    "                                        \"2003\",\"2004\",\"2005\",\"2006\",\"2007\",\"2008\",\"2009\",\"2010\",\n",
    "                                        \"2011\",\"2012\",\"2013\",\"2014\",\"2015\",\"2016\",\"2017\",\"2018\",\"2019\")]\n",
    " \n",
    "all_df"
   ]
  },
  {
   "cell_type": "code",
   "execution_count": 48,
   "metadata": {},
   "outputs": [
    {
     "data": {
      "text/html": [
       "<div>\n",
       "<style scoped>\n",
       "    .dataframe tbody tr th:only-of-type {\n",
       "        vertical-align: middle;\n",
       "    }\n",
       "\n",
       "    .dataframe tbody tr th {\n",
       "        vertical-align: top;\n",
       "    }\n",
       "\n",
       "    .dataframe thead th {\n",
       "        text-align: right;\n",
       "    }\n",
       "</style>\n",
       "<table border=\"1\" class=\"dataframe\">\n",
       "  <thead>\n",
       "    <tr style=\"text-align: right;\">\n",
       "      <th></th>\n",
       "      <th>Country</th>\n",
       "      <th>1990</th>\n",
       "      <th>1991</th>\n",
       "      <th>1992</th>\n",
       "      <th>1993</th>\n",
       "      <th>1994</th>\n",
       "      <th>1995</th>\n",
       "      <th>1996</th>\n",
       "      <th>1997</th>\n",
       "      <th>1998</th>\n",
       "      <th>...</th>\n",
       "      <th>2010</th>\n",
       "      <th>2011</th>\n",
       "      <th>2012</th>\n",
       "      <th>2013</th>\n",
       "      <th>2014</th>\n",
       "      <th>2015</th>\n",
       "      <th>2016</th>\n",
       "      <th>2017</th>\n",
       "      <th>2018</th>\n",
       "      <th>2019</th>\n",
       "    </tr>\n",
       "  </thead>\n",
       "  <tbody>\n",
       "    <tr>\n",
       "      <th>0</th>\n",
       "      <td>Brazil</td>\n",
       "      <td>208887.00</td>\n",
       "      <td>219330.6</td>\n",
       "      <td>220705.7</td>\n",
       "      <td>230738.6</td>\n",
       "      <td>242154.0</td>\n",
       "      <td>258347.5</td>\n",
       "      <td>284782.9</td>\n",
       "      <td>300547.3</td>\n",
       "      <td>312289.1</td>\n",
       "      <td>...</td>\n",
       "      <td>419754.2</td>\n",
       "      <td>439412.9</td>\n",
       "      <td>0.0</td>\n",
       "      <td>0.0</td>\n",
       "      <td>0.00</td>\n",
       "      <td>0.0</td>\n",
       "      <td>0.0</td>\n",
       "      <td>0.0</td>\n",
       "      <td>0.0</td>\n",
       "      <td>0.0</td>\n",
       "    </tr>\n",
       "    <tr>\n",
       "      <th>1</th>\n",
       "      <td>China</td>\n",
       "      <td>2460744.00</td>\n",
       "      <td>2584538.3</td>\n",
       "      <td>2695982.1</td>\n",
       "      <td>2878694.0</td>\n",
       "      <td>3058241.3</td>\n",
       "      <td>3320285.2</td>\n",
       "      <td>3463089.1</td>\n",
       "      <td>3469510.0</td>\n",
       "      <td>3324344.5</td>\n",
       "      <td>...</td>\n",
       "      <td>8256969.2</td>\n",
       "      <td>9019518.2</td>\n",
       "      <td>0.0</td>\n",
       "      <td>0.0</td>\n",
       "      <td>0.00</td>\n",
       "      <td>0.0</td>\n",
       "      <td>0.0</td>\n",
       "      <td>0.0</td>\n",
       "      <td>0.0</td>\n",
       "      <td>0.0</td>\n",
       "    </tr>\n",
       "    <tr>\n",
       "      <th>2</th>\n",
       "      <td>India</td>\n",
       "      <td>690576.80</td>\n",
       "      <td>737851.7</td>\n",
       "      <td>783634.2</td>\n",
       "      <td>814297.7</td>\n",
       "      <td>864931.6</td>\n",
       "      <td>920046.6</td>\n",
       "      <td>1002224.1</td>\n",
       "      <td>1043939.9</td>\n",
       "      <td>1071911.8</td>\n",
       "      <td>...</td>\n",
       "      <td>1950950.3</td>\n",
       "      <td>2074344.9</td>\n",
       "      <td>0.0</td>\n",
       "      <td>0.0</td>\n",
       "      <td>0.00</td>\n",
       "      <td>0.0</td>\n",
       "      <td>0.0</td>\n",
       "      <td>0.0</td>\n",
       "      <td>0.0</td>\n",
       "      <td>0.0</td>\n",
       "    </tr>\n",
       "    <tr>\n",
       "      <th>3</th>\n",
       "      <td>Russian Federation</td>\n",
       "      <td>0.00</td>\n",
       "      <td>0.0</td>\n",
       "      <td>2081840.2</td>\n",
       "      <td>1941203.5</td>\n",
       "      <td>1701132.3</td>\n",
       "      <td>1634312.2</td>\n",
       "      <td>1615804.9</td>\n",
       "      <td>1528849.3</td>\n",
       "      <td>1498343.5</td>\n",
       "      <td>...</td>\n",
       "      <td>1742540.1</td>\n",
       "      <td>1808073.0</td>\n",
       "      <td>0.0</td>\n",
       "      <td>0.0</td>\n",
       "      <td>0.00</td>\n",
       "      <td>0.0</td>\n",
       "      <td>0.0</td>\n",
       "      <td>0.0</td>\n",
       "      <td>0.0</td>\n",
       "      <td>0.0</td>\n",
       "    </tr>\n",
       "    <tr>\n",
       "      <th>4</th>\n",
       "      <td>South Africa</td>\n",
       "      <td>2.58</td>\n",
       "      <td>0.0</td>\n",
       "      <td>0.0</td>\n",
       "      <td>0.0</td>\n",
       "      <td>0.0</td>\n",
       "      <td>0.0</td>\n",
       "      <td>0.0</td>\n",
       "      <td>0.0</td>\n",
       "      <td>0.0</td>\n",
       "      <td>...</td>\n",
       "      <td>0.0</td>\n",
       "      <td>0.0</td>\n",
       "      <td>0.0</td>\n",
       "      <td>0.0</td>\n",
       "      <td>10.24</td>\n",
       "      <td>0.0</td>\n",
       "      <td>0.0</td>\n",
       "      <td>0.0</td>\n",
       "      <td>0.0</td>\n",
       "      <td>0.0</td>\n",
       "    </tr>\n",
       "    <tr>\n",
       "      <th>5</th>\n",
       "      <td>United States</td>\n",
       "      <td>4823557.10</td>\n",
       "      <td>4822383.7</td>\n",
       "      <td>4911103.1</td>\n",
       "      <td>5032931.8</td>\n",
       "      <td>5098475.8</td>\n",
       "      <td>5138009.7</td>\n",
       "      <td>5260696.5</td>\n",
       "      <td>5375235.3</td>\n",
       "      <td>5410918.9</td>\n",
       "      <td>...</td>\n",
       "      <td>5408869.0</td>\n",
       "      <td>5305569.6</td>\n",
       "      <td>0.0</td>\n",
       "      <td>0.0</td>\n",
       "      <td>0.00</td>\n",
       "      <td>0.0</td>\n",
       "      <td>0.0</td>\n",
       "      <td>0.0</td>\n",
       "      <td>0.0</td>\n",
       "      <td>0.0</td>\n",
       "    </tr>\n",
       "  </tbody>\n",
       "</table>\n",
       "<p>6 rows × 31 columns</p>\n",
       "</div>"
      ],
      "text/plain": [
       "              Country        1990       1991       1992       1993       1994  \\\n",
       "0              Brazil   208887.00   219330.6   220705.7   230738.6   242154.0   \n",
       "1               China  2460744.00  2584538.3  2695982.1  2878694.0  3058241.3   \n",
       "2               India   690576.80   737851.7   783634.2   814297.7   864931.6   \n",
       "3  Russian Federation        0.00        0.0  2081840.2  1941203.5  1701132.3   \n",
       "4        South Africa        2.58        0.0        0.0        0.0        0.0   \n",
       "5       United States  4823557.10  4822383.7  4911103.1  5032931.8  5098475.8   \n",
       "\n",
       "        1995       1996       1997       1998  ...       2010       2011  \\\n",
       "0   258347.5   284782.9   300547.3   312289.1  ...   419754.2   439412.9   \n",
       "1  3320285.2  3463089.1  3469510.0  3324344.5  ...  8256969.2  9019518.2   \n",
       "2   920046.6  1002224.1  1043939.9  1071911.8  ...  1950950.3  2074344.9   \n",
       "3  1634312.2  1615804.9  1528849.3  1498343.5  ...  1742540.1  1808073.0   \n",
       "4        0.0        0.0        0.0        0.0  ...        0.0        0.0   \n",
       "5  5138009.7  5260696.5  5375235.3  5410918.9  ...  5408869.0  5305569.6   \n",
       "\n",
       "   2012  2013   2014  2015  2016  2017  2018  2019  \n",
       "0   0.0   0.0   0.00   0.0   0.0   0.0   0.0   0.0  \n",
       "1   0.0   0.0   0.00   0.0   0.0   0.0   0.0   0.0  \n",
       "2   0.0   0.0   0.00   0.0   0.0   0.0   0.0   0.0  \n",
       "3   0.0   0.0   0.00   0.0   0.0   0.0   0.0   0.0  \n",
       "4   0.0   0.0  10.24   0.0   0.0   0.0   0.0   0.0  \n",
       "5   0.0   0.0   0.00   0.0   0.0   0.0   0.0   0.0  \n",
       "\n",
       "[6 rows x 31 columns]"
      ]
     },
     "execution_count": 48,
     "metadata": {},
     "output_type": "execute_result"
    }
   ],
   "source": [
    "#Grouping and changing data types using callable function lambda\n",
    "byAll = all_df.groupby(\"Country\")[\"1990\",\"1991\",\"1992\",\"1993\",\"1994\",\"1995\",\n",
    "                                        \"1996\",\"1997\",\"1998\",\"1999\",\"2000\",\"2001\",\"2002\",\n",
    "                                        \"2003\",\"2004\",\"2005\",\"2006\",\"2007\",\"2008\",\"2009\",\"2010\",\n",
    "                                        \"2011\",\"2012\",\"2013\",\"2014\",\"2015\",\"2016\",\"2017\",\n",
    "                                        \"2018\",\"2019\"].apply(lambda country : country.astype(float).sum()).reset_index()\n",
    "byAll"
   ]
  },
  {
   "cell_type": "code",
   "execution_count": 49,
   "metadata": {
    "scrolled": true
   },
   "outputs": [
    {
     "data": {
      "text/plain": [
       "float64    30\n",
       "object      1\n",
       "dtype: int64"
      ]
     },
     "execution_count": 49,
     "metadata": {},
     "output_type": "execute_result"
    }
   ],
   "source": [
    "byAll.dtypes.value_counts()"
   ]
  },
  {
   "cell_type": "code",
   "execution_count": 50,
   "metadata": {},
   "outputs": [
    {
     "data": {
      "image/png": "[encoded data removed]",
      "text/plain": [
       "<Figure size 720x288 with 1 Axes>"
      ]
     },
     "metadata": {
      "needs_background": "light"
     },
     "output_type": "display_data"
    }
   ],
   "source": [
    "#Firstly I need to transpose my data set\n",
    "allg = byAll.set_index(\"Country\").T\n",
    "\n",
    "#Plot setting\n",
    "fig, ax = plt.subplots(figsize = (10,4))\n",
    "ax.set_xlabel(\"Year\")\n",
    "ax.set_ylabel(\"CO2 emissions\")\n",
    "ax.set_title(\"A Line Graph Showing CO2 emissions From 1990-2019\")\n",
    "\n",
    "_ = allg.plot(ax = ax, color = (\"cyan\",\"g\", \"y\",\"r\", \"fuchsia\",\"darkblue\"))\n",
    " "
   ]
  },
  {
   "cell_type": "markdown",
   "metadata": {},
   "source": [
    "# 8.What is the mean and standard deviation for land area covered by forest in 1990? Why do you think the standard deviation is so large?"
   ]
  },
  {
   "cell_type": "code",
   "execution_count": 51,
   "metadata": {},
   "outputs": [
    {
     "data": {
      "text/html": [
       "<div>\n",
       "<style scoped>\n",
       "    .dataframe tbody tr th:only-of-type {\n",
       "        vertical-align: middle;\n",
       "    }\n",
       "\n",
       "    .dataframe tbody tr th {\n",
       "        vertical-align: top;\n",
       "    }\n",
       "\n",
       "    .dataframe thead th {\n",
       "        text-align: right;\n",
       "    }\n",
       "</style>\n",
       "<table border=\"1\" class=\"dataframe\">\n",
       "  <thead>\n",
       "    <tr style=\"text-align: right;\">\n",
       "      <th></th>\n",
       "      <th>CountryCode</th>\n",
       "      <th>Country</th>\n",
       "      <th>SeriesCode</th>\n",
       "      <th>MDG</th>\n",
       "      <th>Series</th>\n",
       "      <th>1990</th>\n",
       "      <th>Type</th>\n",
       "      <th>1991</th>\n",
       "      <th>1992</th>\n",
       "      <th>1993</th>\n",
       "      <th>...</th>\n",
       "      <th>2010</th>\n",
       "      <th>2011</th>\n",
       "      <th>2012</th>\n",
       "      <th>2013</th>\n",
       "      <th>2014</th>\n",
       "      <th>2015</th>\n",
       "      <th>2016</th>\n",
       "      <th>2017</th>\n",
       "      <th>2018</th>\n",
       "      <th>2019</th>\n",
       "    </tr>\n",
       "  </thead>\n",
       "  <tbody>\n",
       "    <tr>\n",
       "      <th>0</th>\n",
       "      <td>4</td>\n",
       "      <td>Afghanistan</td>\n",
       "      <td>567</td>\n",
       "      <td>Y</td>\n",
       "      <td>Proportion of land area covered by forest, per...</td>\n",
       "      <td>2.1</td>\n",
       "      <td>E</td>\n",
       "      <td>0</td>\n",
       "      <td>0</td>\n",
       "      <td>0</td>\n",
       "      <td>...</td>\n",
       "      <td>2.1</td>\n",
       "      <td>0</td>\n",
       "      <td>0.0</td>\n",
       "      <td>0.0</td>\n",
       "      <td>0</td>\n",
       "      <td>0.0</td>\n",
       "      <td>0.0</td>\n",
       "      <td>0.0</td>\n",
       "      <td>0.0</td>\n",
       "      <td>0.0</td>\n",
       "    </tr>\n",
       "    <tr>\n",
       "      <th>3</th>\n",
       "      <td>8</td>\n",
       "      <td>Albania</td>\n",
       "      <td>567</td>\n",
       "      <td>Y</td>\n",
       "      <td>Proportion of land area covered by forest, per...</td>\n",
       "      <td>28.8</td>\n",
       "      <td>C</td>\n",
       "      <td>0</td>\n",
       "      <td>0</td>\n",
       "      <td>0</td>\n",
       "      <td>...</td>\n",
       "      <td>28.3</td>\n",
       "      <td>0</td>\n",
       "      <td>0.0</td>\n",
       "      <td>0.0</td>\n",
       "      <td>0</td>\n",
       "      <td>0.0</td>\n",
       "      <td>0.0</td>\n",
       "      <td>0.0</td>\n",
       "      <td>0.0</td>\n",
       "      <td>0.0</td>\n",
       "    </tr>\n",
       "    <tr>\n",
       "      <th>6</th>\n",
       "      <td>12</td>\n",
       "      <td>Algeria</td>\n",
       "      <td>567</td>\n",
       "      <td>Y</td>\n",
       "      <td>Proportion of land area covered by forest, per...</td>\n",
       "      <td>0.7</td>\n",
       "      <td>C</td>\n",
       "      <td>0</td>\n",
       "      <td>0</td>\n",
       "      <td>0</td>\n",
       "      <td>...</td>\n",
       "      <td>0.6</td>\n",
       "      <td>0</td>\n",
       "      <td>0.0</td>\n",
       "      <td>0.0</td>\n",
       "      <td>0</td>\n",
       "      <td>0.0</td>\n",
       "      <td>0.0</td>\n",
       "      <td>0.0</td>\n",
       "      <td>0.0</td>\n",
       "      <td>0.0</td>\n",
       "    </tr>\n",
       "    <tr>\n",
       "      <th>9</th>\n",
       "      <td>16</td>\n",
       "      <td>American Samoa</td>\n",
       "      <td>567</td>\n",
       "      <td>Y</td>\n",
       "      <td>Proportion of land area covered by forest, per...</td>\n",
       "      <td>90</td>\n",
       "      <td>C</td>\n",
       "      <td>0</td>\n",
       "      <td>0</td>\n",
       "      <td>0</td>\n",
       "      <td>...</td>\n",
       "      <td>90</td>\n",
       "      <td>0</td>\n",
       "      <td>0.0</td>\n",
       "      <td>0.0</td>\n",
       "      <td>0</td>\n",
       "      <td>0.0</td>\n",
       "      <td>0.0</td>\n",
       "      <td>0.0</td>\n",
       "      <td>0.0</td>\n",
       "      <td>0.0</td>\n",
       "    </tr>\n",
       "    <tr>\n",
       "      <th>12</th>\n",
       "      <td>20</td>\n",
       "      <td>Andorra</td>\n",
       "      <td>567</td>\n",
       "      <td>Y</td>\n",
       "      <td>Proportion of land area covered by forest, per...</td>\n",
       "      <td>35.6</td>\n",
       "      <td>E</td>\n",
       "      <td>0</td>\n",
       "      <td>0</td>\n",
       "      <td>0</td>\n",
       "      <td>...</td>\n",
       "      <td>35.6</td>\n",
       "      <td>0</td>\n",
       "      <td>0.0</td>\n",
       "      <td>0.0</td>\n",
       "      <td>0</td>\n",
       "      <td>0.0</td>\n",
       "      <td>0.0</td>\n",
       "      <td>0.0</td>\n",
       "      <td>0.0</td>\n",
       "      <td>0.0</td>\n",
       "    </tr>\n",
       "  </tbody>\n",
       "</table>\n",
       "<p>5 rows × 36 columns</p>\n",
       "</div>"
      ],
      "text/plain": [
       "    CountryCode         Country  SeriesCode MDG  \\\n",
       "0             4     Afghanistan         567   Y   \n",
       "3             8         Albania         567   Y   \n",
       "6            12         Algeria         567   Y   \n",
       "9            16  American Samoa         567   Y   \n",
       "12           20         Andorra         567   Y   \n",
       "\n",
       "                                               Series  1990 Type 1991 1992  \\\n",
       "0   Proportion of land area covered by forest, per...   2.1    E    0    0   \n",
       "3   Proportion of land area covered by forest, per...  28.8    C    0    0   \n",
       "6   Proportion of land area covered by forest, per...   0.7    C    0    0   \n",
       "9   Proportion of land area covered by forest, per...    90    C    0    0   \n",
       "12  Proportion of land area covered by forest, per...  35.6    E    0    0   \n",
       "\n",
       "   1993  ...  2010 2011 2012 2013 2014 2015 2016 2017 2018 2019  \n",
       "0     0  ...   2.1    0  0.0  0.0    0  0.0  0.0  0.0  0.0  0.0  \n",
       "3     0  ...  28.3    0  0.0  0.0    0  0.0  0.0  0.0  0.0  0.0  \n",
       "6     0  ...   0.6    0  0.0  0.0    0  0.0  0.0  0.0  0.0  0.0  \n",
       "9     0  ...    90    0  0.0  0.0    0  0.0  0.0  0.0  0.0  0.0  \n",
       "12    0  ...  35.6    0  0.0  0.0    0  0.0  0.0  0.0  0.0  0.0  \n",
       "\n",
       "[5 rows x 36 columns]"
      ]
     },
     "execution_count": 51,
     "metadata": {},
     "output_type": "execute_result"
    }
   ],
   "source": [
    "forest = replacing[((replacing.SeriesCode == 567))]\n",
    "forest.head()"
   ]
  },
  {
   "cell_type": "code",
   "execution_count": 52,
   "metadata": {
    "scrolled": true
   },
   "outputs": [
    {
     "data": {
      "text/html": [
       "<div>\n",
       "<style scoped>\n",
       "    .dataframe tbody tr th:only-of-type {\n",
       "        vertical-align: middle;\n",
       "    }\n",
       "\n",
       "    .dataframe tbody tr th {\n",
       "        vertical-align: top;\n",
       "    }\n",
       "\n",
       "    .dataframe thead th {\n",
       "        text-align: right;\n",
       "    }\n",
       "</style>\n",
       "<table border=\"1\" class=\"dataframe\">\n",
       "  <thead>\n",
       "    <tr style=\"text-align: right;\">\n",
       "      <th></th>\n",
       "      <th>Country</th>\n",
       "      <th>1990</th>\n",
       "    </tr>\n",
       "  </thead>\n",
       "  <tbody>\n",
       "    <tr>\n",
       "      <th>0</th>\n",
       "      <td>Afghanistan</td>\n",
       "      <td>2.1</td>\n",
       "    </tr>\n",
       "    <tr>\n",
       "      <th>3</th>\n",
       "      <td>Albania</td>\n",
       "      <td>28.8</td>\n",
       "    </tr>\n",
       "    <tr>\n",
       "      <th>6</th>\n",
       "      <td>Algeria</td>\n",
       "      <td>0.7</td>\n",
       "    </tr>\n",
       "    <tr>\n",
       "      <th>9</th>\n",
       "      <td>American Samoa</td>\n",
       "      <td>90</td>\n",
       "    </tr>\n",
       "    <tr>\n",
       "      <th>12</th>\n",
       "      <td>Andorra</td>\n",
       "      <td>35.6</td>\n",
       "    </tr>\n",
       "    <tr>\n",
       "      <th>...</th>\n",
       "      <td>...</td>\n",
       "      <td>...</td>\n",
       "    </tr>\n",
       "    <tr>\n",
       "      <th>675</th>\n",
       "      <td>Western Sahara</td>\n",
       "      <td>2.7</td>\n",
       "    </tr>\n",
       "    <tr>\n",
       "      <th>678</th>\n",
       "      <td>Yemen</td>\n",
       "      <td>1</td>\n",
       "    </tr>\n",
       "    <tr>\n",
       "      <th>681</th>\n",
       "      <td>Yugoslavia [former Socialist Federal Republic]</td>\n",
       "      <td>0</td>\n",
       "    </tr>\n",
       "    <tr>\n",
       "      <th>684</th>\n",
       "      <td>Zambia</td>\n",
       "      <td>71</td>\n",
       "    </tr>\n",
       "    <tr>\n",
       "      <th>687</th>\n",
       "      <td>Zimbabwe</td>\n",
       "      <td>57.3</td>\n",
       "    </tr>\n",
       "  </tbody>\n",
       "</table>\n",
       "<p>230 rows × 2 columns</p>\n",
       "</div>"
      ],
      "text/plain": [
       "                                            Country  1990\n",
       "0                                       Afghanistan   2.1\n",
       "3                                           Albania  28.8\n",
       "6                                           Algeria   0.7\n",
       "9                                    American Samoa    90\n",
       "12                                          Andorra  35.6\n",
       "..                                              ...   ...\n",
       "675                                  Western Sahara   2.7\n",
       "678                                           Yemen     1\n",
       "681  Yugoslavia [former Socialist Federal Republic]     0\n",
       "684                                          Zambia    71\n",
       "687                                        Zimbabwe  57.3\n",
       "\n",
       "[230 rows x 2 columns]"
      ]
     },
     "execution_count": 52,
     "metadata": {},
     "output_type": "execute_result"
    }
   ],
   "source": [
    "for_est = forest.loc[:, ('Country','1990') ]\n",
    "for_est"
   ]
  },
  {
   "cell_type": "code",
   "execution_count": 53,
   "metadata": {},
   "outputs": [
    {
     "data": {
      "text/html": [
       "<div>\n",
       "<style scoped>\n",
       "    .dataframe tbody tr th:only-of-type {\n",
       "        vertical-align: middle;\n",
       "    }\n",
       "\n",
       "    .dataframe tbody tr th {\n",
       "        vertical-align: top;\n",
       "    }\n",
       "\n",
       "    .dataframe thead th {\n",
       "        text-align: right;\n",
       "    }\n",
       "</style>\n",
       "<table border=\"1\" class=\"dataframe\">\n",
       "  <thead>\n",
       "    <tr style=\"text-align: right;\">\n",
       "      <th></th>\n",
       "      <th>Country</th>\n",
       "      <th>1990</th>\n",
       "    </tr>\n",
       "  </thead>\n",
       "  <tbody>\n",
       "    <tr>\n",
       "      <th>count</th>\n",
       "      <td>230</td>\n",
       "      <td>230</td>\n",
       "    </tr>\n",
       "    <tr>\n",
       "      <th>unique</th>\n",
       "      <td>230</td>\n",
       "      <td>179</td>\n",
       "    </tr>\n",
       "    <tr>\n",
       "      <th>top</th>\n",
       "      <td>New Caledonia</td>\n",
       "      <td>0</td>\n",
       "    </tr>\n",
       "    <tr>\n",
       "      <th>freq</th>\n",
       "      <td>1</td>\n",
       "      <td>13</td>\n",
       "    </tr>\n",
       "  </tbody>\n",
       "</table>\n",
       "</div>"
      ],
      "text/plain": [
       "              Country 1990\n",
       "count             230  230\n",
       "unique            230  179\n",
       "top     New Caledonia    0\n",
       "freq                1   13"
      ]
     },
     "execution_count": 53,
     "metadata": {},
     "output_type": "execute_result"
    }
   ],
   "source": [
    "for_est.describe()"
   ]
  },
  {
   "cell_type": "code",
   "execution_count": 54,
   "metadata": {},
   "outputs": [
    {
     "data": {
      "text/plain": [
       "Country    object\n",
       "1990       object\n",
       "dtype: object"
      ]
     },
     "execution_count": 54,
     "metadata": {},
     "output_type": "execute_result"
    }
   ],
   "source": [
    "for_est.dtypes"
   ]
  },
  {
   "cell_type": "code",
   "execution_count": 55,
   "metadata": {},
   "outputs": [
    {
     "data": {
      "text/plain": [
       "31.973478260869566"
      ]
     },
     "execution_count": 55,
     "metadata": {},
     "output_type": "execute_result"
    }
   ],
   "source": [
    "#Changing 1990 from string to float and finding mean\n",
    "\n",
    "for_est[\"1990\"].astype(float).mean()"
   ]
  },
  {
   "cell_type": "code",
   "execution_count": 56,
   "metadata": {},
   "outputs": [
    {
     "data": {
      "text/plain": [
       "25.73870110502395"
      ]
     },
     "execution_count": 56,
     "metadata": {},
     "output_type": "execute_result"
    }
   ],
   "source": [
    "#Changing 1990 from string to float and finding standard deviation\n",
    "for_est[\"1990\"].astype(float).std()"
   ]
  },
  {
   "cell_type": "markdown",
   "metadata": {},
   "source": [
    "A high standard deviation indicates that the data points are spread out over a large range of values."
   ]
  },
  {
   "cell_type": "markdown",
   "metadata": {},
   "source": [
    "# 9.Create histograms for land area covered by forest and percentage of area protected in 1990. Describe the distributions."
   ]
  },
  {
   "cell_type": "code",
   "execution_count": 57,
   "metadata": {},
   "outputs": [
    {
     "data": {
      "text/html": [
       "<div>\n",
       "<style scoped>\n",
       "    .dataframe tbody tr th:only-of-type {\n",
       "        vertical-align: middle;\n",
       "    }\n",
       "\n",
       "    .dataframe tbody tr th {\n",
       "        vertical-align: top;\n",
       "    }\n",
       "\n",
       "    .dataframe thead th {\n",
       "        text-align: right;\n",
       "    }\n",
       "</style>\n",
       "<table border=\"1\" class=\"dataframe\">\n",
       "  <thead>\n",
       "    <tr style=\"text-align: right;\">\n",
       "      <th></th>\n",
       "      <th>CountryCode</th>\n",
       "      <th>Country</th>\n",
       "      <th>SeriesCode</th>\n",
       "      <th>MDG</th>\n",
       "      <th>Series</th>\n",
       "      <th>1990</th>\n",
       "      <th>Type</th>\n",
       "      <th>1991</th>\n",
       "      <th>1992</th>\n",
       "      <th>1993</th>\n",
       "      <th>...</th>\n",
       "      <th>2010</th>\n",
       "      <th>2011</th>\n",
       "      <th>2012</th>\n",
       "      <th>2013</th>\n",
       "      <th>2014</th>\n",
       "      <th>2015</th>\n",
       "      <th>2016</th>\n",
       "      <th>2017</th>\n",
       "      <th>2018</th>\n",
       "      <th>2019</th>\n",
       "    </tr>\n",
       "  </thead>\n",
       "  <tbody>\n",
       "    <tr>\n",
       "      <th>2</th>\n",
       "      <td>4</td>\n",
       "      <td>Afghanistan</td>\n",
       "      <td>616</td>\n",
       "      <td>Y</td>\n",
       "      <td>Terrestrial and marine areas protected to tota...</td>\n",
       "      <td>0.36</td>\n",
       "      <td>C</td>\n",
       "      <td>0</td>\n",
       "      <td>0</td>\n",
       "      <td>0</td>\n",
       "      <td>...</td>\n",
       "      <td>0</td>\n",
       "      <td>0</td>\n",
       "      <td>0.0</td>\n",
       "      <td>0.0</td>\n",
       "      <td>0.46</td>\n",
       "      <td>0.0</td>\n",
       "      <td>0.0</td>\n",
       "      <td>0.0</td>\n",
       "      <td>0.0</td>\n",
       "      <td>0.0</td>\n",
       "    </tr>\n",
       "    <tr>\n",
       "      <th>5</th>\n",
       "      <td>8</td>\n",
       "      <td>Albania</td>\n",
       "      <td>616</td>\n",
       "      <td>Y</td>\n",
       "      <td>Terrestrial and marine areas protected to tota...</td>\n",
       "      <td>0.15</td>\n",
       "      <td>C</td>\n",
       "      <td>0</td>\n",
       "      <td>0</td>\n",
       "      <td>0</td>\n",
       "      <td>...</td>\n",
       "      <td>0</td>\n",
       "      <td>0</td>\n",
       "      <td>0.0</td>\n",
       "      <td>0.0</td>\n",
       "      <td>1.91</td>\n",
       "      <td>0.0</td>\n",
       "      <td>0.0</td>\n",
       "      <td>0.0</td>\n",
       "      <td>0.0</td>\n",
       "      <td>0.0</td>\n",
       "    </tr>\n",
       "    <tr>\n",
       "      <th>8</th>\n",
       "      <td>12</td>\n",
       "      <td>Algeria</td>\n",
       "      <td>616</td>\n",
       "      <td>Y</td>\n",
       "      <td>Terrestrial and marine areas protected to tota...</td>\n",
       "      <td>5.97</td>\n",
       "      <td>C</td>\n",
       "      <td>0</td>\n",
       "      <td>0</td>\n",
       "      <td>0</td>\n",
       "      <td>...</td>\n",
       "      <td>0</td>\n",
       "      <td>0</td>\n",
       "      <td>0.0</td>\n",
       "      <td>0.0</td>\n",
       "      <td>7.46</td>\n",
       "      <td>0.0</td>\n",
       "      <td>0.0</td>\n",
       "      <td>0.0</td>\n",
       "      <td>0.0</td>\n",
       "      <td>0.0</td>\n",
       "    </tr>\n",
       "    <tr>\n",
       "      <th>11</th>\n",
       "      <td>16</td>\n",
       "      <td>American Samoa</td>\n",
       "      <td>616</td>\n",
       "      <td>Y</td>\n",
       "      <td>Terrestrial and marine areas protected to tota...</td>\n",
       "      <td>0.06</td>\n",
       "      <td>C</td>\n",
       "      <td>0</td>\n",
       "      <td>0</td>\n",
       "      <td>0</td>\n",
       "      <td>...</td>\n",
       "      <td>0</td>\n",
       "      <td>0</td>\n",
       "      <td>0.0</td>\n",
       "      <td>0.0</td>\n",
       "      <td>8.62</td>\n",
       "      <td>0.0</td>\n",
       "      <td>0.0</td>\n",
       "      <td>0.0</td>\n",
       "      <td>0.0</td>\n",
       "      <td>0.0</td>\n",
       "    </tr>\n",
       "    <tr>\n",
       "      <th>14</th>\n",
       "      <td>20</td>\n",
       "      <td>Andorra</td>\n",
       "      <td>616</td>\n",
       "      <td>Y</td>\n",
       "      <td>Terrestrial and marine areas protected to tota...</td>\n",
       "      <td>5.53</td>\n",
       "      <td>C</td>\n",
       "      <td>0</td>\n",
       "      <td>0</td>\n",
       "      <td>0</td>\n",
       "      <td>...</td>\n",
       "      <td>0</td>\n",
       "      <td>0</td>\n",
       "      <td>0.0</td>\n",
       "      <td>0.0</td>\n",
       "      <td>19.5</td>\n",
       "      <td>0.0</td>\n",
       "      <td>0.0</td>\n",
       "      <td>0.0</td>\n",
       "      <td>0.0</td>\n",
       "      <td>0.0</td>\n",
       "    </tr>\n",
       "  </tbody>\n",
       "</table>\n",
       "<p>5 rows × 36 columns</p>\n",
       "</div>"
      ],
      "text/plain": [
       "    CountryCode         Country  SeriesCode MDG  \\\n",
       "2             4     Afghanistan         616   Y   \n",
       "5             8         Albania         616   Y   \n",
       "8            12         Algeria         616   Y   \n",
       "11           16  American Samoa         616   Y   \n",
       "14           20         Andorra         616   Y   \n",
       "\n",
       "                                               Series  1990 Type 1991 1992  \\\n",
       "2   Terrestrial and marine areas protected to tota...  0.36    C    0    0   \n",
       "5   Terrestrial and marine areas protected to tota...  0.15    C    0    0   \n",
       "8   Terrestrial and marine areas protected to tota...  5.97    C    0    0   \n",
       "11  Terrestrial and marine areas protected to tota...  0.06    C    0    0   \n",
       "14  Terrestrial and marine areas protected to tota...  5.53    C    0    0   \n",
       "\n",
       "   1993  ... 2010 2011 2012 2013  2014 2015 2016 2017 2018 2019  \n",
       "2     0  ...    0    0  0.0  0.0  0.46  0.0  0.0  0.0  0.0  0.0  \n",
       "5     0  ...    0    0  0.0  0.0  1.91  0.0  0.0  0.0  0.0  0.0  \n",
       "8     0  ...    0    0  0.0  0.0  7.46  0.0  0.0  0.0  0.0  0.0  \n",
       "11    0  ...    0    0  0.0  0.0  8.62  0.0  0.0  0.0  0.0  0.0  \n",
       "14    0  ...    0    0  0.0  0.0  19.5  0.0  0.0  0.0  0.0  0.0  \n",
       "\n",
       "[5 rows x 36 columns]"
      ]
     },
     "execution_count": 57,
     "metadata": {},
     "output_type": "execute_result"
    }
   ],
   "source": [
    "protected = replacing[((replacing.SeriesCode == 616))]\n",
    "protected.head()"
   ]
  },
  {
   "cell_type": "code",
   "execution_count": 58,
   "metadata": {},
   "outputs": [
    {
     "data": {
      "text/html": [
       "<div>\n",
       "<style scoped>\n",
       "    .dataframe tbody tr th:only-of-type {\n",
       "        vertical-align: middle;\n",
       "    }\n",
       "\n",
       "    .dataframe tbody tr th {\n",
       "        vertical-align: top;\n",
       "    }\n",
       "\n",
       "    .dataframe thead th {\n",
       "        text-align: right;\n",
       "    }\n",
       "</style>\n",
       "<table border=\"1\" class=\"dataframe\">\n",
       "  <thead>\n",
       "    <tr style=\"text-align: right;\">\n",
       "      <th></th>\n",
       "      <th>Country</th>\n",
       "      <th>1990</th>\n",
       "    </tr>\n",
       "  </thead>\n",
       "  <tbody>\n",
       "    <tr>\n",
       "      <th>2</th>\n",
       "      <td>Afghanistan</td>\n",
       "      <td>0.36</td>\n",
       "    </tr>\n",
       "    <tr>\n",
       "      <th>5</th>\n",
       "      <td>Albania</td>\n",
       "      <td>0.15</td>\n",
       "    </tr>\n",
       "    <tr>\n",
       "      <th>8</th>\n",
       "      <td>Algeria</td>\n",
       "      <td>5.97</td>\n",
       "    </tr>\n",
       "    <tr>\n",
       "      <th>11</th>\n",
       "      <td>American Samoa</td>\n",
       "      <td>0.06</td>\n",
       "    </tr>\n",
       "    <tr>\n",
       "      <th>14</th>\n",
       "      <td>Andorra</td>\n",
       "      <td>5.53</td>\n",
       "    </tr>\n",
       "    <tr>\n",
       "      <th>...</th>\n",
       "      <td>...</td>\n",
       "      <td>...</td>\n",
       "    </tr>\n",
       "    <tr>\n",
       "      <th>677</th>\n",
       "      <td>Western Sahara</td>\n",
       "      <td>0</td>\n",
       "    </tr>\n",
       "    <tr>\n",
       "      <th>680</th>\n",
       "      <td>Yemen</td>\n",
       "      <td>0</td>\n",
       "    </tr>\n",
       "    <tr>\n",
       "      <th>683</th>\n",
       "      <td>Yugoslavia [former Socialist Federal Republic]</td>\n",
       "      <td>0</td>\n",
       "    </tr>\n",
       "    <tr>\n",
       "      <th>686</th>\n",
       "      <td>Zambia</td>\n",
       "      <td>36.05</td>\n",
       "    </tr>\n",
       "    <tr>\n",
       "      <th>689</th>\n",
       "      <td>Zimbabwe</td>\n",
       "      <td>16.9</td>\n",
       "    </tr>\n",
       "  </tbody>\n",
       "</table>\n",
       "<p>230 rows × 2 columns</p>\n",
       "</div>"
      ],
      "text/plain": [
       "                                            Country   1990\n",
       "2                                       Afghanistan   0.36\n",
       "5                                           Albania   0.15\n",
       "8                                           Algeria   5.97\n",
       "11                                   American Samoa   0.06\n",
       "14                                          Andorra   5.53\n",
       "..                                              ...    ...\n",
       "677                                  Western Sahara      0\n",
       "680                                           Yemen      0\n",
       "683  Yugoslavia [former Socialist Federal Republic]      0\n",
       "686                                          Zambia  36.05\n",
       "689                                        Zimbabwe   16.9\n",
       "\n",
       "[230 rows x 2 columns]"
      ]
     },
     "execution_count": 58,
     "metadata": {},
     "output_type": "execute_result"
    }
   ],
   "source": [
    "prot_df = protected.loc[:, ('Country','1990') ]\n",
    "prot_df"
   ]
  },
  {
   "cell_type": "code",
   "execution_count": 59,
   "metadata": {},
   "outputs": [
    {
     "data": {
      "image/png": "[encoded data removed]",
      "text/plain": [
       "<Figure size 576x288 with 1 Axes>"
      ]
     },
     "metadata": {
      "needs_background": "light"
     },
     "output_type": "display_data"
    }
   ],
   "source": [
    "new_df = prot_df\n",
    "#Defining the measures of central tendency\n",
    "mean = new_df.mean()\n",
    "median = new_df.median()\n",
    "\n",
    "plt.figure(figsize = [8,4])\n",
    "new_df = np.random.gamma(6, 0.4, 1000)\n",
    "#new_df = np.random.gamma(1000)\n",
    "\n",
    "#Showing values specific points on coordinate axis \n",
    "plt.xticks(fontsize = 15)\n",
    "plt.yticks(fontsize = 15)\n",
    "\n",
    "#Showing specific labels on coordinate axis\n",
    "plt.xlabel('Protected land', fontsize = 15)\n",
    "plt.ylabel('Frequency', fontsize = 15)\n",
    "\n",
    "\n",
    "#Showing plot title\n",
    "plt.title('Histogram For Protected Land',fontsize = 15)\n",
    "\n",
    "plot = plt.hist(new_df.astype(float), bins = 20, color='purple',edgecolor = 'k', alpha = 0.65)"
   ]
  },
  {
   "cell_type": "code",
   "execution_count": 60,
   "metadata": {},
   "outputs": [
    {
     "data": {
      "image/png": "[encoded data removed]",
      "text/plain": [
       "<Figure size 432x288 with 1 Axes>"
      ]
     },
     "metadata": {
      "needs_background": "light"
     },
     "output_type": "display_data"
    }
   ],
   "source": [
    "dist_df = prot_df\n",
    "dist_df = np.random.gamma(4, 0.5,1000)\n",
    "mean = dist_df.mean()\n",
    "median = np.median(dist_df)\n",
    "\n",
    "plt.axvline(mean,color = 'blue',label = 'Mean')\n",
    "plt.axvline(median,color = 'yellow',label = 'Median')\n",
    "plt.ylabel(\"Density Probability\")\n",
    "plt.title(\"Distribution For Protected Area\")\n",
    "_ = sns.distplot(dist_df,color = \"green\")\n",
    "_ = plt.legend()"
   ]
  },
  {
   "cell_type": "code",
   "execution_count": 61,
   "metadata": {},
   "outputs": [
    {
     "data": {
      "image/png": "[encoded data removed]",
      "text/plain": [
       "<Figure size 576x288 with 1 Axes>"
      ]
     },
     "metadata": {
      "needs_background": "light"
     },
     "output_type": "display_data"
    }
   ],
   "source": [
    "new_df = for_est\n",
    "#Defining the measures of central tendency\n",
    "mean = new_df.mean()\n",
    "median = new_df.median()\n",
    "\n",
    "plt.figure(figsize = [8,4])\n",
    "new_df = np.random.gamma(6, 0.4, 1000)\n",
    "#new_df = np.random.gamma(1000)\n",
    "\n",
    "#Showing values specific points on coordinate axis \n",
    "plt.xticks(fontsize = 15)\n",
    "plt.yticks(fontsize = 15)\n",
    "\n",
    "#Showing specific labels on coordinate axis\n",
    "plt.xlabel('Forest Covered Land', fontsize = 15)\n",
    "plt.ylabel('Frequency', fontsize = 15)\n",
    "\n",
    "\n",
    "#Showing plot title\n",
    "plt.title('Histogram for Forest Covered Land',fontsize = 15)\n",
    "\n",
    "plot = plt.hist(new_df.astype(float), bins = 20, color='blue',edgecolor = 'k', alpha = 0.65)"
   ]
  },
  {
   "cell_type": "code",
   "execution_count": 62,
   "metadata": {},
   "outputs": [
    {
     "data": {
      "image/png": "[encoded data removed]",
      "text/plain": [
       "<Figure size 432x288 with 1 Axes>"
      ]
     },
     "metadata": {
      "needs_background": "light"
     },
     "output_type": "display_data"
    }
   ],
   "source": [
    "dist_df = for_est\n",
    "dist_df = np.random.gamma(4, 0.5,1000)\n",
    "mean = dist_df.mean()\n",
    "median = np.median(dist_df)\n",
    "\n",
    "plt.axvline(mean,color = 'maroon',label = 'Mean')\n",
    "plt.axvline(median,color = 'blue',label = 'Median')\n",
    "plt.ylabel(\"Density Probability\")\n",
    "plt.title(\"Distribution For Forest Covered Land\")\n",
    "_ = sns.distplot(dist_df,color = \"purple\")\n",
    "_ = plt.legend()"
   ]
  },
  {
   "cell_type": "markdown",
   "metadata": {},
   "source": [
    "Both graphs are positively skew dostributed meaning the mean value is more than the median value."
   ]
  },
  {
   "cell_type": "markdown",
   "metadata": {},
   "source": [
    "# 10.Create a scatterplot with a regression line using seaborn.regplot to show the relationship between the proportion of land area covered by forest and the percentage of area protected in 2000.\n",
    "What is the relationship between these two variables?\n",
    "Describe any patterns in the scatterplot.\n",
    "Do you notice any unusual/extreme values that do not fit the general trend? If you see any unusual values, briefly describe them (Who are they? In what way are they different?)."
   ]
  },
  {
   "cell_type": "code",
   "execution_count": 63,
   "metadata": {},
   "outputs": [
    {
     "data": {
      "text/html": [
       "<div>\n",
       "<style scoped>\n",
       "    .dataframe tbody tr th:only-of-type {\n",
       "        vertical-align: middle;\n",
       "    }\n",
       "\n",
       "    .dataframe tbody tr th {\n",
       "        vertical-align: top;\n",
       "    }\n",
       "\n",
       "    .dataframe thead th {\n",
       "        text-align: right;\n",
       "    }\n",
       "</style>\n",
       "<table border=\"1\" class=\"dataframe\">\n",
       "  <thead>\n",
       "    <tr style=\"text-align: right;\">\n",
       "      <th></th>\n",
       "      <th>2000</th>\n",
       "    </tr>\n",
       "  </thead>\n",
       "  <tbody>\n",
       "    <tr>\n",
       "      <th>0</th>\n",
       "      <td>2.1</td>\n",
       "    </tr>\n",
       "    <tr>\n",
       "      <th>1</th>\n",
       "      <td>28.1</td>\n",
       "    </tr>\n",
       "    <tr>\n",
       "      <th>2</th>\n",
       "      <td>0.7</td>\n",
       "    </tr>\n",
       "    <tr>\n",
       "      <th>3</th>\n",
       "      <td>90</td>\n",
       "    </tr>\n",
       "    <tr>\n",
       "      <th>4</th>\n",
       "      <td>35.6</td>\n",
       "    </tr>\n",
       "    <tr>\n",
       "      <th>...</th>\n",
       "      <td>...</td>\n",
       "    </tr>\n",
       "    <tr>\n",
       "      <th>225</th>\n",
       "      <td>2.7</td>\n",
       "    </tr>\n",
       "    <tr>\n",
       "      <th>226</th>\n",
       "      <td>1</td>\n",
       "    </tr>\n",
       "    <tr>\n",
       "      <th>227</th>\n",
       "      <td>0</td>\n",
       "    </tr>\n",
       "    <tr>\n",
       "      <th>228</th>\n",
       "      <td>68.8</td>\n",
       "    </tr>\n",
       "    <tr>\n",
       "      <th>229</th>\n",
       "      <td>48.8</td>\n",
       "    </tr>\n",
       "  </tbody>\n",
       "</table>\n",
       "<p>230 rows × 1 columns</p>\n",
       "</div>"
      ],
      "text/plain": [
       "     2000\n",
       "0     2.1\n",
       "1    28.1\n",
       "2     0.7\n",
       "3      90\n",
       "4    35.6\n",
       "..    ...\n",
       "225   2.7\n",
       "226     1\n",
       "227     0\n",
       "228  68.8\n",
       "229  48.8\n",
       "\n",
       "[230 rows x 1 columns]"
      ]
     },
     "execution_count": 63,
     "metadata": {},
     "output_type": "execute_result"
    }
   ],
   "source": [
    "#Creating a data frame for forest land and resetting the index while droping the old index\n",
    "\n",
    "for_df = forest.loc[:, (\"Country\",\"2000\") ].reset_index(drop = True)\n",
    "for_df.drop(\"Country\", axis =1)"
   ]
  },
  {
   "cell_type": "code",
   "execution_count": 64,
   "metadata": {},
   "outputs": [
    {
     "data": {
      "text/html": [
       "<div>\n",
       "<style scoped>\n",
       "    .dataframe tbody tr th:only-of-type {\n",
       "        vertical-align: middle;\n",
       "    }\n",
       "\n",
       "    .dataframe tbody tr th {\n",
       "        vertical-align: top;\n",
       "    }\n",
       "\n",
       "    .dataframe thead th {\n",
       "        text-align: right;\n",
       "    }\n",
       "</style>\n",
       "<table border=\"1\" class=\"dataframe\">\n",
       "  <thead>\n",
       "    <tr style=\"text-align: right;\">\n",
       "      <th></th>\n",
       "      <th>2000</th>\n",
       "    </tr>\n",
       "  </thead>\n",
       "  <tbody>\n",
       "    <tr>\n",
       "      <th>0</th>\n",
       "      <td>0.36</td>\n",
       "    </tr>\n",
       "    <tr>\n",
       "      <th>1</th>\n",
       "      <td>0.48</td>\n",
       "    </tr>\n",
       "    <tr>\n",
       "      <th>2</th>\n",
       "      <td>5.98</td>\n",
       "    </tr>\n",
       "    <tr>\n",
       "      <th>3</th>\n",
       "      <td>0.06</td>\n",
       "    </tr>\n",
       "    <tr>\n",
       "      <th>4</th>\n",
       "      <td>9.25</td>\n",
       "    </tr>\n",
       "    <tr>\n",
       "      <th>...</th>\n",
       "      <td>...</td>\n",
       "    </tr>\n",
       "    <tr>\n",
       "      <th>225</th>\n",
       "      <td>0</td>\n",
       "    </tr>\n",
       "    <tr>\n",
       "      <th>226</th>\n",
       "      <td>0.36</td>\n",
       "    </tr>\n",
       "    <tr>\n",
       "      <th>227</th>\n",
       "      <td>0</td>\n",
       "    </tr>\n",
       "    <tr>\n",
       "      <th>228</th>\n",
       "      <td>36.06</td>\n",
       "    </tr>\n",
       "    <tr>\n",
       "      <th>229</th>\n",
       "      <td>16.9</td>\n",
       "    </tr>\n",
       "  </tbody>\n",
       "</table>\n",
       "<p>230 rows × 1 columns</p>\n",
       "</div>"
      ],
      "text/plain": [
       "      2000\n",
       "0     0.36\n",
       "1     0.48\n",
       "2     5.98\n",
       "3     0.06\n",
       "4     9.25\n",
       "..     ...\n",
       "225      0\n",
       "226   0.36\n",
       "227      0\n",
       "228  36.06\n",
       "229   16.9\n",
       "\n",
       "[230 rows x 1 columns]"
      ]
     },
     "execution_count": 64,
     "metadata": {},
     "output_type": "execute_result"
    }
   ],
   "source": [
    "#Creating dataframe for protected land\n",
    "\n",
    "df_prot = protected.loc[:, (\"Country\",\"2000\") ].reset_index(drop = True)\n",
    "df_prot.drop(\"Country\", axis =1)"
   ]
  },
  {
   "cell_type": "code",
   "execution_count": 65,
   "metadata": {},
   "outputs": [
    {
     "data": {
      "text/html": [
       "<div>\n",
       "<style scoped>\n",
       "    .dataframe tbody tr th:only-of-type {\n",
       "        vertical-align: middle;\n",
       "    }\n",
       "\n",
       "    .dataframe tbody tr th {\n",
       "        vertical-align: top;\n",
       "    }\n",
       "\n",
       "    .dataframe thead th {\n",
       "        text-align: right;\n",
       "    }\n",
       "</style>\n",
       "<table border=\"1\" class=\"dataframe\">\n",
       "  <thead>\n",
       "    <tr style=\"text-align: right;\">\n",
       "      <th></th>\n",
       "      <th>Country</th>\n",
       "      <th>2000</th>\n",
       "      <th>2000</th>\n",
       "    </tr>\n",
       "  </thead>\n",
       "  <tbody>\n",
       "    <tr>\n",
       "      <th>0</th>\n",
       "      <td>Afghanistan</td>\n",
       "      <td>2.1</td>\n",
       "      <td>0.36</td>\n",
       "    </tr>\n",
       "    <tr>\n",
       "      <th>1</th>\n",
       "      <td>Albania</td>\n",
       "      <td>28.1</td>\n",
       "      <td>0.48</td>\n",
       "    </tr>\n",
       "    <tr>\n",
       "      <th>2</th>\n",
       "      <td>Algeria</td>\n",
       "      <td>0.7</td>\n",
       "      <td>5.98</td>\n",
       "    </tr>\n",
       "    <tr>\n",
       "      <th>3</th>\n",
       "      <td>American Samoa</td>\n",
       "      <td>90</td>\n",
       "      <td>0.06</td>\n",
       "    </tr>\n",
       "    <tr>\n",
       "      <th>4</th>\n",
       "      <td>Andorra</td>\n",
       "      <td>35.6</td>\n",
       "      <td>9.25</td>\n",
       "    </tr>\n",
       "    <tr>\n",
       "      <th>...</th>\n",
       "      <td>...</td>\n",
       "      <td>...</td>\n",
       "      <td>...</td>\n",
       "    </tr>\n",
       "    <tr>\n",
       "      <th>225</th>\n",
       "      <td>Western Sahara</td>\n",
       "      <td>2.7</td>\n",
       "      <td>0</td>\n",
       "    </tr>\n",
       "    <tr>\n",
       "      <th>226</th>\n",
       "      <td>Yemen</td>\n",
       "      <td>1</td>\n",
       "      <td>0.36</td>\n",
       "    </tr>\n",
       "    <tr>\n",
       "      <th>227</th>\n",
       "      <td>Yugoslavia [former Socialist Federal Republic]</td>\n",
       "      <td>0</td>\n",
       "      <td>0</td>\n",
       "    </tr>\n",
       "    <tr>\n",
       "      <th>228</th>\n",
       "      <td>Zambia</td>\n",
       "      <td>68.8</td>\n",
       "      <td>36.06</td>\n",
       "    </tr>\n",
       "    <tr>\n",
       "      <th>229</th>\n",
       "      <td>Zimbabwe</td>\n",
       "      <td>48.8</td>\n",
       "      <td>16.9</td>\n",
       "    </tr>\n",
       "  </tbody>\n",
       "</table>\n",
       "<p>230 rows × 3 columns</p>\n",
       "</div>"
      ],
      "text/plain": [
       "                                            Country  2000   2000\n",
       "0                                       Afghanistan   2.1   0.36\n",
       "1                                           Albania  28.1   0.48\n",
       "2                                           Algeria   0.7   5.98\n",
       "3                                    American Samoa    90   0.06\n",
       "4                                           Andorra  35.6   9.25\n",
       "..                                              ...   ...    ...\n",
       "225                                  Western Sahara   2.7      0\n",
       "226                                           Yemen     1   0.36\n",
       "227  Yugoslavia [former Socialist Federal Republic]     0      0\n",
       "228                                          Zambia  68.8  36.06\n",
       "229                                        Zimbabwe  48.8   16.9\n",
       "\n",
       "[230 rows x 3 columns]"
      ]
     },
     "execution_count": 65,
     "metadata": {},
     "output_type": "execute_result"
    }
   ],
   "source": [
    "result = pd.concat([for_df, df_prot[\"2000\"]], axis = 1).fillna(0)\n",
    "result"
   ]
  },
  {
   "cell_type": "code",
   "execution_count": 66,
   "metadata": {},
   "outputs": [
    {
     "data": {
      "text/plain": [
       "Country    object\n",
       "2000       object\n",
       "2000       object\n",
       "dtype: object"
      ]
     },
     "execution_count": 66,
     "metadata": {},
     "output_type": "execute_result"
    }
   ],
   "source": [
    "result.dtypes"
   ]
  },
  {
   "cell_type": "code",
   "execution_count": 67,
   "metadata": {},
   "outputs": [
    {
     "data": {
      "text/html": [
       "<div>\n",
       "<style scoped>\n",
       "    .dataframe tbody tr th:only-of-type {\n",
       "        vertical-align: middle;\n",
       "    }\n",
       "\n",
       "    .dataframe tbody tr th {\n",
       "        vertical-align: top;\n",
       "    }\n",
       "\n",
       "    .dataframe thead th {\n",
       "        text-align: right;\n",
       "    }\n",
       "</style>\n",
       "<table border=\"1\" class=\"dataframe\">\n",
       "  <thead>\n",
       "    <tr style=\"text-align: right;\">\n",
       "      <th></th>\n",
       "      <th>Country</th>\n",
       "      <th>forest</th>\n",
       "      <th>protected</th>\n",
       "    </tr>\n",
       "  </thead>\n",
       "  <tbody>\n",
       "    <tr>\n",
       "      <th>0</th>\n",
       "      <td>Afghanistan</td>\n",
       "      <td>2.1</td>\n",
       "      <td>0.36</td>\n",
       "    </tr>\n",
       "    <tr>\n",
       "      <th>1</th>\n",
       "      <td>Albania</td>\n",
       "      <td>28.1</td>\n",
       "      <td>0.48</td>\n",
       "    </tr>\n",
       "    <tr>\n",
       "      <th>2</th>\n",
       "      <td>Algeria</td>\n",
       "      <td>0.7</td>\n",
       "      <td>5.98</td>\n",
       "    </tr>\n",
       "    <tr>\n",
       "      <th>3</th>\n",
       "      <td>American Samoa</td>\n",
       "      <td>90</td>\n",
       "      <td>0.06</td>\n",
       "    </tr>\n",
       "    <tr>\n",
       "      <th>4</th>\n",
       "      <td>Andorra</td>\n",
       "      <td>35.6</td>\n",
       "      <td>9.25</td>\n",
       "    </tr>\n",
       "  </tbody>\n",
       "</table>\n",
       "</div>"
      ],
      "text/plain": [
       "          Country forest protected\n",
       "0     Afghanistan    2.1      0.36\n",
       "1         Albania   28.1      0.48\n",
       "2         Algeria    0.7      5.98\n",
       "3  American Samoa     90      0.06\n",
       "4         Andorra   35.6      9.25"
      ]
     },
     "execution_count": 67,
     "metadata": {},
     "output_type": "execute_result"
    }
   ],
   "source": [
    "#Renaming columns\n",
    "\n",
    "result.columns = [\"Country\", \"forest\", \"protected\"]\n",
    "result.head()"
   ]
  },
  {
   "cell_type": "code",
   "execution_count": 68,
   "metadata": {},
   "outputs": [],
   "source": [
    "#result.drop([\"Country\"], axis = 1)"
   ]
  },
  {
   "cell_type": "code",
   "execution_count": 69,
   "metadata": {},
   "outputs": [
    {
     "data": {
      "image/png": "[encoded data removed]",
      "text/plain": [
       "<Figure size 432x288 with 1 Axes>"
      ]
     },
     "metadata": {
      "needs_background": "light"
     },
     "output_type": "display_data"
    }
   ],
   "source": [
    "sns.regplot(data = result, x = result[\"forest\"].astype(float), y = result[\"protected\"].astype(float),ci = 68,color = \"indigo\")\n",
    "_ = plt.title(\"A Scatter.regplot For Forest Covered And Protected Area\"\n",
    "             )"
   ]
  },
  {
   "cell_type": "code",
   "execution_count": 70,
   "metadata": {},
   "outputs": [
    {
     "data": {
      "text/html": [
       "<div>\n",
       "<style scoped>\n",
       "    .dataframe tbody tr th:only-of-type {\n",
       "        vertical-align: middle;\n",
       "    }\n",
       "\n",
       "    .dataframe tbody tr th {\n",
       "        vertical-align: top;\n",
       "    }\n",
       "\n",
       "    .dataframe thead th {\n",
       "        text-align: right;\n",
       "    }\n",
       "</style>\n",
       "<table border=\"1\" class=\"dataframe\">\n",
       "  <thead>\n",
       "    <tr style=\"text-align: right;\">\n",
       "      <th></th>\n",
       "    </tr>\n",
       "  </thead>\n",
       "  <tbody>\n",
       "  </tbody>\n",
       "</table>\n",
       "</div>"
      ],
      "text/plain": [
       "Empty DataFrame\n",
       "Columns: []\n",
       "Index: []"
      ]
     },
     "execution_count": 70,
     "metadata": {},
     "output_type": "execute_result"
    }
   ],
   "source": [
    "pearsoncorr = result.corr(method='pearson')\n",
    "pearsoncorr"
   ]
  },
  {
   "cell_type": "markdown",
   "metadata": {},
   "source": [
    "This is a weak positive relationship because the r value is 0.10438 and it is closer to zero .Yes,I notice unusual values and they are called outliers.Outliers are observations with larger residuals.Outliers are the points that don't appear to fit, assuming that all the other points are valid.They can either indicate measurement error or heavily tailed distribution.\n",
    "\n",
    "# There are three types of outliers namely:\n",
    "\n",
    " # 1.Global Outliers\n",
    " It's the values that are far outside the entire dataset.\n",
    " \n",
    " # 2.Contextual Outliers \n",
    " These significantly deviates from the rest of the data points in the same context.\n",
    " \n",
    " # 3.Collective Outliers\n",
    " This is when a collection of related data instances is anomalous/inconsistent with respect to the entire dataset."
   ]
  },
  {
   "cell_type": "markdown",
   "metadata": {},
   "source": [
    "# 11.Since neither forested land area nor protected area is normally distributed, we will need to log transform these variables in order to calculate a correlation coefficient. Log transform the variables and show the transformed distributions in a histogram."
   ]
  },
  {
   "cell_type": "code",
   "execution_count": 71,
   "metadata": {},
   "outputs": [
    {
     "data": {
      "text/html": [
       "<div>\n",
       "<style scoped>\n",
       "    .dataframe tbody tr th:only-of-type {\n",
       "        vertical-align: middle;\n",
       "    }\n",
       "\n",
       "    .dataframe tbody tr th {\n",
       "        vertical-align: top;\n",
       "    }\n",
       "\n",
       "    .dataframe thead th {\n",
       "        text-align: right;\n",
       "    }\n",
       "</style>\n",
       "<table border=\"1\" class=\"dataframe\">\n",
       "  <thead>\n",
       "    <tr style=\"text-align: right;\">\n",
       "      <th></th>\n",
       "      <th>Country</th>\n",
       "      <th>forest</th>\n",
       "      <th>protected</th>\n",
       "      <th>log_prot</th>\n",
       "      <th>log_for</th>\n",
       "    </tr>\n",
       "  </thead>\n",
       "  <tbody>\n",
       "    <tr>\n",
       "      <th>0</th>\n",
       "      <td>Afghanistan</td>\n",
       "      <td>2.1</td>\n",
       "      <td>0.36</td>\n",
       "      <td>-0.443697</td>\n",
       "      <td>0.322219</td>\n",
       "    </tr>\n",
       "    <tr>\n",
       "      <th>1</th>\n",
       "      <td>Albania</td>\n",
       "      <td>28.1</td>\n",
       "      <td>0.48</td>\n",
       "      <td>-0.318759</td>\n",
       "      <td>1.448706</td>\n",
       "    </tr>\n",
       "    <tr>\n",
       "      <th>2</th>\n",
       "      <td>Algeria</td>\n",
       "      <td>0.7</td>\n",
       "      <td>5.98</td>\n",
       "      <td>0.776701</td>\n",
       "      <td>-0.154902</td>\n",
       "    </tr>\n",
       "    <tr>\n",
       "      <th>3</th>\n",
       "      <td>American Samoa</td>\n",
       "      <td>90</td>\n",
       "      <td>0.06</td>\n",
       "      <td>-1.221849</td>\n",
       "      <td>1.954243</td>\n",
       "    </tr>\n",
       "    <tr>\n",
       "      <th>4</th>\n",
       "      <td>Andorra</td>\n",
       "      <td>35.6</td>\n",
       "      <td>9.25</td>\n",
       "      <td>0.966142</td>\n",
       "      <td>1.551450</td>\n",
       "    </tr>\n",
       "    <tr>\n",
       "      <th>...</th>\n",
       "      <td>...</td>\n",
       "      <td>...</td>\n",
       "      <td>...</td>\n",
       "      <td>...</td>\n",
       "      <td>...</td>\n",
       "    </tr>\n",
       "    <tr>\n",
       "      <th>225</th>\n",
       "      <td>Western Sahara</td>\n",
       "      <td>2.7</td>\n",
       "      <td>0</td>\n",
       "      <td>-inf</td>\n",
       "      <td>0.431364</td>\n",
       "    </tr>\n",
       "    <tr>\n",
       "      <th>226</th>\n",
       "      <td>Yemen</td>\n",
       "      <td>1</td>\n",
       "      <td>0.36</td>\n",
       "      <td>-0.443697</td>\n",
       "      <td>0.000000</td>\n",
       "    </tr>\n",
       "    <tr>\n",
       "      <th>227</th>\n",
       "      <td>Yugoslavia [former Socialist Federal Republic]</td>\n",
       "      <td>0</td>\n",
       "      <td>0</td>\n",
       "      <td>-inf</td>\n",
       "      <td>-inf</td>\n",
       "    </tr>\n",
       "    <tr>\n",
       "      <th>228</th>\n",
       "      <td>Zambia</td>\n",
       "      <td>68.8</td>\n",
       "      <td>36.06</td>\n",
       "      <td>1.557026</td>\n",
       "      <td>1.837588</td>\n",
       "    </tr>\n",
       "    <tr>\n",
       "      <th>229</th>\n",
       "      <td>Zimbabwe</td>\n",
       "      <td>48.8</td>\n",
       "      <td>16.9</td>\n",
       "      <td>1.227887</td>\n",
       "      <td>1.688420</td>\n",
       "    </tr>\n",
       "  </tbody>\n",
       "</table>\n",
       "<p>230 rows × 5 columns</p>\n",
       "</div>"
      ],
      "text/plain": [
       "                                            Country forest protected  \\\n",
       "0                                       Afghanistan    2.1      0.36   \n",
       "1                                           Albania   28.1      0.48   \n",
       "2                                           Algeria    0.7      5.98   \n",
       "3                                    American Samoa     90      0.06   \n",
       "4                                           Andorra   35.6      9.25   \n",
       "..                                              ...    ...       ...   \n",
       "225                                  Western Sahara    2.7         0   \n",
       "226                                           Yemen      1      0.36   \n",
       "227  Yugoslavia [former Socialist Federal Republic]      0         0   \n",
       "228                                          Zambia   68.8     36.06   \n",
       "229                                        Zimbabwe   48.8      16.9   \n",
       "\n",
       "     log_prot   log_for  \n",
       "0   -0.443697  0.322219  \n",
       "1   -0.318759  1.448706  \n",
       "2    0.776701 -0.154902  \n",
       "3   -1.221849  1.954243  \n",
       "4    0.966142  1.551450  \n",
       "..        ...       ...  \n",
       "225      -inf  0.431364  \n",
       "226 -0.443697  0.000000  \n",
       "227      -inf      -inf  \n",
       "228  1.557026  1.837588  \n",
       "229  1.227887  1.688420  \n",
       "\n",
       "[230 rows x 5 columns]"
      ]
     },
     "execution_count": 71,
     "metadata": {},
     "output_type": "execute_result"
    }
   ],
   "source": [
    "result_log = result\n",
    "result_log['log_prot'] = np.log10(result['protected'].astype(float))\n",
    "result_log['log_for'] = np.log10(result['forest'].astype(float))\n",
    "result_log"
   ]
  },
  {
   "cell_type": "code",
   "execution_count": 72,
   "metadata": {},
   "outputs": [
    {
     "data": {
      "text/plain": [
       "Country       object\n",
       "forest        object\n",
       "protected     object\n",
       "log_prot     float64\n",
       "log_for      float64\n",
       "dtype: object"
      ]
     },
     "execution_count": 72,
     "metadata": {},
     "output_type": "execute_result"
    }
   ],
   "source": [
    "result.dtypes\n"
   ]
  },
  {
   "cell_type": "code",
   "execution_count": 73,
   "metadata": {},
   "outputs": [
    {
     "data": {
      "text/html": [
       "<div>\n",
       "<style scoped>\n",
       "    .dataframe tbody tr th:only-of-type {\n",
       "        vertical-align: middle;\n",
       "    }\n",
       "\n",
       "    .dataframe tbody tr th {\n",
       "        vertical-align: top;\n",
       "    }\n",
       "\n",
       "    .dataframe thead th {\n",
       "        text-align: right;\n",
       "    }\n",
       "</style>\n",
       "<table border=\"1\" class=\"dataframe\">\n",
       "  <thead>\n",
       "    <tr style=\"text-align: right;\">\n",
       "      <th></th>\n",
       "      <th>Country</th>\n",
       "      <th>log_prot</th>\n",
       "      <th>log_for</th>\n",
       "    </tr>\n",
       "  </thead>\n",
       "  <tbody>\n",
       "    <tr>\n",
       "      <th>0</th>\n",
       "      <td>Afghanistan</td>\n",
       "      <td>-0.443697</td>\n",
       "      <td>0.322219</td>\n",
       "    </tr>\n",
       "    <tr>\n",
       "      <th>1</th>\n",
       "      <td>Albania</td>\n",
       "      <td>-0.318759</td>\n",
       "      <td>1.448706</td>\n",
       "    </tr>\n",
       "    <tr>\n",
       "      <th>2</th>\n",
       "      <td>Algeria</td>\n",
       "      <td>0.776701</td>\n",
       "      <td>-0.154902</td>\n",
       "    </tr>\n",
       "    <tr>\n",
       "      <th>3</th>\n",
       "      <td>American Samoa</td>\n",
       "      <td>-1.221849</td>\n",
       "      <td>1.954243</td>\n",
       "    </tr>\n",
       "    <tr>\n",
       "      <th>4</th>\n",
       "      <td>Andorra</td>\n",
       "      <td>0.966142</td>\n",
       "      <td>1.551450</td>\n",
       "    </tr>\n",
       "    <tr>\n",
       "      <th>...</th>\n",
       "      <td>...</td>\n",
       "      <td>...</td>\n",
       "      <td>...</td>\n",
       "    </tr>\n",
       "    <tr>\n",
       "      <th>225</th>\n",
       "      <td>Western Sahara</td>\n",
       "      <td>-inf</td>\n",
       "      <td>0.431364</td>\n",
       "    </tr>\n",
       "    <tr>\n",
       "      <th>226</th>\n",
       "      <td>Yemen</td>\n",
       "      <td>-0.443697</td>\n",
       "      <td>0.000000</td>\n",
       "    </tr>\n",
       "    <tr>\n",
       "      <th>227</th>\n",
       "      <td>Yugoslavia [former Socialist Federal Republic]</td>\n",
       "      <td>-inf</td>\n",
       "      <td>-inf</td>\n",
       "    </tr>\n",
       "    <tr>\n",
       "      <th>228</th>\n",
       "      <td>Zambia</td>\n",
       "      <td>1.557026</td>\n",
       "      <td>1.837588</td>\n",
       "    </tr>\n",
       "    <tr>\n",
       "      <th>229</th>\n",
       "      <td>Zimbabwe</td>\n",
       "      <td>1.227887</td>\n",
       "      <td>1.688420</td>\n",
       "    </tr>\n",
       "  </tbody>\n",
       "</table>\n",
       "<p>230 rows × 3 columns</p>\n",
       "</div>"
      ],
      "text/plain": [
       "                                            Country  log_prot   log_for\n",
       "0                                       Afghanistan -0.443697  0.322219\n",
       "1                                           Albania -0.318759  1.448706\n",
       "2                                           Algeria  0.776701 -0.154902\n",
       "3                                    American Samoa -1.221849  1.954243\n",
       "4                                           Andorra  0.966142  1.551450\n",
       "..                                              ...       ...       ...\n",
       "225                                  Western Sahara      -inf  0.431364\n",
       "226                                           Yemen -0.443697  0.000000\n",
       "227  Yugoslavia [former Socialist Federal Republic]      -inf      -inf\n",
       "228                                          Zambia  1.557026  1.837588\n",
       "229                                        Zimbabwe  1.227887  1.688420\n",
       "\n",
       "[230 rows x 3 columns]"
      ]
     },
     "execution_count": 73,
     "metadata": {},
     "output_type": "execute_result"
    }
   ],
   "source": [
    "result_log1 = result_log.drop([\"forest\",\"protected\"], axis = 1)\n",
    "result_log1"
   ]
  },
  {
   "cell_type": "code",
   "execution_count": 74,
   "metadata": {
    "scrolled": true
   },
   "outputs": [
    {
     "data": {
      "text/html": [
       "<div>\n",
       "<style scoped>\n",
       "    .dataframe tbody tr th:only-of-type {\n",
       "        vertical-align: middle;\n",
       "    }\n",
       "\n",
       "    .dataframe tbody tr th {\n",
       "        vertical-align: top;\n",
       "    }\n",
       "\n",
       "    .dataframe thead th {\n",
       "        text-align: right;\n",
       "    }\n",
       "</style>\n",
       "<table border=\"1\" class=\"dataframe\">\n",
       "  <thead>\n",
       "    <tr style=\"text-align: right;\">\n",
       "      <th></th>\n",
       "      <th>Country</th>\n",
       "      <th>log_prot</th>\n",
       "      <th>log_for</th>\n",
       "    </tr>\n",
       "  </thead>\n",
       "  <tbody>\n",
       "    <tr>\n",
       "      <th>0</th>\n",
       "      <td>Afghanistan</td>\n",
       "      <td>-0.443697</td>\n",
       "      <td>0.322219</td>\n",
       "    </tr>\n",
       "    <tr>\n",
       "      <th>1</th>\n",
       "      <td>Albania</td>\n",
       "      <td>-0.318759</td>\n",
       "      <td>1.448706</td>\n",
       "    </tr>\n",
       "    <tr>\n",
       "      <th>2</th>\n",
       "      <td>Algeria</td>\n",
       "      <td>0.776701</td>\n",
       "      <td>-0.154902</td>\n",
       "    </tr>\n",
       "    <tr>\n",
       "      <th>3</th>\n",
       "      <td>American Samoa</td>\n",
       "      <td>-1.221849</td>\n",
       "      <td>1.954243</td>\n",
       "    </tr>\n",
       "    <tr>\n",
       "      <th>4</th>\n",
       "      <td>Andorra</td>\n",
       "      <td>0.966142</td>\n",
       "      <td>1.551450</td>\n",
       "    </tr>\n",
       "    <tr>\n",
       "      <th>...</th>\n",
       "      <td>...</td>\n",
       "      <td>...</td>\n",
       "      <td>...</td>\n",
       "    </tr>\n",
       "    <tr>\n",
       "      <th>222</th>\n",
       "      <td>Venezuela</td>\n",
       "      <td>1.564311</td>\n",
       "      <td>1.745855</td>\n",
       "    </tr>\n",
       "    <tr>\n",
       "      <th>223</th>\n",
       "      <td>Viet Nam</td>\n",
       "      <td>0.326336</td>\n",
       "      <td>1.577492</td>\n",
       "    </tr>\n",
       "    <tr>\n",
       "      <th>226</th>\n",
       "      <td>Yemen</td>\n",
       "      <td>-0.443697</td>\n",
       "      <td>0.000000</td>\n",
       "    </tr>\n",
       "    <tr>\n",
       "      <th>228</th>\n",
       "      <td>Zambia</td>\n",
       "      <td>1.557026</td>\n",
       "      <td>1.837588</td>\n",
       "    </tr>\n",
       "    <tr>\n",
       "      <th>229</th>\n",
       "      <td>Zimbabwe</td>\n",
       "      <td>1.227887</td>\n",
       "      <td>1.688420</td>\n",
       "    </tr>\n",
       "  </tbody>\n",
       "</table>\n",
       "<p>196 rows × 3 columns</p>\n",
       "</div>"
      ],
      "text/plain": [
       "            Country  log_prot   log_for\n",
       "0       Afghanistan -0.443697  0.322219\n",
       "1           Albania -0.318759  1.448706\n",
       "2           Algeria  0.776701 -0.154902\n",
       "3    American Samoa -1.221849  1.954243\n",
       "4           Andorra  0.966142  1.551450\n",
       "..              ...       ...       ...\n",
       "222       Venezuela  1.564311  1.745855\n",
       "223        Viet Nam  0.326336  1.577492\n",
       "226           Yemen -0.443697  0.000000\n",
       "228          Zambia  1.557026  1.837588\n",
       "229        Zimbabwe  1.227887  1.688420\n",
       "\n",
       "[196 rows x 3 columns]"
      ]
     },
     "execution_count": 74,
     "metadata": {},
     "output_type": "execute_result"
    }
   ],
   "source": [
    "# Removing infinite\n",
    "\n",
    "result_log2 = result_log1[~result_log1.isin([np.nan, np.inf, -np.inf]).any(1)]\n",
    "result_log2"
   ]
  },
  {
   "cell_type": "code",
   "execution_count": 75,
   "metadata": {},
   "outputs": [
    {
     "data": {
      "text/plain": [
       "Country      object\n",
       "log_prot    float64\n",
       "log_for     float64\n",
       "dtype: object"
      ]
     },
     "execution_count": 75,
     "metadata": {},
     "output_type": "execute_result"
    }
   ],
   "source": [
    "result_log2.dtypes"
   ]
  },
  {
   "cell_type": "code",
   "execution_count": 76,
   "metadata": {},
   "outputs": [
    {
     "data": {
      "text/html": [
       "<div>\n",
       "<style scoped>\n",
       "    .dataframe tbody tr th:only-of-type {\n",
       "        vertical-align: middle;\n",
       "    }\n",
       "\n",
       "    .dataframe tbody tr th {\n",
       "        vertical-align: top;\n",
       "    }\n",
       "\n",
       "    .dataframe thead th {\n",
       "        text-align: right;\n",
       "    }\n",
       "</style>\n",
       "<table border=\"1\" class=\"dataframe\">\n",
       "  <thead>\n",
       "    <tr style=\"text-align: right;\">\n",
       "      <th></th>\n",
       "      <th>log_prot</th>\n",
       "      <th>log_for</th>\n",
       "    </tr>\n",
       "  </thead>\n",
       "  <tbody>\n",
       "    <tr>\n",
       "      <th>0</th>\n",
       "      <td>-0.443697</td>\n",
       "      <td>0.322219</td>\n",
       "    </tr>\n",
       "    <tr>\n",
       "      <th>1</th>\n",
       "      <td>-0.318759</td>\n",
       "      <td>1.448706</td>\n",
       "    </tr>\n",
       "    <tr>\n",
       "      <th>2</th>\n",
       "      <td>0.776701</td>\n",
       "      <td>-0.154902</td>\n",
       "    </tr>\n",
       "    <tr>\n",
       "      <th>3</th>\n",
       "      <td>-1.221849</td>\n",
       "      <td>1.954243</td>\n",
       "    </tr>\n",
       "    <tr>\n",
       "      <th>4</th>\n",
       "      <td>0.966142</td>\n",
       "      <td>1.551450</td>\n",
       "    </tr>\n",
       "    <tr>\n",
       "      <th>...</th>\n",
       "      <td>...</td>\n",
       "      <td>...</td>\n",
       "    </tr>\n",
       "    <tr>\n",
       "      <th>222</th>\n",
       "      <td>1.564311</td>\n",
       "      <td>1.745855</td>\n",
       "    </tr>\n",
       "    <tr>\n",
       "      <th>223</th>\n",
       "      <td>0.326336</td>\n",
       "      <td>1.577492</td>\n",
       "    </tr>\n",
       "    <tr>\n",
       "      <th>226</th>\n",
       "      <td>-0.443697</td>\n",
       "      <td>0.000000</td>\n",
       "    </tr>\n",
       "    <tr>\n",
       "      <th>228</th>\n",
       "      <td>1.557026</td>\n",
       "      <td>1.837588</td>\n",
       "    </tr>\n",
       "    <tr>\n",
       "      <th>229</th>\n",
       "      <td>1.227887</td>\n",
       "      <td>1.688420</td>\n",
       "    </tr>\n",
       "  </tbody>\n",
       "</table>\n",
       "<p>196 rows × 2 columns</p>\n",
       "</div>"
      ],
      "text/plain": [
       "     log_prot   log_for\n",
       "0   -0.443697  0.322219\n",
       "1   -0.318759  1.448706\n",
       "2    0.776701 -0.154902\n",
       "3   -1.221849  1.954243\n",
       "4    0.966142  1.551450\n",
       "..        ...       ...\n",
       "222  1.564311  1.745855\n",
       "223  0.326336  1.577492\n",
       "226 -0.443697  0.000000\n",
       "228  1.557026  1.837588\n",
       "229  1.227887  1.688420\n",
       "\n",
       "[196 rows x 2 columns]"
      ]
     },
     "execution_count": 76,
     "metadata": {},
     "output_type": "execute_result"
    }
   ],
   "source": [
    "result_log3 = result_log2.drop([\"Country\"], axis = 1)\n",
    "result_log3"
   ]
  },
  {
   "cell_type": "code",
   "execution_count": 77,
   "metadata": {},
   "outputs": [
    {
     "data": {
      "image/png": "[encoded data removed]",
      "text/plain": [
       "<Figure size 432x288 with 1 Axes>"
      ]
     },
     "metadata": {
      "needs_background": "light"
     },
     "output_type": "display_data"
    }
   ],
   "source": [
    "\n",
    "_= result_log3.plot( kind = \"hist\", bins = 28,edgecolor = 'k',color = (\"blue\", \"purple\"))\n",
    "_ = plt.title(\"Log Transformed Distribution Histrogram Of Forest Vs Protected Land\", fontsize = 14)"
   ]
  },
  {
   "cell_type": "code",
   "execution_count": 78,
   "metadata": {},
   "outputs": [
    {
     "data": {
      "text/html": [
       "<div>\n",
       "<style scoped>\n",
       "    .dataframe tbody tr th:only-of-type {\n",
       "        vertical-align: middle;\n",
       "    }\n",
       "\n",
       "    .dataframe tbody tr th {\n",
       "        vertical-align: top;\n",
       "    }\n",
       "\n",
       "    .dataframe thead th {\n",
       "        text-align: right;\n",
       "    }\n",
       "</style>\n",
       "<table border=\"1\" class=\"dataframe\">\n",
       "  <thead>\n",
       "    <tr style=\"text-align: right;\">\n",
       "      <th></th>\n",
       "      <th>log_prot</th>\n",
       "      <th>log_for</th>\n",
       "    </tr>\n",
       "  </thead>\n",
       "  <tbody>\n",
       "    <tr>\n",
       "      <th>log_prot</th>\n",
       "      <td>1.000000</td>\n",
       "      <td>0.104388</td>\n",
       "    </tr>\n",
       "    <tr>\n",
       "      <th>log_for</th>\n",
       "      <td>0.104388</td>\n",
       "      <td>1.000000</td>\n",
       "    </tr>\n",
       "  </tbody>\n",
       "</table>\n",
       "</div>"
      ],
      "text/plain": [
       "          log_prot   log_for\n",
       "log_prot  1.000000  0.104388\n",
       "log_for   0.104388  1.000000"
      ]
     },
     "execution_count": 78,
     "metadata": {},
     "output_type": "execute_result"
    }
   ],
   "source": [
    "pearsoncorr = result_log3.corr(method='pearson')\n",
    "pearsoncorr"
   ]
  },
  {
   "cell_type": "code",
   "execution_count": 79,
   "metadata": {},
   "outputs": [
    {
     "data": {
      "image/png": "[encoded data removed]",
      "text/plain": [
       "<Figure size 432x288 with 2 Axes>"
      ]
     },
     "metadata": {
      "needs_background": "light"
     },
     "output_type": "display_data"
    }
   ],
   "source": [
    "ax = sns.heatmap(pearsoncorr, cmap = 'RdBu_r',annot = True,linewidth = 0.5)"
   ]
  },
  {
   "cell_type": "markdown",
   "metadata": {},
   "source": [
    "The coefficient of correlation is more than zero but less than one,this means that there is a weak positive relationship between the values.This means that while both variables tend to go up in response to one another, the relationship is not very strong."
   ]
  },
  {
   "cell_type": "markdown",
   "metadata": {},
   "source": [
    "# 12.Using the pearsonr function from the scipy.stats module, calculate the Pearson correlation coefficient (and its corresponding p value) to determine the nature of the relationship between proportion of land area covered by forest and the percentage of area protected (as measured in 1990 and log transformed). See help(pearsonr) for help on this function."
   ]
  },
  {
   "cell_type": "code",
   "execution_count": 80,
   "metadata": {},
   "outputs": [
    {
     "data": {
      "text/html": [
       "<div>\n",
       "<style scoped>\n",
       "    .dataframe tbody tr th:only-of-type {\n",
       "        vertical-align: middle;\n",
       "    }\n",
       "\n",
       "    .dataframe tbody tr th {\n",
       "        vertical-align: top;\n",
       "    }\n",
       "\n",
       "    .dataframe thead th {\n",
       "        text-align: right;\n",
       "    }\n",
       "</style>\n",
       "<table border=\"1\" class=\"dataframe\">\n",
       "  <thead>\n",
       "    <tr style=\"text-align: right;\">\n",
       "      <th></th>\n",
       "      <th>Country</th>\n",
       "      <th>1990</th>\n",
       "    </tr>\n",
       "  </thead>\n",
       "  <tbody>\n",
       "    <tr>\n",
       "      <th>0</th>\n",
       "      <td>Afghanistan</td>\n",
       "      <td>2.1</td>\n",
       "    </tr>\n",
       "    <tr>\n",
       "      <th>1</th>\n",
       "      <td>Albania</td>\n",
       "      <td>28.8</td>\n",
       "    </tr>\n",
       "    <tr>\n",
       "      <th>2</th>\n",
       "      <td>Algeria</td>\n",
       "      <td>0.7</td>\n",
       "    </tr>\n",
       "    <tr>\n",
       "      <th>3</th>\n",
       "      <td>American Samoa</td>\n",
       "      <td>90</td>\n",
       "    </tr>\n",
       "    <tr>\n",
       "      <th>4</th>\n",
       "      <td>Andorra</td>\n",
       "      <td>35.6</td>\n",
       "    </tr>\n",
       "    <tr>\n",
       "      <th>...</th>\n",
       "      <td>...</td>\n",
       "      <td>...</td>\n",
       "    </tr>\n",
       "    <tr>\n",
       "      <th>225</th>\n",
       "      <td>Western Sahara</td>\n",
       "      <td>2.7</td>\n",
       "    </tr>\n",
       "    <tr>\n",
       "      <th>226</th>\n",
       "      <td>Yemen</td>\n",
       "      <td>1</td>\n",
       "    </tr>\n",
       "    <tr>\n",
       "      <th>227</th>\n",
       "      <td>Yugoslavia [former Socialist Federal Republic]</td>\n",
       "      <td>0</td>\n",
       "    </tr>\n",
       "    <tr>\n",
       "      <th>228</th>\n",
       "      <td>Zambia</td>\n",
       "      <td>71</td>\n",
       "    </tr>\n",
       "    <tr>\n",
       "      <th>229</th>\n",
       "      <td>Zimbabwe</td>\n",
       "      <td>57.3</td>\n",
       "    </tr>\n",
       "  </tbody>\n",
       "</table>\n",
       "<p>230 rows × 2 columns</p>\n",
       "</div>"
      ],
      "text/plain": [
       "                                            Country  1990\n",
       "0                                       Afghanistan   2.1\n",
       "1                                           Albania  28.8\n",
       "2                                           Algeria   0.7\n",
       "3                                    American Samoa    90\n",
       "4                                           Andorra  35.6\n",
       "..                                              ...   ...\n",
       "225                                  Western Sahara   2.7\n",
       "226                                           Yemen     1\n",
       "227  Yugoslavia [former Socialist Federal Republic]     0\n",
       "228                                          Zambia    71\n",
       "229                                        Zimbabwe  57.3\n",
       "\n",
       "[230 rows x 2 columns]"
      ]
     },
     "execution_count": 80,
     "metadata": {},
     "output_type": "execute_result"
    }
   ],
   "source": [
    "#Creating a data frame for forest land and resetting the index while droping the old index\n",
    "\n",
    "for1_df = forest.loc[:, (\"Country\",\"1990\") ].reset_index(drop = True)\n",
    "for1_df"
   ]
  },
  {
   "cell_type": "code",
   "execution_count": 81,
   "metadata": {},
   "outputs": [
    {
     "data": {
      "text/html": [
       "<div>\n",
       "<style scoped>\n",
       "    .dataframe tbody tr th:only-of-type {\n",
       "        vertical-align: middle;\n",
       "    }\n",
       "\n",
       "    .dataframe tbody tr th {\n",
       "        vertical-align: top;\n",
       "    }\n",
       "\n",
       "    .dataframe thead th {\n",
       "        text-align: right;\n",
       "    }\n",
       "</style>\n",
       "<table border=\"1\" class=\"dataframe\">\n",
       "  <thead>\n",
       "    <tr style=\"text-align: right;\">\n",
       "      <th></th>\n",
       "      <th>Country</th>\n",
       "      <th>1990</th>\n",
       "    </tr>\n",
       "  </thead>\n",
       "  <tbody>\n",
       "    <tr>\n",
       "      <th>0</th>\n",
       "      <td>Afghanistan</td>\n",
       "      <td>0.36</td>\n",
       "    </tr>\n",
       "    <tr>\n",
       "      <th>1</th>\n",
       "      <td>Albania</td>\n",
       "      <td>0.15</td>\n",
       "    </tr>\n",
       "    <tr>\n",
       "      <th>2</th>\n",
       "      <td>Algeria</td>\n",
       "      <td>5.97</td>\n",
       "    </tr>\n",
       "    <tr>\n",
       "      <th>3</th>\n",
       "      <td>American Samoa</td>\n",
       "      <td>0.06</td>\n",
       "    </tr>\n",
       "    <tr>\n",
       "      <th>4</th>\n",
       "      <td>Andorra</td>\n",
       "      <td>5.53</td>\n",
       "    </tr>\n",
       "    <tr>\n",
       "      <th>...</th>\n",
       "      <td>...</td>\n",
       "      <td>...</td>\n",
       "    </tr>\n",
       "    <tr>\n",
       "      <th>225</th>\n",
       "      <td>Western Sahara</td>\n",
       "      <td>0</td>\n",
       "    </tr>\n",
       "    <tr>\n",
       "      <th>226</th>\n",
       "      <td>Yemen</td>\n",
       "      <td>0</td>\n",
       "    </tr>\n",
       "    <tr>\n",
       "      <th>227</th>\n",
       "      <td>Yugoslavia [former Socialist Federal Republic]</td>\n",
       "      <td>0</td>\n",
       "    </tr>\n",
       "    <tr>\n",
       "      <th>228</th>\n",
       "      <td>Zambia</td>\n",
       "      <td>36.05</td>\n",
       "    </tr>\n",
       "    <tr>\n",
       "      <th>229</th>\n",
       "      <td>Zimbabwe</td>\n",
       "      <td>16.9</td>\n",
       "    </tr>\n",
       "  </tbody>\n",
       "</table>\n",
       "<p>230 rows × 2 columns</p>\n",
       "</div>"
      ],
      "text/plain": [
       "                                            Country   1990\n",
       "0                                       Afghanistan   0.36\n",
       "1                                           Albania   0.15\n",
       "2                                           Algeria   5.97\n",
       "3                                    American Samoa   0.06\n",
       "4                                           Andorra   5.53\n",
       "..                                              ...    ...\n",
       "225                                  Western Sahara      0\n",
       "226                                           Yemen      0\n",
       "227  Yugoslavia [former Socialist Federal Republic]      0\n",
       "228                                          Zambia  36.05\n",
       "229                                        Zimbabwe   16.9\n",
       "\n",
       "[230 rows x 2 columns]"
      ]
     },
     "execution_count": 81,
     "metadata": {},
     "output_type": "execute_result"
    }
   ],
   "source": [
    "df_prot1 = protected.loc[:, (\"Country\",\"1990\") ].reset_index(drop = True)\n",
    "df_prot1"
   ]
  },
  {
   "cell_type": "code",
   "execution_count": 82,
   "metadata": {},
   "outputs": [
    {
     "data": {
      "text/html": [
       "<div>\n",
       "<style scoped>\n",
       "    .dataframe tbody tr th:only-of-type {\n",
       "        vertical-align: middle;\n",
       "    }\n",
       "\n",
       "    .dataframe tbody tr th {\n",
       "        vertical-align: top;\n",
       "    }\n",
       "\n",
       "    .dataframe thead th {\n",
       "        text-align: right;\n",
       "    }\n",
       "</style>\n",
       "<table border=\"1\" class=\"dataframe\">\n",
       "  <thead>\n",
       "    <tr style=\"text-align: right;\">\n",
       "      <th></th>\n",
       "      <th>Country</th>\n",
       "      <th>1990</th>\n",
       "      <th>1990</th>\n",
       "    </tr>\n",
       "  </thead>\n",
       "  <tbody>\n",
       "    <tr>\n",
       "      <th>0</th>\n",
       "      <td>Afghanistan</td>\n",
       "      <td>2.1</td>\n",
       "      <td>0.36</td>\n",
       "    </tr>\n",
       "    <tr>\n",
       "      <th>1</th>\n",
       "      <td>Albania</td>\n",
       "      <td>28.8</td>\n",
       "      <td>0.15</td>\n",
       "    </tr>\n",
       "    <tr>\n",
       "      <th>2</th>\n",
       "      <td>Algeria</td>\n",
       "      <td>0.7</td>\n",
       "      <td>5.97</td>\n",
       "    </tr>\n",
       "    <tr>\n",
       "      <th>3</th>\n",
       "      <td>American Samoa</td>\n",
       "      <td>90</td>\n",
       "      <td>0.06</td>\n",
       "    </tr>\n",
       "    <tr>\n",
       "      <th>4</th>\n",
       "      <td>Andorra</td>\n",
       "      <td>35.6</td>\n",
       "      <td>5.53</td>\n",
       "    </tr>\n",
       "    <tr>\n",
       "      <th>...</th>\n",
       "      <td>...</td>\n",
       "      <td>...</td>\n",
       "      <td>...</td>\n",
       "    </tr>\n",
       "    <tr>\n",
       "      <th>225</th>\n",
       "      <td>Western Sahara</td>\n",
       "      <td>2.7</td>\n",
       "      <td>0</td>\n",
       "    </tr>\n",
       "    <tr>\n",
       "      <th>226</th>\n",
       "      <td>Yemen</td>\n",
       "      <td>1</td>\n",
       "      <td>0</td>\n",
       "    </tr>\n",
       "    <tr>\n",
       "      <th>227</th>\n",
       "      <td>Yugoslavia [former Socialist Federal Republic]</td>\n",
       "      <td>0</td>\n",
       "      <td>0</td>\n",
       "    </tr>\n",
       "    <tr>\n",
       "      <th>228</th>\n",
       "      <td>Zambia</td>\n",
       "      <td>71</td>\n",
       "      <td>36.05</td>\n",
       "    </tr>\n",
       "    <tr>\n",
       "      <th>229</th>\n",
       "      <td>Zimbabwe</td>\n",
       "      <td>57.3</td>\n",
       "      <td>16.9</td>\n",
       "    </tr>\n",
       "  </tbody>\n",
       "</table>\n",
       "<p>230 rows × 3 columns</p>\n",
       "</div>"
      ],
      "text/plain": [
       "                                            Country  1990   1990\n",
       "0                                       Afghanistan   2.1   0.36\n",
       "1                                           Albania  28.8   0.15\n",
       "2                                           Algeria   0.7   5.97\n",
       "3                                    American Samoa    90   0.06\n",
       "4                                           Andorra  35.6   5.53\n",
       "..                                              ...   ...    ...\n",
       "225                                  Western Sahara   2.7      0\n",
       "226                                           Yemen     1      0\n",
       "227  Yugoslavia [former Socialist Federal Republic]     0      0\n",
       "228                                          Zambia    71  36.05\n",
       "229                                        Zimbabwe  57.3   16.9\n",
       "\n",
       "[230 rows x 3 columns]"
      ]
     },
     "execution_count": 82,
     "metadata": {},
     "output_type": "execute_result"
    }
   ],
   "source": [
    "for_prot= pd.concat([for1_df, df_prot1[\"1990\"]], axis = 1).fillna(0)\n",
    "for_prot"
   ]
  },
  {
   "cell_type": "code",
   "execution_count": 83,
   "metadata": {},
   "outputs": [
    {
     "data": {
      "text/html": [
       "<div>\n",
       "<style scoped>\n",
       "    .dataframe tbody tr th:only-of-type {\n",
       "        vertical-align: middle;\n",
       "    }\n",
       "\n",
       "    .dataframe tbody tr th {\n",
       "        vertical-align: top;\n",
       "    }\n",
       "\n",
       "    .dataframe thead th {\n",
       "        text-align: right;\n",
       "    }\n",
       "</style>\n",
       "<table border=\"1\" class=\"dataframe\">\n",
       "  <thead>\n",
       "    <tr style=\"text-align: right;\">\n",
       "      <th></th>\n",
       "      <th>Country</th>\n",
       "      <th>f1990</th>\n",
       "      <th>p1990</th>\n",
       "    </tr>\n",
       "  </thead>\n",
       "  <tbody>\n",
       "    <tr>\n",
       "      <th>0</th>\n",
       "      <td>Afghanistan</td>\n",
       "      <td>2.1</td>\n",
       "      <td>0.36</td>\n",
       "    </tr>\n",
       "    <tr>\n",
       "      <th>1</th>\n",
       "      <td>Albania</td>\n",
       "      <td>28.8</td>\n",
       "      <td>0.15</td>\n",
       "    </tr>\n",
       "    <tr>\n",
       "      <th>2</th>\n",
       "      <td>Algeria</td>\n",
       "      <td>0.7</td>\n",
       "      <td>5.97</td>\n",
       "    </tr>\n",
       "    <tr>\n",
       "      <th>3</th>\n",
       "      <td>American Samoa</td>\n",
       "      <td>90</td>\n",
       "      <td>0.06</td>\n",
       "    </tr>\n",
       "    <tr>\n",
       "      <th>4</th>\n",
       "      <td>Andorra</td>\n",
       "      <td>35.6</td>\n",
       "      <td>5.53</td>\n",
       "    </tr>\n",
       "    <tr>\n",
       "      <th>...</th>\n",
       "      <td>...</td>\n",
       "      <td>...</td>\n",
       "      <td>...</td>\n",
       "    </tr>\n",
       "    <tr>\n",
       "      <th>225</th>\n",
       "      <td>Western Sahara</td>\n",
       "      <td>2.7</td>\n",
       "      <td>0</td>\n",
       "    </tr>\n",
       "    <tr>\n",
       "      <th>226</th>\n",
       "      <td>Yemen</td>\n",
       "      <td>1</td>\n",
       "      <td>0</td>\n",
       "    </tr>\n",
       "    <tr>\n",
       "      <th>227</th>\n",
       "      <td>Yugoslavia [former Socialist Federal Republic]</td>\n",
       "      <td>0</td>\n",
       "      <td>0</td>\n",
       "    </tr>\n",
       "    <tr>\n",
       "      <th>228</th>\n",
       "      <td>Zambia</td>\n",
       "      <td>71</td>\n",
       "      <td>36.05</td>\n",
       "    </tr>\n",
       "    <tr>\n",
       "      <th>229</th>\n",
       "      <td>Zimbabwe</td>\n",
       "      <td>57.3</td>\n",
       "      <td>16.9</td>\n",
       "    </tr>\n",
       "  </tbody>\n",
       "</table>\n",
       "<p>230 rows × 3 columns</p>\n",
       "</div>"
      ],
      "text/plain": [
       "                                            Country f1990  p1990\n",
       "0                                       Afghanistan   2.1   0.36\n",
       "1                                           Albania  28.8   0.15\n",
       "2                                           Algeria   0.7   5.97\n",
       "3                                    American Samoa    90   0.06\n",
       "4                                           Andorra  35.6   5.53\n",
       "..                                              ...   ...    ...\n",
       "225                                  Western Sahara   2.7      0\n",
       "226                                           Yemen     1      0\n",
       "227  Yugoslavia [former Socialist Federal Republic]     0      0\n",
       "228                                          Zambia    71  36.05\n",
       "229                                        Zimbabwe  57.3   16.9\n",
       "\n",
       "[230 rows x 3 columns]"
      ]
     },
     "execution_count": 83,
     "metadata": {},
     "output_type": "execute_result"
    }
   ],
   "source": [
    "for_prot.columns = [\"Country\", \"f1990\", \"p1990\"]\n",
    "for_prot"
   ]
  },
  {
   "cell_type": "code",
   "execution_count": 84,
   "metadata": {},
   "outputs": [
    {
     "data": {
      "text/html": [
       "<div>\n",
       "<style scoped>\n",
       "    .dataframe tbody tr th:only-of-type {\n",
       "        vertical-align: middle;\n",
       "    }\n",
       "\n",
       "    .dataframe tbody tr th {\n",
       "        vertical-align: top;\n",
       "    }\n",
       "\n",
       "    .dataframe thead th {\n",
       "        text-align: right;\n",
       "    }\n",
       "</style>\n",
       "<table border=\"1\" class=\"dataframe\">\n",
       "  <thead>\n",
       "    <tr style=\"text-align: right;\">\n",
       "      <th></th>\n",
       "      <th>f1990</th>\n",
       "      <th>p1990</th>\n",
       "    </tr>\n",
       "  </thead>\n",
       "  <tbody>\n",
       "    <tr>\n",
       "      <th>0</th>\n",
       "      <td>2.1</td>\n",
       "      <td>0.36</td>\n",
       "    </tr>\n",
       "    <tr>\n",
       "      <th>1</th>\n",
       "      <td>28.8</td>\n",
       "      <td>0.15</td>\n",
       "    </tr>\n",
       "    <tr>\n",
       "      <th>2</th>\n",
       "      <td>0.7</td>\n",
       "      <td>5.97</td>\n",
       "    </tr>\n",
       "    <tr>\n",
       "      <th>3</th>\n",
       "      <td>90</td>\n",
       "      <td>0.06</td>\n",
       "    </tr>\n",
       "    <tr>\n",
       "      <th>4</th>\n",
       "      <td>35.6</td>\n",
       "      <td>5.53</td>\n",
       "    </tr>\n",
       "    <tr>\n",
       "      <th>...</th>\n",
       "      <td>...</td>\n",
       "      <td>...</td>\n",
       "    </tr>\n",
       "    <tr>\n",
       "      <th>225</th>\n",
       "      <td>2.7</td>\n",
       "      <td>0</td>\n",
       "    </tr>\n",
       "    <tr>\n",
       "      <th>226</th>\n",
       "      <td>1</td>\n",
       "      <td>0</td>\n",
       "    </tr>\n",
       "    <tr>\n",
       "      <th>227</th>\n",
       "      <td>0</td>\n",
       "      <td>0</td>\n",
       "    </tr>\n",
       "    <tr>\n",
       "      <th>228</th>\n",
       "      <td>71</td>\n",
       "      <td>36.05</td>\n",
       "    </tr>\n",
       "    <tr>\n",
       "      <th>229</th>\n",
       "      <td>57.3</td>\n",
       "      <td>16.9</td>\n",
       "    </tr>\n",
       "  </tbody>\n",
       "</table>\n",
       "<p>230 rows × 2 columns</p>\n",
       "</div>"
      ],
      "text/plain": [
       "    f1990  p1990\n",
       "0     2.1   0.36\n",
       "1    28.8   0.15\n",
       "2     0.7   5.97\n",
       "3      90   0.06\n",
       "4    35.6   5.53\n",
       "..    ...    ...\n",
       "225   2.7      0\n",
       "226     1      0\n",
       "227     0      0\n",
       "228    71  36.05\n",
       "229  57.3   16.9\n",
       "\n",
       "[230 rows x 2 columns]"
      ]
     },
     "execution_count": 84,
     "metadata": {},
     "output_type": "execute_result"
    }
   ],
   "source": [
    "for_prot.drop([\"Country\"], axis = 1)"
   ]
  },
  {
   "cell_type": "code",
   "execution_count": 85,
   "metadata": {},
   "outputs": [
    {
     "data": {
      "text/html": [
       "<div>\n",
       "<style scoped>\n",
       "    .dataframe tbody tr th:only-of-type {\n",
       "        vertical-align: middle;\n",
       "    }\n",
       "\n",
       "    .dataframe tbody tr th {\n",
       "        vertical-align: top;\n",
       "    }\n",
       "\n",
       "    .dataframe thead th {\n",
       "        text-align: right;\n",
       "    }\n",
       "</style>\n",
       "<table border=\"1\" class=\"dataframe\">\n",
       "  <thead>\n",
       "    <tr style=\"text-align: right;\">\n",
       "      <th></th>\n",
       "    </tr>\n",
       "  </thead>\n",
       "  <tbody>\n",
       "  </tbody>\n",
       "</table>\n",
       "</div>"
      ],
      "text/plain": [
       "Empty DataFrame\n",
       "Columns: []\n",
       "Index: []"
      ]
     },
     "execution_count": 85,
     "metadata": {},
     "output_type": "execute_result"
    }
   ],
   "source": [
    "for_prot.corr()"
   ]
  },
  {
   "cell_type": "code",
   "execution_count": 86,
   "metadata": {},
   "outputs": [],
   "source": [
    "for_prot_log = for_prot\n",
    "for_prot_log['log_f1990'] = np.log10(for_prot['f1990'].astype(float))\n",
    "for_prot_log['log_p1990'] = np.log10(for_prot['p1990'].astype(float))\n",
    "#for_prot_log"
   ]
  },
  {
   "cell_type": "code",
   "execution_count": 87,
   "metadata": {},
   "outputs": [],
   "source": [
    "for_prot_log1 = for_prot_log.drop([\"f1990\",\"p1990\"], axis = 1)\n",
    "#for_prot_log1"
   ]
  },
  {
   "cell_type": "code",
   "execution_count": 88,
   "metadata": {},
   "outputs": [
    {
     "data": {
      "text/html": [
       "<div>\n",
       "<style scoped>\n",
       "    .dataframe tbody tr th:only-of-type {\n",
       "        vertical-align: middle;\n",
       "    }\n",
       "\n",
       "    .dataframe tbody tr th {\n",
       "        vertical-align: top;\n",
       "    }\n",
       "\n",
       "    .dataframe thead th {\n",
       "        text-align: right;\n",
       "    }\n",
       "</style>\n",
       "<table border=\"1\" class=\"dataframe\">\n",
       "  <thead>\n",
       "    <tr style=\"text-align: right;\">\n",
       "      <th></th>\n",
       "      <th>Country</th>\n",
       "      <th>log_f1990</th>\n",
       "      <th>log_p1990</th>\n",
       "    </tr>\n",
       "  </thead>\n",
       "  <tbody>\n",
       "    <tr>\n",
       "      <th>0</th>\n",
       "      <td>Afghanistan</td>\n",
       "      <td>0.322219</td>\n",
       "      <td>-0.443697</td>\n",
       "    </tr>\n",
       "    <tr>\n",
       "      <th>1</th>\n",
       "      <td>Albania</td>\n",
       "      <td>1.459392</td>\n",
       "      <td>-0.823909</td>\n",
       "    </tr>\n",
       "    <tr>\n",
       "      <th>2</th>\n",
       "      <td>Algeria</td>\n",
       "      <td>-0.154902</td>\n",
       "      <td>0.775974</td>\n",
       "    </tr>\n",
       "    <tr>\n",
       "      <th>3</th>\n",
       "      <td>American Samoa</td>\n",
       "      <td>1.954243</td>\n",
       "      <td>-1.221849</td>\n",
       "    </tr>\n",
       "    <tr>\n",
       "      <th>4</th>\n",
       "      <td>Andorra</td>\n",
       "      <td>1.551450</td>\n",
       "      <td>0.742725</td>\n",
       "    </tr>\n",
       "    <tr>\n",
       "      <th>...</th>\n",
       "      <td>...</td>\n",
       "      <td>...</td>\n",
       "      <td>...</td>\n",
       "    </tr>\n",
       "    <tr>\n",
       "      <th>221</th>\n",
       "      <td>Vanuatu</td>\n",
       "      <td>1.557507</td>\n",
       "      <td>-1.096910</td>\n",
       "    </tr>\n",
       "    <tr>\n",
       "      <th>222</th>\n",
       "      <td>Venezuela</td>\n",
       "      <td>1.770852</td>\n",
       "      <td>1.429752</td>\n",
       "    </tr>\n",
       "    <tr>\n",
       "      <th>223</th>\n",
       "      <td>Viet Nam</td>\n",
       "      <td>1.480007</td>\n",
       "      <td>0.198657</td>\n",
       "    </tr>\n",
       "    <tr>\n",
       "      <th>228</th>\n",
       "      <td>Zambia</td>\n",
       "      <td>1.851258</td>\n",
       "      <td>1.556905</td>\n",
       "    </tr>\n",
       "    <tr>\n",
       "      <th>229</th>\n",
       "      <td>Zimbabwe</td>\n",
       "      <td>1.758155</td>\n",
       "      <td>1.227887</td>\n",
       "    </tr>\n",
       "  </tbody>\n",
       "</table>\n",
       "<p>184 rows × 3 columns</p>\n",
       "</div>"
      ],
      "text/plain": [
       "            Country  log_f1990  log_p1990\n",
       "0       Afghanistan   0.322219  -0.443697\n",
       "1           Albania   1.459392  -0.823909\n",
       "2           Algeria  -0.154902   0.775974\n",
       "3    American Samoa   1.954243  -1.221849\n",
       "4           Andorra   1.551450   0.742725\n",
       "..              ...        ...        ...\n",
       "221         Vanuatu   1.557507  -1.096910\n",
       "222       Venezuela   1.770852   1.429752\n",
       "223        Viet Nam   1.480007   0.198657\n",
       "228          Zambia   1.851258   1.556905\n",
       "229        Zimbabwe   1.758155   1.227887\n",
       "\n",
       "[184 rows x 3 columns]"
      ]
     },
     "execution_count": 88,
     "metadata": {},
     "output_type": "execute_result"
    }
   ],
   "source": [
    "for_prot_log2 = for_prot_log1[~for_prot_log1.isin([np.nan, np.inf, -np.inf]).any(1)]\n",
    "for_prot_log2"
   ]
  },
  {
   "cell_type": "code",
   "execution_count": 89,
   "metadata": {},
   "outputs": [
    {
     "data": {
      "text/html": [
       "<div>\n",
       "<style scoped>\n",
       "    .dataframe tbody tr th:only-of-type {\n",
       "        vertical-align: middle;\n",
       "    }\n",
       "\n",
       "    .dataframe tbody tr th {\n",
       "        vertical-align: top;\n",
       "    }\n",
       "\n",
       "    .dataframe thead th {\n",
       "        text-align: right;\n",
       "    }\n",
       "</style>\n",
       "<table border=\"1\" class=\"dataframe\">\n",
       "  <thead>\n",
       "    <tr style=\"text-align: right;\">\n",
       "      <th></th>\n",
       "      <th>log_f1990</th>\n",
       "      <th>log_p1990</th>\n",
       "    </tr>\n",
       "  </thead>\n",
       "  <tbody>\n",
       "    <tr>\n",
       "      <th>0</th>\n",
       "      <td>0.322219</td>\n",
       "      <td>-0.443697</td>\n",
       "    </tr>\n",
       "    <tr>\n",
       "      <th>1</th>\n",
       "      <td>1.459392</td>\n",
       "      <td>-0.823909</td>\n",
       "    </tr>\n",
       "    <tr>\n",
       "      <th>2</th>\n",
       "      <td>-0.154902</td>\n",
       "      <td>0.775974</td>\n",
       "    </tr>\n",
       "    <tr>\n",
       "      <th>3</th>\n",
       "      <td>1.954243</td>\n",
       "      <td>-1.221849</td>\n",
       "    </tr>\n",
       "    <tr>\n",
       "      <th>4</th>\n",
       "      <td>1.551450</td>\n",
       "      <td>0.742725</td>\n",
       "    </tr>\n",
       "    <tr>\n",
       "      <th>...</th>\n",
       "      <td>...</td>\n",
       "      <td>...</td>\n",
       "    </tr>\n",
       "    <tr>\n",
       "      <th>221</th>\n",
       "      <td>1.557507</td>\n",
       "      <td>-1.096910</td>\n",
       "    </tr>\n",
       "    <tr>\n",
       "      <th>222</th>\n",
       "      <td>1.770852</td>\n",
       "      <td>1.429752</td>\n",
       "    </tr>\n",
       "    <tr>\n",
       "      <th>223</th>\n",
       "      <td>1.480007</td>\n",
       "      <td>0.198657</td>\n",
       "    </tr>\n",
       "    <tr>\n",
       "      <th>228</th>\n",
       "      <td>1.851258</td>\n",
       "      <td>1.556905</td>\n",
       "    </tr>\n",
       "    <tr>\n",
       "      <th>229</th>\n",
       "      <td>1.758155</td>\n",
       "      <td>1.227887</td>\n",
       "    </tr>\n",
       "  </tbody>\n",
       "</table>\n",
       "<p>184 rows × 2 columns</p>\n",
       "</div>"
      ],
      "text/plain": [
       "     log_f1990  log_p1990\n",
       "0     0.322219  -0.443697\n",
       "1     1.459392  -0.823909\n",
       "2    -0.154902   0.775974\n",
       "3     1.954243  -1.221849\n",
       "4     1.551450   0.742725\n",
       "..         ...        ...\n",
       "221   1.557507  -1.096910\n",
       "222   1.770852   1.429752\n",
       "223   1.480007   0.198657\n",
       "228   1.851258   1.556905\n",
       "229   1.758155   1.227887\n",
       "\n",
       "[184 rows x 2 columns]"
      ]
     },
     "execution_count": 89,
     "metadata": {},
     "output_type": "execute_result"
    }
   ],
   "source": [
    "for_prot_log3 = for_prot_log2.drop([\"Country\"], axis = 1)\n",
    "for_prot_log3"
   ]
  },
  {
   "cell_type": "code",
   "execution_count": 90,
   "metadata": {},
   "outputs": [
    {
     "data": {
      "text/html": [
       "<div>\n",
       "<style scoped>\n",
       "    .dataframe tbody tr th:only-of-type {\n",
       "        vertical-align: middle;\n",
       "    }\n",
       "\n",
       "    .dataframe tbody tr th {\n",
       "        vertical-align: top;\n",
       "    }\n",
       "\n",
       "    .dataframe thead th {\n",
       "        text-align: right;\n",
       "    }\n",
       "</style>\n",
       "<table border=\"1\" class=\"dataframe\">\n",
       "  <thead>\n",
       "    <tr style=\"text-align: right;\">\n",
       "      <th></th>\n",
       "      <th>log_f1990</th>\n",
       "      <th>log_p1990</th>\n",
       "    </tr>\n",
       "  </thead>\n",
       "  <tbody>\n",
       "    <tr>\n",
       "      <th>log_f1990</th>\n",
       "      <td>1.000000</td>\n",
       "      <td>0.124373</td>\n",
       "    </tr>\n",
       "    <tr>\n",
       "      <th>log_p1990</th>\n",
       "      <td>0.124373</td>\n",
       "      <td>1.000000</td>\n",
       "    </tr>\n",
       "  </tbody>\n",
       "</table>\n",
       "</div>"
      ],
      "text/plain": [
       "           log_f1990  log_p1990\n",
       "log_f1990   1.000000   0.124373\n",
       "log_p1990   0.124373   1.000000"
      ]
     },
     "execution_count": 90,
     "metadata": {},
     "output_type": "execute_result"
    }
   ],
   "source": [
    "for_prot_log3.corr()"
   ]
  },
  {
   "cell_type": "code",
   "execution_count": 91,
   "metadata": {},
   "outputs": [
    {
     "name": "stdout",
     "output_type": "stream",
     "text": [
      "Help on function pearsonr in module scipy.stats.stats:\n",
      "\n",
      "pearsonr(x, y)\n",
      "    Pearson correlation coefficient and p-value for testing non-correlation.\n",
      "    \n",
      "    The Pearson correlation coefficient [1]_ measures the linear relationship\n",
      "    between two datasets.  The calculation of the p-value relies on the\n",
      "    assumption that each dataset is normally distributed.  (See Kowalski [3]_\n",
      "    for a discussion of the effects of non-normality of the input on the\n",
      "    distribution of the correlation coefficient.)  Like other correlation\n",
      "    coefficients, this one varies between -1 and +1 with 0 implying no\n",
      "    correlation. Correlations of -1 or +1 imply an exact linear relationship.\n",
      "    Positive correlations imply that as x increases, so does y. Negative\n",
      "    correlations imply that as x increases, y decreases.\n",
      "    \n",
      "    The p-value roughly indicates the probability of an uncorrelated system\n",
      "    producing datasets that have a Pearson correlation at least as extreme\n",
      "    as the one computed from these datasets.\n",
      "    \n",
      "    Parameters\n",
      "    ----------\n",
      "    x : (N,) array_like\n",
      "        Input array.\n",
      "    y : (N,) array_like\n",
      "        Input array.\n",
      "    \n",
      "    Returns\n",
      "    -------\n",
      "    r : float\n",
      "        Pearson's correlation coefficient.\n",
      "    p-value : float\n",
      "        Two-tailed p-value.\n",
      "    \n",
      "    Warns\n",
      "    -----\n",
      "    PearsonRConstantInputWarning\n",
      "        Raised if an input is a constant array.  The correlation coefficient\n",
      "        is not defined in this case, so ``np.nan`` is returned.\n",
      "    \n",
      "    PearsonRNearConstantInputWarning\n",
      "        Raised if an input is \"nearly\" constant.  The array ``x`` is considered\n",
      "        nearly constant if ``norm(x - mean(x)) < 1e-13 * abs(mean(x))``.\n",
      "        Numerical errors in the calculation ``x - mean(x)`` in this case might\n",
      "        result in an inaccurate calculation of r.\n",
      "    \n",
      "    See Also\n",
      "    --------\n",
      "    spearmanr : Spearman rank-order correlation coefficient.\n",
      "    kendalltau : Kendall's tau, a correlation measure for ordinal data.\n",
      "    \n",
      "    Notes\n",
      "    -----\n",
      "    The correlation coefficient is calculated as follows:\n",
      "    \n",
      "    .. math::\n",
      "    \n",
      "        r = \\frac{\\sum (x - m_x) (y - m_y)}\n",
      "                 {\\sqrt{\\sum (x - m_x)^2 \\sum (y - m_y)^2}}\n",
      "    \n",
      "    where :math:`m_x` is the mean of the vector :math:`x` and :math:`m_y` is\n",
      "    the mean of the vector :math:`y`.\n",
      "    \n",
      "    Under the assumption that x and y are drawn from independent normal\n",
      "    distributions (so the population correlation coefficient is 0), the\n",
      "    probability density function of the sample correlation coefficient r\n",
      "    is ([1]_, [2]_)::\n",
      "    \n",
      "               (1 - r**2)**(n/2 - 2)\n",
      "        f(r) = ---------------------\n",
      "                  B(1/2, n/2 - 1)\n",
      "    \n",
      "    where n is the number of samples, and B is the beta function.  This\n",
      "    is sometimes referred to as the exact distribution of r.  This is\n",
      "    the distribution that is used in `pearsonr` to compute the p-value.\n",
      "    The distribution is a beta distribution on the interval [-1, 1],\n",
      "    with equal shape parameters a = b = n/2 - 1.  In terms of SciPy's\n",
      "    implementation of the beta distribution, the distribution of r is::\n",
      "    \n",
      "        dist = scipy.stats.beta(n/2 - 1, n/2 - 1, loc=-1, scale=2)\n",
      "    \n",
      "    The p-value returned by `pearsonr` is a two-sided p-value.  For a\n",
      "    given sample with correlation coefficient r, the p-value is\n",
      "    the probability that abs(r') of a random sample x' and y' drawn from\n",
      "    the population with zero correlation would be greater than or equal\n",
      "    to abs(r).  In terms of the object ``dist`` shown above, the p-value\n",
      "    for a given r and length n can be computed as::\n",
      "    \n",
      "        p = 2*dist.cdf(-abs(r))\n",
      "    \n",
      "    When n is 2, the above continuous distribution is not well-defined.\n",
      "    One can interpret the limit of the beta distribution as the shape\n",
      "    parameters a and b approach a = b = 0 as a discrete distribution with\n",
      "    equal probability masses at r = 1 and r = -1.  More directly, one\n",
      "    can observe that, given the data x = [x1, x2] and y = [y1, y2], and\n",
      "    assuming x1 != x2 and y1 != y2, the only possible values for r are 1\n",
      "    and -1.  Because abs(r') for any sample x' and y' with length 2 will\n",
      "    be 1, the two-sided p-value for a sample of length 2 is always 1.\n",
      "    \n",
      "    References\n",
      "    ----------\n",
      "    .. [1] \"Pearson correlation coefficient\", Wikipedia,\n",
      "           https://en.wikipedia.org/wiki/Pearson_correlation_coefficient\n",
      "    .. [2] Student, \"Probable error of a correlation coefficient\",\n",
      "           Biometrika, Volume 6, Issue 2-3, 1 September 1908, pp. 302-310.\n",
      "    .. [3] C. J. Kowalski, \"On the Effects of Non-Normality on the Distribution\n",
      "           of the Sample Product-Moment Correlation Coefficient\"\n",
      "           Journal of the Royal Statistical Society. Series C (Applied\n",
      "           Statistics), Vol. 21, No. 1 (1972), pp. 1-12.\n",
      "    \n",
      "    Examples\n",
      "    --------\n",
      "    >>> from scipy import stats\n",
      "    >>> a = np.array([0, 0, 0, 1, 1, 1, 1])\n",
      "    >>> b = np.arange(7)\n",
      "    >>> stats.pearsonr(a, b)\n",
      "    (0.8660254037844386, 0.011724811003954649)\n",
      "    \n",
      "    >>> stats.pearsonr([1, 2, 3, 4, 5], [10, 9, 2.5, 6, 4])\n",
      "    (-0.7426106572325057, 0.1505558088534455)\n",
      "\n"
     ]
    }
   ],
   "source": [
    "#from scipy.stats.stats import pearsonr\n",
    "help(pearsonr)"
   ]
  },
  {
   "cell_type": "code",
   "execution_count": null,
   "metadata": {},
   "outputs": [],
   "source": []
  }
 ],
 "metadata": {
  "kernelspec": {
   "display_name": "Python 3",
   "language": "python",
   "name": "python3"
  },
  "language_info": {
   "codemirror_mode": {
    "name": "ipython",
    "version": 3
   },
   "file_extension": ".py",
   "mimetype": "text/x-python",
   "name": "python",
   "nbconvert_exporter": "python",
   "pygments_lexer": "ipython3",
   "version": "3.6.9"
  }
 },
 "nbformat": 4,
 "nbformat_minor": 4
}
