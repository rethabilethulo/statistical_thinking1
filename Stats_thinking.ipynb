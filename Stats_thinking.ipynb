{
 "cells": [
  {
   "cell_type": "markdown",
   "metadata": {},
   "source": [
    "# Introduction"
   ]
  },
  {
   "cell_type": "markdown",
   "metadata": {},
   "source": [
    "In this notebook I was exploring and analyzing data from the Millennium Development Goals(MDG).A set of 8 Goals for 2015were defined by the United Nations to help improve living conditions and the condition of our planet.Key indicators were defined for each of the goals .In this project I had to work with Goal 7 which is to ensure environmental sustainability of carbon dioxide(CO2)emissions protected land and sea areas,and forests.I had to find the measure of central tendency,describe distributions and interpret it's histogram and know what outliers are and know how they affect measures of central tendency. "
   ]
  },
  {
   "cell_type": "markdown",
   "metadata": {},
   "source": [
    "### Importing needed modules"
   ]
  },
  {
   "cell_type": "code",
   "execution_count": 1,
   "metadata": {},
   "outputs": [],
   "source": [
    "import pandas as pd\n",
    "import numpy as np\n",
    "import matplotlib.pyplot as plt\n",
    "import seaborn as sns\n",
    "import matplotlib as mpl\n",
    "from scipy.stats import stats\n",
    "import warnings\n",
    "warnings.filterwarnings(\"ignore\")\n",
    "from scipy.stats.stats import pearsonr\n",
    "%matplotlib inline\n",
    "\n",
    "from itertools import chain"
   ]
  },
  {
   "cell_type": "markdown",
   "metadata": {},
   "source": [
    "# Examining dataframe"
   ]
  },
  {
   "cell_type": "code",
   "execution_count": 2,
   "metadata": {},
   "outputs": [
    {
     "data": {
      "text/html": [
       "<div>\n",
       "<style scoped>\n",
       "    .dataframe tbody tr th:only-of-type {\n",
       "        vertical-align: middle;\n",
       "    }\n",
       "\n",
       "    .dataframe tbody tr th {\n",
       "        vertical-align: top;\n",
       "    }\n",
       "\n",
       "    .dataframe thead th {\n",
       "        text-align: right;\n",
       "    }\n",
       "</style>\n",
       "<table border=\"1\" class=\"dataframe\">\n",
       "  <thead>\n",
       "    <tr style=\"text-align: right;\">\n",
       "      <th></th>\n",
       "      <th>CountryCode</th>\n",
       "      <th>Country</th>\n",
       "      <th>SeriesCode</th>\n",
       "      <th>MDG</th>\n",
       "      <th>Series</th>\n",
       "      <th>1990</th>\n",
       "      <th>Footnotes</th>\n",
       "      <th>Type</th>\n",
       "      <th>1991</th>\n",
       "      <th>Footnotes.1</th>\n",
       "      <th>...</th>\n",
       "      <th>Type.26</th>\n",
       "      <th>2017</th>\n",
       "      <th>Footnotes.27</th>\n",
       "      <th>Type.27</th>\n",
       "      <th>2018</th>\n",
       "      <th>Footnotes.28</th>\n",
       "      <th>Type.28</th>\n",
       "      <th>2019</th>\n",
       "      <th>Footnotes.29</th>\n",
       "      <th>Type.29</th>\n",
       "    </tr>\n",
       "  </thead>\n",
       "  <tbody>\n",
       "    <tr>\n",
       "      <th>0</th>\n",
       "      <td>4</td>\n",
       "      <td>Afghanistan</td>\n",
       "      <td>567</td>\n",
       "      <td>Y</td>\n",
       "      <td>Proportion of land area covered by forest, per...</td>\n",
       "      <td>2.1</td>\n",
       "      <td>NaN</td>\n",
       "      <td>E</td>\n",
       "      <td></td>\n",
       "      <td></td>\n",
       "      <td>...</td>\n",
       "      <td></td>\n",
       "      <td></td>\n",
       "      <td></td>\n",
       "      <td></td>\n",
       "      <td></td>\n",
       "      <td></td>\n",
       "      <td></td>\n",
       "      <td></td>\n",
       "      <td></td>\n",
       "      <td></td>\n",
       "    </tr>\n",
       "    <tr>\n",
       "      <th>1</th>\n",
       "      <td>4</td>\n",
       "      <td>Afghanistan</td>\n",
       "      <td>749</td>\n",
       "      <td>Y</td>\n",
       "      <td>Carbon dioxide emissions (CO2), thousand metri...</td>\n",
       "      <td>2676.9</td>\n",
       "      <td>NaN</td>\n",
       "      <td>G</td>\n",
       "      <td>2493.6</td>\n",
       "      <td>NaN</td>\n",
       "      <td>...</td>\n",
       "      <td></td>\n",
       "      <td></td>\n",
       "      <td></td>\n",
       "      <td></td>\n",
       "      <td></td>\n",
       "      <td></td>\n",
       "      <td></td>\n",
       "      <td></td>\n",
       "      <td></td>\n",
       "      <td></td>\n",
       "    </tr>\n",
       "    <tr>\n",
       "      <th>2</th>\n",
       "      <td>4</td>\n",
       "      <td>Afghanistan</td>\n",
       "      <td>616</td>\n",
       "      <td>Y</td>\n",
       "      <td>Terrestrial and marine areas protected to tota...</td>\n",
       "      <td>0.36</td>\n",
       "      <td>NaN</td>\n",
       "      <td>C</td>\n",
       "      <td></td>\n",
       "      <td></td>\n",
       "      <td>...</td>\n",
       "      <td></td>\n",
       "      <td></td>\n",
       "      <td></td>\n",
       "      <td></td>\n",
       "      <td></td>\n",
       "      <td></td>\n",
       "      <td></td>\n",
       "      <td></td>\n",
       "      <td></td>\n",
       "      <td></td>\n",
       "    </tr>\n",
       "  </tbody>\n",
       "</table>\n",
       "<p>3 rows × 95 columns</p>\n",
       "</div>"
      ],
      "text/plain": [
       "   CountryCode      Country  SeriesCode MDG  \\\n",
       "0            4  Afghanistan         567   Y   \n",
       "1            4  Afghanistan         749   Y   \n",
       "2            4  Afghanistan         616   Y   \n",
       "\n",
       "                                              Series    1990 Footnotes Type  \\\n",
       "0  Proportion of land area covered by forest, per...     2.1       NaN    E   \n",
       "1  Carbon dioxide emissions (CO2), thousand metri...  2676.9       NaN    G   \n",
       "2  Terrestrial and marine areas protected to tota...    0.36       NaN    C   \n",
       "\n",
       "     1991 Footnotes.1  ... Type.26 2017 Footnotes.27 Type.27 2018  \\\n",
       "0                      ...                                          \n",
       "1  2493.6         NaN  ...                                          \n",
       "2                      ...                                          \n",
       "\n",
       "  Footnotes.28 Type.28 2019 Footnotes.29 Type.29  \n",
       "0                                                 \n",
       "1                                                 \n",
       "2                                                 \n",
       "\n",
       "[3 rows x 95 columns]"
      ]
     },
     "execution_count": 2,
     "metadata": {},
     "output_type": "execute_result"
    }
   ],
   "source": [
    "stats = pd.read_csv(\"MDG_Export_20191227 (1).csv\")\n",
    "stats.head(3)"
   ]
  },
  {
   "cell_type": "code",
   "execution_count": 3,
   "metadata": {},
   "outputs": [
    {
     "name": "stdout",
     "output_type": "stream",
     "text": [
      "<class 'pandas.core.frame.DataFrame'>\n",
      "RangeIndex: 690 entries, 0 to 689\n",
      "Data columns (total 95 columns):\n",
      " #   Column        Non-Null Count  Dtype \n",
      "---  ------        --------------  ----- \n",
      " 0   CountryCode   690 non-null    int64 \n",
      " 1   Country       690 non-null    object\n",
      " 2   SeriesCode    690 non-null    int64 \n",
      " 3   MDG           690 non-null    object\n",
      " 4   Series        690 non-null    object\n",
      " 5   1990          689 non-null    object\n",
      " 6   Footnotes     67 non-null     object\n",
      " 7   Type          690 non-null    object\n",
      " 8   1991          690 non-null    object\n",
      " 9   Footnotes.1   508 non-null    object\n",
      " 10  Type.1        690 non-null    object\n",
      " 11  1992          690 non-null    object\n",
      " 12  Footnotes.2   486 non-null    object\n",
      " 13  Type.2        690 non-null    object\n",
      " 14  1993          690 non-null    object\n",
      " 15  Footnotes.3   486 non-null    object\n",
      " 16  Type.3        690 non-null    object\n",
      " 17  1994          690 non-null    object\n",
      " 18  Footnotes.4   485 non-null    object\n",
      " 19  Type.4        690 non-null    object\n",
      " 20  1995          690 non-null    object\n",
      " 21  Footnotes.5   483 non-null    object\n",
      " 22  Type.5        690 non-null    object\n",
      " 23  1996          690 non-null    object\n",
      " 24  Footnotes.6   484 non-null    object\n",
      " 25  Type.6        690 non-null    object\n",
      " 26  1997          690 non-null    object\n",
      " 27  Footnotes.7   481 non-null    object\n",
      " 28  Type.7        690 non-null    object\n",
      " 29  1998          690 non-null    object\n",
      " 30  Footnotes.8   481 non-null    object\n",
      " 31  Type.8        690 non-null    object\n",
      " 32  1999          690 non-null    object\n",
      " 33  Footnotes.9   481 non-null    object\n",
      " 34  Type.9        690 non-null    object\n",
      " 35  2000          689 non-null    object\n",
      " 36  Footnotes.10  38 non-null     object\n",
      " 37  Type.10       690 non-null    object\n",
      " 38  2001          690 non-null    object\n",
      " 39  Footnotes.11  479 non-null    object\n",
      " 40  Type.11       690 non-null    object\n",
      " 41  2002          690 non-null    object\n",
      " 42  Footnotes.12  478 non-null    object\n",
      " 43  Type.12       690 non-null    object\n",
      " 44  2003          690 non-null    object\n",
      " 45  Footnotes.13  478 non-null    object\n",
      " 46  Type.13       690 non-null    object\n",
      " 47  2004          690 non-null    object\n",
      " 48  Footnotes.14  478 non-null    object\n",
      " 49  Type.14       690 non-null    object\n",
      " 50  2005          689 non-null    object\n",
      " 51  Footnotes.15  258 non-null    object\n",
      " 52  Type.15       690 non-null    object\n",
      " 53  2006          690 non-null    object\n",
      " 54  Footnotes.16  476 non-null    object\n",
      " 55  Type.16       690 non-null    object\n",
      " 56  2007          690 non-null    object\n",
      " 57  Footnotes.17  475 non-null    object\n",
      " 58  Type.17       690 non-null    object\n",
      " 59  2008          690 non-null    object\n",
      " 60  Footnotes.18  475 non-null    object\n",
      " 61  Type.18       690 non-null    object\n",
      " 62  2009          690 non-null    object\n",
      " 63  Footnotes.19  475 non-null    object\n",
      " 64  Type.19       690 non-null    object\n",
      " 65  2010          689 non-null    object\n",
      " 66  Footnotes.20  256 non-null    object\n",
      " 67  Type.20       690 non-null    object\n",
      " 68  2011          690 non-null    object\n",
      " 69  Footnotes.21  475 non-null    object\n",
      " 70  Type.21       690 non-null    object\n",
      " 71  2012          690 non-null    object\n",
      " 72  Footnotes.22  690 non-null    object\n",
      " 73  Type.22       690 non-null    object\n",
      " 74  2013          690 non-null    object\n",
      " 75  Footnotes.23  690 non-null    object\n",
      " 76  Type.23       690 non-null    object\n",
      " 77  2014          690 non-null    object\n",
      " 78  Footnotes.24  467 non-null    object\n",
      " 79  Type.24       690 non-null    object\n",
      " 80  2015          690 non-null    object\n",
      " 81  Footnotes.25  690 non-null    object\n",
      " 82  Type.25       690 non-null    object\n",
      " 83  2016          690 non-null    object\n",
      " 84  Footnotes.26  690 non-null    object\n",
      " 85  Type.26       690 non-null    object\n",
      " 86  2017          690 non-null    object\n",
      " 87  Footnotes.27  690 non-null    object\n",
      " 88  Type.27       690 non-null    object\n",
      " 89  2018          690 non-null    object\n",
      " 90  Footnotes.28  690 non-null    object\n",
      " 91  Type.28       690 non-null    object\n",
      " 92  2019          690 non-null    object\n",
      " 93  Footnotes.29  690 non-null    object\n",
      " 94  Type.29       690 non-null    object\n",
      "dtypes: int64(2), object(93)\n",
      "memory usage: 512.2+ KB\n"
     ]
    }
   ],
   "source": [
    "stats.info()"
   ]
  },
  {
   "cell_type": "markdown",
   "metadata": {},
   "source": [
    "# Checking Statistical summary"
   ]
  },
  {
   "cell_type": "code",
   "execution_count": 4,
   "metadata": {},
   "outputs": [
    {
     "data": {
      "text/html": [
       "<div>\n",
       "<style scoped>\n",
       "    .dataframe tbody tr th:only-of-type {\n",
       "        vertical-align: middle;\n",
       "    }\n",
       "\n",
       "    .dataframe tbody tr th {\n",
       "        vertical-align: top;\n",
       "    }\n",
       "\n",
       "    .dataframe thead th {\n",
       "        text-align: right;\n",
       "    }\n",
       "</style>\n",
       "<table border=\"1\" class=\"dataframe\">\n",
       "  <thead>\n",
       "    <tr style=\"text-align: right;\">\n",
       "      <th></th>\n",
       "      <th>CountryCode</th>\n",
       "      <th>SeriesCode</th>\n",
       "    </tr>\n",
       "  </thead>\n",
       "  <tbody>\n",
       "    <tr>\n",
       "      <th>count</th>\n",
       "      <td>690.000000</td>\n",
       "      <td>690.000000</td>\n",
       "    </tr>\n",
       "    <tr>\n",
       "      <th>mean</th>\n",
       "      <td>439.465217</td>\n",
       "      <td>644.000000</td>\n",
       "    </tr>\n",
       "    <tr>\n",
       "      <th>std</th>\n",
       "      <td>254.138802</td>\n",
       "      <td>76.949647</td>\n",
       "    </tr>\n",
       "    <tr>\n",
       "      <th>min</th>\n",
       "      <td>4.000000</td>\n",
       "      <td>567.000000</td>\n",
       "    </tr>\n",
       "    <tr>\n",
       "      <th>25%</th>\n",
       "      <td>222.000000</td>\n",
       "      <td>567.000000</td>\n",
       "    </tr>\n",
       "    <tr>\n",
       "      <th>50%</th>\n",
       "      <td>439.000000</td>\n",
       "      <td>616.000000</td>\n",
       "    </tr>\n",
       "    <tr>\n",
       "      <th>75%</th>\n",
       "      <td>660.000000</td>\n",
       "      <td>749.000000</td>\n",
       "    </tr>\n",
       "    <tr>\n",
       "      <th>max</th>\n",
       "      <td>894.000000</td>\n",
       "      <td>749.000000</td>\n",
       "    </tr>\n",
       "  </tbody>\n",
       "</table>\n",
       "</div>"
      ],
      "text/plain": [
       "       CountryCode  SeriesCode\n",
       "count   690.000000  690.000000\n",
       "mean    439.465217  644.000000\n",
       "std     254.138802   76.949647\n",
       "min       4.000000  567.000000\n",
       "25%     222.000000  567.000000\n",
       "50%     439.000000  616.000000\n",
       "75%     660.000000  749.000000\n",
       "max     894.000000  749.000000"
      ]
     },
     "execution_count": 4,
     "metadata": {},
     "output_type": "execute_result"
    }
   ],
   "source": [
    "stats.describe()"
   ]
  },
  {
   "cell_type": "code",
   "execution_count": 5,
   "metadata": {},
   "outputs": [
    {
     "data": {
      "text/plain": [
       "{dtype('int64'): Index(['CountryCode', 'SeriesCode'], dtype='object'),\n",
       " dtype('O'): Index(['Country', 'MDG', 'Series', '1990', 'Footnotes', 'Type', '1991',\n",
       "        'Footnotes.1', 'Type.1', '1992', 'Footnotes.2', 'Type.2', '1993',\n",
       "        'Footnotes.3', 'Type.3', '1994', 'Footnotes.4', 'Type.4', '1995',\n",
       "        'Footnotes.5', 'Type.5', '1996', 'Footnotes.6', 'Type.6', '1997',\n",
       "        'Footnotes.7', 'Type.7', '1998', 'Footnotes.8', 'Type.8', '1999',\n",
       "        'Footnotes.9', 'Type.9', '2000', 'Footnotes.10', 'Type.10', '2001',\n",
       "        'Footnotes.11', 'Type.11', '2002', 'Footnotes.12', 'Type.12', '2003',\n",
       "        'Footnotes.13', 'Type.13', '2004', 'Footnotes.14', 'Type.14', '2005',\n",
       "        'Footnotes.15', 'Type.15', '2006', 'Footnotes.16', 'Type.16', '2007',\n",
       "        'Footnotes.17', 'Type.17', '2008', 'Footnotes.18', 'Type.18', '2009',\n",
       "        'Footnotes.19', 'Type.19', '2010', 'Footnotes.20', 'Type.20', '2011',\n",
       "        'Footnotes.21', 'Type.21', '2012', 'Footnotes.22', 'Type.22', '2013',\n",
       "        'Footnotes.23', 'Type.23', '2014', 'Footnotes.24', 'Type.24', '2015',\n",
       "        'Footnotes.25', 'Type.25', '2016', 'Footnotes.26', 'Type.26', '2017',\n",
       "        'Footnotes.27', 'Type.27', '2018', 'Footnotes.28', 'Type.28', '2019',\n",
       "        'Footnotes.29', 'Type.29'],\n",
       "       dtype='object')}"
      ]
     },
     "execution_count": 5,
     "metadata": {},
     "output_type": "execute_result"
    }
   ],
   "source": [
    "#checking data type columns\n",
    "stats.columns.to_series().groupby(stats.dtypes).groups"
   ]
  },
  {
   "cell_type": "code",
   "execution_count": 6,
   "metadata": {},
   "outputs": [
    {
     "data": {
      "text/plain": [
       "object    93\n",
       "int64      2\n",
       "dtype: int64"
      ]
     },
     "execution_count": 6,
     "metadata": {},
     "output_type": "execute_result"
    }
   ],
   "source": [
    "#Checking data types\n",
    "\n",
    "stats.dtypes.value_counts()"
   ]
  },
  {
   "cell_type": "markdown",
   "metadata": {},
   "source": [
    "# Cleaning And Preparing Data"
   ]
  },
  {
   "cell_type": "code",
   "execution_count": 7,
   "metadata": {},
   "outputs": [
    {
     "data": {
      "text/html": [
       "<div>\n",
       "<style scoped>\n",
       "    .dataframe tbody tr th:only-of-type {\n",
       "        vertical-align: middle;\n",
       "    }\n",
       "\n",
       "    .dataframe tbody tr th {\n",
       "        vertical-align: top;\n",
       "    }\n",
       "\n",
       "    .dataframe thead th {\n",
       "        text-align: right;\n",
       "    }\n",
       "</style>\n",
       "<table border=\"1\" class=\"dataframe\">\n",
       "  <thead>\n",
       "    <tr style=\"text-align: right;\">\n",
       "      <th></th>\n",
       "      <th>CountryCode</th>\n",
       "      <th>Country</th>\n",
       "      <th>SeriesCode</th>\n",
       "      <th>MDG</th>\n",
       "      <th>Series</th>\n",
       "      <th>1990</th>\n",
       "      <th>1991</th>\n",
       "      <th>1992</th>\n",
       "      <th>1993</th>\n",
       "      <th>1994</th>\n",
       "      <th>...</th>\n",
       "      <th>2006</th>\n",
       "      <th>2007</th>\n",
       "      <th>2008</th>\n",
       "      <th>2009</th>\n",
       "      <th>2010</th>\n",
       "      <th>2011</th>\n",
       "      <th>2012</th>\n",
       "      <th>2013</th>\n",
       "      <th>2014</th>\n",
       "      <th>2015</th>\n",
       "    </tr>\n",
       "  </thead>\n",
       "  <tbody>\n",
       "    <tr>\n",
       "      <th>0</th>\n",
       "      <td>4</td>\n",
       "      <td>Afghanistan</td>\n",
       "      <td>567</td>\n",
       "      <td>Y</td>\n",
       "      <td>Proportion of land area covered by forest, per...</td>\n",
       "      <td>2.1</td>\n",
       "      <td></td>\n",
       "      <td></td>\n",
       "      <td></td>\n",
       "      <td></td>\n",
       "      <td>...</td>\n",
       "      <td></td>\n",
       "      <td></td>\n",
       "      <td></td>\n",
       "      <td></td>\n",
       "      <td>2.1</td>\n",
       "      <td></td>\n",
       "      <td></td>\n",
       "      <td></td>\n",
       "      <td></td>\n",
       "      <td></td>\n",
       "    </tr>\n",
       "  </tbody>\n",
       "</table>\n",
       "<p>1 rows × 31 columns</p>\n",
       "</div>"
      ],
      "text/plain": [
       "   CountryCode      Country  SeriesCode MDG  \\\n",
       "0            4  Afghanistan         567   Y   \n",
       "\n",
       "                                              Series 1990 1991 1992 1993 1994  \\\n",
       "0  Proportion of land area covered by forest, per...  2.1                       \n",
       "\n",
       "   ... 2006 2007 2008 2009 2010 2011 2012 2013 2014 2015  \n",
       "0  ...                      2.1                           \n",
       "\n",
       "[1 rows x 31 columns]"
      ]
     },
     "execution_count": 7,
     "metadata": {},
     "output_type": "execute_result"
    }
   ],
   "source": [
    "# Removing columns that I don't need\n",
    "\n",
    "for row in stats:\n",
    "    if \"Footnotes\" in row:\n",
    "        del stats[row]\n",
    "    elif \"Type\" in row:\n",
    "        del stats[row]\n",
    "    elif \"2016\" in row:\n",
    "        del stats[row]\n",
    "    elif \"2017\" in row:\n",
    "        del stats[row]\n",
    "    elif \"2018\" in row:\n",
    "        del stats[row]\n",
    "    elif \"2019\" in row:\n",
    "        del stats[row]\n",
    "        \n",
    "stats.head(1)        "
   ]
  },
  {
   "cell_type": "code",
   "execution_count": 8,
   "metadata": {},
   "outputs": [
    {
     "data": {
      "text/html": [
       "<div>\n",
       "<style scoped>\n",
       "    .dataframe tbody tr th:only-of-type {\n",
       "        vertical-align: middle;\n",
       "    }\n",
       "\n",
       "    .dataframe tbody tr th {\n",
       "        vertical-align: top;\n",
       "    }\n",
       "\n",
       "    .dataframe thead th {\n",
       "        text-align: right;\n",
       "    }\n",
       "</style>\n",
       "<table border=\"1\" class=\"dataframe\">\n",
       "  <thead>\n",
       "    <tr style=\"text-align: right;\">\n",
       "      <th></th>\n",
       "      <th>CountryCode</th>\n",
       "      <th>Country</th>\n",
       "      <th>SeriesCode</th>\n",
       "      <th>MDG</th>\n",
       "      <th>Series</th>\n",
       "      <th>1990</th>\n",
       "      <th>1991</th>\n",
       "      <th>1992</th>\n",
       "      <th>1993</th>\n",
       "      <th>1994</th>\n",
       "      <th>...</th>\n",
       "      <th>2006</th>\n",
       "      <th>2007</th>\n",
       "      <th>2008</th>\n",
       "      <th>2009</th>\n",
       "      <th>2010</th>\n",
       "      <th>2011</th>\n",
       "      <th>2012</th>\n",
       "      <th>2013</th>\n",
       "      <th>2014</th>\n",
       "      <th>2015</th>\n",
       "    </tr>\n",
       "  </thead>\n",
       "  <tbody>\n",
       "    <tr>\n",
       "      <th>0</th>\n",
       "      <td>4</td>\n",
       "      <td>Afghanistan</td>\n",
       "      <td>567</td>\n",
       "      <td>Y</td>\n",
       "      <td>Proportion of land area covered by forest, per...</td>\n",
       "      <td>2.1</td>\n",
       "      <td>NaN</td>\n",
       "      <td>NaN</td>\n",
       "      <td>NaN</td>\n",
       "      <td>NaN</td>\n",
       "      <td>...</td>\n",
       "      <td>NaN</td>\n",
       "      <td>NaN</td>\n",
       "      <td>NaN</td>\n",
       "      <td>NaN</td>\n",
       "      <td>2.1</td>\n",
       "      <td>NaN</td>\n",
       "      <td>NaN</td>\n",
       "      <td>NaN</td>\n",
       "      <td>NaN</td>\n",
       "      <td>NaN</td>\n",
       "    </tr>\n",
       "  </tbody>\n",
       "</table>\n",
       "<p>1 rows × 31 columns</p>\n",
       "</div>"
      ],
      "text/plain": [
       "   CountryCode      Country  SeriesCode MDG  \\\n",
       "0            4  Afghanistan         567   Y   \n",
       "\n",
       "                                              Series 1990 1991 1992 1993 1994  \\\n",
       "0  Proportion of land area covered by forest, per...  2.1  NaN  NaN  NaN  NaN   \n",
       "\n",
       "   ... 2006 2007 2008 2009 2010 2011 2012 2013 2014 2015  \n",
       "0  ...  NaN  NaN  NaN  NaN  2.1  NaN  NaN  NaN  NaN  NaN  \n",
       "\n",
       "[1 rows x 31 columns]"
      ]
     },
     "execution_count": 8,
     "metadata": {},
     "output_type": "execute_result"
    }
   ],
   "source": [
    "#Replacing all empty string and records with only spaces nan\n",
    "replacing_re = stats.replace(r'^\\s*$', np.nan,regex = True)\n",
    "replacing_re.head(1)"
   ]
  },
  {
   "cell_type": "markdown",
   "metadata": {},
   "source": [
    "# Checking duplicates"
   ]
  },
  {
   "cell_type": "code",
   "execution_count": 9,
   "metadata": {},
   "outputs": [
    {
     "data": {
      "text/plain": [
       "CountryCode    230\n",
       "Country        230\n",
       "SeriesCode       3\n",
       "MDG              1\n",
       "Series           3\n",
       "1990           516\n",
       "1991           175\n",
       "1992           199\n",
       "1993           195\n",
       "1994           194\n",
       "1995           194\n",
       "1996           199\n",
       "1997           198\n",
       "1998           204\n",
       "1999           200\n",
       "2000           569\n",
       "2001           200\n",
       "2002           205\n",
       "2003           207\n",
       "2004           208\n",
       "2005           391\n",
       "2006           208\n",
       "2007           206\n",
       "2008           206\n",
       "2009           211\n",
       "2010           387\n",
       "2011           208\n",
       "2012             1\n",
       "2013             1\n",
       "2014           202\n",
       "2015             1\n",
       "dtype: int64"
      ]
     },
     "execution_count": 9,
     "metadata": {},
     "output_type": "execute_result"
    }
   ],
   "source": [
    "#Checking nunique values\n",
    "stats.nunique()"
   ]
  },
  {
   "cell_type": "code",
   "execution_count": 10,
   "metadata": {},
   "outputs": [
    {
     "data": {
      "text/html": [
       "<div>\n",
       "<style scoped>\n",
       "    .dataframe tbody tr th:only-of-type {\n",
       "        vertical-align: middle;\n",
       "    }\n",
       "\n",
       "    .dataframe tbody tr th {\n",
       "        vertical-align: top;\n",
       "    }\n",
       "\n",
       "    .dataframe thead th {\n",
       "        text-align: right;\n",
       "    }\n",
       "</style>\n",
       "<table border=\"1\" class=\"dataframe\">\n",
       "  <thead>\n",
       "    <tr style=\"text-align: right;\">\n",
       "      <th></th>\n",
       "      <th>CountryCode</th>\n",
       "      <th>SeriesCode</th>\n",
       "    </tr>\n",
       "  </thead>\n",
       "  <tbody>\n",
       "    <tr>\n",
       "      <th>CountryCode</th>\n",
       "      <td>1.0</td>\n",
       "      <td>-1.532248e-17</td>\n",
       "    </tr>\n",
       "  </tbody>\n",
       "</table>\n",
       "</div>"
      ],
      "text/plain": [
       "             CountryCode    SeriesCode\n",
       "CountryCode          1.0 -1.532248e-17"
      ]
     },
     "execution_count": 10,
     "metadata": {},
     "output_type": "execute_result"
    }
   ],
   "source": [
    "corr = stats.corr()\n",
    "corr.head(1)"
   ]
  },
  {
   "cell_type": "markdown",
   "metadata": {},
   "source": [
    "•There is a perfect negative relationship between Country code and Series code meaning they are inversely proportional.When on increases the other decreases."
   ]
  },
  {
   "cell_type": "code",
   "execution_count": 11,
   "metadata": {},
   "outputs": [
    {
     "name": "stdout",
     "output_type": "stream",
     "text": [
      "•Number of countries in dataframes = 230\n",
      "•Number of missing values in dataframe =  26\n",
      "•Number of missing values in Country = 0\n",
      "•Number of missing values in Series= 0\n",
      "•Number of missing values in year = 26\n"
     ]
    }
   ],
   "source": [
    "#Checking the number of countries represented\n",
    "country_name = replacing_re.Country.unique()\n",
    "\n",
    "print(\"•Number of countries in dataframes =\", len(country_name))\n",
    "\n",
    "#sum of null values\n",
    "print(f\"•Number of missing values in dataframe = \"\n",
    "      ,replacing_re.isnull().any().sum())\n",
    "\n",
    "#Checking missing values in the data frame\n",
    "print(f\"•Number of missing values in Country =\",\n",
    "      replacing_re[\"Country\"].isnull().any().sum())\n",
    "\n",
    "#Checking missing values in the data frame\n",
    "print(f\"•Number of missing values in Series=\",\n",
    "      replacing_re[\"Series\"].isnull().any().sum())\n",
    "\n",
    "#Creating a variable called year\n",
    "year = replacing_re[[\"1990\",\"1991\",\"1992\",\"1993\",\"1994\",\n",
    "                     \"1995\",\"1996\",\"1997\",\"1998\",\"1999\",\n",
    "                     \"2000\",\"2001\",\"2002\",\"2003\",\"2004\",\n",
    "                     \"2005\",\"2006\",\"2007\",\"2008\",\"2009\",\n",
    "                     \"2010\",\"2011\",\"2012\",\"2013\",\"2014\",\n",
    "                     \"2015\"]]\n",
    "\n",
    "#Checking missing values in series\n",
    "print(f\"•Number of missing values in year =\",\n",
    "      year.isnull().any().sum())"
   ]
  },
  {
   "cell_type": "code",
   "execution_count": 12,
   "metadata": {},
   "outputs": [
    {
     "data": {
      "text/html": [
       "<div>\n",
       "<style scoped>\n",
       "    .dataframe tbody tr th:only-of-type {\n",
       "        vertical-align: middle;\n",
       "    }\n",
       "\n",
       "    .dataframe tbody tr th {\n",
       "        vertical-align: top;\n",
       "    }\n",
       "\n",
       "    .dataframe thead th {\n",
       "        text-align: right;\n",
       "    }\n",
       "</style>\n",
       "<table border=\"1\" class=\"dataframe\">\n",
       "  <thead>\n",
       "    <tr style=\"text-align: right;\">\n",
       "      <th></th>\n",
       "      <th>CountryCode</th>\n",
       "      <th>Country</th>\n",
       "      <th>SeriesCode</th>\n",
       "      <th>MDG</th>\n",
       "      <th>Series</th>\n",
       "      <th>1990</th>\n",
       "      <th>1991</th>\n",
       "      <th>1992</th>\n",
       "      <th>1993</th>\n",
       "      <th>1994</th>\n",
       "      <th>...</th>\n",
       "      <th>2006</th>\n",
       "      <th>2007</th>\n",
       "      <th>2008</th>\n",
       "      <th>2009</th>\n",
       "      <th>2010</th>\n",
       "      <th>2011</th>\n",
       "      <th>2012</th>\n",
       "      <th>2013</th>\n",
       "      <th>2014</th>\n",
       "      <th>2015</th>\n",
       "    </tr>\n",
       "  </thead>\n",
       "  <tbody>\n",
       "    <tr>\n",
       "      <th>0</th>\n",
       "      <td>4</td>\n",
       "      <td>Afghanistan</td>\n",
       "      <td>567</td>\n",
       "      <td>Y</td>\n",
       "      <td>Proportion of land area covered by forest, per...</td>\n",
       "      <td>2.1</td>\n",
       "      <td>644</td>\n",
       "      <td>644</td>\n",
       "      <td>644</td>\n",
       "      <td>644</td>\n",
       "      <td>...</td>\n",
       "      <td>644</td>\n",
       "      <td>644</td>\n",
       "      <td>644</td>\n",
       "      <td>644</td>\n",
       "      <td>2.1</td>\n",
       "      <td>644</td>\n",
       "      <td>644.0</td>\n",
       "      <td>644.0</td>\n",
       "      <td>644</td>\n",
       "      <td>644.0</td>\n",
       "    </tr>\n",
       "    <tr>\n",
       "      <th>1</th>\n",
       "      <td>4</td>\n",
       "      <td>Afghanistan</td>\n",
       "      <td>749</td>\n",
       "      <td>Y</td>\n",
       "      <td>Carbon dioxide emissions (CO2), thousand metri...</td>\n",
       "      <td>2676.9</td>\n",
       "      <td>2493.6</td>\n",
       "      <td>1426.5</td>\n",
       "      <td>1375.1</td>\n",
       "      <td>1320.1</td>\n",
       "      <td>...</td>\n",
       "      <td>1657.5</td>\n",
       "      <td>2280.9</td>\n",
       "      <td>4217.1</td>\n",
       "      <td>6776.6</td>\n",
       "      <td>8470.8</td>\n",
       "      <td>12251.4</td>\n",
       "      <td>644.0</td>\n",
       "      <td>644.0</td>\n",
       "      <td>644</td>\n",
       "      <td>644.0</td>\n",
       "    </tr>\n",
       "    <tr>\n",
       "      <th>2</th>\n",
       "      <td>4</td>\n",
       "      <td>Afghanistan</td>\n",
       "      <td>616</td>\n",
       "      <td>Y</td>\n",
       "      <td>Terrestrial and marine areas protected to tota...</td>\n",
       "      <td>0.36</td>\n",
       "      <td>644</td>\n",
       "      <td>644</td>\n",
       "      <td>644</td>\n",
       "      <td>644</td>\n",
       "      <td>...</td>\n",
       "      <td>644</td>\n",
       "      <td>644</td>\n",
       "      <td>644</td>\n",
       "      <td>644</td>\n",
       "      <td>644</td>\n",
       "      <td>644</td>\n",
       "      <td>644.0</td>\n",
       "      <td>644.0</td>\n",
       "      <td>0.46</td>\n",
       "      <td>644.0</td>\n",
       "    </tr>\n",
       "  </tbody>\n",
       "</table>\n",
       "<p>3 rows × 31 columns</p>\n",
       "</div>"
      ],
      "text/plain": [
       "   CountryCode      Country  SeriesCode MDG  \\\n",
       "0            4  Afghanistan         567   Y   \n",
       "1            4  Afghanistan         749   Y   \n",
       "2            4  Afghanistan         616   Y   \n",
       "\n",
       "                                              Series    1990    1991    1992  \\\n",
       "0  Proportion of land area covered by forest, per...     2.1     644     644   \n",
       "1  Carbon dioxide emissions (CO2), thousand metri...  2676.9  2493.6  1426.5   \n",
       "2  Terrestrial and marine areas protected to tota...    0.36     644     644   \n",
       "\n",
       "     1993    1994  ...    2006    2007    2008    2009    2010     2011  \\\n",
       "0     644     644  ...     644     644     644     644     2.1      644   \n",
       "1  1375.1  1320.1  ...  1657.5  2280.9  4217.1  6776.6  8470.8  12251.4   \n",
       "2     644     644  ...     644     644     644     644     644      644   \n",
       "\n",
       "    2012   2013  2014   2015  \n",
       "0  644.0  644.0   644  644.0  \n",
       "1  644.0  644.0   644  644.0  \n",
       "2  644.0  644.0  0.46  644.0  \n",
       "\n",
       "[3 rows x 31 columns]"
      ]
     },
     "execution_count": 12,
     "metadata": {},
     "output_type": "execute_result"
    }
   ],
   "source": [
    "#Filling missing values with seriescode mean\n",
    "stats_df = replacing_re.fillna(stats[\"SeriesCode\"].mean(),inplace = False)\n",
    "stats_df.head(3)"
   ]
  },
  {
   "cell_type": "code",
   "execution_count": 13,
   "metadata": {},
   "outputs": [
    {
     "data": {
      "text/html": [
       "<div>\n",
       "<style scoped>\n",
       "    .dataframe tbody tr th:only-of-type {\n",
       "        vertical-align: middle;\n",
       "    }\n",
       "\n",
       "    .dataframe tbody tr th {\n",
       "        vertical-align: top;\n",
       "    }\n",
       "\n",
       "    .dataframe thead th {\n",
       "        text-align: right;\n",
       "    }\n",
       "</style>\n",
       "<table border=\"1\" class=\"dataframe\">\n",
       "  <thead>\n",
       "    <tr style=\"text-align: right;\">\n",
       "      <th></th>\n",
       "      <th>Country</th>\n",
       "      <th>1990</th>\n",
       "    </tr>\n",
       "  </thead>\n",
       "  <tbody>\n",
       "    <tr>\n",
       "      <th>217</th>\n",
       "      <td>United States</td>\n",
       "      <td>4823599.85</td>\n",
       "    </tr>\n",
       "    <tr>\n",
       "      <th>41</th>\n",
       "      <td>China</td>\n",
       "      <td>2460773.08</td>\n",
       "    </tr>\n",
       "    <tr>\n",
       "      <th>100</th>\n",
       "      <td>Japan</td>\n",
       "      <td>1094358.17</td>\n",
       "    </tr>\n",
       "    <tr>\n",
       "      <th>92</th>\n",
       "      <td>India</td>\n",
       "      <td>690601.04</td>\n",
       "    </tr>\n",
       "    <tr>\n",
       "      <th>215</th>\n",
       "      <td>United Kingdom</td>\n",
       "      <td>555919.37</td>\n",
       "    </tr>\n",
       "    <tr>\n",
       "      <th>...</th>\n",
       "      <td>...</td>\n",
       "      <td>...</td>\n",
       "    </tr>\n",
       "    <tr>\n",
       "      <th>138</th>\n",
       "      <td>Namibia</td>\n",
       "      <td>43.22</td>\n",
       "    </tr>\n",
       "    <tr>\n",
       "      <th>67</th>\n",
       "      <td>Falkland Islands (Malvinas)</td>\n",
       "      <td>36.94</td>\n",
       "    </tr>\n",
       "    <tr>\n",
       "      <th>104</th>\n",
       "      <td>Kiribati</td>\n",
       "      <td>36.81</td>\n",
       "    </tr>\n",
       "    <tr>\n",
       "      <th>186</th>\n",
       "      <td>Somalia</td>\n",
       "      <td>31.75</td>\n",
       "    </tr>\n",
       "    <tr>\n",
       "      <th>226</th>\n",
       "      <td>Yemen</td>\n",
       "      <td>-2998.60</td>\n",
       "    </tr>\n",
       "  </tbody>\n",
       "</table>\n",
       "<p>230 rows × 2 columns</p>\n",
       "</div>"
      ],
      "text/plain": [
       "                         Country        1990\n",
       "217                United States  4823599.85\n",
       "41                         China  2460773.08\n",
       "100                        Japan  1094358.17\n",
       "92                         India   690601.04\n",
       "215               United Kingdom   555919.37\n",
       "..                           ...         ...\n",
       "138                      Namibia       43.22\n",
       "67   Falkland Islands (Malvinas)       36.94\n",
       "104                     Kiribati       36.81\n",
       "186                      Somalia       31.75\n",
       "226                        Yemen    -2998.60\n",
       "\n",
       "[230 rows x 2 columns]"
      ]
     },
     "execution_count": 13,
     "metadata": {},
     "output_type": "execute_result"
    }
   ],
   "source": [
    "#Creating a new data frame for Country and 1990\n",
    "stats_1990 = stats_df.loc[:, (\"Country\",\"1990\") ]\n",
    "\n",
    "#Grouping by country and 1990,then changing data type from object to float \n",
    "stat_1990 = stats_1990.groupby(\"Country\")[\"1990\"].apply(\n",
    "    lambda country : country.astype(float).sum())\n",
    "\n",
    "#Sorting my dataframe to see the bottom  countries in the 1990 column\n",
    "stat_1990.reset_index().sort_values([\"1990\"],\n",
    "                                     ascending = False)"
   ]
  },
  {
   "cell_type": "markdown",
   "metadata": {},
   "source": [
    "### Top 5 countries in 1990 and the amount of CO2 emisson\n",
    "\n",
    "1.United States = 4823599.85\n",
    "\n",
    "2.China = 2460773.08\n",
    "\n",
    "3.Japan = 1094358.17\n",
    "\n",
    "4.India = 690601.04\n",
    "\n",
    "5.United Kingdom = 555919.37\n",
    "\n",
    "### Bottom 5 countries in 1990 and the amount of CO2 emisson\n",
    "\n",
    "1.Yemen = -2998.60\n",
    "\n",
    "2.Somalia\t= 31.75\n",
    "\n",
    "3.Kiribati\t= 36.81\n",
    "\n",
    "4.Falkland Islands (Malvinas) =\t36.94\n",
    "\n",
    "5.Namibia =\t43.22"
   ]
  },
  {
   "cell_type": "markdown",
   "metadata": {},
   "source": [
    "# Data type summary\n",
    "\n",
    "This data frame has 2 objects"
   ]
  },
  {
   "cell_type": "code",
   "execution_count": 14,
   "metadata": {},
   "outputs": [
    {
     "data": {
      "text/html": [
       "<div>\n",
       "<style scoped>\n",
       "    .dataframe tbody tr th:only-of-type {\n",
       "        vertical-align: middle;\n",
       "    }\n",
       "\n",
       "    .dataframe tbody tr th {\n",
       "        vertical-align: top;\n",
       "    }\n",
       "\n",
       "    .dataframe thead th {\n",
       "        text-align: right;\n",
       "    }\n",
       "</style>\n",
       "<table border=\"1\" class=\"dataframe\">\n",
       "  <thead>\n",
       "    <tr style=\"text-align: right;\">\n",
       "      <th></th>\n",
       "      <th>Country</th>\n",
       "      <th>1990</th>\n",
       "    </tr>\n",
       "  </thead>\n",
       "  <tbody>\n",
       "    <tr>\n",
       "      <th>count</th>\n",
       "      <td>690</td>\n",
       "      <td>690.0</td>\n",
       "    </tr>\n",
       "    <tr>\n",
       "      <th>unique</th>\n",
       "      <td>230</td>\n",
       "      <td>516.0</td>\n",
       "    </tr>\n",
       "    <tr>\n",
       "      <th>top</th>\n",
       "      <td>Montenegro</td>\n",
       "      <td>644.0</td>\n",
       "    </tr>\n",
       "    <tr>\n",
       "      <th>freq</th>\n",
       "      <td>3</td>\n",
       "      <td>63.0</td>\n",
       "    </tr>\n",
       "  </tbody>\n",
       "</table>\n",
       "</div>"
      ],
      "text/plain": [
       "           Country   1990\n",
       "count          690  690.0\n",
       "unique         230  516.0\n",
       "top     Montenegro  644.0\n",
       "freq             3   63.0"
      ]
     },
     "execution_count": 14,
     "metadata": {},
     "output_type": "execute_result"
    }
   ],
   "source": [
    "#Dataframe stats summary\n",
    "stats_1990.describe()"
   ]
  },
  {
   "cell_type": "code",
   "execution_count": 15,
   "metadata": {},
   "outputs": [
    {
     "data": {
      "text/html": [
       "<div>\n",
       "<style scoped>\n",
       "    .dataframe tbody tr th:only-of-type {\n",
       "        vertical-align: middle;\n",
       "    }\n",
       "\n",
       "    .dataframe tbody tr th {\n",
       "        vertical-align: top;\n",
       "    }\n",
       "\n",
       "    .dataframe thead th {\n",
       "        text-align: right;\n",
       "    }\n",
       "</style>\n",
       "<table border=\"1\" class=\"dataframe\">\n",
       "  <thead>\n",
       "    <tr style=\"text-align: right;\">\n",
       "      <th></th>\n",
       "      <th>Country</th>\n",
       "      <th>2011</th>\n",
       "    </tr>\n",
       "  </thead>\n",
       "  <tbody>\n",
       "    <tr>\n",
       "      <th>41</th>\n",
       "      <td>China</td>\n",
       "      <td>9020806.2</td>\n",
       "    </tr>\n",
       "    <tr>\n",
       "      <th>217</th>\n",
       "      <td>United States</td>\n",
       "      <td>5306857.6</td>\n",
       "    </tr>\n",
       "    <tr>\n",
       "      <th>92</th>\n",
       "      <td>India</td>\n",
       "      <td>2075632.9</td>\n",
       "    </tr>\n",
       "    <tr>\n",
       "      <th>166</th>\n",
       "      <td>Russian Federation</td>\n",
       "      <td>1809361.0</td>\n",
       "    </tr>\n",
       "    <tr>\n",
       "      <th>100</th>\n",
       "      <td>Japan</td>\n",
       "      <td>1188945.0</td>\n",
       "    </tr>\n",
       "    <tr>\n",
       "      <th>...</th>\n",
       "      <td>...</td>\n",
       "      <td>...</td>\n",
       "    </tr>\n",
       "    <tr>\n",
       "      <th>139</th>\n",
       "      <td>Nauru</td>\n",
       "      <td>1339.3</td>\n",
       "    </tr>\n",
       "    <tr>\n",
       "      <th>115</th>\n",
       "      <td>Liechtenstein</td>\n",
       "      <td>1339.3</td>\n",
       "    </tr>\n",
       "    <tr>\n",
       "      <th>224</th>\n",
       "      <td>Wallis and Futuna Islands</td>\n",
       "      <td>1313.7</td>\n",
       "    </tr>\n",
       "    <tr>\n",
       "      <th>168</th>\n",
       "      <td>Saint Helena</td>\n",
       "      <td>1299.0</td>\n",
       "    </tr>\n",
       "    <tr>\n",
       "      <th>148</th>\n",
       "      <td>Niue</td>\n",
       "      <td>1299.0</td>\n",
       "    </tr>\n",
       "  </tbody>\n",
       "</table>\n",
       "<p>230 rows × 2 columns</p>\n",
       "</div>"
      ],
      "text/plain": [
       "                       Country       2011\n",
       "41                       China  9020806.2\n",
       "217              United States  5306857.6\n",
       "92                       India  2075632.9\n",
       "166         Russian Federation  1809361.0\n",
       "100                      Japan  1188945.0\n",
       "..                         ...        ...\n",
       "139                      Nauru     1339.3\n",
       "115              Liechtenstein     1339.3\n",
       "224  Wallis and Futuna Islands     1313.7\n",
       "168               Saint Helena     1299.0\n",
       "148                       Niue     1299.0\n",
       "\n",
       "[230 rows x 2 columns]"
      ]
     },
     "execution_count": 15,
     "metadata": {},
     "output_type": "execute_result"
    }
   ],
   "source": [
    "#Creating a new data frame for country and year 2011\n",
    "stats_2011 = stats_df.loc[:, (\"Country\",\"2011\") ]\n",
    "\n",
    "#Grouping by country and 2011,then changing data type from object to float \n",
    "\n",
    "stat_2011 = stats_2011.groupby(\"Country\")[\"2011\"].apply(lambda country : country.astype(float).sum())\n",
    "\n",
    "#Reseting and sorting dataframe in the 2011 column\n",
    "stat_2011.reset_index().sort_values( [\"2011\"],ascending = False)\n"
   ]
  },
  {
   "cell_type": "markdown",
   "metadata": {},
   "source": [
    "### Top 5 countries in 2011 and the amount of CO2 emisson\n",
    "\n",
    "1.China = 9019520.2\n",
    "\n",
    "2.United States = 5305571.6\n",
    "\n",
    "3.India = 2074346.9\n",
    "\n",
    "4.Russian Federation = 2074346.9\n",
    "\n",
    "5.Japan = 1187659.0\n",
    "\n",
    "### Bottom 5 countries in 2011 and the amount of CO2 emisson\n",
    "\n",
    "1.Saint Helena\t= 889.9304\n",
    "\n",
    "2.Niue\t= 889.930434\n",
    "\n",
    "3.Wallis and Futuna Islands =\t904.630434\n",
    "\n",
    "4.Liechtenstein =\t930.230434\n",
    "\n",
    "5.Nauru\t= 930.230434\n"
   ]
  },
  {
   "cell_type": "markdown",
   "metadata": {},
   "source": [
    "•The bottom 5 countries in 2011 had missing values.\n",
    "\n",
    "•I replaced missing values with the CountryCode mean.\n",
    "\n",
    "•I think in these countries there were no or CO2 emisions because they are not developed countries and so they don't use fossil fuels and there are a lot of forests there."
   ]
  },
  {
   "cell_type": "markdown",
   "metadata": {},
   "source": [
    " # Mean"
   ]
  },
  {
   "cell_type": "code",
   "execution_count": 16,
   "metadata": {},
   "outputs": [
    {
     "name": "stdout",
     "output_type": "stream",
     "text": [
      "•The mean or overall average =  71861.43060869565\n"
     ]
    }
   ],
   "source": [
    "#Checking mean\n",
    "print(f'•The mean or overall average = ',stat_1990.mean())"
   ]
  },
  {
   "cell_type": "markdown",
   "metadata": {},
   "source": [
    "# Median"
   ]
  },
  {
   "cell_type": "code",
   "execution_count": 17,
   "metadata": {},
   "outputs": [
    {
     "name": "stdout",
     "output_type": "stream",
     "text": [
      "•The mean or overall average =  71861.43060869565\n"
     ]
    }
   ],
   "source": [
    "#Checking mean\n",
    "print(f'•The mean or overall average = ',stat_1990.mean())"
   ]
  },
  {
   "cell_type": "code",
   "execution_count": 18,
   "metadata": {},
   "outputs": [
    {
     "data": {
      "image/png": "[encoded data removed]",
      "text/plain": [
       "<Figure size 432x288 with 1 Axes>"
      ]
     },
     "metadata": {
      "needs_background": "light"
     },
     "output_type": "display_data"
    }
   ],
   "source": [
    "dist_df = stat_1990\n",
    "dist_df = np.random.gamma(4, 0.5,1000)\n",
    "mean = dist_df.mean()\n",
    "median = np.median(dist_df)\n",
    "plt.ylabel(\"Density Probability\")\n",
    "plt.axvline(mean,color = 'blue',label = 'Mean')\n",
    "plt.axvline(median,color = 'green',label = 'Median')\n",
    "\n",
    "_ = sns.distplot(dist_df,color = \"grey\")\n",
    "_ = plt.legend()\n"
   ]
  },
  {
   "cell_type": "code",
   "execution_count": 19,
   "metadata": {},
   "outputs": [
    {
     "data": {
      "text/plain": [
       "10.537992065478434"
      ]
     },
     "execution_count": 19,
     "metadata": {},
     "output_type": "execute_result"
    }
   ],
   "source": [
    "stat_1990.skew()"
   ]
  },
  {
   "cell_type": "markdown",
   "metadata": {},
   "source": [
    "•The mean is greater than the median, the distribution is positively skewed."
   ]
  },
  {
   "cell_type": "code",
   "execution_count": 20,
   "metadata": {},
   "outputs": [
    {
     "name": "stdout",
     "output_type": "stream",
     "text": [
      "•The minimum value = -2998.6\n"
     ]
    }
   ],
   "source": [
    "print(f'•The minimum value =',stat_1990.min())"
   ]
  },
  {
   "cell_type": "code",
   "execution_count": 21,
   "metadata": {},
   "outputs": [
    {
     "name": "stdout",
     "output_type": "stream",
     "text": [
      "• The maximum value =  Country    Zimbabwe\n",
      "dtype: object\n"
     ]
    }
   ],
   "source": [
    "print(f'• The maximum value = ',stats_1990.max())"
   ]
  },
  {
   "cell_type": "code",
   "execution_count": 22,
   "metadata": {},
   "outputs": [
    {
     "name": "stdout",
     "output_type": "stream",
     "text": [
      "•The first quartile = 654.9575\n",
      "•The third quartile = 21386.615\n",
      "•Inter quartile range =  20731.6575\n"
     ]
    }
   ],
   "source": [
    "#Finding the first quartile\n",
    "q1 = stat_1990.quantile(0.25)\n",
    "print(f\"•The first quartile =\",q1)\n",
    "\n",
    "#Finding the third quartile\n",
    "q3 = stat_1990.quantile(0.75)\n",
    "print(f\"•The third quartile =\",q3)\n",
    "\n",
    "#Finding the inter quartile range\n",
    "iqr = q3 - q1\n",
    "print(f\"•Inter quartile range = \",iqr)"
   ]
  },
  {
   "cell_type": "markdown",
   "metadata": {},
   "source": [
    "•The distribution is skewed/ assymetrical distribution. \n",
    "\n",
    "•One tail is more than the other.\n",
    "\n",
    "•This data is right-skewed because the right hand side has a longer tail than the left.\n",
    "\n",
    "•If this was a normal distribution the mean and the median were gonna be equal.\n",
    "\n",
    "•Now that the mean is more than the median it means that this distribution is positively(right-skewed)"
   ]
  },
  {
   "cell_type": "code",
   "execution_count": 23,
   "metadata": {},
   "outputs": [
    {
     "data": {
      "image/png": "[encoded data removed]",
      "text/plain": [
       "<Figure size 720x576 with 1 Axes>"
      ]
     },
     "metadata": {
      "needs_background": "light"
     },
     "output_type": "display_data"
    }
   ],
   "source": [
    "#Assigning new data frame\n",
    "new_df = stat_1990\n",
    "\n",
    "plt.figure(figsize = [10,8])\n",
    "new_df = np.random.gamma(4, 0.5, 1000)\n",
    "\n",
    "#Showing values specific points on coordinate axis \n",
    "plt.xticks(fontsize = 15)\n",
    "plt.yticks(fontsize = 15)\n",
    "\n",
    "#Showing specific labels on coordinate axis\n",
    "plt.xlabel('CO2 emission', fontsize = 15)\n",
    "plt.ylabel('Frequency', fontsize = 15)\n",
    "\n",
    "\n",
    "#Showing plot title\n",
    "plt.title('Skewed Distribution Histogram',fontsize = 15)\n",
    "\n",
    "plot = plt.hist(new_df, bins = 20, color='r',edgecolor = 'k', alpha = 0.65)"
   ]
  },
  {
   "cell_type": "markdown",
   "metadata": {},
   "source": [
    "•Yes this is what I expected my histogram to look like because this distribution is skewed and it is positively distributed(right-skewed) as the tail is on the right."
   ]
  },
  {
   "cell_type": "code",
   "execution_count": 24,
   "metadata": {},
   "outputs": [
    {
     "name": "stdout",
     "output_type": "stream",
     "text": [
      "•Standard deviation = 371333.35617731384\n"
     ]
    }
   ],
   "source": [
    "print(f\"•Standard deviation =\",stat_1990.std())"
   ]
  },
  {
   "cell_type": "code",
   "execution_count": 25,
   "metadata": {},
   "outputs": [
    {
     "name": "stdout",
     "output_type": "stream",
     "text": [
      "•Standard mean error =  24484.99641838436\n"
     ]
    }
   ],
   "source": [
    "print(f\"•Standard mean error = \", stat_1990.sem())"
   ]
  },
  {
   "cell_type": "markdown",
   "metadata": {},
   "source": [
    "•Standard deviation measures dispersion for a subject set of data from mean while standard error measures how far the sample mean of data is likely to be from true population mean."
   ]
  },
  {
   "cell_type": "code",
   "execution_count": 26,
   "metadata": {},
   "outputs": [
    {
     "data": {
      "text/html": [
       "<div>\n",
       "<style scoped>\n",
       "    .dataframe tbody tr th:only-of-type {\n",
       "        vertical-align: middle;\n",
       "    }\n",
       "\n",
       "    .dataframe tbody tr th {\n",
       "        vertical-align: top;\n",
       "    }\n",
       "\n",
       "    .dataframe thead th {\n",
       "        text-align: right;\n",
       "    }\n",
       "</style>\n",
       "<table border=\"1\" class=\"dataframe\">\n",
       "  <thead>\n",
       "    <tr style=\"text-align: right;\">\n",
       "      <th></th>\n",
       "      <th>CountryCode</th>\n",
       "      <th>SeriesCode</th>\n",
       "    </tr>\n",
       "  </thead>\n",
       "  <tbody>\n",
       "    <tr>\n",
       "      <th>count</th>\n",
       "      <td>690.000000</td>\n",
       "      <td>690.000000</td>\n",
       "    </tr>\n",
       "    <tr>\n",
       "      <th>mean</th>\n",
       "      <td>439.465217</td>\n",
       "      <td>644.000000</td>\n",
       "    </tr>\n",
       "    <tr>\n",
       "      <th>std</th>\n",
       "      <td>254.138802</td>\n",
       "      <td>76.949647</td>\n",
       "    </tr>\n",
       "    <tr>\n",
       "      <th>min</th>\n",
       "      <td>4.000000</td>\n",
       "      <td>567.000000</td>\n",
       "    </tr>\n",
       "    <tr>\n",
       "      <th>25%</th>\n",
       "      <td>222.000000</td>\n",
       "      <td>567.000000</td>\n",
       "    </tr>\n",
       "    <tr>\n",
       "      <th>50%</th>\n",
       "      <td>439.000000</td>\n",
       "      <td>616.000000</td>\n",
       "    </tr>\n",
       "    <tr>\n",
       "      <th>75%</th>\n",
       "      <td>660.000000</td>\n",
       "      <td>749.000000</td>\n",
       "    </tr>\n",
       "    <tr>\n",
       "      <th>max</th>\n",
       "      <td>894.000000</td>\n",
       "      <td>749.000000</td>\n",
       "    </tr>\n",
       "  </tbody>\n",
       "</table>\n",
       "</div>"
      ],
      "text/plain": [
       "       CountryCode  SeriesCode\n",
       "count   690.000000  690.000000\n",
       "mean    439.465217  644.000000\n",
       "std     254.138802   76.949647\n",
       "min       4.000000  567.000000\n",
       "25%     222.000000  567.000000\n",
       "50%     439.000000  616.000000\n",
       "75%     660.000000  749.000000\n",
       "max     894.000000  749.000000"
      ]
     },
     "execution_count": 26,
     "metadata": {},
     "output_type": "execute_result"
    }
   ],
   "source": [
    "stats.describe()"
   ]
  },
  {
   "cell_type": "code",
   "execution_count": 27,
   "metadata": {
    "scrolled": true
   },
   "outputs": [
    {
     "data": {
      "text/plain": [
       "81    Brazil\n",
       "82    Brazil\n",
       "83    Brazil\n",
       "Name: Country, dtype: object"
      ]
     },
     "metadata": {},
     "output_type": "display_data"
    },
    {
     "data": {
      "text/plain": [
       "123    China\n",
       "124    China\n",
       "125    China\n",
       "Name: Country, dtype: object"
      ]
     },
     "metadata": {},
     "output_type": "display_data"
    },
    {
     "data": {
      "text/plain": [
       "276    India\n",
       "277    India\n",
       "278    India\n",
       "Name: Country, dtype: object"
      ]
     },
     "metadata": {},
     "output_type": "display_data"
    },
    {
     "data": {
      "text/plain": [
       "561    South Africa\n",
       "562    South Africa\n",
       "563    South Africa\n",
       "Name: Country, dtype: object"
      ]
     },
     "metadata": {},
     "output_type": "display_data"
    },
    {
     "data": {
      "text/plain": [
       "498    Russian Federation\n",
       "499    Russian Federation\n",
       "500    Russian Federation\n",
       "Name: Country, dtype: object"
      ]
     },
     "metadata": {},
     "output_type": "display_data"
    },
    {
     "data": {
      "text/plain": [
       "651    United States\n",
       "652    United States\n",
       "653    United States\n",
       "Name: Country, dtype: object"
      ]
     },
     "metadata": {},
     "output_type": "display_data"
    }
   ],
   "source": [
    "#Locating countries\n",
    "BRZ =replacing_re[\"Country\"][replacing_re[\"Country\"] == \"Brazil\"]\n",
    "CHN = replacing_re[\"Country\"][replacing_re[\"Country\"] == \"China\"]\n",
    "IND = replacing_re[\"Country\"][replacing_re[\"Country\"] == \"India\"]\n",
    "RSA = replacing_re[\"Country\"][replacing_re[\"Country\"] == \"South Africa\"]\n",
    "RSF = replacing_re[\"Country\"][replacing_re[\"Country\"] == \"Russian Federation\"]\n",
    "USA = replacing_re[\"Country\"][replacing_re[\"Country\"] == \"United States\"]\n",
    "\n",
    "#Displaying posotions of the countries \n",
    "\n",
    "display(BRZ,CHN,IND,RSA,RSF,USA)\n"
   ]
  },
  {
   "cell_type": "code",
   "execution_count": 28,
   "metadata": {},
   "outputs": [
    {
     "data": {
      "text/html": [
       "<div>\n",
       "<style scoped>\n",
       "    .dataframe tbody tr th:only-of-type {\n",
       "        vertical-align: middle;\n",
       "    }\n",
       "\n",
       "    .dataframe tbody tr th {\n",
       "        vertical-align: top;\n",
       "    }\n",
       "\n",
       "    .dataframe thead th {\n",
       "        text-align: right;\n",
       "    }\n",
       "</style>\n",
       "<table border=\"1\" class=\"dataframe\">\n",
       "  <thead>\n",
       "    <tr style=\"text-align: right;\">\n",
       "      <th></th>\n",
       "      <th>Country</th>\n",
       "      <th>1990</th>\n",
       "      <th>1991</th>\n",
       "      <th>1992</th>\n",
       "      <th>1993</th>\n",
       "      <th>1994</th>\n",
       "      <th>1995</th>\n",
       "      <th>1996</th>\n",
       "      <th>1997</th>\n",
       "      <th>1998</th>\n",
       "      <th>...</th>\n",
       "      <th>2006</th>\n",
       "      <th>2007</th>\n",
       "      <th>2008</th>\n",
       "      <th>2009</th>\n",
       "      <th>2010</th>\n",
       "      <th>2011</th>\n",
       "      <th>2012</th>\n",
       "      <th>2013</th>\n",
       "      <th>2014</th>\n",
       "      <th>2015</th>\n",
       "    </tr>\n",
       "  </thead>\n",
       "  <tbody>\n",
       "    <tr>\n",
       "      <th>0</th>\n",
       "      <td>Brazil</td>\n",
       "      <td>208887.00</td>\n",
       "      <td>219330.6</td>\n",
       "      <td>220705.7</td>\n",
       "      <td>230738.6</td>\n",
       "      <td>242154.0</td>\n",
       "      <td>258347.5</td>\n",
       "      <td>284782.9</td>\n",
       "      <td>300547.3</td>\n",
       "      <td>312289.1</td>\n",
       "      <td>...</td>\n",
       "      <td>347668.3</td>\n",
       "      <td>363212.7</td>\n",
       "      <td>387675.2</td>\n",
       "      <td>367147.4</td>\n",
       "      <td>419754.2</td>\n",
       "      <td>439412.9</td>\n",
       "      <td>0.0</td>\n",
       "      <td>0.0</td>\n",
       "      <td>0.00</td>\n",
       "      <td>0.0</td>\n",
       "    </tr>\n",
       "    <tr>\n",
       "      <th>1</th>\n",
       "      <td>China</td>\n",
       "      <td>2460744.00</td>\n",
       "      <td>2584538.3</td>\n",
       "      <td>2695982.1</td>\n",
       "      <td>2878694.0</td>\n",
       "      <td>3058241.3</td>\n",
       "      <td>3320285.2</td>\n",
       "      <td>3463089.1</td>\n",
       "      <td>3469510.0</td>\n",
       "      <td>3324344.5</td>\n",
       "      <td>...</td>\n",
       "      <td>6414463.1</td>\n",
       "      <td>6791804.7</td>\n",
       "      <td>7035443.9</td>\n",
       "      <td>7692210.9</td>\n",
       "      <td>8256969.2</td>\n",
       "      <td>9019518.2</td>\n",
       "      <td>0.0</td>\n",
       "      <td>0.0</td>\n",
       "      <td>0.00</td>\n",
       "      <td>0.0</td>\n",
       "    </tr>\n",
       "    <tr>\n",
       "      <th>2</th>\n",
       "      <td>India</td>\n",
       "      <td>690576.80</td>\n",
       "      <td>737851.7</td>\n",
       "      <td>783634.2</td>\n",
       "      <td>814297.7</td>\n",
       "      <td>864931.6</td>\n",
       "      <td>920046.6</td>\n",
       "      <td>1002224.1</td>\n",
       "      <td>1043939.9</td>\n",
       "      <td>1071911.8</td>\n",
       "      <td>...</td>\n",
       "      <td>1504364.7</td>\n",
       "      <td>1611199.1</td>\n",
       "      <td>1793075.0</td>\n",
       "      <td>1965820.0</td>\n",
       "      <td>1950950.3</td>\n",
       "      <td>2074344.9</td>\n",
       "      <td>0.0</td>\n",
       "      <td>0.0</td>\n",
       "      <td>0.00</td>\n",
       "      <td>0.0</td>\n",
       "    </tr>\n",
       "    <tr>\n",
       "      <th>3</th>\n",
       "      <td>Russian Federation</td>\n",
       "      <td>0.00</td>\n",
       "      <td>0.0</td>\n",
       "      <td>2081840.2</td>\n",
       "      <td>1941203.5</td>\n",
       "      <td>1701132.3</td>\n",
       "      <td>1634312.2</td>\n",
       "      <td>1615804.9</td>\n",
       "      <td>1528849.3</td>\n",
       "      <td>1498343.5</td>\n",
       "      <td>...</td>\n",
       "      <td>1669618.1</td>\n",
       "      <td>1667597.6</td>\n",
       "      <td>1715639.0</td>\n",
       "      <td>1574367.8</td>\n",
       "      <td>1742540.1</td>\n",
       "      <td>1808073.0</td>\n",
       "      <td>0.0</td>\n",
       "      <td>0.0</td>\n",
       "      <td>0.00</td>\n",
       "      <td>0.0</td>\n",
       "    </tr>\n",
       "    <tr>\n",
       "      <th>4</th>\n",
       "      <td>South Africa</td>\n",
       "      <td>2.58</td>\n",
       "      <td>0.0</td>\n",
       "      <td>0.0</td>\n",
       "      <td>0.0</td>\n",
       "      <td>0.0</td>\n",
       "      <td>0.0</td>\n",
       "      <td>0.0</td>\n",
       "      <td>0.0</td>\n",
       "      <td>0.0</td>\n",
       "      <td>...</td>\n",
       "      <td>0.0</td>\n",
       "      <td>0.0</td>\n",
       "      <td>0.0</td>\n",
       "      <td>0.0</td>\n",
       "      <td>0.0</td>\n",
       "      <td>0.0</td>\n",
       "      <td>0.0</td>\n",
       "      <td>0.0</td>\n",
       "      <td>10.24</td>\n",
       "      <td>0.0</td>\n",
       "    </tr>\n",
       "    <tr>\n",
       "      <th>5</th>\n",
       "      <td>United States</td>\n",
       "      <td>4823557.10</td>\n",
       "      <td>4822383.7</td>\n",
       "      <td>4911103.1</td>\n",
       "      <td>5032931.8</td>\n",
       "      <td>5098475.8</td>\n",
       "      <td>5138009.7</td>\n",
       "      <td>5260696.5</td>\n",
       "      <td>5375235.3</td>\n",
       "      <td>5410918.9</td>\n",
       "      <td>...</td>\n",
       "      <td>5703871.8</td>\n",
       "      <td>5794923.4</td>\n",
       "      <td>5622464.4</td>\n",
       "      <td>5274132.4</td>\n",
       "      <td>5408869.0</td>\n",
       "      <td>5305569.6</td>\n",
       "      <td>0.0</td>\n",
       "      <td>0.0</td>\n",
       "      <td>0.00</td>\n",
       "      <td>0.0</td>\n",
       "    </tr>\n",
       "  </tbody>\n",
       "</table>\n",
       "<p>6 rows × 27 columns</p>\n",
       "</div>"
      ],
      "text/plain": [
       "              Country        1990       1991       1992       1993       1994  \\\n",
       "0              Brazil   208887.00   219330.6   220705.7   230738.6   242154.0   \n",
       "1               China  2460744.00  2584538.3  2695982.1  2878694.0  3058241.3   \n",
       "2               India   690576.80   737851.7   783634.2   814297.7   864931.6   \n",
       "3  Russian Federation        0.00        0.0  2081840.2  1941203.5  1701132.3   \n",
       "4        South Africa        2.58        0.0        0.0        0.0        0.0   \n",
       "5       United States  4823557.10  4822383.7  4911103.1  5032931.8  5098475.8   \n",
       "\n",
       "        1995       1996       1997       1998  ...       2006       2007  \\\n",
       "0   258347.5   284782.9   300547.3   312289.1  ...   347668.3   363212.7   \n",
       "1  3320285.2  3463089.1  3469510.0  3324344.5  ...  6414463.1  6791804.7   \n",
       "2   920046.6  1002224.1  1043939.9  1071911.8  ...  1504364.7  1611199.1   \n",
       "3  1634312.2  1615804.9  1528849.3  1498343.5  ...  1669618.1  1667597.6   \n",
       "4        0.0        0.0        0.0        0.0  ...        0.0        0.0   \n",
       "5  5138009.7  5260696.5  5375235.3  5410918.9  ...  5703871.8  5794923.4   \n",
       "\n",
       "        2008       2009       2010       2011  2012  2013   2014  2015  \n",
       "0   387675.2   367147.4   419754.2   439412.9   0.0   0.0   0.00   0.0  \n",
       "1  7035443.9  7692210.9  8256969.2  9019518.2   0.0   0.0   0.00   0.0  \n",
       "2  1793075.0  1965820.0  1950950.3  2074344.9   0.0   0.0   0.00   0.0  \n",
       "3  1715639.0  1574367.8  1742540.1  1808073.0   0.0   0.0   0.00   0.0  \n",
       "4        0.0        0.0        0.0        0.0   0.0   0.0  10.24   0.0  \n",
       "5  5622464.4  5274132.4  5408869.0  5305569.6   0.0   0.0   0.00   0.0  \n",
       "\n",
       "[6 rows x 27 columns]"
      ]
     },
     "execution_count": 28,
     "metadata": {},
     "output_type": "execute_result"
    }
   ],
   "source": [
    "#Creating a new data frame\n",
    "\n",
    "all_df = replacing_re.loc[(82,124,277,563,499,652),(\"Country\",\"1990\",\"1991\",\"1992\",\"1993\",\"1994\",\"1995\",\n",
    "                                        \"1996\",\"1997\",\"1998\",\"1999\",\"2000\",\"2001\",\"2002\",\n",
    "                                        \"2003\",\"2004\",\"2005\",\"2006\",\"2007\",\"2008\",\"2009\",\"2010\",\n",
    "                                        \"2011\",\"2012\",\"2013\",\"2014\",\"2015\")]\n",
    "\n",
    "#Grouping and changing data types using callable function lambda\n",
    "all_stats = all_df.groupby(\"Country\")[\"1990\",\"1991\",\"1992\",\"1993\",\n",
    "                                      \"1994\",\"1995\",\"1996\",\"1997\",\n",
    "                                      \"1998\",\"1999\",\"2000\",\"2001\",\n",
    "                                      \"2002\",\"2003\",\"2004\",\"2005\",\n",
    "                                      \"2006\",\"2007\",\"2008\",\"2009\",\n",
    "                                      \"2010\",\"2011\",\"2012\",\"2013\",\n",
    "                                      \"2014\",\"2015\"].apply(\n",
    "    lambda country : country.astype(float).sum()).reset_index()\n",
    "all_stats"
   ]
  },
  {
   "cell_type": "code",
   "execution_count": 29,
   "metadata": {
    "scrolled": true
   },
   "outputs": [
    {
     "data": {
      "text/plain": [
       "float64    26\n",
       "object      1\n",
       "dtype: int64"
      ]
     },
     "execution_count": 29,
     "metadata": {},
     "output_type": "execute_result"
    }
   ],
   "source": [
    "all_stats.dtypes.value_counts()"
   ]
  },
  {
   "cell_type": "code",
   "execution_count": 30,
   "metadata": {},
   "outputs": [
    {
     "data": {
      "image/png": "[encoded data removed]",
      "text/plain": [
       "<Figure size 720x288 with 1 Axes>"
      ]
     },
     "metadata": {
      "needs_background": "light"
     },
     "output_type": "display_data"
    }
   ],
   "source": [
    "#Firstly I need to transpose my data set\n",
    "all_stat = all_stats.set_index(\"Country\").T\n",
    "\n",
    "#Plot setting\n",
    "fig, ax = plt.subplots(figsize = (10,4))\n",
    "ax.set_xlabel(\"Year\")\n",
    "ax.set_ylabel(\"CO2 emissions\")\n",
    "ax.set_title(\"A Line Graph Showing CO2 emissions From 1990-2019\")\n",
    "\n",
    "_ = all_stat.plot(ax = ax, color = (\"cyan\",\"g\", \"y\",\"r\", \"fuchsia\",\"darkblue\"))\n",
    " "
   ]
  },
  {
   "cell_type": "code",
   "execution_count": 31,
   "metadata": {},
   "outputs": [
    {
     "data": {
      "text/html": [
       "<div>\n",
       "<style scoped>\n",
       "    .dataframe tbody tr th:only-of-type {\n",
       "        vertical-align: middle;\n",
       "    }\n",
       "\n",
       "    .dataframe tbody tr th {\n",
       "        vertical-align: top;\n",
       "    }\n",
       "\n",
       "    .dataframe thead th {\n",
       "        text-align: right;\n",
       "    }\n",
       "</style>\n",
       "<table border=\"1\" class=\"dataframe\">\n",
       "  <thead>\n",
       "    <tr style=\"text-align: right;\">\n",
       "      <th></th>\n",
       "      <th>CountryCode</th>\n",
       "      <th>Country</th>\n",
       "      <th>SeriesCode</th>\n",
       "      <th>MDG</th>\n",
       "      <th>Series</th>\n",
       "      <th>1990</th>\n",
       "      <th>1991</th>\n",
       "      <th>1992</th>\n",
       "      <th>1993</th>\n",
       "      <th>1994</th>\n",
       "      <th>...</th>\n",
       "      <th>2006</th>\n",
       "      <th>2007</th>\n",
       "      <th>2008</th>\n",
       "      <th>2009</th>\n",
       "      <th>2010</th>\n",
       "      <th>2011</th>\n",
       "      <th>2012</th>\n",
       "      <th>2013</th>\n",
       "      <th>2014</th>\n",
       "      <th>2015</th>\n",
       "    </tr>\n",
       "  </thead>\n",
       "  <tbody>\n",
       "    <tr>\n",
       "      <th>0</th>\n",
       "      <td>4</td>\n",
       "      <td>Afghanistan</td>\n",
       "      <td>567</td>\n",
       "      <td>Y</td>\n",
       "      <td>Proportion of land area covered by forest, per...</td>\n",
       "      <td>2.1</td>\n",
       "      <td>NaN</td>\n",
       "      <td>NaN</td>\n",
       "      <td>NaN</td>\n",
       "      <td>NaN</td>\n",
       "      <td>...</td>\n",
       "      <td>NaN</td>\n",
       "      <td>NaN</td>\n",
       "      <td>NaN</td>\n",
       "      <td>NaN</td>\n",
       "      <td>2.1</td>\n",
       "      <td>NaN</td>\n",
       "      <td>NaN</td>\n",
       "      <td>NaN</td>\n",
       "      <td>NaN</td>\n",
       "      <td>NaN</td>\n",
       "    </tr>\n",
       "  </tbody>\n",
       "</table>\n",
       "<p>1 rows × 31 columns</p>\n",
       "</div>"
      ],
      "text/plain": [
       "   CountryCode      Country  SeriesCode MDG  \\\n",
       "0            4  Afghanistan         567   Y   \n",
       "\n",
       "                                              Series 1990 1991 1992 1993 1994  \\\n",
       "0  Proportion of land area covered by forest, per...  2.1  NaN  NaN  NaN  NaN   \n",
       "\n",
       "   ... 2006 2007 2008 2009 2010 2011 2012 2013 2014 2015  \n",
       "0  ...  NaN  NaN  NaN  NaN  2.1  NaN  NaN  NaN  NaN  NaN  \n",
       "\n",
       "[1 rows x 31 columns]"
      ]
     },
     "execution_count": 31,
     "metadata": {},
     "output_type": "execute_result"
    }
   ],
   "source": [
    "statis = replacing_re[((replacing_re.SeriesCode == 567))]\n",
    "statis.head(1)"
   ]
  },
  {
   "cell_type": "code",
   "execution_count": 32,
   "metadata": {
    "scrolled": true
   },
   "outputs": [
    {
     "data": {
      "text/html": [
       "<div>\n",
       "<style scoped>\n",
       "    .dataframe tbody tr th:only-of-type {\n",
       "        vertical-align: middle;\n",
       "    }\n",
       "\n",
       "    .dataframe tbody tr th {\n",
       "        vertical-align: top;\n",
       "    }\n",
       "\n",
       "    .dataframe thead th {\n",
       "        text-align: right;\n",
       "    }\n",
       "</style>\n",
       "<table border=\"1\" class=\"dataframe\">\n",
       "  <thead>\n",
       "    <tr style=\"text-align: right;\">\n",
       "      <th></th>\n",
       "      <th>Country</th>\n",
       "      <th>1990</th>\n",
       "    </tr>\n",
       "  </thead>\n",
       "  <tbody>\n",
       "    <tr>\n",
       "      <th>0</th>\n",
       "      <td>Afghanistan</td>\n",
       "      <td>2.1</td>\n",
       "    </tr>\n",
       "    <tr>\n",
       "      <th>3</th>\n",
       "      <td>Albania</td>\n",
       "      <td>28.8</td>\n",
       "    </tr>\n",
       "  </tbody>\n",
       "</table>\n",
       "</div>"
      ],
      "text/plain": [
       "       Country  1990\n",
       "0  Afghanistan   2.1\n",
       "3      Albania  28.8"
      ]
     },
     "execution_count": 32,
     "metadata": {},
     "output_type": "execute_result"
    }
   ],
   "source": [
    "forest = statis.loc[:, ('Country','1990') ]\n",
    "forest.head(2)"
   ]
  },
  {
   "cell_type": "code",
   "execution_count": 33,
   "metadata": {},
   "outputs": [
    {
     "data": {
      "text/html": [
       "<div>\n",
       "<style scoped>\n",
       "    .dataframe tbody tr th:only-of-type {\n",
       "        vertical-align: middle;\n",
       "    }\n",
       "\n",
       "    .dataframe tbody tr th {\n",
       "        vertical-align: top;\n",
       "    }\n",
       "\n",
       "    .dataframe thead th {\n",
       "        text-align: right;\n",
       "    }\n",
       "</style>\n",
       "<table border=\"1\" class=\"dataframe\">\n",
       "  <thead>\n",
       "    <tr style=\"text-align: right;\">\n",
       "      <th></th>\n",
       "      <th>Country</th>\n",
       "      <th>1990</th>\n",
       "    </tr>\n",
       "  </thead>\n",
       "  <tbody>\n",
       "    <tr>\n",
       "      <th>count</th>\n",
       "      <td>230</td>\n",
       "      <td>223</td>\n",
       "    </tr>\n",
       "    <tr>\n",
       "      <th>unique</th>\n",
       "      <td>230</td>\n",
       "      <td>178</td>\n",
       "    </tr>\n",
       "    <tr>\n",
       "      <th>top</th>\n",
       "      <td>Montenegro</td>\n",
       "      <td>0</td>\n",
       "    </tr>\n",
       "    <tr>\n",
       "      <th>freq</th>\n",
       "      <td>1</td>\n",
       "      <td>13</td>\n",
       "    </tr>\n",
       "  </tbody>\n",
       "</table>\n",
       "</div>"
      ],
      "text/plain": [
       "           Country 1990\n",
       "count          230  223\n",
       "unique         230  178\n",
       "top     Montenegro    0\n",
       "freq             1   13"
      ]
     },
     "execution_count": 33,
     "metadata": {},
     "output_type": "execute_result"
    }
   ],
   "source": [
    "forest.describe()"
   ]
  },
  {
   "cell_type": "code",
   "execution_count": 34,
   "metadata": {},
   "outputs": [
    {
     "data": {
      "text/plain": [
       "Country    object\n",
       "1990       object\n",
       "dtype: object"
      ]
     },
     "execution_count": 34,
     "metadata": {},
     "output_type": "execute_result"
    }
   ],
   "source": [
    "forest.dtypes"
   ]
  },
  {
   "cell_type": "code",
   "execution_count": 35,
   "metadata": {},
   "outputs": [
    {
     "name": "stdout",
     "output_type": "stream",
     "text": [
      "•Mean of area covered by forest in 1990=  32.97713004484305\n",
      "•Standard deviation of area covered by forest in 1990 = 25.497512099375246\n"
     ]
    }
   ],
   "source": [
    "#Changing 1990 from string to float and finding mean\n",
    "\n",
    "print(f\"•Mean of area covered by forest in 1990= \",\n",
    "      forest[\"1990\"].astype(float).mean())\n",
    "\n",
    "#Changing 1990 from string to float and finding standard deviation\n",
    "\n",
    "print(f\"•Standard deviation of area covered by forest in 1990 =\",\n",
    "      forest[\"1990\"].astype(float).std())"
   ]
  },
  {
   "cell_type": "markdown",
   "metadata": {},
   "source": [
    "•A high standard deviation indicates that the data points are spread out over a large range of values."
   ]
  },
  {
   "cell_type": "code",
   "execution_count": 36,
   "metadata": {},
   "outputs": [
    {
     "data": {
      "text/html": [
       "<div>\n",
       "<style scoped>\n",
       "    .dataframe tbody tr th:only-of-type {\n",
       "        vertical-align: middle;\n",
       "    }\n",
       "\n",
       "    .dataframe tbody tr th {\n",
       "        vertical-align: top;\n",
       "    }\n",
       "\n",
       "    .dataframe thead th {\n",
       "        text-align: right;\n",
       "    }\n",
       "</style>\n",
       "<table border=\"1\" class=\"dataframe\">\n",
       "  <thead>\n",
       "    <tr style=\"text-align: right;\">\n",
       "      <th></th>\n",
       "      <th>CountryCode</th>\n",
       "      <th>Country</th>\n",
       "      <th>SeriesCode</th>\n",
       "      <th>MDG</th>\n",
       "      <th>Series</th>\n",
       "      <th>1990</th>\n",
       "      <th>1991</th>\n",
       "      <th>1992</th>\n",
       "      <th>1993</th>\n",
       "      <th>1994</th>\n",
       "      <th>...</th>\n",
       "      <th>2006</th>\n",
       "      <th>2007</th>\n",
       "      <th>2008</th>\n",
       "      <th>2009</th>\n",
       "      <th>2010</th>\n",
       "      <th>2011</th>\n",
       "      <th>2012</th>\n",
       "      <th>2013</th>\n",
       "      <th>2014</th>\n",
       "      <th>2015</th>\n",
       "    </tr>\n",
       "  </thead>\n",
       "  <tbody>\n",
       "    <tr>\n",
       "      <th>2</th>\n",
       "      <td>4</td>\n",
       "      <td>Afghanistan</td>\n",
       "      <td>616</td>\n",
       "      <td>Y</td>\n",
       "      <td>Terrestrial and marine areas protected to tota...</td>\n",
       "      <td>0.36</td>\n",
       "      <td>NaN</td>\n",
       "      <td>NaN</td>\n",
       "      <td>NaN</td>\n",
       "      <td>NaN</td>\n",
       "      <td>...</td>\n",
       "      <td>NaN</td>\n",
       "      <td>NaN</td>\n",
       "      <td>NaN</td>\n",
       "      <td>NaN</td>\n",
       "      <td>NaN</td>\n",
       "      <td>NaN</td>\n",
       "      <td>NaN</td>\n",
       "      <td>NaN</td>\n",
       "      <td>0.46</td>\n",
       "      <td>NaN</td>\n",
       "    </tr>\n",
       "  </tbody>\n",
       "</table>\n",
       "<p>1 rows × 31 columns</p>\n",
       "</div>"
      ],
      "text/plain": [
       "   CountryCode      Country  SeriesCode MDG  \\\n",
       "2            4  Afghanistan         616   Y   \n",
       "\n",
       "                                              Series  1990 1991 1992 1993  \\\n",
       "2  Terrestrial and marine areas protected to tota...  0.36  NaN  NaN  NaN   \n",
       "\n",
       "  1994  ... 2006 2007 2008 2009 2010 2011 2012 2013  2014 2015  \n",
       "2  NaN  ...  NaN  NaN  NaN  NaN  NaN  NaN  NaN  NaN  0.46  NaN  \n",
       "\n",
       "[1 rows x 31 columns]"
      ]
     },
     "execution_count": 36,
     "metadata": {},
     "output_type": "execute_result"
    }
   ],
   "source": [
    "statist = replacing_re[((replacing_re.SeriesCode == 616))]\n",
    "statist.head(1)"
   ]
  },
  {
   "cell_type": "code",
   "execution_count": 37,
   "metadata": {},
   "outputs": [
    {
     "data": {
      "text/html": [
       "<div>\n",
       "<style scoped>\n",
       "    .dataframe tbody tr th:only-of-type {\n",
       "        vertical-align: middle;\n",
       "    }\n",
       "\n",
       "    .dataframe tbody tr th {\n",
       "        vertical-align: top;\n",
       "    }\n",
       "\n",
       "    .dataframe thead th {\n",
       "        text-align: right;\n",
       "    }\n",
       "</style>\n",
       "<table border=\"1\" class=\"dataframe\">\n",
       "  <thead>\n",
       "    <tr style=\"text-align: right;\">\n",
       "      <th></th>\n",
       "      <th>Country</th>\n",
       "      <th>1990</th>\n",
       "    </tr>\n",
       "  </thead>\n",
       "  <tbody>\n",
       "    <tr>\n",
       "      <th>2</th>\n",
       "      <td>Afghanistan</td>\n",
       "      <td>0.36</td>\n",
       "    </tr>\n",
       "    <tr>\n",
       "      <th>5</th>\n",
       "      <td>Albania</td>\n",
       "      <td>0.15</td>\n",
       "    </tr>\n",
       "    <tr>\n",
       "      <th>8</th>\n",
       "      <td>Algeria</td>\n",
       "      <td>5.97</td>\n",
       "    </tr>\n",
       "    <tr>\n",
       "      <th>11</th>\n",
       "      <td>American Samoa</td>\n",
       "      <td>0.06</td>\n",
       "    </tr>\n",
       "    <tr>\n",
       "      <th>14</th>\n",
       "      <td>Andorra</td>\n",
       "      <td>5.53</td>\n",
       "    </tr>\n",
       "    <tr>\n",
       "      <th>...</th>\n",
       "      <td>...</td>\n",
       "      <td>...</td>\n",
       "    </tr>\n",
       "    <tr>\n",
       "      <th>677</th>\n",
       "      <td>Western Sahara</td>\n",
       "      <td>0</td>\n",
       "    </tr>\n",
       "    <tr>\n",
       "      <th>680</th>\n",
       "      <td>Yemen</td>\n",
       "      <td>0</td>\n",
       "    </tr>\n",
       "    <tr>\n",
       "      <th>683</th>\n",
       "      <td>Yugoslavia [former Socialist Federal Republic]</td>\n",
       "      <td>NaN</td>\n",
       "    </tr>\n",
       "    <tr>\n",
       "      <th>686</th>\n",
       "      <td>Zambia</td>\n",
       "      <td>36.05</td>\n",
       "    </tr>\n",
       "    <tr>\n",
       "      <th>689</th>\n",
       "      <td>Zimbabwe</td>\n",
       "      <td>16.9</td>\n",
       "    </tr>\n",
       "  </tbody>\n",
       "</table>\n",
       "<p>230 rows × 2 columns</p>\n",
       "</div>"
      ],
      "text/plain": [
       "                                            Country   1990\n",
       "2                                       Afghanistan   0.36\n",
       "5                                           Albania   0.15\n",
       "8                                           Algeria   5.97\n",
       "11                                   American Samoa   0.06\n",
       "14                                          Andorra   5.53\n",
       "..                                              ...    ...\n",
       "677                                  Western Sahara      0\n",
       "680                                           Yemen      0\n",
       "683  Yugoslavia [former Socialist Federal Republic]    NaN\n",
       "686                                          Zambia  36.05\n",
       "689                                        Zimbabwe   16.9\n",
       "\n",
       "[230 rows x 2 columns]"
      ]
     },
     "execution_count": 37,
     "metadata": {},
     "output_type": "execute_result"
    }
   ],
   "source": [
    "protected = statist.loc[:, ('Country','1990') ]\n",
    "protected"
   ]
  },
  {
   "cell_type": "code",
   "execution_count": 38,
   "metadata": {},
   "outputs": [
    {
     "data": {
      "image/png": "[encoded data removed]",
      "text/plain": [
       "<Figure size 576x288 with 1 Axes>"
      ]
     },
     "metadata": {
      "needs_background": "light"
     },
     "output_type": "display_data"
    },
    {
     "data": {
      "image/png": "[encoded data removed]",
      "text/plain": [
       "<Figure size 576x288 with 1 Axes>"
      ]
     },
     "metadata": {
      "needs_background": "light"
     },
     "output_type": "display_data"
    }
   ],
   "source": [
    "new_df = protected\n",
    "#Defining the measures of central tendency\n",
    "mean = new_df.mean()\n",
    "median = new_df.median()\n",
    "fig, axes = plt.subplots(1, 1, figsize=(8, 4))\n",
    "new_df = np.random.gamma(6, 0.4, 1000)\n",
    "#new_df = np.random.gamma(1000)\n",
    "\n",
    "#Showing values specific points on coordinate axis \n",
    "plt.xticks(fontsize = 15)\n",
    "plt.yticks(fontsize = 15)\n",
    "\n",
    "#Showing specific labels on coordinate axis\n",
    "plt.xlabel('Protected land', fontsize = 15)\n",
    "plt.ylabel('Frequency', fontsize = 15)\n",
    "\n",
    "\n",
    "#Showing plot title\n",
    "plt.title('Histogram For Protected Land',fontsize = 15)\n",
    "\n",
    "plot = plt.hist(new_df.astype(float), bins = 20,\n",
    "                color='purple',edgecolor = 'k', alpha = 0.65)\n",
    "\n",
    "new_df = forest\n",
    "#Defining the measures of central tendency\n",
    "mean = new_df.mean()\n",
    "median = new_df.median()\n",
    "\n",
    "fig, axes = plt.subplots(1, 1, figsize=(8, 4))\n",
    "new_df = np.random.gamma(6, 0.4, 1000)\n",
    "#new_df = np.random.gamma(1000)\n",
    "\n",
    "#Showing values specific points on coordinate axis \n",
    "plt.xticks(fontsize = 15)\n",
    "plt.yticks(fontsize = 15)\n",
    "\n",
    "#Showing specific labels on coordinate axis\n",
    "plt.xlabel('Forest Covered Land', fontsize = 15)\n",
    "plt.ylabel('Frequency', fontsize = 15)\n",
    "\n",
    "\n",
    "#Showing plot title\n",
    "plt.title('Histogram for Forest Covered Land',fontsize = 15)\n",
    "\n",
    "plot = plt.hist(new_df.astype(float), \n",
    "                bins = 20, color='blue',edgecolor = 'k', alpha = 0.65)"
   ]
  },
  {
   "cell_type": "markdown",
   "metadata": {},
   "source": [
    "•Both graphs are positively skew dostributed meaning the mean value is more than the median value."
   ]
  },
  {
   "cell_type": "code",
   "execution_count": 39,
   "metadata": {},
   "outputs": [
    {
     "data": {
      "text/html": [
       "<div>\n",
       "<style scoped>\n",
       "    .dataframe tbody tr th:only-of-type {\n",
       "        vertical-align: middle;\n",
       "    }\n",
       "\n",
       "    .dataframe tbody tr th {\n",
       "        vertical-align: top;\n",
       "    }\n",
       "\n",
       "    .dataframe thead th {\n",
       "        text-align: right;\n",
       "    }\n",
       "</style>\n",
       "<table border=\"1\" class=\"dataframe\">\n",
       "  <thead>\n",
       "    <tr style=\"text-align: right;\">\n",
       "      <th></th>\n",
       "      <th>Country</th>\n",
       "      <th>forest</th>\n",
       "      <th>protected</th>\n",
       "    </tr>\n",
       "  </thead>\n",
       "  <tbody>\n",
       "    <tr>\n",
       "      <th>0</th>\n",
       "      <td>Afghanistan</td>\n",
       "      <td>2.1</td>\n",
       "      <td>0.36</td>\n",
       "    </tr>\n",
       "    <tr>\n",
       "      <th>1</th>\n",
       "      <td>Albania</td>\n",
       "      <td>28.1</td>\n",
       "      <td>0.48</td>\n",
       "    </tr>\n",
       "    <tr>\n",
       "      <th>2</th>\n",
       "      <td>Algeria</td>\n",
       "      <td>0.7</td>\n",
       "      <td>5.98</td>\n",
       "    </tr>\n",
       "    <tr>\n",
       "      <th>3</th>\n",
       "      <td>American Samoa</td>\n",
       "      <td>90</td>\n",
       "      <td>0.06</td>\n",
       "    </tr>\n",
       "    <tr>\n",
       "      <th>4</th>\n",
       "      <td>Andorra</td>\n",
       "      <td>35.6</td>\n",
       "      <td>9.25</td>\n",
       "    </tr>\n",
       "  </tbody>\n",
       "</table>\n",
       "</div>"
      ],
      "text/plain": [
       "          Country forest protected\n",
       "0     Afghanistan    2.1      0.36\n",
       "1         Albania   28.1      0.48\n",
       "2         Algeria    0.7      5.98\n",
       "3  American Samoa     90      0.06\n",
       "4         Andorra   35.6      9.25"
      ]
     },
     "execution_count": 39,
     "metadata": {},
     "output_type": "execute_result"
    }
   ],
   "source": [
    "#Creating a data frame for forest land and resetting the index while droping the old index\n",
    "\n",
    "forest_df = statis.loc[:, (\"Country\",\"2000\") ].reset_index(drop = True)\n",
    "forest_df.drop(\"Country\", axis =1)\n",
    "\n",
    "#Creating dataframe for protected land\n",
    "\n",
    "protected_df = statist.loc[:, (\"Country\",\"2000\") ].reset_index(drop = True)\n",
    "protected_df = protected_df.drop(\"Country\", axis =1)\n",
    "\n",
    "#Concatenating forest and protected\n",
    "result = pd.concat([forest_df, protected_df[\"2000\"]], axis = 1).fillna(0)\n",
    "\n",
    "#Renaming columns\n",
    "\n",
    "result.columns = [\"Country\", \"forest\", \"protected\"]\n",
    "result.head()"
   ]
  },
  {
   "cell_type": "code",
   "execution_count": 40,
   "metadata": {},
   "outputs": [
    {
     "data": {
      "text/plain": [
       "Country      object\n",
       "forest       object\n",
       "protected    object\n",
       "dtype: object"
      ]
     },
     "execution_count": 40,
     "metadata": {},
     "output_type": "execute_result"
    }
   ],
   "source": [
    "result.dtypes"
   ]
  },
  {
   "cell_type": "code",
   "execution_count": 41,
   "metadata": {},
   "outputs": [],
   "source": [
    "#result.drop([\"Country\"], axis = 1)"
   ]
  },
  {
   "cell_type": "code",
   "execution_count": 42,
   "metadata": {},
   "outputs": [
    {
     "data": {
      "image/png": "[encoded data removed]",
      "text/plain": [
       "<Figure size 720x576 with 1 Axes>"
      ]
     },
     "metadata": {
      "needs_background": "light"
     },
     "output_type": "display_data"
    }
   ],
   "source": [
    "plt.figure(figsize=(10,8))\n",
    "sns.regplot(data = result, x = result[\"forest\"].astype(float), y = result[\"protected\"].astype(float),ci = 68,color = \"indigo\")\n",
    "_ = plt.title(\"A Scatter.regplot For Forest Covered And Protected Area\"\n",
    "             )"
   ]
  },
  {
   "cell_type": "code",
   "execution_count": 43,
   "metadata": {},
   "outputs": [
    {
     "data": {
      "text/html": [
       "<div>\n",
       "<style scoped>\n",
       "    .dataframe tbody tr th:only-of-type {\n",
       "        vertical-align: middle;\n",
       "    }\n",
       "\n",
       "    .dataframe tbody tr th {\n",
       "        vertical-align: top;\n",
       "    }\n",
       "\n",
       "    .dataframe thead th {\n",
       "        text-align: right;\n",
       "    }\n",
       "</style>\n",
       "<table border=\"1\" class=\"dataframe\">\n",
       "  <thead>\n",
       "    <tr style=\"text-align: right;\">\n",
       "      <th></th>\n",
       "      <th>forest</th>\n",
       "      <th>protected</th>\n",
       "    </tr>\n",
       "  </thead>\n",
       "  <tbody>\n",
       "    <tr>\n",
       "      <th>forest</th>\n",
       "      <td>1.0</td>\n",
       "      <td>0.1192</td>\n",
       "    </tr>\n",
       "  </tbody>\n",
       "</table>\n",
       "</div>"
      ],
      "text/plain": [
       "        forest  protected\n",
       "forest     1.0     0.1192"
      ]
     },
     "execution_count": 43,
     "metadata": {},
     "output_type": "execute_result"
    }
   ],
   "source": [
    "corre = result.drop(\"Country\",axis = 1).astype(float).corr()\n",
    "corre.head(1)"
   ]
  },
  {
   "cell_type": "markdown",
   "metadata": {},
   "source": [
    "•There is a weak,positive,non-linear relationship  the proportion of land area covered by forest and the percentage of area protected in 2000.\n",
    "\n",
    "•The correction value is more than zero but less than 0.5.\n",
    "\n",
    "•Yes,I notice unusual values and they are called outliers.\n",
    "\n",
    "•Outliers are observations with larger residuals.\n",
    "\n",
    "•Outliers are the points that don't appear to fit, assuming that all the other points are valid.\n",
    "\n",
    "•They can either indicate measurement error or heavily tailed distribution.\n",
    "\n",
    "### There are three types of outliers namely:\n",
    "\n",
    " #### 1.Global Outliers\n",
    " •It's the values that are far outside the entire dataset.\n",
    " \n",
    " #### 2.Contextual Outliers \n",
    " •These significantly deviates from the rest of the data points in the same context.\n",
    " \n",
    " #### 3.Collective Outliers\n",
    " •This is when a collection of related data instances is anomalous/inconsistent with respect to the entire dataset."
   ]
  },
  {
   "cell_type": "code",
   "execution_count": 44,
   "metadata": {},
   "outputs": [
    {
     "data": {
      "text/html": [
       "<div>\n",
       "<style scoped>\n",
       "    .dataframe tbody tr th:only-of-type {\n",
       "        vertical-align: middle;\n",
       "    }\n",
       "\n",
       "    .dataframe tbody tr th {\n",
       "        vertical-align: top;\n",
       "    }\n",
       "\n",
       "    .dataframe thead th {\n",
       "        text-align: right;\n",
       "    }\n",
       "</style>\n",
       "<table border=\"1\" class=\"dataframe\">\n",
       "  <thead>\n",
       "    <tr style=\"text-align: right;\">\n",
       "      <th></th>\n",
       "      <th>Country</th>\n",
       "      <th>log_protected</th>\n",
       "      <th>log_forest</th>\n",
       "    </tr>\n",
       "  </thead>\n",
       "  <tbody>\n",
       "    <tr>\n",
       "      <th>0</th>\n",
       "      <td>Afghanistan</td>\n",
       "      <td>-0.443697</td>\n",
       "      <td>0.322219</td>\n",
       "    </tr>\n",
       "    <tr>\n",
       "      <th>1</th>\n",
       "      <td>Albania</td>\n",
       "      <td>-0.318759</td>\n",
       "      <td>1.448706</td>\n",
       "    </tr>\n",
       "    <tr>\n",
       "      <th>2</th>\n",
       "      <td>Algeria</td>\n",
       "      <td>0.776701</td>\n",
       "      <td>-0.154902</td>\n",
       "    </tr>\n",
       "    <tr>\n",
       "      <th>3</th>\n",
       "      <td>American Samoa</td>\n",
       "      <td>-1.221849</td>\n",
       "      <td>1.954243</td>\n",
       "    </tr>\n",
       "  </tbody>\n",
       "</table>\n",
       "</div>"
      ],
      "text/plain": [
       "          Country  log_protected  log_forest\n",
       "0     Afghanistan      -0.443697    0.322219\n",
       "1         Albania      -0.318759    1.448706\n",
       "2         Algeria       0.776701   -0.154902\n",
       "3  American Samoa      -1.221849    1.954243"
      ]
     },
     "execution_count": 44,
     "metadata": {},
     "output_type": "execute_result"
    }
   ],
   "source": [
    "result_log = result\n",
    "result_log['log_protected'] = np.log10(result['protected'].astype(float))\n",
    "result_log['log_forest'] = np.log10(result['forest'].astype(float))\n",
    "\n",
    "#Dropping protected and forest columns to be left with transformed columns\n",
    "transformed = result_log.drop([\"forest\",\"protected\"], axis = 1)\n",
    "\n",
    "# Removing infinite\n",
    "transform = transformed[~transformed.isin([np.nan, np.inf, -np.inf]).any(1)]\n",
    "transform.head(4)"
   ]
  },
  {
   "cell_type": "code",
   "execution_count": 45,
   "metadata": {},
   "outputs": [
    {
     "data": {
      "text/plain": [
       "Country           object\n",
       "log_protected    float64\n",
       "log_forest       float64\n",
       "dtype: object"
      ]
     },
     "execution_count": 45,
     "metadata": {},
     "output_type": "execute_result"
    }
   ],
   "source": [
    "transform.dtypes\n"
   ]
  },
  {
   "cell_type": "code",
   "execution_count": 46,
   "metadata": {},
   "outputs": [
    {
     "data": {
      "image/png": "[encoded data removed]",
      "text/plain": [
       "<Figure size 432x288 with 1 Axes>"
      ]
     },
     "metadata": {
      "needs_background": "light"
     },
     "output_type": "display_data"
    }
   ],
   "source": [
    "#Dropping country column to be left with numerical columns\n",
    "transform_df = transform.drop([\"Country\"], axis = 1)\n",
    "\n",
    "#Ploting log transformed histogram\n",
    "_= transform_df.plot( kind = \"hist\", bins = 28,edgecolor = 'k',color = (\"blue\", \"purple\"))\n",
    "_ = plt.title(\"Log Transformed Distribution Histrogram Of Forest Vs Protected Land\", fontsize = 14)"
   ]
  },
  {
   "cell_type": "code",
   "execution_count": 47,
   "metadata": {},
   "outputs": [
    {
     "data": {
      "text/html": [
       "<div>\n",
       "<style scoped>\n",
       "    .dataframe tbody tr th:only-of-type {\n",
       "        vertical-align: middle;\n",
       "    }\n",
       "\n",
       "    .dataframe tbody tr th {\n",
       "        vertical-align: top;\n",
       "    }\n",
       "\n",
       "    .dataframe thead th {\n",
       "        text-align: right;\n",
       "    }\n",
       "</style>\n",
       "<table border=\"1\" class=\"dataframe\">\n",
       "  <thead>\n",
       "    <tr style=\"text-align: right;\">\n",
       "      <th></th>\n",
       "      <th>log_protected</th>\n",
       "      <th>log_forest</th>\n",
       "    </tr>\n",
       "  </thead>\n",
       "  <tbody>\n",
       "    <tr>\n",
       "      <th>log_protected</th>\n",
       "      <td>1.0</td>\n",
       "      <td>0.104388</td>\n",
       "    </tr>\n",
       "  </tbody>\n",
       "</table>\n",
       "</div>"
      ],
      "text/plain": [
       "               log_protected  log_forest\n",
       "log_protected            1.0    0.104388"
      ]
     },
     "execution_count": 47,
     "metadata": {},
     "output_type": "execute_result"
    }
   ],
   "source": [
    "pearsoncorr = transform_df.corr(method='pearson')\n",
    "pearsoncorr.head(1)"
   ]
  },
  {
   "cell_type": "code",
   "execution_count": 48,
   "metadata": {},
   "outputs": [
    {
     "data": {
      "image/png": "[encoded data removed]",
      "text/plain": [
       "<Figure size 432x288 with 2 Axes>"
      ]
     },
     "metadata": {
      "needs_background": "light"
     },
     "output_type": "display_data"
    }
   ],
   "source": [
    "ax = sns.heatmap(pearsoncorr, cmap = 'RdBu_r',annot = True,linewidth = 0.5)"
   ]
  },
  {
   "cell_type": "markdown",
   "metadata": {},
   "source": [
    "•The coefficient of correlation is more than zero but less than one,this means that there is a weak positive relationship between the values.\n",
    "\n",
    "•This means that while both variables tend to go up in response to one another, the relationship is not very strong."
   ]
  },
  {
   "cell_type": "code",
   "execution_count": 49,
   "metadata": {},
   "outputs": [],
   "source": [
    "#from scipy.stats.stats import pear"
   ]
  },
  {
   "cell_type": "code",
   "execution_count": 50,
   "metadata": {},
   "outputs": [
    {
     "data": {
      "text/plain": [
       "(0.10438782531850192, 0.14537527879965917)"
      ]
     },
     "execution_count": 50,
     "metadata": {},
     "output_type": "execute_result"
    }
   ],
   "source": [
    "x = transform_df[\"log_protected\"]\n",
    "y = transform_df[\"log_forest\"]\n",
    "pearsonr(x,y)"
   ]
  },
  {
   "cell_type": "code",
   "execution_count": 51,
   "metadata": {},
   "outputs": [
    {
     "data": {
      "text/plain": [
       "(0.11920001063709554, 0.07117697693840744)"
      ]
     },
     "execution_count": 51,
     "metadata": {},
     "output_type": "execute_result"
    }
   ],
   "source": [
    "a = result[\"forest\"].astype(float)\n",
    "b = result[\"protected\"].astype(float)\n",
    "pearsonr(a,b)"
   ]
  },
  {
   "cell_type": "code",
   "execution_count": null,
   "metadata": {},
   "outputs": [],
   "source": []
  }
 ],
 "metadata": {
  "kernelspec": {
   "display_name": "Python 3",
   "language": "python",
   "name": "python3"
  },
  "language_info": {
   "codemirror_mode": {
    "name": "ipython",
    "version": 3
   },
   "file_extension": ".py",
   "mimetype": "text/x-python",
   "name": "python",
   "nbconvert_exporter": "python",
   "pygments_lexer": "ipython3",
   "version": "3.6.9"
  }
 },
 "nbformat": 4,
 "nbformat_minor": 4
}
