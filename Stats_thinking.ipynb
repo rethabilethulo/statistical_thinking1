{
 "cells": [
  {
   "cell_type": "markdown",
   "metadata": {},
   "source": [
    "# Introduction"
   ]
  },
  {
   "cell_type": "markdown",
   "metadata": {},
   "source": [
    "In this notebook I was exploring and analyzing data from the Millennium Development Goals(MDG).A set of 8 Goals for 2015were defined by the United Nations to help improve living conditions and the condition of our planet.Key indicators were defined for each of the goals .In this project I had to work with Goal 7 which is to ensure environmental sustainability of carbon dioxide(CO2)emissions protected land and sea areas,and forests.I had to find the measure of central tendency,describe distributions and interpret it's histogram and know what outliers are and know how they affect measures of central tendency. "
   ]
  },
  {
   "cell_type": "code",
   "execution_count": 1,
   "metadata": {},
   "outputs": [],
   "source": [
    "import pandas as pd\n",
    "import numpy as np\n",
    "import matplotlib.pyplot as plt\n",
    "import seaborn as sns\n",
    "import matplotlib as mpl\n",
    "from scipy.stats import stats\n",
    "import warnings\n",
    "warnings.filterwarnings(\"ignore\")\n",
    "from scipy.stats.stats import pearsonr\n",
    "\n",
    "%matplotlib inline\n",
    "\n",
    "from itertools import chain"
   ]
  },
  {
   "cell_type": "code",
   "execution_count": 2,
   "metadata": {},
   "outputs": [],
   "source": [
    "#df = pd.read_csv(\"MDG_Export_20191227 (1).csv\")\n",
    "df = pd.read_csv(\"MDG_Export_20191227 (1).csv\")"
   ]
  },
  {
   "cell_type": "code",
   "execution_count": 3,
   "metadata": {},
   "outputs": [
    {
     "data": {
      "text/html": [
       "<div>\n",
       "<style scoped>\n",
       "    .dataframe tbody tr th:only-of-type {\n",
       "        vertical-align: middle;\n",
       "    }\n",
       "\n",
       "    .dataframe tbody tr th {\n",
       "        vertical-align: top;\n",
       "    }\n",
       "\n",
       "    .dataframe thead th {\n",
       "        text-align: right;\n",
       "    }\n",
       "</style>\n",
       "<table border=\"1\" class=\"dataframe\">\n",
       "  <thead>\n",
       "    <tr style=\"text-align: right;\">\n",
       "      <th></th>\n",
       "      <th>CountryCode</th>\n",
       "      <th>Country</th>\n",
       "      <th>SeriesCode</th>\n",
       "      <th>MDG</th>\n",
       "      <th>Series</th>\n",
       "      <th>1990</th>\n",
       "      <th>Footnotes</th>\n",
       "      <th>Type</th>\n",
       "      <th>1991</th>\n",
       "      <th>Footnotes.1</th>\n",
       "      <th>...</th>\n",
       "      <th>Type.26</th>\n",
       "      <th>2017</th>\n",
       "      <th>Footnotes.27</th>\n",
       "      <th>Type.27</th>\n",
       "      <th>2018</th>\n",
       "      <th>Footnotes.28</th>\n",
       "      <th>Type.28</th>\n",
       "      <th>2019</th>\n",
       "      <th>Footnotes.29</th>\n",
       "      <th>Type.29</th>\n",
       "    </tr>\n",
       "  </thead>\n",
       "  <tbody>\n",
       "    <tr>\n",
       "      <th>0</th>\n",
       "      <td>4</td>\n",
       "      <td>Afghanistan</td>\n",
       "      <td>567</td>\n",
       "      <td>Y</td>\n",
       "      <td>Proportion of land area covered by forest, per...</td>\n",
       "      <td>2.1</td>\n",
       "      <td>NaN</td>\n",
       "      <td>E</td>\n",
       "      <td></td>\n",
       "      <td></td>\n",
       "      <td>...</td>\n",
       "      <td></td>\n",
       "      <td></td>\n",
       "      <td></td>\n",
       "      <td></td>\n",
       "      <td></td>\n",
       "      <td></td>\n",
       "      <td></td>\n",
       "      <td></td>\n",
       "      <td></td>\n",
       "      <td></td>\n",
       "    </tr>\n",
       "    <tr>\n",
       "      <th>1</th>\n",
       "      <td>4</td>\n",
       "      <td>Afghanistan</td>\n",
       "      <td>749</td>\n",
       "      <td>Y</td>\n",
       "      <td>Carbon dioxide emissions (CO2), thousand metri...</td>\n",
       "      <td>2676.9</td>\n",
       "      <td>NaN</td>\n",
       "      <td>G</td>\n",
       "      <td>2493.6</td>\n",
       "      <td>NaN</td>\n",
       "      <td>...</td>\n",
       "      <td></td>\n",
       "      <td></td>\n",
       "      <td></td>\n",
       "      <td></td>\n",
       "      <td></td>\n",
       "      <td></td>\n",
       "      <td></td>\n",
       "      <td></td>\n",
       "      <td></td>\n",
       "      <td></td>\n",
       "    </tr>\n",
       "    <tr>\n",
       "      <th>2</th>\n",
       "      <td>4</td>\n",
       "      <td>Afghanistan</td>\n",
       "      <td>616</td>\n",
       "      <td>Y</td>\n",
       "      <td>Terrestrial and marine areas protected to tota...</td>\n",
       "      <td>0.36</td>\n",
       "      <td>NaN</td>\n",
       "      <td>C</td>\n",
       "      <td></td>\n",
       "      <td></td>\n",
       "      <td>...</td>\n",
       "      <td></td>\n",
       "      <td></td>\n",
       "      <td></td>\n",
       "      <td></td>\n",
       "      <td></td>\n",
       "      <td></td>\n",
       "      <td></td>\n",
       "      <td></td>\n",
       "      <td></td>\n",
       "      <td></td>\n",
       "    </tr>\n",
       "    <tr>\n",
       "      <th>3</th>\n",
       "      <td>8</td>\n",
       "      <td>Albania</td>\n",
       "      <td>567</td>\n",
       "      <td>Y</td>\n",
       "      <td>Proportion of land area covered by forest, per...</td>\n",
       "      <td>28.8</td>\n",
       "      <td>NaN</td>\n",
       "      <td>C</td>\n",
       "      <td></td>\n",
       "      <td></td>\n",
       "      <td>...</td>\n",
       "      <td></td>\n",
       "      <td></td>\n",
       "      <td></td>\n",
       "      <td></td>\n",
       "      <td></td>\n",
       "      <td></td>\n",
       "      <td></td>\n",
       "      <td></td>\n",
       "      <td></td>\n",
       "      <td></td>\n",
       "    </tr>\n",
       "    <tr>\n",
       "      <th>4</th>\n",
       "      <td>8</td>\n",
       "      <td>Albania</td>\n",
       "      <td>749</td>\n",
       "      <td>Y</td>\n",
       "      <td>Carbon dioxide emissions (CO2), thousand metri...</td>\n",
       "      <td>7488</td>\n",
       "      <td>NaN</td>\n",
       "      <td>G</td>\n",
       "      <td>3971.4</td>\n",
       "      <td>NaN</td>\n",
       "      <td>...</td>\n",
       "      <td></td>\n",
       "      <td></td>\n",
       "      <td></td>\n",
       "      <td></td>\n",
       "      <td></td>\n",
       "      <td></td>\n",
       "      <td></td>\n",
       "      <td></td>\n",
       "      <td></td>\n",
       "      <td></td>\n",
       "    </tr>\n",
       "  </tbody>\n",
       "</table>\n",
       "<p>5 rows × 95 columns</p>\n",
       "</div>"
      ],
      "text/plain": [
       "   CountryCode      Country  SeriesCode MDG  \\\n",
       "0            4  Afghanistan         567   Y   \n",
       "1            4  Afghanistan         749   Y   \n",
       "2            4  Afghanistan         616   Y   \n",
       "3            8      Albania         567   Y   \n",
       "4            8      Albania         749   Y   \n",
       "\n",
       "                                              Series    1990 Footnotes Type  \\\n",
       "0  Proportion of land area covered by forest, per...     2.1       NaN    E   \n",
       "1  Carbon dioxide emissions (CO2), thousand metri...  2676.9       NaN    G   \n",
       "2  Terrestrial and marine areas protected to tota...    0.36       NaN    C   \n",
       "3  Proportion of land area covered by forest, per...    28.8       NaN    C   \n",
       "4  Carbon dioxide emissions (CO2), thousand metri...    7488       NaN    G   \n",
       "\n",
       "     1991 Footnotes.1  ... Type.26 2017 Footnotes.27 Type.27 2018  \\\n",
       "0                      ...                                          \n",
       "1  2493.6         NaN  ...                                          \n",
       "2                      ...                                          \n",
       "3                      ...                                          \n",
       "4  3971.4         NaN  ...                                          \n",
       "\n",
       "  Footnotes.28 Type.28 2019 Footnotes.29 Type.29  \n",
       "0                                                 \n",
       "1                                                 \n",
       "2                                                 \n",
       "3                                                 \n",
       "4                                                 \n",
       "\n",
       "[5 rows x 95 columns]"
      ]
     },
     "execution_count": 3,
     "metadata": {},
     "output_type": "execute_result"
    }
   ],
   "source": [
    "df.head()"
   ]
  },
  {
   "cell_type": "code",
   "execution_count": 4,
   "metadata": {},
   "outputs": [
    {
     "data": {
      "text/html": [
       "<div>\n",
       "<style scoped>\n",
       "    .dataframe tbody tr th:only-of-type {\n",
       "        vertical-align: middle;\n",
       "    }\n",
       "\n",
       "    .dataframe tbody tr th {\n",
       "        vertical-align: top;\n",
       "    }\n",
       "\n",
       "    .dataframe thead th {\n",
       "        text-align: right;\n",
       "    }\n",
       "</style>\n",
       "<table border=\"1\" class=\"dataframe\">\n",
       "  <thead>\n",
       "    <tr style=\"text-align: right;\">\n",
       "      <th></th>\n",
       "      <th>CountryCode</th>\n",
       "      <th>SeriesCode</th>\n",
       "    </tr>\n",
       "  </thead>\n",
       "  <tbody>\n",
       "    <tr>\n",
       "      <th>count</th>\n",
       "      <td>690.000000</td>\n",
       "      <td>690.000000</td>\n",
       "    </tr>\n",
       "    <tr>\n",
       "      <th>mean</th>\n",
       "      <td>439.465217</td>\n",
       "      <td>644.000000</td>\n",
       "    </tr>\n",
       "    <tr>\n",
       "      <th>std</th>\n",
       "      <td>254.138802</td>\n",
       "      <td>76.949647</td>\n",
       "    </tr>\n",
       "    <tr>\n",
       "      <th>min</th>\n",
       "      <td>4.000000</td>\n",
       "      <td>567.000000</td>\n",
       "    </tr>\n",
       "    <tr>\n",
       "      <th>25%</th>\n",
       "      <td>222.000000</td>\n",
       "      <td>567.000000</td>\n",
       "    </tr>\n",
       "    <tr>\n",
       "      <th>50%</th>\n",
       "      <td>439.000000</td>\n",
       "      <td>616.000000</td>\n",
       "    </tr>\n",
       "    <tr>\n",
       "      <th>75%</th>\n",
       "      <td>660.000000</td>\n",
       "      <td>749.000000</td>\n",
       "    </tr>\n",
       "    <tr>\n",
       "      <th>max</th>\n",
       "      <td>894.000000</td>\n",
       "      <td>749.000000</td>\n",
       "    </tr>\n",
       "  </tbody>\n",
       "</table>\n",
       "</div>"
      ],
      "text/plain": [
       "       CountryCode  SeriesCode\n",
       "count   690.000000  690.000000\n",
       "mean    439.465217  644.000000\n",
       "std     254.138802   76.949647\n",
       "min       4.000000  567.000000\n",
       "25%     222.000000  567.000000\n",
       "50%     439.000000  616.000000\n",
       "75%     660.000000  749.000000\n",
       "max     894.000000  749.000000"
      ]
     },
     "execution_count": 4,
     "metadata": {},
     "output_type": "execute_result"
    }
   ],
   "source": [
    "df.describe()"
   ]
  },
  {
   "cell_type": "markdown",
   "metadata": {},
   "source": [
    "# Cleaning And Preparing Data"
   ]
  },
  {
   "cell_type": "code",
   "execution_count": 5,
   "metadata": {
    "scrolled": true
   },
   "outputs": [],
   "source": [
    "#Replacing all empty string and records with on'ly spaces nan\n",
    "df1 = df.replace(r'^\\s*$', np.nan, regex=True)\n",
    "\n",
    "#df1"
   ]
  },
  {
   "cell_type": "code",
   "execution_count": 6,
   "metadata": {},
   "outputs": [],
   "source": [
    "#Removing unncessary columns\n",
    "\n",
    "df1.drop([\"Footnotes\",\n",
    "         \"Footnotes.1\",\n",
    "         \"Type.1\",\n",
    "         \"Footnotes.2\",\n",
    "         \"Type.2\",\n",
    "         \"Footnotes.3\",\n",
    "         \"Type.3\",\n",
    "         \"Footnotes.4\",\n",
    "         \"Type.4\",\n",
    "         \"Footnotes.5\", \n",
    "         \"Type.5\",\n",
    "         \"Footnotes.6\", \n",
    "         \"Type.6\",\n",
    "         \"Footnotes.7\", \n",
    "         \"Type.7\",\n",
    "         \"Footnotes.8\",\n",
    "         \"Type.8\",\n",
    "         \"Footnotes.9\",\n",
    "         \"Type.9\",\n",
    "         \"Footnotes.10\",\n",
    "         \"Type.10\",\n",
    "         \"Footnotes.11\",\n",
    "         \"Type.11\",\n",
    "         \"Footnotes.12\",\n",
    "         \"Type.12\",\n",
    "         \"Footnotes.13\",\n",
    "         \"Type.13\",\n",
    "         \"Footnotes.14\",\n",
    "         \"Type.14\",\n",
    "         \"Footnotes.15\",\n",
    "         \"Type.15\",\n",
    "         \"Footnotes.16\",\n",
    "         \"Type.16\",\n",
    "         \"Footnotes.17\",\n",
    "         \"Type.17\",\n",
    "         \"Footnotes.18\",\n",
    "         \"Type.18\",\n",
    "         \"Footnotes.19\",\n",
    "         \"Type.19\",\n",
    "         \"Footnotes.20\",\n",
    "         \"Type.20\",\n",
    "         \"Footnotes.21\",\n",
    "         \"Type.21\",\n",
    "         \"Footnotes.22\",\n",
    "         \"Type.22\",\n",
    "         \"Footnotes.23\",\n",
    "         \"Type.23\",\n",
    "         \"Footnotes.24\",\n",
    "         \"Type.24\",\n",
    "         \"Footnotes.25\",\n",
    "         \"Type.25\",\n",
    "         \"Footnotes.26\",\n",
    "         \"Type.26\",\n",
    "         \"Footnotes.27\",\n",
    "         \"Type.27\",\n",
    "         \"Footnotes.28\",\n",
    "         \"Type.28\",\n",
    "         \"Footnotes.29\",\n",
    "         \"Type.29\",\n",
    "         #\"1991\",\n",
    "        # \"1992\",\n",
    "        # \"1993\",\n",
    "        # \"1994\",\n",
    "        # \"1995\",\n",
    "         #\"1996\",\n",
    "        # \"1997\",\n",
    "        # \"1998\",\n",
    "        # \"1999\",\n",
    "         #\"2000\",\n",
    "         #\"2001\",\n",
    "         #\"2002\",\n",
    "         #\"2003\",\n",
    "        # \"2004\",\n",
    "         #\"2005\",\n",
    "        # \"2006\",\n",
    "        # \"2007\",\n",
    "         #\"2008\",\n",
    "         #\"2009\",\n",
    "        # \"2010\"\n",
    "         #\"2012\",\n",
    "        # \"2013\",\n",
    "         #\"2014\",\n",
    "         #\"2015\",\n",
    "        # \"2016\",\n",
    "        # \"2017\",\n",
    "         #\"2018\",\n",
    "        # \"2019\"\n",
    "         ],inplace = True, axis = 1)\n",
    "#df1\n"
   ]
  },
  {
   "cell_type": "code",
   "execution_count": 7,
   "metadata": {},
   "outputs": [],
   "source": [
    "#df1.info()"
   ]
  },
  {
   "cell_type": "code",
   "execution_count": 8,
   "metadata": {},
   "outputs": [
    {
     "data": {
      "text/plain": [
       "CountryCode    230\n",
       "Country        230\n",
       "SeriesCode       3\n",
       "MDG              1\n",
       "Series           3\n",
       "1990           516\n",
       "Type             4\n",
       "1991           175\n",
       "1992           199\n",
       "1993           195\n",
       "1994           194\n",
       "1995           194\n",
       "1996           199\n",
       "1997           198\n",
       "1998           204\n",
       "1999           200\n",
       "2000           569\n",
       "2001           200\n",
       "2002           205\n",
       "2003           207\n",
       "2004           208\n",
       "2005           391\n",
       "2006           208\n",
       "2007           206\n",
       "2008           206\n",
       "2009           211\n",
       "2010           387\n",
       "2011           208\n",
       "2012             1\n",
       "2013             1\n",
       "2014           202\n",
       "2015             1\n",
       "2016             1\n",
       "2017             1\n",
       "2018             1\n",
       "2019             1\n",
       "dtype: int64"
      ]
     },
     "execution_count": 8,
     "metadata": {},
     "output_type": "execute_result"
    }
   ],
   "source": [
    "#Checking unique values\n",
    "\n",
    "#for i in df1.columns:\n",
    "   #print(\"{} is unique: {}\".format(i, df1[i].is_unique))\n",
    "     df1.nunique( axis = 0, dropna = False)"
   ]
  },
  {
   "cell_type": "code",
   "execution_count": 9,
   "metadata": {},
   "outputs": [
    {
     "data": {
      "text/html": [
       "<div>\n",
       "<style scoped>\n",
       "    .dataframe tbody tr th:only-of-type {\n",
       "        vertical-align: middle;\n",
       "    }\n",
       "\n",
       "    .dataframe tbody tr th {\n",
       "        vertical-align: top;\n",
       "    }\n",
       "\n",
       "    .dataframe thead th {\n",
       "        text-align: right;\n",
       "    }\n",
       "</style>\n",
       "<table border=\"1\" class=\"dataframe\">\n",
       "  <thead>\n",
       "    <tr style=\"text-align: right;\">\n",
       "      <th></th>\n",
       "      <th>null_sum</th>\n",
       "      <th>null_pct</th>\n",
       "      <th>dtypes</th>\n",
       "      <th>count</th>\n",
       "      <th>mean</th>\n",
       "      <th>median</th>\n",
       "      <th>min</th>\n",
       "      <th>max</th>\n",
       "    </tr>\n",
       "  </thead>\n",
       "  <tbody>\n",
       "    <tr>\n",
       "      <th>1990</th>\n",
       "      <td>63</td>\n",
       "      <td>0.091304</td>\n",
       "      <td>object</td>\n",
       "      <td>627</td>\n",
       "      <td>NaN</td>\n",
       "      <td>22.40</td>\n",
       "      <td>NaN</td>\n",
       "      <td>NaN</td>\n",
       "    </tr>\n",
       "    <tr>\n",
       "      <th>1991</th>\n",
       "      <td>508</td>\n",
       "      <td>0.736232</td>\n",
       "      <td>object</td>\n",
       "      <td>182</td>\n",
       "      <td>NaN</td>\n",
       "      <td>3381.00</td>\n",
       "      <td>NaN</td>\n",
       "      <td>NaN</td>\n",
       "    </tr>\n",
       "    <tr>\n",
       "      <th>1992</th>\n",
       "      <td>486</td>\n",
       "      <td>0.704348</td>\n",
       "      <td>object</td>\n",
       "      <td>204</td>\n",
       "      <td>NaN</td>\n",
       "      <td>4822.10</td>\n",
       "      <td>NaN</td>\n",
       "      <td>NaN</td>\n",
       "    </tr>\n",
       "    <tr>\n",
       "      <th>1993</th>\n",
       "      <td>486</td>\n",
       "      <td>0.704348</td>\n",
       "      <td>object</td>\n",
       "      <td>204</td>\n",
       "      <td>NaN</td>\n",
       "      <td>5221.80</td>\n",
       "      <td>NaN</td>\n",
       "      <td>NaN</td>\n",
       "    </tr>\n",
       "    <tr>\n",
       "      <th>1994</th>\n",
       "      <td>485</td>\n",
       "      <td>0.702899</td>\n",
       "      <td>object</td>\n",
       "      <td>205</td>\n",
       "      <td>NaN</td>\n",
       "      <td>5071.50</td>\n",
       "      <td>NaN</td>\n",
       "      <td>NaN</td>\n",
       "    </tr>\n",
       "    <tr>\n",
       "      <th>1995</th>\n",
       "      <td>483</td>\n",
       "      <td>0.700000</td>\n",
       "      <td>object</td>\n",
       "      <td>207</td>\n",
       "      <td>NaN</td>\n",
       "      <td>4866.10</td>\n",
       "      <td>NaN</td>\n",
       "      <td>NaN</td>\n",
       "    </tr>\n",
       "    <tr>\n",
       "      <th>1996</th>\n",
       "      <td>484</td>\n",
       "      <td>0.701449</td>\n",
       "      <td>object</td>\n",
       "      <td>206</td>\n",
       "      <td>NaN</td>\n",
       "      <td>5306.15</td>\n",
       "      <td>NaN</td>\n",
       "      <td>NaN</td>\n",
       "    </tr>\n",
       "    <tr>\n",
       "      <th>1997</th>\n",
       "      <td>481</td>\n",
       "      <td>0.697101</td>\n",
       "      <td>object</td>\n",
       "      <td>209</td>\n",
       "      <td>NaN</td>\n",
       "      <td>5555.50</td>\n",
       "      <td>NaN</td>\n",
       "      <td>NaN</td>\n",
       "    </tr>\n",
       "    <tr>\n",
       "      <th>1998</th>\n",
       "      <td>481</td>\n",
       "      <td>0.697101</td>\n",
       "      <td>object</td>\n",
       "      <td>209</td>\n",
       "      <td>NaN</td>\n",
       "      <td>5687.50</td>\n",
       "      <td>NaN</td>\n",
       "      <td>NaN</td>\n",
       "    </tr>\n",
       "    <tr>\n",
       "      <th>1999</th>\n",
       "      <td>481</td>\n",
       "      <td>0.697101</td>\n",
       "      <td>object</td>\n",
       "      <td>209</td>\n",
       "      <td>NaN</td>\n",
       "      <td>5093.50</td>\n",
       "      <td>NaN</td>\n",
       "      <td>NaN</td>\n",
       "    </tr>\n",
       "    <tr>\n",
       "      <th>2000</th>\n",
       "      <td>34</td>\n",
       "      <td>0.049275</td>\n",
       "      <td>object</td>\n",
       "      <td>656</td>\n",
       "      <td>NaN</td>\n",
       "      <td>29.50</td>\n",
       "      <td>NaN</td>\n",
       "      <td>NaN</td>\n",
       "    </tr>\n",
       "    <tr>\n",
       "      <th>2001</th>\n",
       "      <td>479</td>\n",
       "      <td>0.694203</td>\n",
       "      <td>object</td>\n",
       "      <td>211</td>\n",
       "      <td>NaN</td>\n",
       "      <td>5716.90</td>\n",
       "      <td>NaN</td>\n",
       "      <td>NaN</td>\n",
       "    </tr>\n",
       "    <tr>\n",
       "      <th>2002</th>\n",
       "      <td>478</td>\n",
       "      <td>0.692754</td>\n",
       "      <td>object</td>\n",
       "      <td>212</td>\n",
       "      <td>NaN</td>\n",
       "      <td>5245.65</td>\n",
       "      <td>NaN</td>\n",
       "      <td>NaN</td>\n",
       "    </tr>\n",
       "    <tr>\n",
       "      <th>2003</th>\n",
       "      <td>478</td>\n",
       "      <td>0.692754</td>\n",
       "      <td>object</td>\n",
       "      <td>212</td>\n",
       "      <td>NaN</td>\n",
       "      <td>5487.70</td>\n",
       "      <td>NaN</td>\n",
       "      <td>NaN</td>\n",
       "    </tr>\n",
       "    <tr>\n",
       "      <th>2004</th>\n",
       "      <td>478</td>\n",
       "      <td>0.692754</td>\n",
       "      <td>object</td>\n",
       "      <td>212</td>\n",
       "      <td>NaN</td>\n",
       "      <td>5755.35</td>\n",
       "      <td>NaN</td>\n",
       "      <td>NaN</td>\n",
       "    </tr>\n",
       "    <tr>\n",
       "      <th>2005</th>\n",
       "      <td>254</td>\n",
       "      <td>0.368116</td>\n",
       "      <td>object</td>\n",
       "      <td>436</td>\n",
       "      <td>NaN</td>\n",
       "      <td>73.00</td>\n",
       "      <td>NaN</td>\n",
       "      <td>NaN</td>\n",
       "    </tr>\n",
       "    <tr>\n",
       "      <th>2006</th>\n",
       "      <td>476</td>\n",
       "      <td>0.689855</td>\n",
       "      <td>object</td>\n",
       "      <td>214</td>\n",
       "      <td>NaN</td>\n",
       "      <td>6089.05</td>\n",
       "      <td>NaN</td>\n",
       "      <td>NaN</td>\n",
       "    </tr>\n",
       "    <tr>\n",
       "      <th>2007</th>\n",
       "      <td>475</td>\n",
       "      <td>0.688406</td>\n",
       "      <td>object</td>\n",
       "      <td>215</td>\n",
       "      <td>NaN</td>\n",
       "      <td>6420.90</td>\n",
       "      <td>NaN</td>\n",
       "      <td>NaN</td>\n",
       "    </tr>\n",
       "    <tr>\n",
       "      <th>2008</th>\n",
       "      <td>475</td>\n",
       "      <td>0.688406</td>\n",
       "      <td>object</td>\n",
       "      <td>215</td>\n",
       "      <td>NaN</td>\n",
       "      <td>6468.60</td>\n",
       "      <td>NaN</td>\n",
       "      <td>NaN</td>\n",
       "    </tr>\n",
       "    <tr>\n",
       "      <th>2009</th>\n",
       "      <td>475</td>\n",
       "      <td>0.688406</td>\n",
       "      <td>object</td>\n",
       "      <td>215</td>\n",
       "      <td>NaN</td>\n",
       "      <td>6618.90</td>\n",
       "      <td>NaN</td>\n",
       "      <td>NaN</td>\n",
       "    </tr>\n",
       "    <tr>\n",
       "      <th>2010</th>\n",
       "      <td>252</td>\n",
       "      <td>0.365217</td>\n",
       "      <td>object</td>\n",
       "      <td>438</td>\n",
       "      <td>NaN</td>\n",
       "      <td>72.55</td>\n",
       "      <td>NaN</td>\n",
       "      <td>NaN</td>\n",
       "    </tr>\n",
       "    <tr>\n",
       "      <th>2011</th>\n",
       "      <td>475</td>\n",
       "      <td>0.688406</td>\n",
       "      <td>object</td>\n",
       "      <td>215</td>\n",
       "      <td>NaN</td>\n",
       "      <td>7543.00</td>\n",
       "      <td>NaN</td>\n",
       "      <td>NaN</td>\n",
       "    </tr>\n",
       "    <tr>\n",
       "      <th>2012</th>\n",
       "      <td>690</td>\n",
       "      <td>1.000000</td>\n",
       "      <td>float64</td>\n",
       "      <td>0</td>\n",
       "      <td>NaN</td>\n",
       "      <td>NaN</td>\n",
       "      <td>NaN</td>\n",
       "      <td>NaN</td>\n",
       "    </tr>\n",
       "    <tr>\n",
       "      <th>2013</th>\n",
       "      <td>690</td>\n",
       "      <td>1.000000</td>\n",
       "      <td>float64</td>\n",
       "      <td>0</td>\n",
       "      <td>NaN</td>\n",
       "      <td>NaN</td>\n",
       "      <td>NaN</td>\n",
       "      <td>NaN</td>\n",
       "    </tr>\n",
       "    <tr>\n",
       "      <th>2014</th>\n",
       "      <td>467</td>\n",
       "      <td>0.676812</td>\n",
       "      <td>object</td>\n",
       "      <td>223</td>\n",
       "      <td>NaN</td>\n",
       "      <td>6.69</td>\n",
       "      <td>NaN</td>\n",
       "      <td>NaN</td>\n",
       "    </tr>\n",
       "    <tr>\n",
       "      <th>2015</th>\n",
       "      <td>690</td>\n",
       "      <td>1.000000</td>\n",
       "      <td>float64</td>\n",
       "      <td>0</td>\n",
       "      <td>NaN</td>\n",
       "      <td>NaN</td>\n",
       "      <td>NaN</td>\n",
       "      <td>NaN</td>\n",
       "    </tr>\n",
       "    <tr>\n",
       "      <th>2016</th>\n",
       "      <td>690</td>\n",
       "      <td>1.000000</td>\n",
       "      <td>float64</td>\n",
       "      <td>0</td>\n",
       "      <td>NaN</td>\n",
       "      <td>NaN</td>\n",
       "      <td>NaN</td>\n",
       "      <td>NaN</td>\n",
       "    </tr>\n",
       "    <tr>\n",
       "      <th>2017</th>\n",
       "      <td>690</td>\n",
       "      <td>1.000000</td>\n",
       "      <td>float64</td>\n",
       "      <td>0</td>\n",
       "      <td>NaN</td>\n",
       "      <td>NaN</td>\n",
       "      <td>NaN</td>\n",
       "      <td>NaN</td>\n",
       "    </tr>\n",
       "    <tr>\n",
       "      <th>2018</th>\n",
       "      <td>690</td>\n",
       "      <td>1.000000</td>\n",
       "      <td>float64</td>\n",
       "      <td>0</td>\n",
       "      <td>NaN</td>\n",
       "      <td>NaN</td>\n",
       "      <td>NaN</td>\n",
       "      <td>NaN</td>\n",
       "    </tr>\n",
       "    <tr>\n",
       "      <th>2019</th>\n",
       "      <td>690</td>\n",
       "      <td>1.000000</td>\n",
       "      <td>float64</td>\n",
       "      <td>0</td>\n",
       "      <td>NaN</td>\n",
       "      <td>NaN</td>\n",
       "      <td>NaN</td>\n",
       "      <td>NaN</td>\n",
       "    </tr>\n",
       "    <tr>\n",
       "      <th>Country</th>\n",
       "      <td>0</td>\n",
       "      <td>0.000000</td>\n",
       "      <td>object</td>\n",
       "      <td>690</td>\n",
       "      <td>NaN</td>\n",
       "      <td>NaN</td>\n",
       "      <td>Afghanistan</td>\n",
       "      <td>Zimbabwe</td>\n",
       "    </tr>\n",
       "    <tr>\n",
       "      <th>CountryCode</th>\n",
       "      <td>0</td>\n",
       "      <td>0.000000</td>\n",
       "      <td>int64</td>\n",
       "      <td>690</td>\n",
       "      <td>439.465217</td>\n",
       "      <td>439.00</td>\n",
       "      <td>4</td>\n",
       "      <td>894</td>\n",
       "    </tr>\n",
       "    <tr>\n",
       "      <th>MDG</th>\n",
       "      <td>0</td>\n",
       "      <td>0.000000</td>\n",
       "      <td>object</td>\n",
       "      <td>690</td>\n",
       "      <td>NaN</td>\n",
       "      <td>NaN</td>\n",
       "      <td>Y</td>\n",
       "      <td>Y</td>\n",
       "    </tr>\n",
       "    <tr>\n",
       "      <th>Series</th>\n",
       "      <td>0</td>\n",
       "      <td>0.000000</td>\n",
       "      <td>object</td>\n",
       "      <td>690</td>\n",
       "      <td>NaN</td>\n",
       "      <td>NaN</td>\n",
       "      <td>Carbon dioxide emissions (CO2), thousand metri...</td>\n",
       "      <td>Terrestrial and marine areas protected to tota...</td>\n",
       "    </tr>\n",
       "    <tr>\n",
       "      <th>SeriesCode</th>\n",
       "      <td>0</td>\n",
       "      <td>0.000000</td>\n",
       "      <td>int64</td>\n",
       "      <td>690</td>\n",
       "      <td>644.000000</td>\n",
       "      <td>616.00</td>\n",
       "      <td>567</td>\n",
       "      <td>749</td>\n",
       "    </tr>\n",
       "    <tr>\n",
       "      <th>Type</th>\n",
       "      <td>62</td>\n",
       "      <td>0.089855</td>\n",
       "      <td>object</td>\n",
       "      <td>628</td>\n",
       "      <td>NaN</td>\n",
       "      <td>NaN</td>\n",
       "      <td>NaN</td>\n",
       "      <td>NaN</td>\n",
       "    </tr>\n",
       "  </tbody>\n",
       "</table>\n",
       "</div>"
      ],
      "text/plain": [
       "             null_sum  null_pct   dtypes  count        mean   median  \\\n",
       "1990               63  0.091304   object    627         NaN    22.40   \n",
       "1991              508  0.736232   object    182         NaN  3381.00   \n",
       "1992              486  0.704348   object    204         NaN  4822.10   \n",
       "1993              486  0.704348   object    204         NaN  5221.80   \n",
       "1994              485  0.702899   object    205         NaN  5071.50   \n",
       "1995              483  0.700000   object    207         NaN  4866.10   \n",
       "1996              484  0.701449   object    206         NaN  5306.15   \n",
       "1997              481  0.697101   object    209         NaN  5555.50   \n",
       "1998              481  0.697101   object    209         NaN  5687.50   \n",
       "1999              481  0.697101   object    209         NaN  5093.50   \n",
       "2000               34  0.049275   object    656         NaN    29.50   \n",
       "2001              479  0.694203   object    211         NaN  5716.90   \n",
       "2002              478  0.692754   object    212         NaN  5245.65   \n",
       "2003              478  0.692754   object    212         NaN  5487.70   \n",
       "2004              478  0.692754   object    212         NaN  5755.35   \n",
       "2005              254  0.368116   object    436         NaN    73.00   \n",
       "2006              476  0.689855   object    214         NaN  6089.05   \n",
       "2007              475  0.688406   object    215         NaN  6420.90   \n",
       "2008              475  0.688406   object    215         NaN  6468.60   \n",
       "2009              475  0.688406   object    215         NaN  6618.90   \n",
       "2010              252  0.365217   object    438         NaN    72.55   \n",
       "2011              475  0.688406   object    215         NaN  7543.00   \n",
       "2012              690  1.000000  float64      0         NaN      NaN   \n",
       "2013              690  1.000000  float64      0         NaN      NaN   \n",
       "2014              467  0.676812   object    223         NaN     6.69   \n",
       "2015              690  1.000000  float64      0         NaN      NaN   \n",
       "2016              690  1.000000  float64      0         NaN      NaN   \n",
       "2017              690  1.000000  float64      0         NaN      NaN   \n",
       "2018              690  1.000000  float64      0         NaN      NaN   \n",
       "2019              690  1.000000  float64      0         NaN      NaN   \n",
       "Country             0  0.000000   object    690         NaN      NaN   \n",
       "CountryCode         0  0.000000    int64    690  439.465217   439.00   \n",
       "MDG                 0  0.000000   object    690         NaN      NaN   \n",
       "Series              0  0.000000   object    690         NaN      NaN   \n",
       "SeriesCode          0  0.000000    int64    690  644.000000   616.00   \n",
       "Type               62  0.089855   object    628         NaN      NaN   \n",
       "\n",
       "                                                           min  \\\n",
       "1990                                                       NaN   \n",
       "1991                                                       NaN   \n",
       "1992                                                       NaN   \n",
       "1993                                                       NaN   \n",
       "1994                                                       NaN   \n",
       "1995                                                       NaN   \n",
       "1996                                                       NaN   \n",
       "1997                                                       NaN   \n",
       "1998                                                       NaN   \n",
       "1999                                                       NaN   \n",
       "2000                                                       NaN   \n",
       "2001                                                       NaN   \n",
       "2002                                                       NaN   \n",
       "2003                                                       NaN   \n",
       "2004                                                       NaN   \n",
       "2005                                                       NaN   \n",
       "2006                                                       NaN   \n",
       "2007                                                       NaN   \n",
       "2008                                                       NaN   \n",
       "2009                                                       NaN   \n",
       "2010                                                       NaN   \n",
       "2011                                                       NaN   \n",
       "2012                                                       NaN   \n",
       "2013                                                       NaN   \n",
       "2014                                                       NaN   \n",
       "2015                                                       NaN   \n",
       "2016                                                       NaN   \n",
       "2017                                                       NaN   \n",
       "2018                                                       NaN   \n",
       "2019                                                       NaN   \n",
       "Country                                            Afghanistan   \n",
       "CountryCode                                                  4   \n",
       "MDG                                                          Y   \n",
       "Series       Carbon dioxide emissions (CO2), thousand metri...   \n",
       "SeriesCode                                                 567   \n",
       "Type                                                       NaN   \n",
       "\n",
       "                                                           max  \n",
       "1990                                                       NaN  \n",
       "1991                                                       NaN  \n",
       "1992                                                       NaN  \n",
       "1993                                                       NaN  \n",
       "1994                                                       NaN  \n",
       "1995                                                       NaN  \n",
       "1996                                                       NaN  \n",
       "1997                                                       NaN  \n",
       "1998                                                       NaN  \n",
       "1999                                                       NaN  \n",
       "2000                                                       NaN  \n",
       "2001                                                       NaN  \n",
       "2002                                                       NaN  \n",
       "2003                                                       NaN  \n",
       "2004                                                       NaN  \n",
       "2005                                                       NaN  \n",
       "2006                                                       NaN  \n",
       "2007                                                       NaN  \n",
       "2008                                                       NaN  \n",
       "2009                                                       NaN  \n",
       "2010                                                       NaN  \n",
       "2011                                                       NaN  \n",
       "2012                                                       NaN  \n",
       "2013                                                       NaN  \n",
       "2014                                                       NaN  \n",
       "2015                                                       NaN  \n",
       "2016                                                       NaN  \n",
       "2017                                                       NaN  \n",
       "2018                                                       NaN  \n",
       "2019                                                       NaN  \n",
       "Country                                               Zimbabwe  \n",
       "CountryCode                                                894  \n",
       "MDG                                                          Y  \n",
       "Series       Terrestrial and marine areas protected to tota...  \n",
       "SeriesCode                                                 749  \n",
       "Type                                                       NaN  "
      ]
     },
     "execution_count": 9,
     "metadata": {},
     "output_type": "execute_result"
    }
   ],
   "source": [
    "#Statistical summary of my data\n",
    "\n",
    "def new_data(df1): \n",
    "    data_df = {}\n",
    "    data_df[\"null_sum\"] = df1.isnull().sum()\n",
    "    data_df[\"null_pct\"] = df1.isnull().mean()\n",
    "    data_df[\"dtypes\"] = df1.dtypes\n",
    "    data_df[\"count\"] = df1.count()\n",
    "    data_df['mean'] = df1.mean()\n",
    "    data_df['median'] = df1.median()\n",
    "    data_df['min'] = df1.min()\n",
    "    data_df['max'] = df1.max()\n",
    "    \n",
    "    \n",
    "    return pd.DataFrame(data_df)\n",
    "new_data(df1)"
   ]
  },
  {
   "cell_type": "code",
   "execution_count": 10,
   "metadata": {},
   "outputs": [],
   "source": [
    "#new_data.columns = df1.columns[df1.isnull().any()]\n",
    "#df[new_data.columns].isnull().sum().sort_values(ascending = False)"
   ]
  },
  {
   "cell_type": "code",
   "execution_count": 11,
   "metadata": {},
   "outputs": [
    {
     "data": {
      "text/plain": [
       "object     27\n",
       "float64     7\n",
       "int64       2\n",
       "dtype: int64"
      ]
     },
     "execution_count": 11,
     "metadata": {},
     "output_type": "execute_result"
    }
   ],
   "source": [
    "df1.dtypes.value_counts()"
   ]
  },
  {
   "cell_type": "code",
   "execution_count": 12,
   "metadata": {},
   "outputs": [
    {
     "data": {
      "text/html": [
       "<div>\n",
       "<style scoped>\n",
       "    .dataframe tbody tr th:only-of-type {\n",
       "        vertical-align: middle;\n",
       "    }\n",
       "\n",
       "    .dataframe tbody tr th {\n",
       "        vertical-align: top;\n",
       "    }\n",
       "\n",
       "    .dataframe thead th {\n",
       "        text-align: right;\n",
       "    }\n",
       "</style>\n",
       "<table border=\"1\" class=\"dataframe\">\n",
       "  <thead>\n",
       "    <tr style=\"text-align: right;\">\n",
       "      <th></th>\n",
       "      <th>CountryCode</th>\n",
       "      <th>Country</th>\n",
       "      <th>SeriesCode</th>\n",
       "      <th>MDG</th>\n",
       "      <th>Series</th>\n",
       "      <th>1990</th>\n",
       "      <th>Type</th>\n",
       "      <th>1991</th>\n",
       "      <th>1992</th>\n",
       "      <th>1993</th>\n",
       "      <th>...</th>\n",
       "      <th>2010</th>\n",
       "      <th>2011</th>\n",
       "      <th>2012</th>\n",
       "      <th>2013</th>\n",
       "      <th>2014</th>\n",
       "      <th>2015</th>\n",
       "      <th>2016</th>\n",
       "      <th>2017</th>\n",
       "      <th>2018</th>\n",
       "      <th>2019</th>\n",
       "    </tr>\n",
       "  </thead>\n",
       "  <tbody>\n",
       "    <tr>\n",
       "      <th>0</th>\n",
       "      <td>4</td>\n",
       "      <td>Afghanistan</td>\n",
       "      <td>567</td>\n",
       "      <td>Y</td>\n",
       "      <td>Proportion of land area covered by forest, per...</td>\n",
       "      <td>2.1</td>\n",
       "      <td>E</td>\n",
       "      <td>0</td>\n",
       "      <td>0</td>\n",
       "      <td>0</td>\n",
       "      <td>...</td>\n",
       "      <td>2.1</td>\n",
       "      <td>0</td>\n",
       "      <td>0.0</td>\n",
       "      <td>0.0</td>\n",
       "      <td>0</td>\n",
       "      <td>0.0</td>\n",
       "      <td>0.0</td>\n",
       "      <td>0.0</td>\n",
       "      <td>0.0</td>\n",
       "      <td>0.0</td>\n",
       "    </tr>\n",
       "    <tr>\n",
       "      <th>1</th>\n",
       "      <td>4</td>\n",
       "      <td>Afghanistan</td>\n",
       "      <td>749</td>\n",
       "      <td>Y</td>\n",
       "      <td>Carbon dioxide emissions (CO2), thousand metri...</td>\n",
       "      <td>2676.9</td>\n",
       "      <td>G</td>\n",
       "      <td>2493.6</td>\n",
       "      <td>1426.5</td>\n",
       "      <td>1375.1</td>\n",
       "      <td>...</td>\n",
       "      <td>8470.8</td>\n",
       "      <td>12251.4</td>\n",
       "      <td>0.0</td>\n",
       "      <td>0.0</td>\n",
       "      <td>0</td>\n",
       "      <td>0.0</td>\n",
       "      <td>0.0</td>\n",
       "      <td>0.0</td>\n",
       "      <td>0.0</td>\n",
       "      <td>0.0</td>\n",
       "    </tr>\n",
       "    <tr>\n",
       "      <th>2</th>\n",
       "      <td>4</td>\n",
       "      <td>Afghanistan</td>\n",
       "      <td>616</td>\n",
       "      <td>Y</td>\n",
       "      <td>Terrestrial and marine areas protected to tota...</td>\n",
       "      <td>0.36</td>\n",
       "      <td>C</td>\n",
       "      <td>0</td>\n",
       "      <td>0</td>\n",
       "      <td>0</td>\n",
       "      <td>...</td>\n",
       "      <td>0</td>\n",
       "      <td>0</td>\n",
       "      <td>0.0</td>\n",
       "      <td>0.0</td>\n",
       "      <td>0.46</td>\n",
       "      <td>0.0</td>\n",
       "      <td>0.0</td>\n",
       "      <td>0.0</td>\n",
       "      <td>0.0</td>\n",
       "      <td>0.0</td>\n",
       "    </tr>\n",
       "    <tr>\n",
       "      <th>3</th>\n",
       "      <td>8</td>\n",
       "      <td>Albania</td>\n",
       "      <td>567</td>\n",
       "      <td>Y</td>\n",
       "      <td>Proportion of land area covered by forest, per...</td>\n",
       "      <td>28.8</td>\n",
       "      <td>C</td>\n",
       "      <td>0</td>\n",
       "      <td>0</td>\n",
       "      <td>0</td>\n",
       "      <td>...</td>\n",
       "      <td>28.3</td>\n",
       "      <td>0</td>\n",
       "      <td>0.0</td>\n",
       "      <td>0.0</td>\n",
       "      <td>0</td>\n",
       "      <td>0.0</td>\n",
       "      <td>0.0</td>\n",
       "      <td>0.0</td>\n",
       "      <td>0.0</td>\n",
       "      <td>0.0</td>\n",
       "    </tr>\n",
       "    <tr>\n",
       "      <th>4</th>\n",
       "      <td>8</td>\n",
       "      <td>Albania</td>\n",
       "      <td>749</td>\n",
       "      <td>Y</td>\n",
       "      <td>Carbon dioxide emissions (CO2), thousand metri...</td>\n",
       "      <td>7488</td>\n",
       "      <td>G</td>\n",
       "      <td>3971.4</td>\n",
       "      <td>2387.2</td>\n",
       "      <td>2343.2</td>\n",
       "      <td>...</td>\n",
       "      <td>4415.1</td>\n",
       "      <td>4668.1</td>\n",
       "      <td>0.0</td>\n",
       "      <td>0.0</td>\n",
       "      <td>0</td>\n",
       "      <td>0.0</td>\n",
       "      <td>0.0</td>\n",
       "      <td>0.0</td>\n",
       "      <td>0.0</td>\n",
       "      <td>0.0</td>\n",
       "    </tr>\n",
       "    <tr>\n",
       "      <th>...</th>\n",
       "      <td>...</td>\n",
       "      <td>...</td>\n",
       "      <td>...</td>\n",
       "      <td>...</td>\n",
       "      <td>...</td>\n",
       "      <td>...</td>\n",
       "      <td>...</td>\n",
       "      <td>...</td>\n",
       "      <td>...</td>\n",
       "      <td>...</td>\n",
       "      <td>...</td>\n",
       "      <td>...</td>\n",
       "      <td>...</td>\n",
       "      <td>...</td>\n",
       "      <td>...</td>\n",
       "      <td>...</td>\n",
       "      <td>...</td>\n",
       "      <td>...</td>\n",
       "      <td>...</td>\n",
       "      <td>...</td>\n",
       "      <td>...</td>\n",
       "    </tr>\n",
       "    <tr>\n",
       "      <th>685</th>\n",
       "      <td>894</td>\n",
       "      <td>Zambia</td>\n",
       "      <td>749</td>\n",
       "      <td>Y</td>\n",
       "      <td>Carbon dioxide emissions (CO2), thousand metri...</td>\n",
       "      <td>2445.9</td>\n",
       "      <td>G</td>\n",
       "      <td>2416.6</td>\n",
       "      <td>2456.9</td>\n",
       "      <td>2500.9</td>\n",
       "      <td>...</td>\n",
       "      <td>2673.2</td>\n",
       "      <td>3047.3</td>\n",
       "      <td>0.0</td>\n",
       "      <td>0.0</td>\n",
       "      <td>0</td>\n",
       "      <td>0.0</td>\n",
       "      <td>0.0</td>\n",
       "      <td>0.0</td>\n",
       "      <td>0.0</td>\n",
       "      <td>0.0</td>\n",
       "    </tr>\n",
       "    <tr>\n",
       "      <th>686</th>\n",
       "      <td>894</td>\n",
       "      <td>Zambia</td>\n",
       "      <td>616</td>\n",
       "      <td>Y</td>\n",
       "      <td>Terrestrial and marine areas protected to tota...</td>\n",
       "      <td>36.05</td>\n",
       "      <td>C</td>\n",
       "      <td>0</td>\n",
       "      <td>0</td>\n",
       "      <td>0</td>\n",
       "      <td>...</td>\n",
       "      <td>0</td>\n",
       "      <td>0</td>\n",
       "      <td>0.0</td>\n",
       "      <td>0.0</td>\n",
       "      <td>37.85</td>\n",
       "      <td>0.0</td>\n",
       "      <td>0.0</td>\n",
       "      <td>0.0</td>\n",
       "      <td>0.0</td>\n",
       "      <td>0.0</td>\n",
       "    </tr>\n",
       "    <tr>\n",
       "      <th>687</th>\n",
       "      <td>716</td>\n",
       "      <td>Zimbabwe</td>\n",
       "      <td>567</td>\n",
       "      <td>Y</td>\n",
       "      <td>Proportion of land area covered by forest, per...</td>\n",
       "      <td>57.3</td>\n",
       "      <td>C</td>\n",
       "      <td>0</td>\n",
       "      <td>0</td>\n",
       "      <td>0</td>\n",
       "      <td>...</td>\n",
       "      <td>40.4</td>\n",
       "      <td>0</td>\n",
       "      <td>0.0</td>\n",
       "      <td>0.0</td>\n",
       "      <td>0</td>\n",
       "      <td>0.0</td>\n",
       "      <td>0.0</td>\n",
       "      <td>0.0</td>\n",
       "      <td>0.0</td>\n",
       "      <td>0.0</td>\n",
       "    </tr>\n",
       "    <tr>\n",
       "      <th>688</th>\n",
       "      <td>716</td>\n",
       "      <td>Zimbabwe</td>\n",
       "      <td>749</td>\n",
       "      <td>Y</td>\n",
       "      <td>Carbon dioxide emissions (CO2), thousand metri...</td>\n",
       "      <td>15504.1</td>\n",
       "      <td>G</td>\n",
       "      <td>15823.1</td>\n",
       "      <td>16901.2</td>\n",
       "      <td>16208.1</td>\n",
       "      <td>...</td>\n",
       "      <td>9028.2</td>\n",
       "      <td>9860.6</td>\n",
       "      <td>0.0</td>\n",
       "      <td>0.0</td>\n",
       "      <td>0</td>\n",
       "      <td>0.0</td>\n",
       "      <td>0.0</td>\n",
       "      <td>0.0</td>\n",
       "      <td>0.0</td>\n",
       "      <td>0.0</td>\n",
       "    </tr>\n",
       "    <tr>\n",
       "      <th>689</th>\n",
       "      <td>716</td>\n",
       "      <td>Zimbabwe</td>\n",
       "      <td>616</td>\n",
       "      <td>Y</td>\n",
       "      <td>Terrestrial and marine areas protected to tota...</td>\n",
       "      <td>16.9</td>\n",
       "      <td>C</td>\n",
       "      <td>0</td>\n",
       "      <td>0</td>\n",
       "      <td>0</td>\n",
       "      <td>...</td>\n",
       "      <td>0</td>\n",
       "      <td>0</td>\n",
       "      <td>0.0</td>\n",
       "      <td>0.0</td>\n",
       "      <td>26.61</td>\n",
       "      <td>0.0</td>\n",
       "      <td>0.0</td>\n",
       "      <td>0.0</td>\n",
       "      <td>0.0</td>\n",
       "      <td>0.0</td>\n",
       "    </tr>\n",
       "  </tbody>\n",
       "</table>\n",
       "<p>690 rows × 36 columns</p>\n",
       "</div>"
      ],
      "text/plain": [
       "     CountryCode      Country  SeriesCode MDG  \\\n",
       "0              4  Afghanistan         567   Y   \n",
       "1              4  Afghanistan         749   Y   \n",
       "2              4  Afghanistan         616   Y   \n",
       "3              8      Albania         567   Y   \n",
       "4              8      Albania         749   Y   \n",
       "..           ...          ...         ...  ..   \n",
       "685          894       Zambia         749   Y   \n",
       "686          894       Zambia         616   Y   \n",
       "687          716     Zimbabwe         567   Y   \n",
       "688          716     Zimbabwe         749   Y   \n",
       "689          716     Zimbabwe         616   Y   \n",
       "\n",
       "                                                Series     1990 Type     1991  \\\n",
       "0    Proportion of land area covered by forest, per...      2.1    E        0   \n",
       "1    Carbon dioxide emissions (CO2), thousand metri...   2676.9    G   2493.6   \n",
       "2    Terrestrial and marine areas protected to tota...     0.36    C        0   \n",
       "3    Proportion of land area covered by forest, per...     28.8    C        0   \n",
       "4    Carbon dioxide emissions (CO2), thousand metri...     7488    G   3971.4   \n",
       "..                                                 ...      ...  ...      ...   \n",
       "685  Carbon dioxide emissions (CO2), thousand metri...   2445.9    G   2416.6   \n",
       "686  Terrestrial and marine areas protected to tota...    36.05    C        0   \n",
       "687  Proportion of land area covered by forest, per...     57.3    C        0   \n",
       "688  Carbon dioxide emissions (CO2), thousand metri...  15504.1    G  15823.1   \n",
       "689  Terrestrial and marine areas protected to tota...     16.9    C        0   \n",
       "\n",
       "        1992     1993  ...    2010     2011 2012 2013   2014 2015 2016 2017  \\\n",
       "0          0        0  ...     2.1        0  0.0  0.0      0  0.0  0.0  0.0   \n",
       "1     1426.5   1375.1  ...  8470.8  12251.4  0.0  0.0      0  0.0  0.0  0.0   \n",
       "2          0        0  ...       0        0  0.0  0.0   0.46  0.0  0.0  0.0   \n",
       "3          0        0  ...    28.3        0  0.0  0.0      0  0.0  0.0  0.0   \n",
       "4     2387.2   2343.2  ...  4415.1   4668.1  0.0  0.0      0  0.0  0.0  0.0   \n",
       "..       ...      ...  ...     ...      ...  ...  ...    ...  ...  ...  ...   \n",
       "685   2456.9   2500.9  ...  2673.2   3047.3  0.0  0.0      0  0.0  0.0  0.0   \n",
       "686        0        0  ...       0        0  0.0  0.0  37.85  0.0  0.0  0.0   \n",
       "687        0        0  ...    40.4        0  0.0  0.0      0  0.0  0.0  0.0   \n",
       "688  16901.2  16208.1  ...  9028.2   9860.6  0.0  0.0      0  0.0  0.0  0.0   \n",
       "689        0        0  ...       0        0  0.0  0.0  26.61  0.0  0.0  0.0   \n",
       "\n",
       "    2018 2019  \n",
       "0    0.0  0.0  \n",
       "1    0.0  0.0  \n",
       "2    0.0  0.0  \n",
       "3    0.0  0.0  \n",
       "4    0.0  0.0  \n",
       "..   ...  ...  \n",
       "685  0.0  0.0  \n",
       "686  0.0  0.0  \n",
       "687  0.0  0.0  \n",
       "688  0.0  0.0  \n",
       "689  0.0  0.0  \n",
       "\n",
       "[690 rows x 36 columns]"
      ]
     },
     "execution_count": 12,
     "metadata": {},
     "output_type": "execute_result"
    }
   ],
   "source": [
    "# Dropping columns with missing values\n",
    "df2 = df1.replace(np.nan,0,regex = True)#how = 'all', axis = \"rows\")\n",
    "df2"
   ]
  },
  {
   "cell_type": "code",
   "execution_count": 13,
   "metadata": {},
   "outputs": [
    {
     "data": {
      "text/plain": [
       "object     27\n",
       "float64     7\n",
       "int64       2\n",
       "dtype: int64"
      ]
     },
     "execution_count": 13,
     "metadata": {},
     "output_type": "execute_result"
    }
   ],
   "source": [
    "#Checking number of values in each data type\n",
    "\n",
    "df2.dtypes.value_counts()"
   ]
  },
  {
   "cell_type": "markdown",
   "metadata": {},
   "source": [
    "# Summary Of Data Types\n",
    "\n",
    "1.There 27 objects \n",
    "\n",
    "2.There 7 floats\n",
    "\n",
    "3.There are 2 integers"
   ]
  },
  {
   "cell_type": "code",
   "execution_count": 14,
   "metadata": {},
   "outputs": [
    {
     "data": {
      "text/plain": [
       "Index(['Country', 'MDG', 'Series', '1990', 'Type', '1991', '1992', '1993',\n",
       "       '1994', '1995', '1996', '1997', '1998', '1999', '2000', '2001', '2002',\n",
       "       '2003', '2004', '2005', '2006', '2007', '2008', '2009', '2010', '2011',\n",
       "       '2014'],\n",
       "      dtype='object')"
      ]
     },
     "execution_count": 14,
     "metadata": {},
     "output_type": "execute_result"
    }
   ],
   "source": [
    "#Checking all the object columns\n",
    "\n",
    "df2.select_dtypes(include = [\"object\"]).columns\n"
   ]
  },
  {
   "cell_type": "code",
   "execution_count": 15,
   "metadata": {},
   "outputs": [
    {
     "data": {
      "text/html": [
       "<div>\n",
       "<style scoped>\n",
       "    .dataframe tbody tr th:only-of-type {\n",
       "        vertical-align: middle;\n",
       "    }\n",
       "\n",
       "    .dataframe tbody tr th {\n",
       "        vertical-align: top;\n",
       "    }\n",
       "\n",
       "    .dataframe thead th {\n",
       "        text-align: right;\n",
       "    }\n",
       "</style>\n",
       "<table border=\"1\" class=\"dataframe\">\n",
       "  <thead>\n",
       "    <tr style=\"text-align: right;\">\n",
       "      <th></th>\n",
       "      <th>CountryCode</th>\n",
       "      <th>SeriesCode</th>\n",
       "      <th>2012</th>\n",
       "      <th>2013</th>\n",
       "      <th>2015</th>\n",
       "      <th>2016</th>\n",
       "      <th>2017</th>\n",
       "      <th>2018</th>\n",
       "      <th>2019</th>\n",
       "    </tr>\n",
       "  </thead>\n",
       "  <tbody>\n",
       "    <tr>\n",
       "      <th>CountryCode</th>\n",
       "      <td>1.000000e+00</td>\n",
       "      <td>-1.532248e-17</td>\n",
       "      <td>NaN</td>\n",
       "      <td>NaN</td>\n",
       "      <td>NaN</td>\n",
       "      <td>NaN</td>\n",
       "      <td>NaN</td>\n",
       "      <td>NaN</td>\n",
       "      <td>NaN</td>\n",
       "    </tr>\n",
       "    <tr>\n",
       "      <th>SeriesCode</th>\n",
       "      <td>-1.532248e-17</td>\n",
       "      <td>1.000000e+00</td>\n",
       "      <td>NaN</td>\n",
       "      <td>NaN</td>\n",
       "      <td>NaN</td>\n",
       "      <td>NaN</td>\n",
       "      <td>NaN</td>\n",
       "      <td>NaN</td>\n",
       "      <td>NaN</td>\n",
       "    </tr>\n",
       "    <tr>\n",
       "      <th>2012</th>\n",
       "      <td>NaN</td>\n",
       "      <td>NaN</td>\n",
       "      <td>NaN</td>\n",
       "      <td>NaN</td>\n",
       "      <td>NaN</td>\n",
       "      <td>NaN</td>\n",
       "      <td>NaN</td>\n",
       "      <td>NaN</td>\n",
       "      <td>NaN</td>\n",
       "    </tr>\n",
       "    <tr>\n",
       "      <th>2013</th>\n",
       "      <td>NaN</td>\n",
       "      <td>NaN</td>\n",
       "      <td>NaN</td>\n",
       "      <td>NaN</td>\n",
       "      <td>NaN</td>\n",
       "      <td>NaN</td>\n",
       "      <td>NaN</td>\n",
       "      <td>NaN</td>\n",
       "      <td>NaN</td>\n",
       "    </tr>\n",
       "    <tr>\n",
       "      <th>2015</th>\n",
       "      <td>NaN</td>\n",
       "      <td>NaN</td>\n",
       "      <td>NaN</td>\n",
       "      <td>NaN</td>\n",
       "      <td>NaN</td>\n",
       "      <td>NaN</td>\n",
       "      <td>NaN</td>\n",
       "      <td>NaN</td>\n",
       "      <td>NaN</td>\n",
       "    </tr>\n",
       "    <tr>\n",
       "      <th>2016</th>\n",
       "      <td>NaN</td>\n",
       "      <td>NaN</td>\n",
       "      <td>NaN</td>\n",
       "      <td>NaN</td>\n",
       "      <td>NaN</td>\n",
       "      <td>NaN</td>\n",
       "      <td>NaN</td>\n",
       "      <td>NaN</td>\n",
       "      <td>NaN</td>\n",
       "    </tr>\n",
       "    <tr>\n",
       "      <th>2017</th>\n",
       "      <td>NaN</td>\n",
       "      <td>NaN</td>\n",
       "      <td>NaN</td>\n",
       "      <td>NaN</td>\n",
       "      <td>NaN</td>\n",
       "      <td>NaN</td>\n",
       "      <td>NaN</td>\n",
       "      <td>NaN</td>\n",
       "      <td>NaN</td>\n",
       "    </tr>\n",
       "    <tr>\n",
       "      <th>2018</th>\n",
       "      <td>NaN</td>\n",
       "      <td>NaN</td>\n",
       "      <td>NaN</td>\n",
       "      <td>NaN</td>\n",
       "      <td>NaN</td>\n",
       "      <td>NaN</td>\n",
       "      <td>NaN</td>\n",
       "      <td>NaN</td>\n",
       "      <td>NaN</td>\n",
       "    </tr>\n",
       "    <tr>\n",
       "      <th>2019</th>\n",
       "      <td>NaN</td>\n",
       "      <td>NaN</td>\n",
       "      <td>NaN</td>\n",
       "      <td>NaN</td>\n",
       "      <td>NaN</td>\n",
       "      <td>NaN</td>\n",
       "      <td>NaN</td>\n",
       "      <td>NaN</td>\n",
       "      <td>NaN</td>\n",
       "    </tr>\n",
       "  </tbody>\n",
       "</table>\n",
       "</div>"
      ],
      "text/plain": [
       "              CountryCode    SeriesCode  2012  2013  2015  2016  2017  2018  \\\n",
       "CountryCode  1.000000e+00 -1.532248e-17   NaN   NaN   NaN   NaN   NaN   NaN   \n",
       "SeriesCode  -1.532248e-17  1.000000e+00   NaN   NaN   NaN   NaN   NaN   NaN   \n",
       "2012                  NaN           NaN   NaN   NaN   NaN   NaN   NaN   NaN   \n",
       "2013                  NaN           NaN   NaN   NaN   NaN   NaN   NaN   NaN   \n",
       "2015                  NaN           NaN   NaN   NaN   NaN   NaN   NaN   NaN   \n",
       "2016                  NaN           NaN   NaN   NaN   NaN   NaN   NaN   NaN   \n",
       "2017                  NaN           NaN   NaN   NaN   NaN   NaN   NaN   NaN   \n",
       "2018                  NaN           NaN   NaN   NaN   NaN   NaN   NaN   NaN   \n",
       "2019                  NaN           NaN   NaN   NaN   NaN   NaN   NaN   NaN   \n",
       "\n",
       "             2019  \n",
       "CountryCode   NaN  \n",
       "SeriesCode    NaN  \n",
       "2012          NaN  \n",
       "2013          NaN  \n",
       "2015          NaN  \n",
       "2016          NaN  \n",
       "2017          NaN  \n",
       "2018          NaN  \n",
       "2019          NaN  "
      ]
     },
     "execution_count": 15,
     "metadata": {},
     "output_type": "execute_result"
    }
   ],
   "source": [
    "#Checking correlation\n",
    "\n",
    "df2.corr()\n"
   ]
  },
  {
   "cell_type": "markdown",
   "metadata": {},
   "source": [
    "There is a perfect negative relationship between Country code and Series code meaning they are inversely proportional.When on increases the other decreases."
   ]
  },
  {
   "cell_type": "markdown",
   "metadata": {},
   "source": [
    "# 1.How many different countries are represented? How many missing values are there by country, year and series?"
   ]
  },
  {
   "cell_type": "code",
   "execution_count": 16,
   "metadata": {},
   "outputs": [
    {
     "name": "stdout",
     "output_type": "stream",
     "text": [
      "Number of countries in dataframes = 230\n"
     ]
    }
   ],
   "source": [
    "#Checking the number of countries represented\n",
    "country_name = df2.Country.unique()\n",
    "\n",
    "print(\"Number of countries in dataframes =\", len(country_name))\n"
   ]
  },
  {
   "cell_type": "code",
   "execution_count": 17,
   "metadata": {},
   "outputs": [
    {
     "data": {
      "text/plain": [
       "0    36\n",
       "dtype: int64"
      ]
     },
     "execution_count": 17,
     "metadata": {},
     "output_type": "execute_result"
    }
   ],
   "source": [
    "#Checking missing values in the data frame\n",
    "df2.isnull().sum().value_counts()"
   ]
  },
  {
   "cell_type": "markdown",
   "metadata": {},
   "source": [
    "There are 0 missing values in the data frame."
   ]
  },
  {
   "cell_type": "code",
   "execution_count": 18,
   "metadata": {},
   "outputs": [
    {
     "data": {
      "text/plain": [
       "0"
      ]
     },
     "execution_count": 18,
     "metadata": {},
     "output_type": "execute_result"
    }
   ],
   "source": [
    "#Checking missing values in country\n",
    "\n",
    "df2[\"Country\"].isnull().any().sum()"
   ]
  },
  {
   "cell_type": "markdown",
   "metadata": {},
   "source": [
    "There are no missing values in the Country column"
   ]
  },
  {
   "cell_type": "code",
   "execution_count": 19,
   "metadata": {},
   "outputs": [
    {
     "data": {
      "text/plain": [
       "0"
      ]
     },
     "execution_count": 19,
     "metadata": {},
     "output_type": "execute_result"
    }
   ],
   "source": [
    "#Checking missing values in series\n",
    "\n",
    "df2[\"Series\"].isnull().sum()"
   ]
  },
  {
   "cell_type": "markdown",
   "metadata": {},
   "source": [
    "There are 0 missing values in the Series column."
   ]
  },
  {
   "cell_type": "code",
   "execution_count": 20,
   "metadata": {},
   "outputs": [
    {
     "data": {
      "text/plain": [
       "0"
      ]
     },
     "execution_count": 20,
     "metadata": {},
     "output_type": "execute_result"
    }
   ],
   "source": [
    "#Checking missing values in 1990\n",
    "\n",
    "df2[\"1990\"].isnull().sum()"
   ]
  },
  {
   "cell_type": "markdown",
   "metadata": {},
   "source": [
    "There are 0 missing values in 1990  "
   ]
  },
  {
   "cell_type": "code",
   "execution_count": 21,
   "metadata": {},
   "outputs": [
    {
     "data": {
      "text/plain": [
       "False    690\n",
       "Name: 2000, dtype: int64"
      ]
     },
     "execution_count": 21,
     "metadata": {},
     "output_type": "execute_result"
    }
   ],
   "source": [
    "#Checking missing values in 2000\n",
    "\n",
    "df2[\"2000\"].isnull().value_counts()"
   ]
  },
  {
   "cell_type": "markdown",
   "metadata": {},
   "source": [
    "There are 0 missing values in 2000"
   ]
  },
  {
   "cell_type": "code",
   "execution_count": 22,
   "metadata": {},
   "outputs": [
    {
     "data": {
      "text/plain": [
       "False    690\n",
       "Name: 2005, dtype: int64"
      ]
     },
     "execution_count": 22,
     "metadata": {},
     "output_type": "execute_result"
    }
   ],
   "source": [
    "#Checking missing values in 2005\n",
    "\n",
    "df2[\"2005\"].isnull().value_counts()"
   ]
  },
  {
   "cell_type": "markdown",
   "metadata": {},
   "source": [
    "There are 0 missing values in 2005"
   ]
  },
  {
   "cell_type": "code",
   "execution_count": 23,
   "metadata": {},
   "outputs": [
    {
     "data": {
      "text/plain": [
       "False    690\n",
       "Name: 2010, dtype: int64"
      ]
     },
     "execution_count": 23,
     "metadata": {},
     "output_type": "execute_result"
    }
   ],
   "source": [
    "#Checking missing values in 2010\n",
    "\n",
    "df2[\"2010\"].isnull().value_counts()"
   ]
  },
  {
   "cell_type": "markdown",
   "metadata": {},
   "source": [
    "There are 0 missing values in 2010"
   ]
  },
  {
   "cell_type": "code",
   "execution_count": 24,
   "metadata": {},
   "outputs": [
    {
     "data": {
      "text/plain": [
       "False    690\n",
       "Name: 2011, dtype: int64"
      ]
     },
     "execution_count": 24,
     "metadata": {},
     "output_type": "execute_result"
    }
   ],
   "source": [
    "#Checking missing values in 2011\n",
    "\n",
    "df2[\"2011\"].isnull().value_counts()"
   ]
  },
  {
   "cell_type": "markdown",
   "metadata": {},
   "source": [
    "There are 0 missing values in 2011"
   ]
  },
  {
   "cell_type": "markdown",
   "metadata": {},
   "source": [
    "All in all year has 0 missing values."
   ]
  },
  {
   "cell_type": "markdown",
   "metadata": {},
   "source": [
    "# 2.Who are the top and bottom 5 countries in terms of C02 emissions in 1990 and what are their emissions? How has this changed by 2011?\n",
    "Do you spot any problems with the data? If so, fix it."
   ]
  },
  {
   "cell_type": "code",
   "execution_count": 25,
   "metadata": {},
   "outputs": [
    {
     "data": {
      "text/html": [
       "<div>\n",
       "<style scoped>\n",
       "    .dataframe tbody tr th:only-of-type {\n",
       "        vertical-align: middle;\n",
       "    }\n",
       "\n",
       "    .dataframe tbody tr th {\n",
       "        vertical-align: top;\n",
       "    }\n",
       "\n",
       "    .dataframe thead th {\n",
       "        text-align: right;\n",
       "    }\n",
       "</style>\n",
       "<table border=\"1\" class=\"dataframe\">\n",
       "  <thead>\n",
       "    <tr style=\"text-align: right;\">\n",
       "      <th></th>\n",
       "      <th>Country</th>\n",
       "      <th>1990</th>\n",
       "    </tr>\n",
       "  </thead>\n",
       "  <tbody>\n",
       "    <tr>\n",
       "      <th>0</th>\n",
       "      <td>Afghanistan</td>\n",
       "      <td>2.1</td>\n",
       "    </tr>\n",
       "    <tr>\n",
       "      <th>1</th>\n",
       "      <td>Afghanistan</td>\n",
       "      <td>2676.9</td>\n",
       "    </tr>\n",
       "    <tr>\n",
       "      <th>2</th>\n",
       "      <td>Afghanistan</td>\n",
       "      <td>0.36</td>\n",
       "    </tr>\n",
       "    <tr>\n",
       "      <th>3</th>\n",
       "      <td>Albania</td>\n",
       "      <td>28.8</td>\n",
       "    </tr>\n",
       "    <tr>\n",
       "      <th>4</th>\n",
       "      <td>Albania</td>\n",
       "      <td>7488</td>\n",
       "    </tr>\n",
       "    <tr>\n",
       "      <th>...</th>\n",
       "      <td>...</td>\n",
       "      <td>...</td>\n",
       "    </tr>\n",
       "    <tr>\n",
       "      <th>685</th>\n",
       "      <td>Zambia</td>\n",
       "      <td>2445.9</td>\n",
       "    </tr>\n",
       "    <tr>\n",
       "      <th>686</th>\n",
       "      <td>Zambia</td>\n",
       "      <td>36.05</td>\n",
       "    </tr>\n",
       "    <tr>\n",
       "      <th>687</th>\n",
       "      <td>Zimbabwe</td>\n",
       "      <td>57.3</td>\n",
       "    </tr>\n",
       "    <tr>\n",
       "      <th>688</th>\n",
       "      <td>Zimbabwe</td>\n",
       "      <td>15504.1</td>\n",
       "    </tr>\n",
       "    <tr>\n",
       "      <th>689</th>\n",
       "      <td>Zimbabwe</td>\n",
       "      <td>16.9</td>\n",
       "    </tr>\n",
       "  </tbody>\n",
       "</table>\n",
       "<p>690 rows × 2 columns</p>\n",
       "</div>"
      ],
      "text/plain": [
       "         Country     1990\n",
       "0    Afghanistan      2.1\n",
       "1    Afghanistan   2676.9\n",
       "2    Afghanistan     0.36\n",
       "3        Albania     28.8\n",
       "4        Albania     7488\n",
       "..           ...      ...\n",
       "685       Zambia   2445.9\n",
       "686       Zambia    36.05\n",
       "687     Zimbabwe     57.3\n",
       "688     Zimbabwe  15504.1\n",
       "689     Zimbabwe     16.9\n",
       "\n",
       "[690 rows x 2 columns]"
      ]
     },
     "execution_count": 25,
     "metadata": {},
     "output_type": "execute_result"
    }
   ],
   "source": [
    "#Creating a new data frame for Country and 1990\n",
    "df3 = df2.loc[:, (\"Country\",\"1990\") ]\n",
    "\n",
    "\n",
    "df3"
   ]
  },
  {
   "cell_type": "code",
   "execution_count": 26,
   "metadata": {},
   "outputs": [
    {
     "data": {
      "text/plain": [
       "object    2\n",
       "dtype: int64"
      ]
     },
     "execution_count": 26,
     "metadata": {},
     "output_type": "execute_result"
    }
   ],
   "source": [
    "df3.dtypes.value_counts()"
   ]
  },
  {
   "cell_type": "markdown",
   "metadata": {},
   "source": [
    "# Data type summary\n",
    "\n",
    "This data frame has 2 objects"
   ]
  },
  {
   "cell_type": "code",
   "execution_count": 27,
   "metadata": {},
   "outputs": [
    {
     "data": {
      "text/html": [
       "<div>\n",
       "<style scoped>\n",
       "    .dataframe tbody tr th:only-of-type {\n",
       "        vertical-align: middle;\n",
       "    }\n",
       "\n",
       "    .dataframe tbody tr th {\n",
       "        vertical-align: top;\n",
       "    }\n",
       "\n",
       "    .dataframe thead th {\n",
       "        text-align: right;\n",
       "    }\n",
       "</style>\n",
       "<table border=\"1\" class=\"dataframe\">\n",
       "  <thead>\n",
       "    <tr style=\"text-align: right;\">\n",
       "      <th></th>\n",
       "      <th>Country</th>\n",
       "      <th>1990</th>\n",
       "    </tr>\n",
       "  </thead>\n",
       "  <tbody>\n",
       "    <tr>\n",
       "      <th>count</th>\n",
       "      <td>690</td>\n",
       "      <td>690</td>\n",
       "    </tr>\n",
       "    <tr>\n",
       "      <th>unique</th>\n",
       "      <td>230</td>\n",
       "      <td>516</td>\n",
       "    </tr>\n",
       "    <tr>\n",
       "      <th>top</th>\n",
       "      <td>Australia</td>\n",
       "      <td>0</td>\n",
       "    </tr>\n",
       "    <tr>\n",
       "      <th>freq</th>\n",
       "      <td>3</td>\n",
       "      <td>63</td>\n",
       "    </tr>\n",
       "  </tbody>\n",
       "</table>\n",
       "</div>"
      ],
      "text/plain": [
       "          Country  1990\n",
       "count         690   690\n",
       "unique        230   516\n",
       "top     Australia     0\n",
       "freq            3    63"
      ]
     },
     "execution_count": 27,
     "metadata": {},
     "output_type": "execute_result"
    }
   ],
   "source": [
    "#Dataframe stats summary\n",
    "df3.describe()"
   ]
  },
  {
   "cell_type": "code",
   "execution_count": 28,
   "metadata": {},
   "outputs": [
    {
     "data": {
      "text/plain": [
       "Country\n",
       "Afghanistan                                         2679.36\n",
       "Albania                                             7516.95\n",
       "Algeria                                            78931.47\n",
       "American Samoa                                        90.06\n",
       "Andorra                                               41.13\n",
       "                                                    ...    \n",
       "Western Sahara                                         2.70\n",
       "Yemen                                              -2998.60\n",
       "Yugoslavia [former Socialist Federal Republic]    133288.10\n",
       "Zambia                                              2552.95\n",
       "Zimbabwe                                           15578.30\n",
       "Name: 1990, Length: 230, dtype: float64"
      ]
     },
     "execution_count": 28,
     "metadata": {},
     "output_type": "execute_result"
    }
   ],
   "source": [
    "#Grouping by country and 1990,then changing data type from object to float \n",
    "\n",
    "df4 = df3.groupby(\"Country\")[\"1990\"].apply(lambda country : country.astype(float).sum())\n",
    "df4"
   ]
  },
  {
   "cell_type": "code",
   "execution_count": 29,
   "metadata": {},
   "outputs": [
    {
     "data": {
      "text/html": [
       "<div>\n",
       "<style scoped>\n",
       "    .dataframe tbody tr th:only-of-type {\n",
       "        vertical-align: middle;\n",
       "    }\n",
       "\n",
       "    .dataframe tbody tr th {\n",
       "        vertical-align: top;\n",
       "    }\n",
       "\n",
       "    .dataframe thead th {\n",
       "        text-align: right;\n",
       "    }\n",
       "</style>\n",
       "<table border=\"1\" class=\"dataframe\">\n",
       "  <thead>\n",
       "    <tr style=\"text-align: right;\">\n",
       "      <th></th>\n",
       "      <th>Country</th>\n",
       "      <th>1990</th>\n",
       "    </tr>\n",
       "  </thead>\n",
       "  <tbody>\n",
       "    <tr>\n",
       "      <th>226</th>\n",
       "      <td>Yemen</td>\n",
       "      <td>-2998.60</td>\n",
       "    </tr>\n",
       "    <tr>\n",
       "      <th>179</th>\n",
       "      <td>Serbia and Montenegro</td>\n",
       "      <td>0.00</td>\n",
       "    </tr>\n",
       "    <tr>\n",
       "      <th>174</th>\n",
       "      <td>San Marino</td>\n",
       "      <td>0.00</td>\n",
       "    </tr>\n",
       "    <tr>\n",
       "      <th>204</th>\n",
       "      <td>Tokelau</td>\n",
       "      <td>0.00</td>\n",
       "    </tr>\n",
       "    <tr>\n",
       "      <th>131</th>\n",
       "      <td>Monaco</td>\n",
       "      <td>0.18</td>\n",
       "    </tr>\n",
       "    <tr>\n",
       "      <th>...</th>\n",
       "      <td>...</td>\n",
       "      <td>...</td>\n",
       "    </tr>\n",
       "    <tr>\n",
       "      <th>215</th>\n",
       "      <td>United Kingdom</td>\n",
       "      <td>555919.37</td>\n",
       "    </tr>\n",
       "    <tr>\n",
       "      <th>92</th>\n",
       "      <td>India</td>\n",
       "      <td>690601.04</td>\n",
       "    </tr>\n",
       "    <tr>\n",
       "      <th>100</th>\n",
       "      <td>Japan</td>\n",
       "      <td>1094358.17</td>\n",
       "    </tr>\n",
       "    <tr>\n",
       "      <th>41</th>\n",
       "      <td>China</td>\n",
       "      <td>2460773.08</td>\n",
       "    </tr>\n",
       "    <tr>\n",
       "      <th>217</th>\n",
       "      <td>United States</td>\n",
       "      <td>4823599.85</td>\n",
       "    </tr>\n",
       "  </tbody>\n",
       "</table>\n",
       "<p>230 rows × 2 columns</p>\n",
       "</div>"
      ],
      "text/plain": [
       "                   Country        1990\n",
       "226                  Yemen    -2998.60\n",
       "179  Serbia and Montenegro        0.00\n",
       "174             San Marino        0.00\n",
       "204                Tokelau        0.00\n",
       "131                 Monaco        0.18\n",
       "..                     ...         ...\n",
       "215         United Kingdom   555919.37\n",
       "92                   India   690601.04\n",
       "100                  Japan  1094358.17\n",
       "41                   China  2460773.08\n",
       "217          United States  4823599.85\n",
       "\n",
       "[230 rows x 2 columns]"
      ]
     },
     "execution_count": 29,
     "metadata": {},
     "output_type": "execute_result"
    }
   ],
   "source": [
    "#Sorting my dataframe to see the bottom and top 5 countries in descending order in the 1990 column\n",
    "\n",
    "df4.reset_index().sort_values([\"1990\"],ascending = True)"
   ]
  },
  {
   "cell_type": "code",
   "execution_count": 30,
   "metadata": {},
   "outputs": [
    {
     "data": {
      "text/plain": [
       "count    2.300000e+02\n",
       "mean     7.168503e+04\n",
       "std      3.713651e+05\n",
       "min     -2.998600e+03\n",
       "25%      8.575250e+01\n",
       "50%      1.236955e+03\n",
       "75%      2.138662e+04\n",
       "max      4.823600e+06\n",
       "Name: 1990, dtype: float64"
      ]
     },
     "execution_count": 30,
     "metadata": {},
     "output_type": "execute_result"
    }
   ],
   "source": [
    "df4.describe()"
   ]
  },
  {
   "cell_type": "markdown",
   "metadata": {},
   "source": [
    "# Top 5 countries in 1990 in asdending order and the amount of CO2 emisson"
   ]
  },
  {
   "cell_type": "markdown",
   "metadata": {},
   "source": [
    "1.United States      =  4823599.85\n",
    "\n",
    "2.China\t             =  2460773.08\n",
    "\n",
    "3.Japan\t             =  1094358.17\n",
    "\n",
    "4.India\t             =  690601.04\n",
    "\n",
    "5.United Kingdom     =\t555919.37"
   ]
  },
  {
   "cell_type": "markdown",
   "metadata": {},
   "source": [
    "# Bottom 5 countries in 1990 in descdending order and the amount of CO2 emisson"
   ]
  },
  {
   "cell_type": "markdown",
   "metadata": {},
   "source": [
    "1.Yemen\t = -2998.60\n",
    "\n",
    "2.San Marino = 0.00\n",
    "\n",
    "3.Tokelau\t= 0.00\t \n",
    "\n",
    "4.Monaco =\t2.18\n",
    "\n",
    "5.State of Palestine =\t2.50"
   ]
  },
  {
   "cell_type": "code",
   "execution_count": 31,
   "metadata": {},
   "outputs": [
    {
     "data": {
      "text/html": [
       "<div>\n",
       "<style scoped>\n",
       "    .dataframe tbody tr th:only-of-type {\n",
       "        vertical-align: middle;\n",
       "    }\n",
       "\n",
       "    .dataframe tbody tr th {\n",
       "        vertical-align: top;\n",
       "    }\n",
       "\n",
       "    .dataframe thead th {\n",
       "        text-align: right;\n",
       "    }\n",
       "</style>\n",
       "<table border=\"1\" class=\"dataframe\">\n",
       "  <thead>\n",
       "    <tr style=\"text-align: right;\">\n",
       "      <th></th>\n",
       "      <th>Country</th>\n",
       "      <th>2011</th>\n",
       "    </tr>\n",
       "  </thead>\n",
       "  <tbody>\n",
       "    <tr>\n",
       "      <th>0</th>\n",
       "      <td>Afghanistan</td>\n",
       "      <td>0</td>\n",
       "    </tr>\n",
       "    <tr>\n",
       "      <th>1</th>\n",
       "      <td>Afghanistan</td>\n",
       "      <td>12251.4</td>\n",
       "    </tr>\n",
       "    <tr>\n",
       "      <th>2</th>\n",
       "      <td>Afghanistan</td>\n",
       "      <td>0</td>\n",
       "    </tr>\n",
       "    <tr>\n",
       "      <th>3</th>\n",
       "      <td>Albania</td>\n",
       "      <td>0</td>\n",
       "    </tr>\n",
       "    <tr>\n",
       "      <th>4</th>\n",
       "      <td>Albania</td>\n",
       "      <td>4668.1</td>\n",
       "    </tr>\n",
       "    <tr>\n",
       "      <th>...</th>\n",
       "      <td>...</td>\n",
       "      <td>...</td>\n",
       "    </tr>\n",
       "    <tr>\n",
       "      <th>685</th>\n",
       "      <td>Zambia</td>\n",
       "      <td>3047.3</td>\n",
       "    </tr>\n",
       "    <tr>\n",
       "      <th>686</th>\n",
       "      <td>Zambia</td>\n",
       "      <td>0</td>\n",
       "    </tr>\n",
       "    <tr>\n",
       "      <th>687</th>\n",
       "      <td>Zimbabwe</td>\n",
       "      <td>0</td>\n",
       "    </tr>\n",
       "    <tr>\n",
       "      <th>688</th>\n",
       "      <td>Zimbabwe</td>\n",
       "      <td>9860.6</td>\n",
       "    </tr>\n",
       "    <tr>\n",
       "      <th>689</th>\n",
       "      <td>Zimbabwe</td>\n",
       "      <td>0</td>\n",
       "    </tr>\n",
       "  </tbody>\n",
       "</table>\n",
       "<p>690 rows × 2 columns</p>\n",
       "</div>"
      ],
      "text/plain": [
       "         Country     2011\n",
       "0    Afghanistan        0\n",
       "1    Afghanistan  12251.4\n",
       "2    Afghanistan        0\n",
       "3        Albania        0\n",
       "4        Albania   4668.1\n",
       "..           ...      ...\n",
       "685       Zambia   3047.3\n",
       "686       Zambia        0\n",
       "687     Zimbabwe        0\n",
       "688     Zimbabwe   9860.6\n",
       "689     Zimbabwe        0\n",
       "\n",
       "[690 rows x 2 columns]"
      ]
     },
     "execution_count": 31,
     "metadata": {},
     "output_type": "execute_result"
    }
   ],
   "source": [
    "#Creating a new data frame for country and year 2011\n",
    "df5 = df2.loc[:, (\"Country\",\"2011\") ]\n",
    "\n",
    "#Filling missing values using 1\n",
    "#df5[\"2011\"] = df5[\"2011\"].fillna(1)\n",
    "df5"
   ]
  },
  {
   "cell_type": "code",
   "execution_count": 32,
   "metadata": {},
   "outputs": [
    {
     "data": {
      "text/plain": [
       "object    2\n",
       "dtype: int64"
      ]
     },
     "execution_count": 32,
     "metadata": {},
     "output_type": "execute_result"
    }
   ],
   "source": [
    "df5.dtypes.value_counts()"
   ]
  },
  {
   "cell_type": "code",
   "execution_count": 33,
   "metadata": {},
   "outputs": [
    {
     "data": {
      "text/plain": [
       "Country\n",
       "Afghanistan                                        12251.4\n",
       "Albania                                             4668.1\n",
       "Algeria                                           121755.4\n",
       "American Samoa                                         0.0\n",
       "Andorra                                              491.4\n",
       "                                                    ...   \n",
       "Western Sahara                                         0.0\n",
       "Yemen                                              22295.4\n",
       "Yugoslavia [former Socialist Federal Republic]         0.0\n",
       "Zambia                                              3047.3\n",
       "Zimbabwe                                            9860.6\n",
       "Name: 2011, Length: 230, dtype: float64"
      ]
     },
     "execution_count": 33,
     "metadata": {},
     "output_type": "execute_result"
    }
   ],
   "source": [
    "#Grouping by country and 2011,then changing data type from object to float \n",
    "\n",
    "df6 = df5.groupby(\"Country\")[\"2011\"].apply(lambda country : country.astype(float).sum())\n",
    "df6"
   ]
  },
  {
   "cell_type": "code",
   "execution_count": 34,
   "metadata": {},
   "outputs": [
    {
     "data": {
      "text/html": [
       "<div>\n",
       "<style scoped>\n",
       "    .dataframe tbody tr th:only-of-type {\n",
       "        vertical-align: middle;\n",
       "    }\n",
       "\n",
       "    .dataframe tbody tr th {\n",
       "        vertical-align: top;\n",
       "    }\n",
       "\n",
       "    .dataframe thead th {\n",
       "        text-align: right;\n",
       "    }\n",
       "</style>\n",
       "<table border=\"1\" class=\"dataframe\">\n",
       "  <thead>\n",
       "    <tr style=\"text-align: right;\">\n",
       "      <th></th>\n",
       "      <th>Country</th>\n",
       "      <th>2011</th>\n",
       "    </tr>\n",
       "  </thead>\n",
       "  <tbody>\n",
       "    <tr>\n",
       "      <th>41</th>\n",
       "      <td>China</td>\n",
       "      <td>9019518.2</td>\n",
       "    </tr>\n",
       "    <tr>\n",
       "      <th>217</th>\n",
       "      <td>United States</td>\n",
       "      <td>5305569.6</td>\n",
       "    </tr>\n",
       "    <tr>\n",
       "      <th>92</th>\n",
       "      <td>India</td>\n",
       "      <td>2074344.9</td>\n",
       "    </tr>\n",
       "    <tr>\n",
       "      <th>166</th>\n",
       "      <td>Russian Federation</td>\n",
       "      <td>1808073.0</td>\n",
       "    </tr>\n",
       "    <tr>\n",
       "      <th>100</th>\n",
       "      <td>Japan</td>\n",
       "      <td>1187657.0</td>\n",
       "    </tr>\n",
       "    <tr>\n",
       "      <th>...</th>\n",
       "      <td>...</td>\n",
       "      <td>...</td>\n",
       "    </tr>\n",
       "    <tr>\n",
       "      <th>83</th>\n",
       "      <td>Guam</td>\n",
       "      <td>0.0</td>\n",
       "    </tr>\n",
       "    <tr>\n",
       "      <th>179</th>\n",
       "      <td>Serbia and Montenegro</td>\n",
       "      <td>0.0</td>\n",
       "    </tr>\n",
       "    <tr>\n",
       "      <th>188</th>\n",
       "      <td>South Sudan</td>\n",
       "      <td>0.0</td>\n",
       "    </tr>\n",
       "    <tr>\n",
       "      <th>192</th>\n",
       "      <td>Sudan</td>\n",
       "      <td>0.0</td>\n",
       "    </tr>\n",
       "    <tr>\n",
       "      <th>128</th>\n",
       "      <td>Mayotte</td>\n",
       "      <td>0.0</td>\n",
       "    </tr>\n",
       "  </tbody>\n",
       "</table>\n",
       "<p>230 rows × 2 columns</p>\n",
       "</div>"
      ],
      "text/plain": [
       "                   Country       2011\n",
       "41                   China  9019518.2\n",
       "217          United States  5305569.6\n",
       "92                   India  2074344.9\n",
       "166     Russian Federation  1808073.0\n",
       "100                  Japan  1187657.0\n",
       "..                     ...        ...\n",
       "83                    Guam        0.0\n",
       "179  Serbia and Montenegro        0.0\n",
       "188            South Sudan        0.0\n",
       "192                  Sudan        0.0\n",
       "128                Mayotte        0.0\n",
       "\n",
       "[230 rows x 2 columns]"
      ]
     },
     "execution_count": 34,
     "metadata": {},
     "output_type": "execute_result"
    }
   ],
   "source": [
    "#Reseting and sorting dataframe in the 2011 column\n",
    "df6.reset_index().sort_values( [\"2011\"],ascending = False)"
   ]
  },
  {
   "cell_type": "markdown",
   "metadata": {},
   "source": [
    "# Top 5 countries in 2011 in desdending order and the amount of CO2 emisson¶"
   ]
  },
  {
   "cell_type": "markdown",
   "metadata": {},
   "source": [
    "1.China = 9019520.2\n",
    "\n",
    "2.United States = 5305571.6\n",
    "\n",
    "3.India = \t2074346.9\n",
    "\n",
    "4.Russian Federation = 2074346.9\n",
    "\n",
    "5.Japan = 1187659.0"
   ]
  },
  {
   "cell_type": "markdown",
   "metadata": {},
   "source": [
    "# Bottom 5 countries in 2011 and the amount of CO2 emisson"
   ]
  },
  {
   "cell_type": "markdown",
   "metadata": {},
   "source": [
    "1.Mayotte = 0.0\n",
    "\n",
    "2.Sudan\t=  0.0\n",
    "\n",
    "3.South Sudan =  0.0\n",
    "\n",
    "4.Serbia and Montenegro =  0.0\n",
    "\n",
    "5.Guam = 0.0\n",
    "\n"
   ]
  },
  {
   "cell_type": "markdown",
   "metadata": {},
   "source": [
    "The bottom 5 countries in 2011 had missing values,so I replaced missing values with zero.Also I think in these countries there were no or CO2 emisions at these countries because they are not developed countries and so they don't use fossil fuels and there are a lot of forests there.\n"
   ]
  },
  {
   "cell_type": "markdown",
   "metadata": {},
   "source": [
    "# 3.Calculate the mean and median C02 emissions for 1990. Why do you think these values differ?"
   ]
  },
  {
   "cell_type": "code",
   "execution_count": 35,
   "metadata": {
    "scrolled": true
   },
   "outputs": [
    {
     "data": {
      "text/plain": [
       "count    2.300000e+02\n",
       "mean     7.168503e+04\n",
       "std      3.713651e+05\n",
       "min     -2.998600e+03\n",
       "25%      8.575250e+01\n",
       "50%      1.236955e+03\n",
       "75%      2.138662e+04\n",
       "max      4.823600e+06\n",
       "Name: 1990, dtype: float64"
      ]
     },
     "execution_count": 35,
     "metadata": {},
     "output_type": "execute_result"
    }
   ],
   "source": [
    "#statistical summary of data frame 4\n",
    "\n",
    "df4.describe()"
   ]
  },
  {
   "cell_type": "markdown",
   "metadata": {},
   "source": [
    " # Mean"
   ]
  },
  {
   "cell_type": "code",
   "execution_count": 36,
   "metadata": {},
   "outputs": [
    {
     "data": {
      "text/plain": [
       "71685.03060869566"
      ]
     },
     "execution_count": 36,
     "metadata": {},
     "output_type": "execute_result"
    }
   ],
   "source": [
    "#Checking mean\n",
    "df4.mean()"
   ]
  },
  {
   "cell_type": "markdown",
   "metadata": {},
   "source": [
    "The mean or overall average is 71685.030"
   ]
  },
  {
   "cell_type": "markdown",
   "metadata": {},
   "source": [
    "# Median"
   ]
  },
  {
   "cell_type": "code",
   "execution_count": 37,
   "metadata": {},
   "outputs": [
    {
     "data": {
      "text/plain": [
       "1236.955"
      ]
     },
     "execution_count": 37,
     "metadata": {},
     "output_type": "execute_result"
    }
   ],
   "source": [
    "#Checking median\n",
    "df4.median()"
   ]
  },
  {
   "cell_type": "markdown",
   "metadata": {},
   "source": [
    "The median is 1236.95."
   ]
  },
  {
   "cell_type": "code",
   "execution_count": 38,
   "metadata": {},
   "outputs": [
    {
     "data": {
      "image/png": "[encoded data removed]",
      "text/plain": [
       "<Figure size 432x288 with 1 Axes>"
      ]
     },
     "metadata": {
      "needs_background": "light"
     },
     "output_type": "display_data"
    }
   ],
   "source": [
    "dist_df = df4\n",
    "dist_df = np.random.gamma(4, 0.5,1000)\n",
    "mean = dist_df.mean()\n",
    "median = np.median(dist_df)\n",
    "\n",
    "plt.axvline(mean,color = 'blue',label = 'Mean')\n",
    "plt.axvline(median,color = 'green',label = 'Median')\n",
    "\n",
    "_ = sns.distplot(dist_df,color = \"grey\")\n",
    "_ = plt.legend()\n"
   ]
  },
  {
   "cell_type": "markdown",
   "metadata": {},
   "source": [
    "The mean is greater than the median, the distribution is positively skewed."
   ]
  },
  {
   "cell_type": "markdown",
   "metadata": {},
   "source": [
    "# 4.Calculate the minimum, maximum and interquartile range of the CO2 emissions for 1990. Using this information, and the mean and median, what does this tell you about the distribution of CO2 emissions?"
   ]
  },
  {
   "cell_type": "markdown",
   "metadata": {},
   "source": [
    "# Minimum"
   ]
  },
  {
   "cell_type": "code",
   "execution_count": 39,
   "metadata": {},
   "outputs": [
    {
     "data": {
      "text/plain": [
       "-2998.6"
      ]
     },
     "execution_count": 39,
     "metadata": {},
     "output_type": "execute_result"
    }
   ],
   "source": [
    "df4.min()"
   ]
  },
  {
   "cell_type": "markdown",
   "metadata": {},
   "source": [
    "# Maximum"
   ]
  },
  {
   "cell_type": "code",
   "execution_count": 40,
   "metadata": {},
   "outputs": [
    {
     "data": {
      "text/plain": [
       "4823599.85"
      ]
     },
     "execution_count": 40,
     "metadata": {},
     "output_type": "execute_result"
    }
   ],
   "source": [
    "df4.max()"
   ]
  },
  {
   "cell_type": "markdown",
   "metadata": {},
   "source": [
    "# InterQuartile Range"
   ]
  },
  {
   "cell_type": "code",
   "execution_count": 41,
   "metadata": {},
   "outputs": [
    {
     "data": {
      "text/plain": [
       "85.7525"
      ]
     },
     "execution_count": 41,
     "metadata": {},
     "output_type": "execute_result"
    }
   ],
   "source": [
    "q1 = df4.quantile(0.25)\n",
    "q1"
   ]
  },
  {
   "cell_type": "code",
   "execution_count": 42,
   "metadata": {},
   "outputs": [
    {
     "data": {
      "text/plain": [
       "1236.955"
      ]
     },
     "execution_count": 42,
     "metadata": {},
     "output_type": "execute_result"
    }
   ],
   "source": [
    "\n",
    "q2 = df4.median()\n",
    "q2"
   ]
  },
  {
   "cell_type": "code",
   "execution_count": 43,
   "metadata": {},
   "outputs": [
    {
     "data": {
      "text/plain": [
       "21386.615"
      ]
     },
     "execution_count": 43,
     "metadata": {},
     "output_type": "execute_result"
    }
   ],
   "source": [
    "q3 = df4.quantile(0.75)\n",
    "q3"
   ]
  },
  {
   "cell_type": "code",
   "execution_count": 44,
   "metadata": {},
   "outputs": [
    {
     "data": {
      "text/plain": [
       "21300.862500000003"
      ]
     },
     "execution_count": 44,
     "metadata": {},
     "output_type": "execute_result"
    }
   ],
   "source": [
    "iqr = q3 - q1\n",
    "iqr "
   ]
  },
  {
   "cell_type": "markdown",
   "metadata": {},
   "source": [
    "The distribution is skewed/ assymetrical distribution because on tail is more than the other.This data is  right-skewed because the right hand side has a longer tail than the left.If this was a normal distribution the mean and the median were gonna be equal,now that the mean is more than the median it means that this distribution is positively(right-skewed)"
   ]
  },
  {
   "cell_type": "markdown",
   "metadata": {},
   "source": [
    "# 5. Create a histogram of the CO2 emissions for 1990. Is this what you expected from your answers in questions 3 and 4?"
   ]
  },
  {
   "cell_type": "code",
   "execution_count": 45,
   "metadata": {},
   "outputs": [
    {
     "data": {
      "image/png": "[encoded data removed]",
      "text/plain": [
       "<Figure size 720x576 with 1 Axes>"
      ]
     },
     "metadata": {
      "needs_background": "light"
     },
     "output_type": "display_data"
    }
   ],
   "source": [
    "#Assigning new data frame\n",
    "new_df = df4\n",
    "\n",
    "plt.figure(figsize = [10,8])\n",
    "new_df = np.random.gamma(4, 0.5, 1000)\n",
    "\n",
    "#Showing values specific points on coordinate axis \n",
    "plt.xticks(fontsize = 15)\n",
    "plt.yticks(fontsize = 15)\n",
    "\n",
    "#Showing specific labels on coordinate axis\n",
    "plt.xlabel('CO2 emission', fontsize = 15)\n",
    "plt.ylabel('Frequency', fontsize = 15)\n",
    "\n",
    "\n",
    "#Showing plot title\n",
    "plt.title('Skewed Distribution Histogram',fontsize = 15)\n",
    "\n",
    "plot = plt.hist(new_df, bins = 20, color='r',edgecolor = 'k', alpha = 0.65)"
   ]
  },
  {
   "cell_type": "markdown",
   "metadata": {},
   "source": [
    "Yes this is what I expected my histogram to look like because this distribution is skewed and it is positively distributed(right-skewed) as the tail is on the right."
   ]
  },
  {
   "cell_type": "markdown",
   "metadata": {},
   "source": [
    "# 6.Calculate the standard deviation and standard error of the mean for CO2 emissions in 1990. How is the standard error different from the standard deviation?"
   ]
  },
  {
   "cell_type": "markdown",
   "metadata": {},
   "source": [
    "# Standard deviation"
   ]
  },
  {
   "cell_type": "code",
   "execution_count": 46,
   "metadata": {},
   "outputs": [
    {
     "data": {
      "text/plain": [
       "371365.112172181"
      ]
     },
     "execution_count": 46,
     "metadata": {},
     "output_type": "execute_result"
    }
   ],
   "source": [
    "df4.std()"
   ]
  },
  {
   "cell_type": "markdown",
   "metadata": {},
   "source": [
    "# Standard error mean"
   ]
  },
  {
   "cell_type": "code",
   "execution_count": 47,
   "metadata": {},
   "outputs": [
    {
     "data": {
      "text/plain": [
       "24487.090346677225"
      ]
     },
     "execution_count": 47,
     "metadata": {},
     "output_type": "execute_result"
    }
   ],
   "source": [
    "df4.sem()"
   ]
  },
  {
   "cell_type": "markdown",
   "metadata": {},
   "source": [
    "Standard deviation measures dispersion for a subject set of data from mean while standard error measures how far the sample mean of data is likely to be from true population mean."
   ]
  },
  {
   "cell_type": "markdown",
   "metadata": {},
   "source": [
    "# 7.Create a line graph to show C02 emissions in Brazil, Russia, China, India, the USA and South Africa over time. What does the graph tell you about the difference and change in C02 emissions in these countries?"
   ]
  },
  {
   "cell_type": "code",
   "execution_count": 48,
   "metadata": {
    "scrolled": true
   },
   "outputs": [
    {
     "data": {
      "text/plain": [
       "81    Brazil\n",
       "82    Brazil\n",
       "83    Brazil\n",
       "Name: Country, dtype: object"
      ]
     },
     "metadata": {},
     "output_type": "display_data"
    },
    {
     "data": {
      "text/plain": [
       "123    China\n",
       "124    China\n",
       "125    China\n",
       "Name: Country, dtype: object"
      ]
     },
     "metadata": {},
     "output_type": "display_data"
    },
    {
     "data": {
      "text/plain": [
       "276    India\n",
       "277    India\n",
       "278    India\n",
       "Name: Country, dtype: object"
      ]
     },
     "metadata": {},
     "output_type": "display_data"
    },
    {
     "data": {
      "text/plain": [
       "561    South Africa\n",
       "562    South Africa\n",
       "563    South Africa\n",
       "Name: Country, dtype: object"
      ]
     },
     "metadata": {},
     "output_type": "display_data"
    },
    {
     "data": {
      "text/plain": [
       "498    Russian Federation\n",
       "499    Russian Federation\n",
       "500    Russian Federation\n",
       "Name: Country, dtype: object"
      ]
     },
     "metadata": {},
     "output_type": "display_data"
    },
    {
     "data": {
      "text/plain": [
       "651    United States\n",
       "652    United States\n",
       "653    United States\n",
       "Name: Country, dtype: object"
      ]
     },
     "metadata": {},
     "output_type": "display_data"
    }
   ],
   "source": [
    "#Locating countries\n",
    "BRZ = df2[\"Country\"][df2[\"Country\"] == \"Brazil\"]\n",
    "CHN = df2[\"Country\"][df2[\"Country\"] == \"China\"]\n",
    "IND = df2[\"Country\"][df2[\"Country\"] == \"India\"]\n",
    "RSA = df2[\"Country\"][df2[\"Country\"] == \"South Africa\"]\n",
    "RSF = df2[\"Country\"][df2[\"Country\"] == \"Russian Federation\"]\n",
    "USA = df2[\"Country\"][df2[\"Country\"] == \"United States\"]\n",
    "\n",
    "#Displaying posotions of the countries \n",
    "\n",
    "display(BRZ,CHN,IND,RSA,RSF,USA)\n"
   ]
  },
  {
   "cell_type": "code",
   "execution_count": 49,
   "metadata": {},
   "outputs": [
    {
     "data": {
      "text/html": [
       "<div>\n",
       "<style scoped>\n",
       "    .dataframe tbody tr th:only-of-type {\n",
       "        vertical-align: middle;\n",
       "    }\n",
       "\n",
       "    .dataframe tbody tr th {\n",
       "        vertical-align: top;\n",
       "    }\n",
       "\n",
       "    .dataframe thead th {\n",
       "        text-align: right;\n",
       "    }\n",
       "</style>\n",
       "<table border=\"1\" class=\"dataframe\">\n",
       "  <thead>\n",
       "    <tr style=\"text-align: right;\">\n",
       "      <th></th>\n",
       "      <th>Country</th>\n",
       "      <th>1990</th>\n",
       "      <th>1991</th>\n",
       "      <th>1992</th>\n",
       "      <th>1993</th>\n",
       "      <th>1994</th>\n",
       "      <th>1995</th>\n",
       "      <th>1996</th>\n",
       "      <th>1997</th>\n",
       "      <th>1998</th>\n",
       "      <th>...</th>\n",
       "      <th>2010</th>\n",
       "      <th>2011</th>\n",
       "      <th>2012</th>\n",
       "      <th>2013</th>\n",
       "      <th>2014</th>\n",
       "      <th>2015</th>\n",
       "      <th>2016</th>\n",
       "      <th>2017</th>\n",
       "      <th>2018</th>\n",
       "      <th>2019</th>\n",
       "    </tr>\n",
       "  </thead>\n",
       "  <tbody>\n",
       "    <tr>\n",
       "      <th>82</th>\n",
       "      <td>Brazil</td>\n",
       "      <td>208887</td>\n",
       "      <td>219330.6</td>\n",
       "      <td>220705.7</td>\n",
       "      <td>230738.6</td>\n",
       "      <td>242154</td>\n",
       "      <td>258347.5</td>\n",
       "      <td>284782.9</td>\n",
       "      <td>300547.3</td>\n",
       "      <td>312289.1</td>\n",
       "      <td>...</td>\n",
       "      <td>419754.2</td>\n",
       "      <td>439412.9</td>\n",
       "      <td>0.0</td>\n",
       "      <td>0.0</td>\n",
       "      <td>0</td>\n",
       "      <td>0.0</td>\n",
       "      <td>0.0</td>\n",
       "      <td>0.0</td>\n",
       "      <td>0.0</td>\n",
       "      <td>0.0</td>\n",
       "    </tr>\n",
       "    <tr>\n",
       "      <th>124</th>\n",
       "      <td>China</td>\n",
       "      <td>2460744</td>\n",
       "      <td>2584538.3</td>\n",
       "      <td>2695982.1</td>\n",
       "      <td>2878694</td>\n",
       "      <td>3058241.3</td>\n",
       "      <td>3320285.2</td>\n",
       "      <td>3463089.1</td>\n",
       "      <td>3469510</td>\n",
       "      <td>3324344.5</td>\n",
       "      <td>...</td>\n",
       "      <td>8256969.2</td>\n",
       "      <td>9019518.2</td>\n",
       "      <td>0.0</td>\n",
       "      <td>0.0</td>\n",
       "      <td>0</td>\n",
       "      <td>0.0</td>\n",
       "      <td>0.0</td>\n",
       "      <td>0.0</td>\n",
       "      <td>0.0</td>\n",
       "      <td>0.0</td>\n",
       "    </tr>\n",
       "    <tr>\n",
       "      <th>277</th>\n",
       "      <td>India</td>\n",
       "      <td>690576.8</td>\n",
       "      <td>737851.7</td>\n",
       "      <td>783634.2</td>\n",
       "      <td>814297.7</td>\n",
       "      <td>864931.6</td>\n",
       "      <td>920046.6</td>\n",
       "      <td>1002224.1</td>\n",
       "      <td>1043939.9</td>\n",
       "      <td>1071911.8</td>\n",
       "      <td>...</td>\n",
       "      <td>1950950.3</td>\n",
       "      <td>2074344.9</td>\n",
       "      <td>0.0</td>\n",
       "      <td>0.0</td>\n",
       "      <td>0</td>\n",
       "      <td>0.0</td>\n",
       "      <td>0.0</td>\n",
       "      <td>0.0</td>\n",
       "      <td>0.0</td>\n",
       "      <td>0.0</td>\n",
       "    </tr>\n",
       "    <tr>\n",
       "      <th>563</th>\n",
       "      <td>South Africa</td>\n",
       "      <td>2.58</td>\n",
       "      <td>0</td>\n",
       "      <td>0</td>\n",
       "      <td>0</td>\n",
       "      <td>0</td>\n",
       "      <td>0</td>\n",
       "      <td>0</td>\n",
       "      <td>0</td>\n",
       "      <td>0</td>\n",
       "      <td>...</td>\n",
       "      <td>0</td>\n",
       "      <td>0</td>\n",
       "      <td>0.0</td>\n",
       "      <td>0.0</td>\n",
       "      <td>10.24</td>\n",
       "      <td>0.0</td>\n",
       "      <td>0.0</td>\n",
       "      <td>0.0</td>\n",
       "      <td>0.0</td>\n",
       "      <td>0.0</td>\n",
       "    </tr>\n",
       "    <tr>\n",
       "      <th>499</th>\n",
       "      <td>Russian Federation</td>\n",
       "      <td>0</td>\n",
       "      <td>0</td>\n",
       "      <td>2081840.2</td>\n",
       "      <td>1941203.5</td>\n",
       "      <td>1701132.3</td>\n",
       "      <td>1634312.2</td>\n",
       "      <td>1615804.9</td>\n",
       "      <td>1528849.3</td>\n",
       "      <td>1498343.5</td>\n",
       "      <td>...</td>\n",
       "      <td>1742540.1</td>\n",
       "      <td>1808073</td>\n",
       "      <td>0.0</td>\n",
       "      <td>0.0</td>\n",
       "      <td>0</td>\n",
       "      <td>0.0</td>\n",
       "      <td>0.0</td>\n",
       "      <td>0.0</td>\n",
       "      <td>0.0</td>\n",
       "      <td>0.0</td>\n",
       "    </tr>\n",
       "    <tr>\n",
       "      <th>652</th>\n",
       "      <td>United States</td>\n",
       "      <td>4823557.1</td>\n",
       "      <td>4822383.7</td>\n",
       "      <td>4911103.1</td>\n",
       "      <td>5032931.8</td>\n",
       "      <td>5098475.8</td>\n",
       "      <td>5138009.7</td>\n",
       "      <td>5260696.5</td>\n",
       "      <td>5375235.3</td>\n",
       "      <td>5410918.9</td>\n",
       "      <td>...</td>\n",
       "      <td>5408869</td>\n",
       "      <td>5305569.6</td>\n",
       "      <td>0.0</td>\n",
       "      <td>0.0</td>\n",
       "      <td>0</td>\n",
       "      <td>0.0</td>\n",
       "      <td>0.0</td>\n",
       "      <td>0.0</td>\n",
       "      <td>0.0</td>\n",
       "      <td>0.0</td>\n",
       "    </tr>\n",
       "  </tbody>\n",
       "</table>\n",
       "<p>6 rows × 31 columns</p>\n",
       "</div>"
      ],
      "text/plain": [
       "                Country       1990       1991       1992       1993  \\\n",
       "82               Brazil     208887   219330.6   220705.7   230738.6   \n",
       "124               China    2460744  2584538.3  2695982.1    2878694   \n",
       "277               India   690576.8   737851.7   783634.2   814297.7   \n",
       "563        South Africa       2.58          0          0          0   \n",
       "499  Russian Federation          0          0  2081840.2  1941203.5   \n",
       "652       United States  4823557.1  4822383.7  4911103.1  5032931.8   \n",
       "\n",
       "          1994       1995       1996       1997       1998  ...       2010  \\\n",
       "82      242154   258347.5   284782.9   300547.3   312289.1  ...   419754.2   \n",
       "124  3058241.3  3320285.2  3463089.1    3469510  3324344.5  ...  8256969.2   \n",
       "277   864931.6   920046.6  1002224.1  1043939.9  1071911.8  ...  1950950.3   \n",
       "563          0          0          0          0          0  ...          0   \n",
       "499  1701132.3  1634312.2  1615804.9  1528849.3  1498343.5  ...  1742540.1   \n",
       "652  5098475.8  5138009.7  5260696.5  5375235.3  5410918.9  ...    5408869   \n",
       "\n",
       "          2011 2012 2013   2014 2015 2016 2017 2018 2019  \n",
       "82    439412.9  0.0  0.0      0  0.0  0.0  0.0  0.0  0.0  \n",
       "124  9019518.2  0.0  0.0      0  0.0  0.0  0.0  0.0  0.0  \n",
       "277  2074344.9  0.0  0.0      0  0.0  0.0  0.0  0.0  0.0  \n",
       "563          0  0.0  0.0  10.24  0.0  0.0  0.0  0.0  0.0  \n",
       "499    1808073  0.0  0.0      0  0.0  0.0  0.0  0.0  0.0  \n",
       "652  5305569.6  0.0  0.0      0  0.0  0.0  0.0  0.0  0.0  \n",
       "\n",
       "[6 rows x 31 columns]"
      ]
     },
     "execution_count": 49,
     "metadata": {},
     "output_type": "execute_result"
    }
   ],
   "source": [
    "#Creating a new data frame\n",
    "\n",
    "df7 = df2.loc[(82,124,277,563,499,652),(\"Country\",\"1990\",\"1991\",\"1992\",\"1993\",\"1994\",\"1995\",\n",
    "                                        \"1996\",\"1997\",\"1998\",\"1999\",\"2000\",\"2001\",\"2002\",\n",
    "                                        \"2003\",\"2004\",\"2005\",\"2006\",\"2007\",\"2008\",\"2009\",\"2010\",\n",
    "                                        \"2011\",\"2012\",\"2013\",\"2014\",\"2015\",\"2016\",\"2017\",\n",
    "                                        \"2018\",\"2019\")]\n",
    "#Filling missing values with 1                                        \n",
    "#df7.fillna(1,inplace = True)\n",
    "df7"
   ]
  },
  {
   "cell_type": "code",
   "execution_count": 50,
   "metadata": {},
   "outputs": [
    {
     "data": {
      "text/html": [
       "<div>\n",
       "<style scoped>\n",
       "    .dataframe tbody tr th:only-of-type {\n",
       "        vertical-align: middle;\n",
       "    }\n",
       "\n",
       "    .dataframe tbody tr th {\n",
       "        vertical-align: top;\n",
       "    }\n",
       "\n",
       "    .dataframe thead th {\n",
       "        text-align: right;\n",
       "    }\n",
       "</style>\n",
       "<table border=\"1\" class=\"dataframe\">\n",
       "  <thead>\n",
       "    <tr style=\"text-align: right;\">\n",
       "      <th></th>\n",
       "      <th>1990</th>\n",
       "      <th>1991</th>\n",
       "      <th>1992</th>\n",
       "      <th>1993</th>\n",
       "      <th>1994</th>\n",
       "      <th>1995</th>\n",
       "      <th>1996</th>\n",
       "      <th>1997</th>\n",
       "      <th>1998</th>\n",
       "      <th>1999</th>\n",
       "      <th>...</th>\n",
       "      <th>2010</th>\n",
       "      <th>2011</th>\n",
       "      <th>2012</th>\n",
       "      <th>2013</th>\n",
       "      <th>2014</th>\n",
       "      <th>2015</th>\n",
       "      <th>2016</th>\n",
       "      <th>2017</th>\n",
       "      <th>2018</th>\n",
       "      <th>2019</th>\n",
       "    </tr>\n",
       "    <tr>\n",
       "      <th>Country</th>\n",
       "      <th></th>\n",
       "      <th></th>\n",
       "      <th></th>\n",
       "      <th></th>\n",
       "      <th></th>\n",
       "      <th></th>\n",
       "      <th></th>\n",
       "      <th></th>\n",
       "      <th></th>\n",
       "      <th></th>\n",
       "      <th></th>\n",
       "      <th></th>\n",
       "      <th></th>\n",
       "      <th></th>\n",
       "      <th></th>\n",
       "      <th></th>\n",
       "      <th></th>\n",
       "      <th></th>\n",
       "      <th></th>\n",
       "      <th></th>\n",
       "      <th></th>\n",
       "    </tr>\n",
       "  </thead>\n",
       "  <tbody>\n",
       "    <tr>\n",
       "      <th>Brazil</th>\n",
       "      <td>208887.00</td>\n",
       "      <td>219330.6</td>\n",
       "      <td>220705.7</td>\n",
       "      <td>230738.6</td>\n",
       "      <td>242154.0</td>\n",
       "      <td>258347.5</td>\n",
       "      <td>284782.9</td>\n",
       "      <td>300547.3</td>\n",
       "      <td>312289.1</td>\n",
       "      <td>320173.1</td>\n",
       "      <td>...</td>\n",
       "      <td>419754.2</td>\n",
       "      <td>439412.9</td>\n",
       "      <td>0.0</td>\n",
       "      <td>0.0</td>\n",
       "      <td>0.00</td>\n",
       "      <td>0.0</td>\n",
       "      <td>0.0</td>\n",
       "      <td>0.0</td>\n",
       "      <td>0.0</td>\n",
       "      <td>0.0</td>\n",
       "    </tr>\n",
       "    <tr>\n",
       "      <th>China</th>\n",
       "      <td>2460744.00</td>\n",
       "      <td>2584538.3</td>\n",
       "      <td>2695982.1</td>\n",
       "      <td>2878694.0</td>\n",
       "      <td>3058241.3</td>\n",
       "      <td>3320285.2</td>\n",
       "      <td>3463089.1</td>\n",
       "      <td>3469510.0</td>\n",
       "      <td>3324344.5</td>\n",
       "      <td>3318055.6</td>\n",
       "      <td>...</td>\n",
       "      <td>8256969.2</td>\n",
       "      <td>9019518.2</td>\n",
       "      <td>0.0</td>\n",
       "      <td>0.0</td>\n",
       "      <td>0.00</td>\n",
       "      <td>0.0</td>\n",
       "      <td>0.0</td>\n",
       "      <td>0.0</td>\n",
       "      <td>0.0</td>\n",
       "      <td>0.0</td>\n",
       "    </tr>\n",
       "    <tr>\n",
       "      <th>India</th>\n",
       "      <td>690576.80</td>\n",
       "      <td>737851.7</td>\n",
       "      <td>783634.2</td>\n",
       "      <td>814297.7</td>\n",
       "      <td>864931.6</td>\n",
       "      <td>920046.6</td>\n",
       "      <td>1002224.1</td>\n",
       "      <td>1043939.9</td>\n",
       "      <td>1071911.8</td>\n",
       "      <td>1144390.0</td>\n",
       "      <td>...</td>\n",
       "      <td>1950950.3</td>\n",
       "      <td>2074344.9</td>\n",
       "      <td>0.0</td>\n",
       "      <td>0.0</td>\n",
       "      <td>0.00</td>\n",
       "      <td>0.0</td>\n",
       "      <td>0.0</td>\n",
       "      <td>0.0</td>\n",
       "      <td>0.0</td>\n",
       "      <td>0.0</td>\n",
       "    </tr>\n",
       "    <tr>\n",
       "      <th>Russian Federation</th>\n",
       "      <td>0.00</td>\n",
       "      <td>0.0</td>\n",
       "      <td>2081840.2</td>\n",
       "      <td>1941203.5</td>\n",
       "      <td>1701132.3</td>\n",
       "      <td>1634312.2</td>\n",
       "      <td>1615804.9</td>\n",
       "      <td>1528849.3</td>\n",
       "      <td>1498343.5</td>\n",
       "      <td>1533968.4</td>\n",
       "      <td>...</td>\n",
       "      <td>1742540.1</td>\n",
       "      <td>1808073.0</td>\n",
       "      <td>0.0</td>\n",
       "      <td>0.0</td>\n",
       "      <td>0.00</td>\n",
       "      <td>0.0</td>\n",
       "      <td>0.0</td>\n",
       "      <td>0.0</td>\n",
       "      <td>0.0</td>\n",
       "      <td>0.0</td>\n",
       "    </tr>\n",
       "    <tr>\n",
       "      <th>South Africa</th>\n",
       "      <td>2.58</td>\n",
       "      <td>0.0</td>\n",
       "      <td>0.0</td>\n",
       "      <td>0.0</td>\n",
       "      <td>0.0</td>\n",
       "      <td>0.0</td>\n",
       "      <td>0.0</td>\n",
       "      <td>0.0</td>\n",
       "      <td>0.0</td>\n",
       "      <td>0.0</td>\n",
       "      <td>...</td>\n",
       "      <td>0.0</td>\n",
       "      <td>0.0</td>\n",
       "      <td>0.0</td>\n",
       "      <td>0.0</td>\n",
       "      <td>10.24</td>\n",
       "      <td>0.0</td>\n",
       "      <td>0.0</td>\n",
       "      <td>0.0</td>\n",
       "      <td>0.0</td>\n",
       "      <td>0.0</td>\n",
       "    </tr>\n",
       "    <tr>\n",
       "      <th>United States</th>\n",
       "      <td>4823557.10</td>\n",
       "      <td>4822383.7</td>\n",
       "      <td>4911103.1</td>\n",
       "      <td>5032931.8</td>\n",
       "      <td>5098475.8</td>\n",
       "      <td>5138009.7</td>\n",
       "      <td>5260696.5</td>\n",
       "      <td>5375235.3</td>\n",
       "      <td>5410918.9</td>\n",
       "      <td>5510430.2</td>\n",
       "      <td>...</td>\n",
       "      <td>5408869.0</td>\n",
       "      <td>5305569.6</td>\n",
       "      <td>0.0</td>\n",
       "      <td>0.0</td>\n",
       "      <td>0.00</td>\n",
       "      <td>0.0</td>\n",
       "      <td>0.0</td>\n",
       "      <td>0.0</td>\n",
       "      <td>0.0</td>\n",
       "      <td>0.0</td>\n",
       "    </tr>\n",
       "  </tbody>\n",
       "</table>\n",
       "<p>6 rows × 30 columns</p>\n",
       "</div>"
      ],
      "text/plain": [
       "                          1990       1991       1992       1993       1994  \\\n",
       "Country                                                                      \n",
       "Brazil               208887.00   219330.6   220705.7   230738.6   242154.0   \n",
       "China               2460744.00  2584538.3  2695982.1  2878694.0  3058241.3   \n",
       "India                690576.80   737851.7   783634.2   814297.7   864931.6   \n",
       "Russian Federation        0.00        0.0  2081840.2  1941203.5  1701132.3   \n",
       "South Africa              2.58        0.0        0.0        0.0        0.0   \n",
       "United States       4823557.10  4822383.7  4911103.1  5032931.8  5098475.8   \n",
       "\n",
       "                         1995       1996       1997       1998       1999  \\\n",
       "Country                                                                     \n",
       "Brazil               258347.5   284782.9   300547.3   312289.1   320173.1   \n",
       "China               3320285.2  3463089.1  3469510.0  3324344.5  3318055.6   \n",
       "India                920046.6  1002224.1  1043939.9  1071911.8  1144390.0   \n",
       "Russian Federation  1634312.2  1615804.9  1528849.3  1498343.5  1533968.4   \n",
       "South Africa              0.0        0.0        0.0        0.0        0.0   \n",
       "United States       5138009.7  5260696.5  5375235.3  5410918.9  5510430.2   \n",
       "\n",
       "                    ...       2010       2011  2012  2013   2014  2015  2016  \\\n",
       "Country             ...                                                        \n",
       "Brazil              ...   419754.2   439412.9   0.0   0.0   0.00   0.0   0.0   \n",
       "China               ...  8256969.2  9019518.2   0.0   0.0   0.00   0.0   0.0   \n",
       "India               ...  1950950.3  2074344.9   0.0   0.0   0.00   0.0   0.0   \n",
       "Russian Federation  ...  1742540.1  1808073.0   0.0   0.0   0.00   0.0   0.0   \n",
       "South Africa        ...        0.0        0.0   0.0   0.0  10.24   0.0   0.0   \n",
       "United States       ...  5408869.0  5305569.6   0.0   0.0   0.00   0.0   0.0   \n",
       "\n",
       "                    2017  2018  2019  \n",
       "Country                               \n",
       "Brazil               0.0   0.0   0.0  \n",
       "China                0.0   0.0   0.0  \n",
       "India                0.0   0.0   0.0  \n",
       "Russian Federation   0.0   0.0   0.0  \n",
       "South Africa         0.0   0.0   0.0  \n",
       "United States        0.0   0.0   0.0  \n",
       "\n",
       "[6 rows x 30 columns]"
      ]
     },
     "execution_count": 50,
     "metadata": {},
     "output_type": "execute_result"
    }
   ],
   "source": [
    "#Grouping and changing data types using callable function lambda\n",
    "df8 = df7.groupby(\"Country\")[\"1990\",\"1991\",\"1992\",\"1993\",\"1994\",\"1995\",\n",
    "                                        \"1996\",\"1997\",\"1998\",\"1999\",\"2000\",\"2001\",\"2002\",\n",
    "                                        \"2003\",\"2004\",\"2005\",\"2006\",\"2007\",\"2008\",\"2009\",\"2010\",\n",
    "                                        \"2011\",\"2012\",\"2013\",\"2014\",\"2015\",\"2016\",\"2017\",\n",
    "                                        \"2018\",\"2019\"].apply(lambda country : country.astype(float).sum())\n",
    "df8"
   ]
  },
  {
   "cell_type": "code",
   "execution_count": 51,
   "metadata": {
    "scrolled": true
   },
   "outputs": [
    {
     "data": {
      "text/plain": [
       "float64    30\n",
       "dtype: int64"
      ]
     },
     "execution_count": 51,
     "metadata": {},
     "output_type": "execute_result"
    }
   ],
   "source": [
    "df8.dtypes.value_counts()"
   ]
  },
  {
   "cell_type": "code",
   "execution_count": 54,
   "metadata": {},
   "outputs": [
    {
     "data": {
      "image/png": "[encoded data removed]",
      "text/plain": [
       "<Figure size 432x288 with 1 Axes>"
      ]
     },
     "metadata": {
      "needs_background": "light"
     },
     "output_type": "display_data"
    }
   ],
   "source": [
    "df8.plot()\n",
    "plt.show()"
   ]
  },
  {
   "cell_type": "markdown",
   "metadata": {},
   "source": [
    "# 8.What is the mean and standard deviation for land area covered by forest in 1990? Why do you think the standard deviation is so large?"
   ]
  },
  {
   "cell_type": "code",
   "execution_count": null,
   "metadata": {},
   "outputs": [],
   "source": [
    "forest = df2[((df2.SeriesCode == 567))]\n",
    "forest.head()"
   ]
  },
  {
   "cell_type": "code",
   "execution_count": null,
   "metadata": {},
   "outputs": [],
   "source": [
    "for_est = forest.loc[:, ('Country','1990') ]\n",
    "for_est"
   ]
  },
  {
   "cell_type": "code",
   "execution_count": null,
   "metadata": {},
   "outputs": [],
   "source": [
    "for_est.describe()"
   ]
  },
  {
   "cell_type": "code",
   "execution_count": null,
   "metadata": {},
   "outputs": [],
   "source": [
    "for_est.dtypes"
   ]
  },
  {
   "cell_type": "code",
   "execution_count": null,
   "metadata": {},
   "outputs": [],
   "source": [
    "#Changing 1990 from string to float and finding mean\n",
    "\n",
    "for_est[\"1990\"].astype(float).mean()"
   ]
  },
  {
   "cell_type": "code",
   "execution_count": null,
   "metadata": {},
   "outputs": [],
   "source": [
    "#Changing 1990 from string to float and finding standard deviation\n",
    "for_est[\"1990\"].astype(float).std()"
   ]
  },
  {
   "cell_type": "markdown",
   "metadata": {},
   "source": [
    "A high standard deviation indicates that the data points are spread out over a large range of values."
   ]
  },
  {
   "cell_type": "markdown",
   "metadata": {},
   "source": [
    "# 9.Create histograms for land area covered by forest and percentage of area protected in 1990. Describe the distributions."
   ]
  },
  {
   "cell_type": "code",
   "execution_count": null,
   "metadata": {},
   "outputs": [],
   "source": [
    "protected = df2[((df2.SeriesCode == 616))]\n",
    "protected.head()"
   ]
  },
  {
   "cell_type": "code",
   "execution_count": null,
   "metadata": {},
   "outputs": [],
   "source": [
    "prot_df = protected.loc[:, ('Country','1990') ]\n",
    "prot_df"
   ]
  },
  {
   "cell_type": "code",
   "execution_count": null,
   "metadata": {},
   "outputs": [],
   "source": [
    "new_df = prot_df\n",
    "#Defining the measures of central tendency\n",
    "mean = new_df.mean()\n",
    "median = new_df.median()\n",
    "\n",
    "plt.figure(figsize = [8,4])\n",
    "new_df = np.random.gamma(6, 0.4, 1000)\n",
    "#new_df = np.random.gamma(1000)\n",
    "\n",
    "#Showing values specific points on coordinate axis \n",
    "plt.xticks(fontsize = 15)\n",
    "plt.yticks(fontsize = 15)\n",
    "\n",
    "#Showing specific labels on coordinate axis\n",
    "plt.xlabel('Protected land', fontsize = 15)\n",
    "plt.ylabel('Frequency', fontsize = 15)\n",
    "\n",
    "\n",
    "#Showing plot title\n",
    "plt.title('Histogram For Protected Land',fontsize = 15)\n",
    "\n",
    "plot = plt.hist(new_df.astype(float), bins = 20, color='purple',edgecolor = 'k', alpha = 0.65)"
   ]
  },
  {
   "cell_type": "code",
   "execution_count": null,
   "metadata": {},
   "outputs": [],
   "source": [
    "dist_df = prot_df\n",
    "dist_df = np.random.gamma(4, 0.5,1000)\n",
    "mean = dist_df.mean()\n",
    "median = np.median(dist_df)\n",
    "\n",
    "plt.axvline(mean,color = 'blue',label = 'Mean')\n",
    "plt.axvline(median,color = 'yellow',label = 'Median')\n",
    "\n",
    "plt.title(\"Distribution For Protected Area\")\n",
    "_ = sns.distplot(dist_df,color = \"green\")\n",
    "_ = plt.legend()"
   ]
  },
  {
   "cell_type": "code",
   "execution_count": null,
   "metadata": {},
   "outputs": [],
   "source": [
    "new_df = for_est\n",
    "#Defining the measures of central tendency\n",
    "mean = new_df.mean()\n",
    "median = new_df.median()\n",
    "\n",
    "plt.figure(figsize = [8,4])\n",
    "new_df = np.random.gamma(6, 0.4, 1000)\n",
    "#new_df = np.random.gamma(1000)\n",
    "\n",
    "#Showing values specific points on coordinate axis \n",
    "plt.xticks(fontsize = 15)\n",
    "plt.yticks(fontsize = 15)\n",
    "\n",
    "#Showing specific labels on coordinate axis\n",
    "plt.xlabel('Forest Covered Land', fontsize = 15)\n",
    "plt.ylabel('Frequency', fontsize = 15)\n",
    "\n",
    "\n",
    "#Showing plot title\n",
    "plt.title('Histogram for Forest Covered Land',fontsize = 15)\n",
    "\n",
    "plot = plt.hist(new_df.astype(float), bins = 20, color='blue',edgecolor = 'k', alpha = 0.65)"
   ]
  },
  {
   "cell_type": "code",
   "execution_count": null,
   "metadata": {},
   "outputs": [],
   "source": [
    "dist_df = for_est\n",
    "dist_df = np.random.gamma(4, 0.5,1000)\n",
    "mean = dist_df.mean()\n",
    "median = np.median(dist_df)\n",
    "\n",
    "plt.axvline(mean,color = 'maroon',label = 'Mean')\n",
    "plt.axvline(median,color = 'blue',label = 'Median')\n",
    "\n",
    "plt.title(\"Distribution For Forest Covered Land\")\n",
    "_ = sns.distplot(dist_df,color = \"purple\")\n",
    "_ = plt.legend()"
   ]
  },
  {
   "cell_type": "markdown",
   "metadata": {},
   "source": [
    "Both graphs are positively skew dostributed meaning the mean value is more than the median value."
   ]
  },
  {
   "cell_type": "markdown",
   "metadata": {},
   "source": [
    "# 10.Create a scatterplot with a regression line using seaborn.regplot to show the relationship between the proportion of land area covered by forest and the percentage of area protected in 2000.\n",
    "What is the relationship between these two variables?\n",
    "Describe any patterns in the scatterplot.\n",
    "Do you notice any unusual/extreme values that do not fit the general trend? If you see any unusual values, briefly describe them (Who are they? In what way are they different?)."
   ]
  },
  {
   "cell_type": "code",
   "execution_count": null,
   "metadata": {},
   "outputs": [],
   "source": [
    "#Creating a data frame for forest land\n",
    "\n",
    "for_df = forest.loc[:, (\"Country\",\"2000\") ].reset_index(drop = True)\n",
    "for_df"
   ]
  },
  {
   "cell_type": "code",
   "execution_count": null,
   "metadata": {},
   "outputs": [],
   "source": [
    "#Creating dataframe for protected land\n",
    "\n",
    "df_prot = protected.loc[:, (\"Country\",\"2000\") ].reset_index(drop = True)\n",
    "df_prot"
   ]
  },
  {
   "cell_type": "code",
   "execution_count": null,
   "metadata": {},
   "outputs": [],
   "source": [
    " result = pd.concat([for_df, df_prot[\"2000\"]], axis = 1).fillna(0)"
   ]
  },
  {
   "cell_type": "code",
   "execution_count": null,
   "metadata": {},
   "outputs": [],
   "source": [
    "result"
   ]
  },
  {
   "cell_type": "code",
   "execution_count": null,
   "metadata": {},
   "outputs": [],
   "source": [
    "#Renaming columns\n",
    "result.columns = [\"Country\", \"2000f\", \"2000p\"]\n",
    "result\n"
   ]
  },
  {
   "cell_type": "code",
   "execution_count": null,
   "metadata": {},
   "outputs": [],
   "source": [
    "sns.regplot(data = result, x = result[\"2000f\"].astype(float), y = result[\"2000p\"].astype(float), color = \"purple\")\n",
    "_ = plt.title(\"A Scatter.regplot For Forest Covered And Protected Area\")"
   ]
  },
  {
   "cell_type": "markdown",
   "metadata": {},
   "source": [
    "This is an inverse relationship or a perfect negative relsationship.When one variable increases the other variable decreases.Yes,I notice unusual values and they are called outliers.Outliers are obsevations with larger residuals.They either indicate data entry error,sample peculiarity or other problems.\n",
    "\n",
    "# There are three types of outliers namely:\n",
    "\n",
    " # 1.Global Outliers\n",
    " It's the values that are far outside the entire dataset.\n",
    " \n",
    " # 2.Contextual Outliers \n",
    " These significantly deviates from the rest of the data points in the same context.\n",
    " \n",
    " # 3.Collective Outliers\n",
    " This is when a collection of related data instances is anomalous/inconsistent with respect to the entire dataset."
   ]
  },
  {
   "cell_type": "markdown",
   "metadata": {},
   "source": [
    "# 11.Since neither forested land area nor protected area is normally distributed, we will need to log transform these variables in order to calculate a correlation coefficient. Log transform the variables and show the transformed distributions in a histogram."
   ]
  },
  {
   "cell_type": "code",
   "execution_count": null,
   "metadata": {},
   "outputs": [],
   "source": [
    "result_log = result\n",
    "result_log['l0g_2000f'] = np.log10(result['2000f'].astype(float))\n",
    "result_log['log_2000p'] = np.log10(result['2000p'].astype(float))\n",
    "result_log"
   ]
  },
  {
   "cell_type": "code",
   "execution_count": null,
   "metadata": {},
   "outputs": [],
   "source": [
    "result_log1 = result_log.drop([\"2000f\",\"2000p\"], axis = 1)\n",
    "result_log1"
   ]
  },
  {
   "cell_type": "code",
   "execution_count": null,
   "metadata": {},
   "outputs": [],
   "source": [
    "#result_log1.replace(-np.Inf, np.nan, regex = True)\n",
    "\n",
    "result_log2 = result_log1[~result_log1.isin([np.nan, np.inf, -np.inf]).any(1)]\n",
    "result_log2"
   ]
  },
  {
   "cell_type": "code",
   "execution_count": null,
   "metadata": {},
   "outputs": [],
   "source": [
    "pearsoncorr = result_log2.corr(method='pearson')\n",
    "pearsoncorr"
   ]
  },
  {
   "cell_type": "code",
   "execution_count": null,
   "metadata": {},
   "outputs": [],
   "source": [
    "ax = sns.heatmap(pearsoncorr,\n",
    "            cmap = 'RdBur',\n",
    "            annot = True,\n",
    "            linewidth = 0.5)"
   ]
  },
  {
   "cell_type": "code",
   "execution_count": null,
   "metadata": {},
   "outputs": [],
   "source": []
  }
 ],
 "metadata": {
  "kernelspec": {
   "display_name": "Python 3",
   "language": "python",
   "name": "python3"
  },
  "language_info": {
   "codemirror_mode": {
    "name": "ipython",
    "version": 3
   },
   "file_extension": ".py",
   "mimetype": "text/x-python",
   "name": "python",
   "nbconvert_exporter": "python",
   "pygments_lexer": "ipython3",
   "version": "3.6.9"
  }
 },
 "nbformat": 4,
 "nbformat_minor": 4
}
