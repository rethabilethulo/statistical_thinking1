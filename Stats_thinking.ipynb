{
 "cells": [
  {
   "cell_type": "code",
   "execution_count": 1,
   "metadata": {},
   "outputs": [],
   "source": [
    "import pandas as pd\n",
    "import numpy as np\n",
    "import matplotlib.pyplot as plt\n",
    "import seaborn as sns\n",
    "import matplotlib as mpl\n",
    "from scipy.stats import stats\n",
    "import warnings\n",
    "warnings.filterwarnings(\"ignore\")\n",
    "from scipy.stats.stats import pearsonr\n"
   ]
  },
  {
   "cell_type": "code",
   "execution_count": 2,
   "metadata": {},
   "outputs": [],
   "source": [
    "df = pd.read_csv(\"MDG_Export_20191227 (1).csv\")"
   ]
  },
  {
   "cell_type": "code",
   "execution_count": 3,
   "metadata": {},
   "outputs": [
    {
     "data": {
      "text/html": [
       "<div>\n",
       "<style scoped>\n",
       "    .dataframe tbody tr th:only-of-type {\n",
       "        vertical-align: middle;\n",
       "    }\n",
       "\n",
       "    .dataframe tbody tr th {\n",
       "        vertical-align: top;\n",
       "    }\n",
       "\n",
       "    .dataframe thead th {\n",
       "        text-align: right;\n",
       "    }\n",
       "</style>\n",
       "<table border=\"1\" class=\"dataframe\">\n",
       "  <thead>\n",
       "    <tr style=\"text-align: right;\">\n",
       "      <th></th>\n",
       "      <th>CountryCode</th>\n",
       "      <th>Country</th>\n",
       "      <th>SeriesCode</th>\n",
       "      <th>MDG</th>\n",
       "      <th>Series</th>\n",
       "      <th>1990</th>\n",
       "      <th>Footnotes</th>\n",
       "      <th>Type</th>\n",
       "      <th>1991</th>\n",
       "      <th>Footnotes.1</th>\n",
       "      <th>...</th>\n",
       "      <th>Type.26</th>\n",
       "      <th>2017</th>\n",
       "      <th>Footnotes.27</th>\n",
       "      <th>Type.27</th>\n",
       "      <th>2018</th>\n",
       "      <th>Footnotes.28</th>\n",
       "      <th>Type.28</th>\n",
       "      <th>2019</th>\n",
       "      <th>Footnotes.29</th>\n",
       "      <th>Type.29</th>\n",
       "    </tr>\n",
       "  </thead>\n",
       "  <tbody>\n",
       "    <tr>\n",
       "      <th>0</th>\n",
       "      <td>4</td>\n",
       "      <td>Afghanistan</td>\n",
       "      <td>567</td>\n",
       "      <td>Y</td>\n",
       "      <td>Proportion of land area covered by forest, per...</td>\n",
       "      <td>2.1</td>\n",
       "      <td>NaN</td>\n",
       "      <td>E</td>\n",
       "      <td></td>\n",
       "      <td></td>\n",
       "      <td>...</td>\n",
       "      <td></td>\n",
       "      <td></td>\n",
       "      <td></td>\n",
       "      <td></td>\n",
       "      <td></td>\n",
       "      <td></td>\n",
       "      <td></td>\n",
       "      <td></td>\n",
       "      <td></td>\n",
       "      <td></td>\n",
       "    </tr>\n",
       "    <tr>\n",
       "      <th>1</th>\n",
       "      <td>4</td>\n",
       "      <td>Afghanistan</td>\n",
       "      <td>749</td>\n",
       "      <td>Y</td>\n",
       "      <td>Carbon dioxide emissions (CO2), thousand metri...</td>\n",
       "      <td>2676.9</td>\n",
       "      <td>NaN</td>\n",
       "      <td>G</td>\n",
       "      <td>2493.6</td>\n",
       "      <td>NaN</td>\n",
       "      <td>...</td>\n",
       "      <td></td>\n",
       "      <td></td>\n",
       "      <td></td>\n",
       "      <td></td>\n",
       "      <td></td>\n",
       "      <td></td>\n",
       "      <td></td>\n",
       "      <td></td>\n",
       "      <td></td>\n",
       "      <td></td>\n",
       "    </tr>\n",
       "    <tr>\n",
       "      <th>2</th>\n",
       "      <td>4</td>\n",
       "      <td>Afghanistan</td>\n",
       "      <td>616</td>\n",
       "      <td>Y</td>\n",
       "      <td>Terrestrial and marine areas protected to tota...</td>\n",
       "      <td>0.36</td>\n",
       "      <td>NaN</td>\n",
       "      <td>C</td>\n",
       "      <td></td>\n",
       "      <td></td>\n",
       "      <td>...</td>\n",
       "      <td></td>\n",
       "      <td></td>\n",
       "      <td></td>\n",
       "      <td></td>\n",
       "      <td></td>\n",
       "      <td></td>\n",
       "      <td></td>\n",
       "      <td></td>\n",
       "      <td></td>\n",
       "      <td></td>\n",
       "    </tr>\n",
       "    <tr>\n",
       "      <th>3</th>\n",
       "      <td>8</td>\n",
       "      <td>Albania</td>\n",
       "      <td>567</td>\n",
       "      <td>Y</td>\n",
       "      <td>Proportion of land area covered by forest, per...</td>\n",
       "      <td>28.8</td>\n",
       "      <td>NaN</td>\n",
       "      <td>C</td>\n",
       "      <td></td>\n",
       "      <td></td>\n",
       "      <td>...</td>\n",
       "      <td></td>\n",
       "      <td></td>\n",
       "      <td></td>\n",
       "      <td></td>\n",
       "      <td></td>\n",
       "      <td></td>\n",
       "      <td></td>\n",
       "      <td></td>\n",
       "      <td></td>\n",
       "      <td></td>\n",
       "    </tr>\n",
       "    <tr>\n",
       "      <th>4</th>\n",
       "      <td>8</td>\n",
       "      <td>Albania</td>\n",
       "      <td>749</td>\n",
       "      <td>Y</td>\n",
       "      <td>Carbon dioxide emissions (CO2), thousand metri...</td>\n",
       "      <td>7488</td>\n",
       "      <td>NaN</td>\n",
       "      <td>G</td>\n",
       "      <td>3971.4</td>\n",
       "      <td>NaN</td>\n",
       "      <td>...</td>\n",
       "      <td></td>\n",
       "      <td></td>\n",
       "      <td></td>\n",
       "      <td></td>\n",
       "      <td></td>\n",
       "      <td></td>\n",
       "      <td></td>\n",
       "      <td></td>\n",
       "      <td></td>\n",
       "      <td></td>\n",
       "    </tr>\n",
       "  </tbody>\n",
       "</table>\n",
       "<p>5 rows × 95 columns</p>\n",
       "</div>"
      ],
      "text/plain": [
       "   CountryCode      Country  SeriesCode MDG  \\\n",
       "0            4  Afghanistan         567   Y   \n",
       "1            4  Afghanistan         749   Y   \n",
       "2            4  Afghanistan         616   Y   \n",
       "3            8      Albania         567   Y   \n",
       "4            8      Albania         749   Y   \n",
       "\n",
       "                                              Series    1990 Footnotes Type  \\\n",
       "0  Proportion of land area covered by forest, per...     2.1       NaN    E   \n",
       "1  Carbon dioxide emissions (CO2), thousand metri...  2676.9       NaN    G   \n",
       "2  Terrestrial and marine areas protected to tota...    0.36       NaN    C   \n",
       "3  Proportion of land area covered by forest, per...    28.8       NaN    C   \n",
       "4  Carbon dioxide emissions (CO2), thousand metri...    7488       NaN    G   \n",
       "\n",
       "     1991 Footnotes.1  ... Type.26 2017 Footnotes.27 Type.27 2018  \\\n",
       "0                      ...                                          \n",
       "1  2493.6         NaN  ...                                          \n",
       "2                      ...                                          \n",
       "3                      ...                                          \n",
       "4  3971.4         NaN  ...                                          \n",
       "\n",
       "  Footnotes.28 Type.28 2019 Footnotes.29 Type.29  \n",
       "0                                                 \n",
       "1                                                 \n",
       "2                                                 \n",
       "3                                                 \n",
       "4                                                 \n",
       "\n",
       "[5 rows x 95 columns]"
      ]
     },
     "execution_count": 3,
     "metadata": {},
     "output_type": "execute_result"
    }
   ],
   "source": [
    "df.head()"
   ]
  },
  {
   "cell_type": "code",
   "execution_count": 4,
   "metadata": {},
   "outputs": [
    {
     "data": {
      "text/html": [
       "<div>\n",
       "<style scoped>\n",
       "    .dataframe tbody tr th:only-of-type {\n",
       "        vertical-align: middle;\n",
       "    }\n",
       "\n",
       "    .dataframe tbody tr th {\n",
       "        vertical-align: top;\n",
       "    }\n",
       "\n",
       "    .dataframe thead th {\n",
       "        text-align: right;\n",
       "    }\n",
       "</style>\n",
       "<table border=\"1\" class=\"dataframe\">\n",
       "  <thead>\n",
       "    <tr style=\"text-align: right;\">\n",
       "      <th></th>\n",
       "      <th>CountryCode</th>\n",
       "      <th>Country</th>\n",
       "      <th>SeriesCode</th>\n",
       "      <th>MDG</th>\n",
       "      <th>Series</th>\n",
       "      <th>1990</th>\n",
       "      <th>Footnotes</th>\n",
       "      <th>Type</th>\n",
       "      <th>1991</th>\n",
       "      <th>Footnotes.1</th>\n",
       "      <th>...</th>\n",
       "      <th>Type.26</th>\n",
       "      <th>2017</th>\n",
       "      <th>Footnotes.27</th>\n",
       "      <th>Type.27</th>\n",
       "      <th>2018</th>\n",
       "      <th>Footnotes.28</th>\n",
       "      <th>Type.28</th>\n",
       "      <th>2019</th>\n",
       "      <th>Footnotes.29</th>\n",
       "      <th>Type.29</th>\n",
       "    </tr>\n",
       "  </thead>\n",
       "  <tbody>\n",
       "    <tr>\n",
       "      <th>685</th>\n",
       "      <td>894</td>\n",
       "      <td>Zambia</td>\n",
       "      <td>749</td>\n",
       "      <td>Y</td>\n",
       "      <td>Carbon dioxide emissions (CO2), thousand metri...</td>\n",
       "      <td>2445.9</td>\n",
       "      <td>NaN</td>\n",
       "      <td>G</td>\n",
       "      <td>2416.6</td>\n",
       "      <td>NaN</td>\n",
       "      <td>...</td>\n",
       "      <td></td>\n",
       "      <td></td>\n",
       "      <td></td>\n",
       "      <td></td>\n",
       "      <td></td>\n",
       "      <td></td>\n",
       "      <td></td>\n",
       "      <td></td>\n",
       "      <td></td>\n",
       "      <td></td>\n",
       "    </tr>\n",
       "    <tr>\n",
       "      <th>686</th>\n",
       "      <td>894</td>\n",
       "      <td>Zambia</td>\n",
       "      <td>616</td>\n",
       "      <td>Y</td>\n",
       "      <td>Terrestrial and marine areas protected to tota...</td>\n",
       "      <td>36.05</td>\n",
       "      <td>NaN</td>\n",
       "      <td>C</td>\n",
       "      <td></td>\n",
       "      <td></td>\n",
       "      <td>...</td>\n",
       "      <td></td>\n",
       "      <td></td>\n",
       "      <td></td>\n",
       "      <td></td>\n",
       "      <td></td>\n",
       "      <td></td>\n",
       "      <td></td>\n",
       "      <td></td>\n",
       "      <td></td>\n",
       "      <td></td>\n",
       "    </tr>\n",
       "    <tr>\n",
       "      <th>687</th>\n",
       "      <td>716</td>\n",
       "      <td>Zimbabwe</td>\n",
       "      <td>567</td>\n",
       "      <td>Y</td>\n",
       "      <td>Proportion of land area covered by forest, per...</td>\n",
       "      <td>57.3</td>\n",
       "      <td>NaN</td>\n",
       "      <td>C</td>\n",
       "      <td></td>\n",
       "      <td></td>\n",
       "      <td>...</td>\n",
       "      <td></td>\n",
       "      <td></td>\n",
       "      <td></td>\n",
       "      <td></td>\n",
       "      <td></td>\n",
       "      <td></td>\n",
       "      <td></td>\n",
       "      <td></td>\n",
       "      <td></td>\n",
       "      <td></td>\n",
       "    </tr>\n",
       "    <tr>\n",
       "      <th>688</th>\n",
       "      <td>716</td>\n",
       "      <td>Zimbabwe</td>\n",
       "      <td>749</td>\n",
       "      <td>Y</td>\n",
       "      <td>Carbon dioxide emissions (CO2), thousand metri...</td>\n",
       "      <td>15504.1</td>\n",
       "      <td>NaN</td>\n",
       "      <td>G</td>\n",
       "      <td>15823.1</td>\n",
       "      <td>NaN</td>\n",
       "      <td>...</td>\n",
       "      <td></td>\n",
       "      <td></td>\n",
       "      <td></td>\n",
       "      <td></td>\n",
       "      <td></td>\n",
       "      <td></td>\n",
       "      <td></td>\n",
       "      <td></td>\n",
       "      <td></td>\n",
       "      <td></td>\n",
       "    </tr>\n",
       "    <tr>\n",
       "      <th>689</th>\n",
       "      <td>716</td>\n",
       "      <td>Zimbabwe</td>\n",
       "      <td>616</td>\n",
       "      <td>Y</td>\n",
       "      <td>Terrestrial and marine areas protected to tota...</td>\n",
       "      <td>16.9</td>\n",
       "      <td>NaN</td>\n",
       "      <td>C</td>\n",
       "      <td></td>\n",
       "      <td></td>\n",
       "      <td>...</td>\n",
       "      <td></td>\n",
       "      <td></td>\n",
       "      <td></td>\n",
       "      <td></td>\n",
       "      <td></td>\n",
       "      <td></td>\n",
       "      <td></td>\n",
       "      <td></td>\n",
       "      <td></td>\n",
       "      <td></td>\n",
       "    </tr>\n",
       "  </tbody>\n",
       "</table>\n",
       "<p>5 rows × 95 columns</p>\n",
       "</div>"
      ],
      "text/plain": [
       "     CountryCode   Country  SeriesCode MDG  \\\n",
       "685          894    Zambia         749   Y   \n",
       "686          894    Zambia         616   Y   \n",
       "687          716  Zimbabwe         567   Y   \n",
       "688          716  Zimbabwe         749   Y   \n",
       "689          716  Zimbabwe         616   Y   \n",
       "\n",
       "                                                Series     1990 Footnotes  \\\n",
       "685  Carbon dioxide emissions (CO2), thousand metri...   2445.9       NaN   \n",
       "686  Terrestrial and marine areas protected to tota...    36.05       NaN   \n",
       "687  Proportion of land area covered by forest, per...     57.3       NaN   \n",
       "688  Carbon dioxide emissions (CO2), thousand metri...  15504.1       NaN   \n",
       "689  Terrestrial and marine areas protected to tota...     16.9       NaN   \n",
       "\n",
       "    Type     1991 Footnotes.1  ... Type.26 2017 Footnotes.27 Type.27 2018  \\\n",
       "685    G   2416.6         NaN  ...                                          \n",
       "686    C                       ...                                          \n",
       "687    C                       ...                                          \n",
       "688    G  15823.1         NaN  ...                                          \n",
       "689    C                       ...                                          \n",
       "\n",
       "    Footnotes.28 Type.28 2019 Footnotes.29 Type.29  \n",
       "685                                                 \n",
       "686                                                 \n",
       "687                                                 \n",
       "688                                                 \n",
       "689                                                 \n",
       "\n",
       "[5 rows x 95 columns]"
      ]
     },
     "execution_count": 4,
     "metadata": {},
     "output_type": "execute_result"
    }
   ],
   "source": [
    "df.tail()"
   ]
  },
  {
   "cell_type": "markdown",
   "metadata": {},
   "source": [
    "# Cleaning And Preparing Data"
   ]
  },
  {
   "cell_type": "code",
   "execution_count": 5,
   "metadata": {},
   "outputs": [
    {
     "data": {
      "text/html": [
       "<div>\n",
       "<style scoped>\n",
       "    .dataframe tbody tr th:only-of-type {\n",
       "        vertical-align: middle;\n",
       "    }\n",
       "\n",
       "    .dataframe tbody tr th {\n",
       "        vertical-align: top;\n",
       "    }\n",
       "\n",
       "    .dataframe thead th {\n",
       "        text-align: right;\n",
       "    }\n",
       "</style>\n",
       "<table border=\"1\" class=\"dataframe\">\n",
       "  <thead>\n",
       "    <tr style=\"text-align: right;\">\n",
       "      <th></th>\n",
       "      <th>CountryCode</th>\n",
       "      <th>Country</th>\n",
       "      <th>SeriesCode</th>\n",
       "      <th>MDG</th>\n",
       "      <th>Series</th>\n",
       "      <th>1990</th>\n",
       "      <th>Footnotes</th>\n",
       "      <th>Type</th>\n",
       "      <th>1991</th>\n",
       "      <th>Footnotes.1</th>\n",
       "      <th>...</th>\n",
       "      <th>Type.26</th>\n",
       "      <th>2017</th>\n",
       "      <th>Footnotes.27</th>\n",
       "      <th>Type.27</th>\n",
       "      <th>2018</th>\n",
       "      <th>Footnotes.28</th>\n",
       "      <th>Type.28</th>\n",
       "      <th>2019</th>\n",
       "      <th>Footnotes.29</th>\n",
       "      <th>Type.29</th>\n",
       "    </tr>\n",
       "  </thead>\n",
       "  <tbody>\n",
       "    <tr>\n",
       "      <th>0</th>\n",
       "      <td>4</td>\n",
       "      <td>Afghanistan</td>\n",
       "      <td>567</td>\n",
       "      <td>Y</td>\n",
       "      <td>Proportion of land area covered by forest, per...</td>\n",
       "      <td>2.1</td>\n",
       "      <td>NaN</td>\n",
       "      <td>E</td>\n",
       "      <td>NaN</td>\n",
       "      <td>NaN</td>\n",
       "      <td>...</td>\n",
       "      <td>NaN</td>\n",
       "      <td>NaN</td>\n",
       "      <td>NaN</td>\n",
       "      <td>NaN</td>\n",
       "      <td>NaN</td>\n",
       "      <td>NaN</td>\n",
       "      <td>NaN</td>\n",
       "      <td>NaN</td>\n",
       "      <td>NaN</td>\n",
       "      <td>NaN</td>\n",
       "    </tr>\n",
       "    <tr>\n",
       "      <th>1</th>\n",
       "      <td>4</td>\n",
       "      <td>Afghanistan</td>\n",
       "      <td>749</td>\n",
       "      <td>Y</td>\n",
       "      <td>Carbon dioxide emissions (CO2), thousand metri...</td>\n",
       "      <td>2676.9</td>\n",
       "      <td>NaN</td>\n",
       "      <td>G</td>\n",
       "      <td>2493.6</td>\n",
       "      <td>NaN</td>\n",
       "      <td>...</td>\n",
       "      <td>NaN</td>\n",
       "      <td>NaN</td>\n",
       "      <td>NaN</td>\n",
       "      <td>NaN</td>\n",
       "      <td>NaN</td>\n",
       "      <td>NaN</td>\n",
       "      <td>NaN</td>\n",
       "      <td>NaN</td>\n",
       "      <td>NaN</td>\n",
       "      <td>NaN</td>\n",
       "    </tr>\n",
       "    <tr>\n",
       "      <th>2</th>\n",
       "      <td>4</td>\n",
       "      <td>Afghanistan</td>\n",
       "      <td>616</td>\n",
       "      <td>Y</td>\n",
       "      <td>Terrestrial and marine areas protected to tota...</td>\n",
       "      <td>0.36</td>\n",
       "      <td>NaN</td>\n",
       "      <td>C</td>\n",
       "      <td>NaN</td>\n",
       "      <td>NaN</td>\n",
       "      <td>...</td>\n",
       "      <td>NaN</td>\n",
       "      <td>NaN</td>\n",
       "      <td>NaN</td>\n",
       "      <td>NaN</td>\n",
       "      <td>NaN</td>\n",
       "      <td>NaN</td>\n",
       "      <td>NaN</td>\n",
       "      <td>NaN</td>\n",
       "      <td>NaN</td>\n",
       "      <td>NaN</td>\n",
       "    </tr>\n",
       "    <tr>\n",
       "      <th>3</th>\n",
       "      <td>8</td>\n",
       "      <td>Albania</td>\n",
       "      <td>567</td>\n",
       "      <td>Y</td>\n",
       "      <td>Proportion of land area covered by forest, per...</td>\n",
       "      <td>28.8</td>\n",
       "      <td>NaN</td>\n",
       "      <td>C</td>\n",
       "      <td>NaN</td>\n",
       "      <td>NaN</td>\n",
       "      <td>...</td>\n",
       "      <td>NaN</td>\n",
       "      <td>NaN</td>\n",
       "      <td>NaN</td>\n",
       "      <td>NaN</td>\n",
       "      <td>NaN</td>\n",
       "      <td>NaN</td>\n",
       "      <td>NaN</td>\n",
       "      <td>NaN</td>\n",
       "      <td>NaN</td>\n",
       "      <td>NaN</td>\n",
       "    </tr>\n",
       "    <tr>\n",
       "      <th>4</th>\n",
       "      <td>8</td>\n",
       "      <td>Albania</td>\n",
       "      <td>749</td>\n",
       "      <td>Y</td>\n",
       "      <td>Carbon dioxide emissions (CO2), thousand metri...</td>\n",
       "      <td>7488</td>\n",
       "      <td>NaN</td>\n",
       "      <td>G</td>\n",
       "      <td>3971.4</td>\n",
       "      <td>NaN</td>\n",
       "      <td>...</td>\n",
       "      <td>NaN</td>\n",
       "      <td>NaN</td>\n",
       "      <td>NaN</td>\n",
       "      <td>NaN</td>\n",
       "      <td>NaN</td>\n",
       "      <td>NaN</td>\n",
       "      <td>NaN</td>\n",
       "      <td>NaN</td>\n",
       "      <td>NaN</td>\n",
       "      <td>NaN</td>\n",
       "    </tr>\n",
       "    <tr>\n",
       "      <th>...</th>\n",
       "      <td>...</td>\n",
       "      <td>...</td>\n",
       "      <td>...</td>\n",
       "      <td>...</td>\n",
       "      <td>...</td>\n",
       "      <td>...</td>\n",
       "      <td>...</td>\n",
       "      <td>...</td>\n",
       "      <td>...</td>\n",
       "      <td>...</td>\n",
       "      <td>...</td>\n",
       "      <td>...</td>\n",
       "      <td>...</td>\n",
       "      <td>...</td>\n",
       "      <td>...</td>\n",
       "      <td>...</td>\n",
       "      <td>...</td>\n",
       "      <td>...</td>\n",
       "      <td>...</td>\n",
       "      <td>...</td>\n",
       "      <td>...</td>\n",
       "    </tr>\n",
       "    <tr>\n",
       "      <th>685</th>\n",
       "      <td>894</td>\n",
       "      <td>Zambia</td>\n",
       "      <td>749</td>\n",
       "      <td>Y</td>\n",
       "      <td>Carbon dioxide emissions (CO2), thousand metri...</td>\n",
       "      <td>2445.9</td>\n",
       "      <td>NaN</td>\n",
       "      <td>G</td>\n",
       "      <td>2416.6</td>\n",
       "      <td>NaN</td>\n",
       "      <td>...</td>\n",
       "      <td>NaN</td>\n",
       "      <td>NaN</td>\n",
       "      <td>NaN</td>\n",
       "      <td>NaN</td>\n",
       "      <td>NaN</td>\n",
       "      <td>NaN</td>\n",
       "      <td>NaN</td>\n",
       "      <td>NaN</td>\n",
       "      <td>NaN</td>\n",
       "      <td>NaN</td>\n",
       "    </tr>\n",
       "    <tr>\n",
       "      <th>686</th>\n",
       "      <td>894</td>\n",
       "      <td>Zambia</td>\n",
       "      <td>616</td>\n",
       "      <td>Y</td>\n",
       "      <td>Terrestrial and marine areas protected to tota...</td>\n",
       "      <td>36.05</td>\n",
       "      <td>NaN</td>\n",
       "      <td>C</td>\n",
       "      <td>NaN</td>\n",
       "      <td>NaN</td>\n",
       "      <td>...</td>\n",
       "      <td>NaN</td>\n",
       "      <td>NaN</td>\n",
       "      <td>NaN</td>\n",
       "      <td>NaN</td>\n",
       "      <td>NaN</td>\n",
       "      <td>NaN</td>\n",
       "      <td>NaN</td>\n",
       "      <td>NaN</td>\n",
       "      <td>NaN</td>\n",
       "      <td>NaN</td>\n",
       "    </tr>\n",
       "    <tr>\n",
       "      <th>687</th>\n",
       "      <td>716</td>\n",
       "      <td>Zimbabwe</td>\n",
       "      <td>567</td>\n",
       "      <td>Y</td>\n",
       "      <td>Proportion of land area covered by forest, per...</td>\n",
       "      <td>57.3</td>\n",
       "      <td>NaN</td>\n",
       "      <td>C</td>\n",
       "      <td>NaN</td>\n",
       "      <td>NaN</td>\n",
       "      <td>...</td>\n",
       "      <td>NaN</td>\n",
       "      <td>NaN</td>\n",
       "      <td>NaN</td>\n",
       "      <td>NaN</td>\n",
       "      <td>NaN</td>\n",
       "      <td>NaN</td>\n",
       "      <td>NaN</td>\n",
       "      <td>NaN</td>\n",
       "      <td>NaN</td>\n",
       "      <td>NaN</td>\n",
       "    </tr>\n",
       "    <tr>\n",
       "      <th>688</th>\n",
       "      <td>716</td>\n",
       "      <td>Zimbabwe</td>\n",
       "      <td>749</td>\n",
       "      <td>Y</td>\n",
       "      <td>Carbon dioxide emissions (CO2), thousand metri...</td>\n",
       "      <td>15504.1</td>\n",
       "      <td>NaN</td>\n",
       "      <td>G</td>\n",
       "      <td>15823.1</td>\n",
       "      <td>NaN</td>\n",
       "      <td>...</td>\n",
       "      <td>NaN</td>\n",
       "      <td>NaN</td>\n",
       "      <td>NaN</td>\n",
       "      <td>NaN</td>\n",
       "      <td>NaN</td>\n",
       "      <td>NaN</td>\n",
       "      <td>NaN</td>\n",
       "      <td>NaN</td>\n",
       "      <td>NaN</td>\n",
       "      <td>NaN</td>\n",
       "    </tr>\n",
       "    <tr>\n",
       "      <th>689</th>\n",
       "      <td>716</td>\n",
       "      <td>Zimbabwe</td>\n",
       "      <td>616</td>\n",
       "      <td>Y</td>\n",
       "      <td>Terrestrial and marine areas protected to tota...</td>\n",
       "      <td>16.9</td>\n",
       "      <td>NaN</td>\n",
       "      <td>C</td>\n",
       "      <td>NaN</td>\n",
       "      <td>NaN</td>\n",
       "      <td>...</td>\n",
       "      <td>NaN</td>\n",
       "      <td>NaN</td>\n",
       "      <td>NaN</td>\n",
       "      <td>NaN</td>\n",
       "      <td>NaN</td>\n",
       "      <td>NaN</td>\n",
       "      <td>NaN</td>\n",
       "      <td>NaN</td>\n",
       "      <td>NaN</td>\n",
       "      <td>NaN</td>\n",
       "    </tr>\n",
       "  </tbody>\n",
       "</table>\n",
       "<p>690 rows × 95 columns</p>\n",
       "</div>"
      ],
      "text/plain": [
       "     CountryCode      Country  SeriesCode MDG  \\\n",
       "0              4  Afghanistan         567   Y   \n",
       "1              4  Afghanistan         749   Y   \n",
       "2              4  Afghanistan         616   Y   \n",
       "3              8      Albania         567   Y   \n",
       "4              8      Albania         749   Y   \n",
       "..           ...          ...         ...  ..   \n",
       "685          894       Zambia         749   Y   \n",
       "686          894       Zambia         616   Y   \n",
       "687          716     Zimbabwe         567   Y   \n",
       "688          716     Zimbabwe         749   Y   \n",
       "689          716     Zimbabwe         616   Y   \n",
       "\n",
       "                                                Series     1990 Footnotes  \\\n",
       "0    Proportion of land area covered by forest, per...      2.1       NaN   \n",
       "1    Carbon dioxide emissions (CO2), thousand metri...   2676.9       NaN   \n",
       "2    Terrestrial and marine areas protected to tota...     0.36       NaN   \n",
       "3    Proportion of land area covered by forest, per...     28.8       NaN   \n",
       "4    Carbon dioxide emissions (CO2), thousand metri...     7488       NaN   \n",
       "..                                                 ...      ...       ...   \n",
       "685  Carbon dioxide emissions (CO2), thousand metri...   2445.9       NaN   \n",
       "686  Terrestrial and marine areas protected to tota...    36.05       NaN   \n",
       "687  Proportion of land area covered by forest, per...     57.3       NaN   \n",
       "688  Carbon dioxide emissions (CO2), thousand metri...  15504.1       NaN   \n",
       "689  Terrestrial and marine areas protected to tota...     16.9       NaN   \n",
       "\n",
       "    Type     1991  Footnotes.1  ... Type.26 2017  Footnotes.27 Type.27 2018  \\\n",
       "0      E      NaN          NaN  ...     NaN  NaN           NaN     NaN  NaN   \n",
       "1      G   2493.6          NaN  ...     NaN  NaN           NaN     NaN  NaN   \n",
       "2      C      NaN          NaN  ...     NaN  NaN           NaN     NaN  NaN   \n",
       "3      C      NaN          NaN  ...     NaN  NaN           NaN     NaN  NaN   \n",
       "4      G   3971.4          NaN  ...     NaN  NaN           NaN     NaN  NaN   \n",
       "..   ...      ...          ...  ...     ...  ...           ...     ...  ...   \n",
       "685    G   2416.6          NaN  ...     NaN  NaN           NaN     NaN  NaN   \n",
       "686    C      NaN          NaN  ...     NaN  NaN           NaN     NaN  NaN   \n",
       "687    C      NaN          NaN  ...     NaN  NaN           NaN     NaN  NaN   \n",
       "688    G  15823.1          NaN  ...     NaN  NaN           NaN     NaN  NaN   \n",
       "689    C      NaN          NaN  ...     NaN  NaN           NaN     NaN  NaN   \n",
       "\n",
       "     Footnotes.28 Type.28 2019  Footnotes.29 Type.29  \n",
       "0             NaN     NaN  NaN           NaN     NaN  \n",
       "1             NaN     NaN  NaN           NaN     NaN  \n",
       "2             NaN     NaN  NaN           NaN     NaN  \n",
       "3             NaN     NaN  NaN           NaN     NaN  \n",
       "4             NaN     NaN  NaN           NaN     NaN  \n",
       "..            ...     ...  ...           ...     ...  \n",
       "685           NaN     NaN  NaN           NaN     NaN  \n",
       "686           NaN     NaN  NaN           NaN     NaN  \n",
       "687           NaN     NaN  NaN           NaN     NaN  \n",
       "688           NaN     NaN  NaN           NaN     NaN  \n",
       "689           NaN     NaN  NaN           NaN     NaN  \n",
       "\n",
       "[690 rows x 95 columns]"
      ]
     },
     "execution_count": 5,
     "metadata": {},
     "output_type": "execute_result"
    }
   ],
   "source": [
    "df1 = df.replace(r'^\\s*$', np.nan, regex = True)\n",
    "df1"
   ]
  },
  {
   "cell_type": "code",
   "execution_count": 6,
   "metadata": {},
   "outputs": [
    {
     "data": {
      "text/html": [
       "<div>\n",
       "<style scoped>\n",
       "    .dataframe tbody tr th:only-of-type {\n",
       "        vertical-align: middle;\n",
       "    }\n",
       "\n",
       "    .dataframe tbody tr th {\n",
       "        vertical-align: top;\n",
       "    }\n",
       "\n",
       "    .dataframe thead th {\n",
       "        text-align: right;\n",
       "    }\n",
       "</style>\n",
       "<table border=\"1\" class=\"dataframe\">\n",
       "  <thead>\n",
       "    <tr style=\"text-align: right;\">\n",
       "      <th></th>\n",
       "      <th>CountryCode</th>\n",
       "      <th>Country</th>\n",
       "      <th>SeriesCode</th>\n",
       "      <th>MDG</th>\n",
       "      <th>Series</th>\n",
       "      <th>1990</th>\n",
       "      <th>Type</th>\n",
       "      <th>2000</th>\n",
       "      <th>2005</th>\n",
       "      <th>2010</th>\n",
       "      <th>2011</th>\n",
       "    </tr>\n",
       "  </thead>\n",
       "  <tbody>\n",
       "    <tr>\n",
       "      <th>0</th>\n",
       "      <td>4</td>\n",
       "      <td>Afghanistan</td>\n",
       "      <td>567</td>\n",
       "      <td>Y</td>\n",
       "      <td>Proportion of land area covered by forest, per...</td>\n",
       "      <td>2.1</td>\n",
       "      <td>E</td>\n",
       "      <td>2.1</td>\n",
       "      <td>2.1</td>\n",
       "      <td>2.1</td>\n",
       "      <td>NaN</td>\n",
       "    </tr>\n",
       "    <tr>\n",
       "      <th>1</th>\n",
       "      <td>4</td>\n",
       "      <td>Afghanistan</td>\n",
       "      <td>749</td>\n",
       "      <td>Y</td>\n",
       "      <td>Carbon dioxide emissions (CO2), thousand metri...</td>\n",
       "      <td>2676.9</td>\n",
       "      <td>G</td>\n",
       "      <td>781.1</td>\n",
       "      <td>1338.5</td>\n",
       "      <td>8470.8</td>\n",
       "      <td>12251.4</td>\n",
       "    </tr>\n",
       "    <tr>\n",
       "      <th>2</th>\n",
       "      <td>4</td>\n",
       "      <td>Afghanistan</td>\n",
       "      <td>616</td>\n",
       "      <td>Y</td>\n",
       "      <td>Terrestrial and marine areas protected to tota...</td>\n",
       "      <td>0.36</td>\n",
       "      <td>C</td>\n",
       "      <td>0.36</td>\n",
       "      <td>NaN</td>\n",
       "      <td>NaN</td>\n",
       "      <td>NaN</td>\n",
       "    </tr>\n",
       "    <tr>\n",
       "      <th>3</th>\n",
       "      <td>8</td>\n",
       "      <td>Albania</td>\n",
       "      <td>567</td>\n",
       "      <td>Y</td>\n",
       "      <td>Proportion of land area covered by forest, per...</td>\n",
       "      <td>28.8</td>\n",
       "      <td>C</td>\n",
       "      <td>28.1</td>\n",
       "      <td>28.5</td>\n",
       "      <td>28.3</td>\n",
       "      <td>NaN</td>\n",
       "    </tr>\n",
       "    <tr>\n",
       "      <th>4</th>\n",
       "      <td>8</td>\n",
       "      <td>Albania</td>\n",
       "      <td>749</td>\n",
       "      <td>Y</td>\n",
       "      <td>Carbon dioxide emissions (CO2), thousand metri...</td>\n",
       "      <td>7488</td>\n",
       "      <td>G</td>\n",
       "      <td>3021.6</td>\n",
       "      <td>4253.7</td>\n",
       "      <td>4415.1</td>\n",
       "      <td>4668.1</td>\n",
       "    </tr>\n",
       "    <tr>\n",
       "      <th>...</th>\n",
       "      <td>...</td>\n",
       "      <td>...</td>\n",
       "      <td>...</td>\n",
       "      <td>...</td>\n",
       "      <td>...</td>\n",
       "      <td>...</td>\n",
       "      <td>...</td>\n",
       "      <td>...</td>\n",
       "      <td>...</td>\n",
       "      <td>...</td>\n",
       "      <td>...</td>\n",
       "    </tr>\n",
       "    <tr>\n",
       "      <th>685</th>\n",
       "      <td>894</td>\n",
       "      <td>Zambia</td>\n",
       "      <td>749</td>\n",
       "      <td>Y</td>\n",
       "      <td>Carbon dioxide emissions (CO2), thousand metri...</td>\n",
       "      <td>2445.9</td>\n",
       "      <td>G</td>\n",
       "      <td>1822.5</td>\n",
       "      <td>2277.2</td>\n",
       "      <td>2673.2</td>\n",
       "      <td>3047.3</td>\n",
       "    </tr>\n",
       "    <tr>\n",
       "      <th>686</th>\n",
       "      <td>894</td>\n",
       "      <td>Zambia</td>\n",
       "      <td>616</td>\n",
       "      <td>Y</td>\n",
       "      <td>Terrestrial and marine areas protected to tota...</td>\n",
       "      <td>36.05</td>\n",
       "      <td>C</td>\n",
       "      <td>36.06</td>\n",
       "      <td>NaN</td>\n",
       "      <td>NaN</td>\n",
       "      <td>NaN</td>\n",
       "    </tr>\n",
       "    <tr>\n",
       "      <th>687</th>\n",
       "      <td>716</td>\n",
       "      <td>Zimbabwe</td>\n",
       "      <td>567</td>\n",
       "      <td>Y</td>\n",
       "      <td>Proportion of land area covered by forest, per...</td>\n",
       "      <td>57.3</td>\n",
       "      <td>C</td>\n",
       "      <td>48.8</td>\n",
       "      <td>44.6</td>\n",
       "      <td>40.4</td>\n",
       "      <td>NaN</td>\n",
       "    </tr>\n",
       "    <tr>\n",
       "      <th>688</th>\n",
       "      <td>716</td>\n",
       "      <td>Zimbabwe</td>\n",
       "      <td>749</td>\n",
       "      <td>Y</td>\n",
       "      <td>Carbon dioxide emissions (CO2), thousand metri...</td>\n",
       "      <td>15504.1</td>\n",
       "      <td>G</td>\n",
       "      <td>13886.9</td>\n",
       "      <td>10715</td>\n",
       "      <td>9028.2</td>\n",
       "      <td>9860.6</td>\n",
       "    </tr>\n",
       "    <tr>\n",
       "      <th>689</th>\n",
       "      <td>716</td>\n",
       "      <td>Zimbabwe</td>\n",
       "      <td>616</td>\n",
       "      <td>Y</td>\n",
       "      <td>Terrestrial and marine areas protected to tota...</td>\n",
       "      <td>16.9</td>\n",
       "      <td>C</td>\n",
       "      <td>16.9</td>\n",
       "      <td>NaN</td>\n",
       "      <td>NaN</td>\n",
       "      <td>NaN</td>\n",
       "    </tr>\n",
       "  </tbody>\n",
       "</table>\n",
       "<p>690 rows × 11 columns</p>\n",
       "</div>"
      ],
      "text/plain": [
       "     CountryCode      Country  SeriesCode MDG  \\\n",
       "0              4  Afghanistan         567   Y   \n",
       "1              4  Afghanistan         749   Y   \n",
       "2              4  Afghanistan         616   Y   \n",
       "3              8      Albania         567   Y   \n",
       "4              8      Albania         749   Y   \n",
       "..           ...          ...         ...  ..   \n",
       "685          894       Zambia         749   Y   \n",
       "686          894       Zambia         616   Y   \n",
       "687          716     Zimbabwe         567   Y   \n",
       "688          716     Zimbabwe         749   Y   \n",
       "689          716     Zimbabwe         616   Y   \n",
       "\n",
       "                                                Series     1990 Type     2000  \\\n",
       "0    Proportion of land area covered by forest, per...      2.1    E      2.1   \n",
       "1    Carbon dioxide emissions (CO2), thousand metri...   2676.9    G    781.1   \n",
       "2    Terrestrial and marine areas protected to tota...     0.36    C     0.36   \n",
       "3    Proportion of land area covered by forest, per...     28.8    C     28.1   \n",
       "4    Carbon dioxide emissions (CO2), thousand metri...     7488    G   3021.6   \n",
       "..                                                 ...      ...  ...      ...   \n",
       "685  Carbon dioxide emissions (CO2), thousand metri...   2445.9    G   1822.5   \n",
       "686  Terrestrial and marine areas protected to tota...    36.05    C    36.06   \n",
       "687  Proportion of land area covered by forest, per...     57.3    C     48.8   \n",
       "688  Carbon dioxide emissions (CO2), thousand metri...  15504.1    G  13886.9   \n",
       "689  Terrestrial and marine areas protected to tota...     16.9    C     16.9   \n",
       "\n",
       "       2005    2010     2011  \n",
       "0       2.1     2.1      NaN  \n",
       "1    1338.5  8470.8  12251.4  \n",
       "2       NaN     NaN      NaN  \n",
       "3      28.5    28.3      NaN  \n",
       "4    4253.7  4415.1   4668.1  \n",
       "..      ...     ...      ...  \n",
       "685  2277.2  2673.2   3047.3  \n",
       "686     NaN     NaN      NaN  \n",
       "687    44.6    40.4      NaN  \n",
       "688   10715  9028.2   9860.6  \n",
       "689     NaN     NaN      NaN  \n",
       "\n",
       "[690 rows x 11 columns]"
      ]
     },
     "execution_count": 6,
     "metadata": {},
     "output_type": "execute_result"
    }
   ],
   "source": [
    "#Removing unncessary columns\n",
    "\n",
    "df1.drop([\"Footnotes\",\n",
    "         \"Footnotes.1\",\n",
    "         \"Type.1\",\n",
    "         \"Footnotes.2\",\n",
    "         \"Type.2\",\n",
    "         \"Footnotes.3\",\n",
    "         \"Type.3\",\n",
    "         \"Footnotes.4\",\n",
    "         \"Type.4\",\n",
    "         \"Footnotes.5\", \n",
    "         \"Type.5\",\n",
    "         \"Footnotes.6\", \n",
    "         \"Type.6\",\n",
    "         \"Footnotes.7\", \n",
    "         \"Type.7\",\n",
    "         \"Footnotes.8\",\n",
    "         \"Type.8\",\n",
    "         \"Footnotes.9\",\n",
    "         \"Type.9\",\n",
    "         \"Footnotes.10\",\n",
    "         \"Type.10\",\n",
    "         \"Footnotes.11\",\n",
    "         \"Type.11\",\n",
    "         \"Footnotes.12\",\n",
    "         \"Type.12\",\n",
    "         \"Footnotes.13\",\n",
    "         \"Type.13\",\n",
    "         \"Footnotes.14\",\n",
    "         \"Type.14\",\n",
    "         \"Footnotes.15\",\n",
    "         \"Type.15\",\n",
    "         \"Footnotes.16\",\n",
    "         \"Type.16\",\n",
    "         \"Footnotes.17\",\n",
    "         \"Type.17\",\n",
    "         \"Footnotes.18\",\n",
    "         \"Type.18\",\n",
    "         \"Footnotes.19\",\n",
    "         \"Type.19\",\n",
    "         \"Footnotes.20\",\n",
    "         \"Type.20\",\n",
    "         \"Footnotes.21\",\n",
    "         \"Type.21\",\n",
    "         \"Footnotes.22\",\n",
    "         \"Type.22\",\n",
    "         \"Footnotes.23\",\n",
    "         \"Type.23\",\n",
    "         \"Footnotes.24\",\n",
    "         \"Type.24\",\n",
    "         \"Footnotes.25\",\n",
    "         \"Type.25\",\n",
    "         \"Footnotes.26\",\n",
    "         \"Type.26\",\n",
    "         \"Footnotes.27\",\n",
    "         \"Type.27\",\n",
    "         \"Footnotes.28\",\n",
    "         \"Type.28\",\n",
    "         \"Footnotes.29\",\n",
    "         \"Type.29\",\n",
    "         \"1991\",\n",
    "         \"1992\",\n",
    "         \"1993\",\n",
    "         \"1994\",\n",
    "         \"1995\",\n",
    "         \"1996\",\n",
    "         \"1997\",\n",
    "         \"1998\",\n",
    "         \"1999\",\n",
    "         #\"2000\",\n",
    "         \"2001\",\n",
    "         \"2002\",\n",
    "         \"2003\",\n",
    "         \"2004\",\n",
    "         #\"2005\",\n",
    "         \"2006\",\n",
    "         \"2007\",\n",
    "         \"2008\",\n",
    "         \"2009\",\n",
    "        # \"2010\"\n",
    "         \"2012\",\n",
    "         \"2013\",\n",
    "         \"2014\",\n",
    "         \"2015\",\n",
    "         \"2016\",\n",
    "         \"2017\",\n",
    "         \"2018\",\n",
    "         \"2019\"],inplace = True, axis = 1)\n",
    "df1\n"
   ]
  },
  {
   "cell_type": "code",
   "execution_count": 11,
   "metadata": {},
   "outputs": [
    {
     "name": "stdout",
     "output_type": "stream",
     "text": [
      "<class 'pandas.core.frame.DataFrame'>\n",
      "RangeIndex: 690 entries, 0 to 689\n",
      "Data columns (total 11 columns):\n",
      " #   Column       Non-Null Count  Dtype \n",
      "---  ------       --------------  ----- \n",
      " 0   CountryCode  690 non-null    int64 \n",
      " 1   Country      690 non-null    object\n",
      " 2   SeriesCode   690 non-null    int64 \n",
      " 3   MDG          690 non-null    object\n",
      " 4   Series       690 non-null    object\n",
      " 5   1990         627 non-null    object\n",
      " 6   Type         628 non-null    object\n",
      " 7   2000         656 non-null    object\n",
      " 8   2005         436 non-null    object\n",
      " 9   2010         438 non-null    object\n",
      " 10  2011         215 non-null    object\n",
      "dtypes: int64(2), object(9)\n",
      "memory usage: 59.4+ KB\n"
     ]
    }
   ],
   "source": [
    "df1.info()"
   ]
  },
  {
   "cell_type": "code",
   "execution_count": 12,
   "metadata": {},
   "outputs": [
    {
     "data": {
      "text/plain": [
       "CountryCode    230\n",
       "Country        230\n",
       "SeriesCode       3\n",
       "MDG              1\n",
       "Series           3\n",
       "1990           515\n",
       "Type             3\n",
       "2000           568\n",
       "2005           390\n",
       "2010           386\n",
       "2011           207\n",
       "dtype: int64"
      ]
     },
     "execution_count": 12,
     "metadata": {},
     "output_type": "execute_result"
    }
   ],
   "source": [
    "#Checking unique values\n",
    "\n",
    "#for i in df.columns:\n",
    "   #print(\"{} is unique: {}\".format(i, df[i].is_unique))\n",
    "    df1.nunique( axis = 0, dropna = True)"
   ]
  },
  {
   "cell_type": "code",
   "execution_count": 14,
   "metadata": {},
   "outputs": [
    {
     "data": {
      "text/html": [
       "<div>\n",
       "<style scoped>\n",
       "    .dataframe tbody tr th:only-of-type {\n",
       "        vertical-align: middle;\n",
       "    }\n",
       "\n",
       "    .dataframe tbody tr th {\n",
       "        vertical-align: top;\n",
       "    }\n",
       "\n",
       "    .dataframe thead th {\n",
       "        text-align: right;\n",
       "    }\n",
       "</style>\n",
       "<table border=\"1\" class=\"dataframe\">\n",
       "  <thead>\n",
       "    <tr style=\"text-align: right;\">\n",
       "      <th></th>\n",
       "      <th>null_sum</th>\n",
       "      <th>null_pct</th>\n",
       "      <th>dtypes</th>\n",
       "      <th>count</th>\n",
       "      <th>mean</th>\n",
       "      <th>median</th>\n",
       "      <th>min</th>\n",
       "      <th>max</th>\n",
       "    </tr>\n",
       "  </thead>\n",
       "  <tbody>\n",
       "    <tr>\n",
       "      <th>1990</th>\n",
       "      <td>63</td>\n",
       "      <td>0.091304</td>\n",
       "      <td>object</td>\n",
       "      <td>627</td>\n",
       "      <td>NaN</td>\n",
       "      <td>22.40</td>\n",
       "      <td>NaN</td>\n",
       "      <td>NaN</td>\n",
       "    </tr>\n",
       "    <tr>\n",
       "      <th>2000</th>\n",
       "      <td>34</td>\n",
       "      <td>0.049275</td>\n",
       "      <td>object</td>\n",
       "      <td>656</td>\n",
       "      <td>NaN</td>\n",
       "      <td>29.50</td>\n",
       "      <td>NaN</td>\n",
       "      <td>NaN</td>\n",
       "    </tr>\n",
       "    <tr>\n",
       "      <th>2005</th>\n",
       "      <td>254</td>\n",
       "      <td>0.368116</td>\n",
       "      <td>object</td>\n",
       "      <td>436</td>\n",
       "      <td>NaN</td>\n",
       "      <td>73.00</td>\n",
       "      <td>NaN</td>\n",
       "      <td>NaN</td>\n",
       "    </tr>\n",
       "    <tr>\n",
       "      <th>2010</th>\n",
       "      <td>252</td>\n",
       "      <td>0.365217</td>\n",
       "      <td>object</td>\n",
       "      <td>438</td>\n",
       "      <td>NaN</td>\n",
       "      <td>72.55</td>\n",
       "      <td>NaN</td>\n",
       "      <td>NaN</td>\n",
       "    </tr>\n",
       "    <tr>\n",
       "      <th>2011</th>\n",
       "      <td>475</td>\n",
       "      <td>0.688406</td>\n",
       "      <td>object</td>\n",
       "      <td>215</td>\n",
       "      <td>NaN</td>\n",
       "      <td>7543.00</td>\n",
       "      <td>NaN</td>\n",
       "      <td>NaN</td>\n",
       "    </tr>\n",
       "    <tr>\n",
       "      <th>Country</th>\n",
       "      <td>0</td>\n",
       "      <td>0.000000</td>\n",
       "      <td>object</td>\n",
       "      <td>690</td>\n",
       "      <td>NaN</td>\n",
       "      <td>NaN</td>\n",
       "      <td>Afghanistan</td>\n",
       "      <td>Zimbabwe</td>\n",
       "    </tr>\n",
       "    <tr>\n",
       "      <th>CountryCode</th>\n",
       "      <td>0</td>\n",
       "      <td>0.000000</td>\n",
       "      <td>int64</td>\n",
       "      <td>690</td>\n",
       "      <td>439.465217</td>\n",
       "      <td>439.00</td>\n",
       "      <td>4</td>\n",
       "      <td>894</td>\n",
       "    </tr>\n",
       "    <tr>\n",
       "      <th>MDG</th>\n",
       "      <td>0</td>\n",
       "      <td>0.000000</td>\n",
       "      <td>object</td>\n",
       "      <td>690</td>\n",
       "      <td>NaN</td>\n",
       "      <td>NaN</td>\n",
       "      <td>Y</td>\n",
       "      <td>Y</td>\n",
       "    </tr>\n",
       "    <tr>\n",
       "      <th>Series</th>\n",
       "      <td>0</td>\n",
       "      <td>0.000000</td>\n",
       "      <td>object</td>\n",
       "      <td>690</td>\n",
       "      <td>NaN</td>\n",
       "      <td>NaN</td>\n",
       "      <td>Carbon dioxide emissions (CO2), thousand metri...</td>\n",
       "      <td>Terrestrial and marine areas protected to tota...</td>\n",
       "    </tr>\n",
       "    <tr>\n",
       "      <th>SeriesCode</th>\n",
       "      <td>0</td>\n",
       "      <td>0.000000</td>\n",
       "      <td>int64</td>\n",
       "      <td>690</td>\n",
       "      <td>644.000000</td>\n",
       "      <td>616.00</td>\n",
       "      <td>567</td>\n",
       "      <td>749</td>\n",
       "    </tr>\n",
       "    <tr>\n",
       "      <th>Type</th>\n",
       "      <td>62</td>\n",
       "      <td>0.089855</td>\n",
       "      <td>object</td>\n",
       "      <td>628</td>\n",
       "      <td>NaN</td>\n",
       "      <td>NaN</td>\n",
       "      <td>NaN</td>\n",
       "      <td>NaN</td>\n",
       "    </tr>\n",
       "  </tbody>\n",
       "</table>\n",
       "</div>"
      ],
      "text/plain": [
       "             null_sum  null_pct  dtypes  count        mean   median  \\\n",
       "1990               63  0.091304  object    627         NaN    22.40   \n",
       "2000               34  0.049275  object    656         NaN    29.50   \n",
       "2005              254  0.368116  object    436         NaN    73.00   \n",
       "2010              252  0.365217  object    438         NaN    72.55   \n",
       "2011              475  0.688406  object    215         NaN  7543.00   \n",
       "Country             0  0.000000  object    690         NaN      NaN   \n",
       "CountryCode         0  0.000000   int64    690  439.465217   439.00   \n",
       "MDG                 0  0.000000  object    690         NaN      NaN   \n",
       "Series              0  0.000000  object    690         NaN      NaN   \n",
       "SeriesCode          0  0.000000   int64    690  644.000000   616.00   \n",
       "Type               62  0.089855  object    628         NaN      NaN   \n",
       "\n",
       "                                                           min  \\\n",
       "1990                                                       NaN   \n",
       "2000                                                       NaN   \n",
       "2005                                                       NaN   \n",
       "2010                                                       NaN   \n",
       "2011                                                       NaN   \n",
       "Country                                            Afghanistan   \n",
       "CountryCode                                                  4   \n",
       "MDG                                                          Y   \n",
       "Series       Carbon dioxide emissions (CO2), thousand metri...   \n",
       "SeriesCode                                                 567   \n",
       "Type                                                       NaN   \n",
       "\n",
       "                                                           max  \n",
       "1990                                                       NaN  \n",
       "2000                                                       NaN  \n",
       "2005                                                       NaN  \n",
       "2010                                                       NaN  \n",
       "2011                                                       NaN  \n",
       "Country                                               Zimbabwe  \n",
       "CountryCode                                                894  \n",
       "MDG                                                          Y  \n",
       "Series       Terrestrial and marine areas protected to tota...  \n",
       "SeriesCode                                                 749  \n",
       "Type                                                       NaN  "
      ]
     },
     "execution_count": 14,
     "metadata": {},
     "output_type": "execute_result"
    }
   ],
   "source": [
    "#Statistical summary of my data\n",
    "\n",
    "def new_data(df1): \n",
    "    data_df = {}\n",
    "    data_df[\"null_sum\"] = df1.isnull().sum()\n",
    "    data_df[\"null_pct\"] = df1.isnull().mean()\n",
    "    data_df[\"dtypes\"] = df1.dtypes\n",
    "    data_df[\"count\"] = df1.count()\n",
    "    data_df['mean'] = df1.mean()\n",
    "    data_df['median'] = df1.median()\n",
    "    data_df['min'] = df1.min()\n",
    "    data_df['max'] = df1.max()\n",
    "    \n",
    "    \n",
    "    return pd.DataFrame(data_df)\n",
    "new_data(df1)"
   ]
  },
  {
   "cell_type": "code",
   "execution_count": 120,
   "metadata": {},
   "outputs": [
    {
     "data": {
      "text/plain": [
       "2010    1\n",
       "2005    1\n",
       "2000    1\n",
       "1990    1\n",
       "2011    0\n",
       "Type    0\n",
       "dtype: int64"
      ]
     },
     "execution_count": 120,
     "metadata": {},
     "output_type": "execute_result"
    }
   ],
   "source": [
    "new_data.columns = df1.columns[df1.isnull().any()]\n",
    "df[new_data.columns].isnull().sum().sort_values(ascending = False)"
   ]
  },
  {
   "cell_type": "code",
   "execution_count": 21,
   "metadata": {},
   "outputs": [
    {
     "data": {
      "text/html": [
       "<div>\n",
       "<style scoped>\n",
       "    .dataframe tbody tr th:only-of-type {\n",
       "        vertical-align: middle;\n",
       "    }\n",
       "\n",
       "    .dataframe tbody tr th {\n",
       "        vertical-align: top;\n",
       "    }\n",
       "\n",
       "    .dataframe thead th {\n",
       "        text-align: right;\n",
       "    }\n",
       "</style>\n",
       "<table border=\"1\" class=\"dataframe\">\n",
       "  <thead>\n",
       "    <tr style=\"text-align: right;\">\n",
       "      <th></th>\n",
       "      <th>CountryCode</th>\n",
       "      <th>Country</th>\n",
       "      <th>SeriesCode</th>\n",
       "      <th>MDG</th>\n",
       "      <th>Series</th>\n",
       "      <th>1990</th>\n",
       "      <th>Type</th>\n",
       "      <th>2000</th>\n",
       "      <th>2005</th>\n",
       "      <th>2010</th>\n",
       "      <th>2011</th>\n",
       "    </tr>\n",
       "  </thead>\n",
       "  <tbody>\n",
       "    <tr>\n",
       "      <th>0</th>\n",
       "      <td>4</td>\n",
       "      <td>Afghanistan</td>\n",
       "      <td>567</td>\n",
       "      <td>Y</td>\n",
       "      <td>Proportion of land area covered by forest, per...</td>\n",
       "      <td>2.1</td>\n",
       "      <td>E</td>\n",
       "      <td>2.1</td>\n",
       "      <td>2.1</td>\n",
       "      <td>2.1</td>\n",
       "      <td>NaN</td>\n",
       "    </tr>\n",
       "    <tr>\n",
       "      <th>1</th>\n",
       "      <td>4</td>\n",
       "      <td>Afghanistan</td>\n",
       "      <td>749</td>\n",
       "      <td>Y</td>\n",
       "      <td>Carbon dioxide emissions (CO2), thousand metri...</td>\n",
       "      <td>2676.9</td>\n",
       "      <td>G</td>\n",
       "      <td>781.1</td>\n",
       "      <td>1338.5</td>\n",
       "      <td>8470.8</td>\n",
       "      <td>12251.4</td>\n",
       "    </tr>\n",
       "    <tr>\n",
       "      <th>2</th>\n",
       "      <td>4</td>\n",
       "      <td>Afghanistan</td>\n",
       "      <td>616</td>\n",
       "      <td>Y</td>\n",
       "      <td>Terrestrial and marine areas protected to tota...</td>\n",
       "      <td>0.36</td>\n",
       "      <td>C</td>\n",
       "      <td>0.36</td>\n",
       "      <td>NaN</td>\n",
       "      <td>NaN</td>\n",
       "      <td>NaN</td>\n",
       "    </tr>\n",
       "    <tr>\n",
       "      <th>3</th>\n",
       "      <td>8</td>\n",
       "      <td>Albania</td>\n",
       "      <td>567</td>\n",
       "      <td>Y</td>\n",
       "      <td>Proportion of land area covered by forest, per...</td>\n",
       "      <td>28.8</td>\n",
       "      <td>C</td>\n",
       "      <td>28.1</td>\n",
       "      <td>28.5</td>\n",
       "      <td>28.3</td>\n",
       "      <td>NaN</td>\n",
       "    </tr>\n",
       "    <tr>\n",
       "      <th>4</th>\n",
       "      <td>8</td>\n",
       "      <td>Albania</td>\n",
       "      <td>749</td>\n",
       "      <td>Y</td>\n",
       "      <td>Carbon dioxide emissions (CO2), thousand metri...</td>\n",
       "      <td>7488</td>\n",
       "      <td>G</td>\n",
       "      <td>3021.6</td>\n",
       "      <td>4253.7</td>\n",
       "      <td>4415.1</td>\n",
       "      <td>4668.1</td>\n",
       "    </tr>\n",
       "  </tbody>\n",
       "</table>\n",
       "</div>"
      ],
      "text/plain": [
       "   CountryCode      Country  SeriesCode MDG  \\\n",
       "0            4  Afghanistan         567   Y   \n",
       "1            4  Afghanistan         749   Y   \n",
       "2            4  Afghanistan         616   Y   \n",
       "3            8      Albania         567   Y   \n",
       "4            8      Albania         749   Y   \n",
       "\n",
       "                                              Series    1990 Type    2000  \\\n",
       "0  Proportion of land area covered by forest, per...     2.1    E     2.1   \n",
       "1  Carbon dioxide emissions (CO2), thousand metri...  2676.9    G   781.1   \n",
       "2  Terrestrial and marine areas protected to tota...    0.36    C    0.36   \n",
       "3  Proportion of land area covered by forest, per...    28.8    C    28.1   \n",
       "4  Carbon dioxide emissions (CO2), thousand metri...    7488    G  3021.6   \n",
       "\n",
       "     2005    2010     2011  \n",
       "0     2.1     2.1      NaN  \n",
       "1  1338.5  8470.8  12251.4  \n",
       "2     NaN     NaN      NaN  \n",
       "3    28.5    28.3      NaN  \n",
       "4  4253.7  4415.1   4668.1  "
      ]
     },
     "execution_count": 21,
     "metadata": {},
     "output_type": "execute_result"
    }
   ],
   "source": [
    "# Dropping columns with missing values\n",
    "df2 = df1.dropna(how = 'all', axis = \"columns\")\n",
    "df2.head()"
   ]
  },
  {
   "cell_type": "code",
   "execution_count": 23,
   "metadata": {},
   "outputs": [
    {
     "data": {
      "text/plain": [
       "object    9\n",
       "int64     2\n",
       "dtype: int64"
      ]
     },
     "execution_count": 23,
     "metadata": {},
     "output_type": "execute_result"
    }
   ],
   "source": [
    "#Checking number of values in each data type\n",
    "\n",
    "df2.dtypes.value_counts()"
   ]
  },
  {
   "cell_type": "code",
   "execution_count": 24,
   "metadata": {},
   "outputs": [
    {
     "data": {
      "text/plain": [
       "Index(['Country', 'MDG', 'Series', '1990', 'Type', '2000', '2005', '2010',\n",
       "       '2011'],\n",
       "      dtype='object')"
      ]
     },
     "execution_count": 24,
     "metadata": {},
     "output_type": "execute_result"
    }
   ],
   "source": [
    "#Checking all the object columns\n",
    "\n",
    "df2.select_dtypes(include = [\"object\"]).columns"
   ]
  },
  {
   "cell_type": "code",
   "execution_count": 26,
   "metadata": {},
   "outputs": [
    {
     "data": {
      "text/html": [
       "<div>\n",
       "<style scoped>\n",
       "    .dataframe tbody tr th:only-of-type {\n",
       "        vertical-align: middle;\n",
       "    }\n",
       "\n",
       "    .dataframe tbody tr th {\n",
       "        vertical-align: top;\n",
       "    }\n",
       "\n",
       "    .dataframe thead th {\n",
       "        text-align: right;\n",
       "    }\n",
       "</style>\n",
       "<table border=\"1\" class=\"dataframe\">\n",
       "  <thead>\n",
       "    <tr style=\"text-align: right;\">\n",
       "      <th></th>\n",
       "      <th>CountryCode</th>\n",
       "      <th>SeriesCode</th>\n",
       "    </tr>\n",
       "  </thead>\n",
       "  <tbody>\n",
       "    <tr>\n",
       "      <th>CountryCode</th>\n",
       "      <td>1.000000e+00</td>\n",
       "      <td>-1.532248e-17</td>\n",
       "    </tr>\n",
       "    <tr>\n",
       "      <th>SeriesCode</th>\n",
       "      <td>-1.532248e-17</td>\n",
       "      <td>1.000000e+00</td>\n",
       "    </tr>\n",
       "  </tbody>\n",
       "</table>\n",
       "</div>"
      ],
      "text/plain": [
       "              CountryCode    SeriesCode\n",
       "CountryCode  1.000000e+00 -1.532248e-17\n",
       "SeriesCode  -1.532248e-17  1.000000e+00"
      ]
     },
     "execution_count": 26,
     "metadata": {},
     "output_type": "execute_result"
    }
   ],
   "source": [
    "#Checking correlation\n",
    "\n",
    "df2.corr()"
   ]
  },
  {
   "cell_type": "markdown",
   "metadata": {},
   "source": [
    "# 1.How many different countries are represented? How many missing values are there by country, year and series?"
   ]
  },
  {
   "cell_type": "code",
   "execution_count": 74,
   "metadata": {},
   "outputs": [
    {
     "name": "stdout",
     "output_type": "stream",
     "text": [
      "Number of countries in dataframes = 230\n"
     ]
    }
   ],
   "source": [
    "#Checking the number of countries represented\n",
    "country_name = df2.Country.unique()\n",
    "\n",
    "print(\"Number of countries in dataframes =\", len(country_name))\n"
   ]
  },
  {
   "cell_type": "code",
   "execution_count": 89,
   "metadata": {},
   "outputs": [
    {
     "data": {
      "text/plain": [
       "0      5\n",
       "63     1\n",
       "62     1\n",
       "254    1\n",
       "252    1\n",
       "475    1\n",
       "34     1\n",
       "dtype: int64"
      ]
     },
     "execution_count": 89,
     "metadata": {},
     "output_type": "execute_result"
    }
   ],
   "source": [
    "#Checking missing values in the data frame\n",
    "df2.isnull().sum().value_counts()"
   ]
  },
  {
   "cell_type": "markdown",
   "metadata": {},
   "source": [
    "There are 27 missing values in the data frame."
   ]
  },
  {
   "cell_type": "code",
   "execution_count": 65,
   "metadata": {},
   "outputs": [
    {
     "data": {
      "text/plain": [
       "0"
      ]
     },
     "execution_count": 65,
     "metadata": {},
     "output_type": "execute_result"
    }
   ],
   "source": [
    "#Checking missing values in country\n",
    "\n",
    "df2[\"Country\"].isnull().any().sum()"
   ]
  },
  {
   "cell_type": "markdown",
   "metadata": {},
   "source": [
    "There are no missing values in the Country column"
   ]
  },
  {
   "cell_type": "code",
   "execution_count": 64,
   "metadata": {},
   "outputs": [
    {
     "data": {
      "text/plain": [
       "0"
      ]
     },
     "execution_count": 64,
     "metadata": {},
     "output_type": "execute_result"
    }
   ],
   "source": [
    "#Checking missing values in series\n",
    "\n",
    "df2[\"Series\"].isnull().sum()"
   ]
  },
  {
   "cell_type": "markdown",
   "metadata": {},
   "source": [
    "There are no missing values in the Series column."
   ]
  },
  {
   "cell_type": "code",
   "execution_count": 63,
   "metadata": {},
   "outputs": [
    {
     "data": {
      "text/plain": [
       "63"
      ]
     },
     "execution_count": 63,
     "metadata": {},
     "output_type": "execute_result"
    }
   ],
   "source": [
    "#Checking missing values in 1990\n",
    "\n",
    "df2[\"1990\"].isnull().sum()"
   ]
  },
  {
   "cell_type": "markdown",
   "metadata": {},
   "source": [
    "There are 63 missing values in 1990  "
   ]
  },
  {
   "cell_type": "code",
   "execution_count": 59,
   "metadata": {},
   "outputs": [
    {
     "data": {
      "text/plain": [
       "False    656\n",
       "True      34\n",
       "Name: 2000, dtype: int64"
      ]
     },
     "execution_count": 59,
     "metadata": {},
     "output_type": "execute_result"
    }
   ],
   "source": [
    "#Checking missing values in 2000\n",
    "\n",
    "df2[\"2000\"].isnull().value_counts()"
   ]
  },
  {
   "cell_type": "markdown",
   "metadata": {},
   "source": [
    "There are 34 missing values in 2000"
   ]
  },
  {
   "cell_type": "code",
   "execution_count": 90,
   "metadata": {},
   "outputs": [
    {
     "data": {
      "text/plain": [
       "False    436\n",
       "True     254\n",
       "Name: 2005, dtype: int64"
      ]
     },
     "execution_count": 90,
     "metadata": {},
     "output_type": "execute_result"
    }
   ],
   "source": [
    "#Checking missing values in 2005\n",
    "\n",
    "df2[\"2005\"].isnull().value_counts()"
   ]
  },
  {
   "cell_type": "markdown",
   "metadata": {},
   "source": [
    "There are 254 missing values in 2005"
   ]
  },
  {
   "cell_type": "code",
   "execution_count": 91,
   "metadata": {},
   "outputs": [
    {
     "data": {
      "text/plain": [
       "False    438\n",
       "True     252\n",
       "Name: 2010, dtype: int64"
      ]
     },
     "execution_count": 91,
     "metadata": {},
     "output_type": "execute_result"
    }
   ],
   "source": [
    "#Checking missing values in 2010\n",
    "\n",
    "df2[\"2010\"].isnull().value_counts()"
   ]
  },
  {
   "cell_type": "markdown",
   "metadata": {},
   "source": [
    "There are 254 missing values in 2010"
   ]
  },
  {
   "cell_type": "code",
   "execution_count": 92,
   "metadata": {},
   "outputs": [
    {
     "data": {
      "text/plain": [
       "True     475\n",
       "False    215\n",
       "Name: 2011, dtype: int64"
      ]
     },
     "execution_count": 92,
     "metadata": {},
     "output_type": "execute_result"
    }
   ],
   "source": [
    "#Checking missing values in 2011\n",
    "\n",
    "df2[\"2011\"].isnull().value_counts()"
   ]
  },
  {
   "cell_type": "markdown",
   "metadata": {},
   "source": [
    "There are 475 missing values in 2011"
   ]
  },
  {
   "cell_type": "markdown",
   "metadata": {},
   "source": [
    "All in all year has 1078 missing values."
   ]
  },
  {
   "cell_type": "markdown",
   "metadata": {},
   "source": [
    "# 2.Who are the top and bottom 5 countries in terms of C02 emissions in 1990 and what are their emissions? How has this changed by 2011?\n",
    "Do you spot any problems with the data? If so, fix it."
   ]
  },
  {
   "cell_type": "code",
   "execution_count": 115,
   "metadata": {},
   "outputs": [
    {
     "data": {
      "text/html": [
       "<div>\n",
       "<style scoped>\n",
       "    .dataframe tbody tr th:only-of-type {\n",
       "        vertical-align: middle;\n",
       "    }\n",
       "\n",
       "    .dataframe tbody tr th {\n",
       "        vertical-align: top;\n",
       "    }\n",
       "\n",
       "    .dataframe thead th {\n",
       "        text-align: right;\n",
       "    }\n",
       "</style>\n",
       "<table border=\"1\" class=\"dataframe\">\n",
       "  <thead>\n",
       "    <tr style=\"text-align: right;\">\n",
       "      <th></th>\n",
       "      <th>Country</th>\n",
       "      <th>1990</th>\n",
       "    </tr>\n",
       "  </thead>\n",
       "  <tbody>\n",
       "    <tr>\n",
       "      <th>0</th>\n",
       "      <td>Afghanistan</td>\n",
       "      <td>2.1</td>\n",
       "    </tr>\n",
       "    <tr>\n",
       "      <th>1</th>\n",
       "      <td>Afghanistan</td>\n",
       "      <td>2676.9</td>\n",
       "    </tr>\n",
       "    <tr>\n",
       "      <th>2</th>\n",
       "      <td>Afghanistan</td>\n",
       "      <td>0.36</td>\n",
       "    </tr>\n",
       "    <tr>\n",
       "      <th>3</th>\n",
       "      <td>Albania</td>\n",
       "      <td>28.8</td>\n",
       "    </tr>\n",
       "    <tr>\n",
       "      <th>4</th>\n",
       "      <td>Albania</td>\n",
       "      <td>7488</td>\n",
       "    </tr>\n",
       "    <tr>\n",
       "      <th>...</th>\n",
       "      <td>...</td>\n",
       "      <td>...</td>\n",
       "    </tr>\n",
       "    <tr>\n",
       "      <th>685</th>\n",
       "      <td>Zambia</td>\n",
       "      <td>2445.9</td>\n",
       "    </tr>\n",
       "    <tr>\n",
       "      <th>686</th>\n",
       "      <td>Zambia</td>\n",
       "      <td>36.05</td>\n",
       "    </tr>\n",
       "    <tr>\n",
       "      <th>687</th>\n",
       "      <td>Zimbabwe</td>\n",
       "      <td>57.3</td>\n",
       "    </tr>\n",
       "    <tr>\n",
       "      <th>688</th>\n",
       "      <td>Zimbabwe</td>\n",
       "      <td>15504.1</td>\n",
       "    </tr>\n",
       "    <tr>\n",
       "      <th>689</th>\n",
       "      <td>Zimbabwe</td>\n",
       "      <td>16.9</td>\n",
       "    </tr>\n",
       "  </tbody>\n",
       "</table>\n",
       "<p>690 rows × 2 columns</p>\n",
       "</div>"
      ],
      "text/plain": [
       "         Country     1990\n",
       "0    Afghanistan      2.1\n",
       "1    Afghanistan   2676.9\n",
       "2    Afghanistan     0.36\n",
       "3        Albania     28.8\n",
       "4        Albania     7488\n",
       "..           ...      ...\n",
       "685       Zambia   2445.9\n",
       "686       Zambia    36.05\n",
       "687     Zimbabwe     57.3\n",
       "688     Zimbabwe  15504.1\n",
       "689     Zimbabwe     16.9\n",
       "\n",
       "[690 rows x 2 columns]"
      ]
     },
     "execution_count": 115,
     "metadata": {},
     "output_type": "execute_result"
    }
   ],
   "source": [
    "#Creating a new data frame for Country and 1990\n",
    "df3 = df2.loc[:, (\"Country\",\"1990\") ]\n",
    "\n",
    "#Filling m,issing values with 1\n",
    "df3[\"1990\"] = df3[\"1990\"].fillna(1)\n",
    "df3"
   ]
  },
  {
   "cell_type": "code",
   "execution_count": 189,
   "metadata": {},
   "outputs": [
    {
     "data": {
      "text/plain": [
       "object    2\n",
       "dtype: int64"
      ]
     },
     "execution_count": 189,
     "metadata": {},
     "output_type": "execute_result"
    }
   ],
   "source": [
    "df3.dtypes.value_counts()"
   ]
  },
  {
   "cell_type": "code",
   "execution_count": 190,
   "metadata": {},
   "outputs": [
    {
     "data": {
      "text/plain": [
       "Country\n",
       "Afghanistan                                         2679.36\n",
       "Albania                                             7516.95\n",
       "Algeria                                            78931.47\n",
       "American Samoa                                        91.06\n",
       "Andorra                                               42.13\n",
       "                                                    ...    \n",
       "Western Sahara                                         3.70\n",
       "Yemen                                              -2998.60\n",
       "Yugoslavia [former Socialist Federal Republic]    133290.10\n",
       "Zambia                                              2552.95\n",
       "Zimbabwe                                           15578.30\n",
       "Name: 1990, Length: 230, dtype: float64"
      ]
     },
     "execution_count": 190,
     "metadata": {},
     "output_type": "execute_result"
    }
   ],
   "source": [
    "#Grouping by country and 1990,then changing data type from object to float \n",
    "\n",
    "df4 = df3.groupby(\"Country\")[\"1990\"].apply(lambda country : country.astype(float).sum())\n",
    "df4"
   ]
  },
  {
   "cell_type": "code",
   "execution_count": 191,
   "metadata": {},
   "outputs": [
    {
     "data": {
      "text/html": [
       "<div>\n",
       "<style scoped>\n",
       "    .dataframe tbody tr th:only-of-type {\n",
       "        vertical-align: middle;\n",
       "    }\n",
       "\n",
       "    .dataframe tbody tr th {\n",
       "        vertical-align: top;\n",
       "    }\n",
       "\n",
       "    .dataframe thead th {\n",
       "        text-align: right;\n",
       "    }\n",
       "</style>\n",
       "<table border=\"1\" class=\"dataframe\">\n",
       "  <thead>\n",
       "    <tr style=\"text-align: right;\">\n",
       "      <th></th>\n",
       "      <th>Country</th>\n",
       "      <th>1990</th>\n",
       "    </tr>\n",
       "  </thead>\n",
       "  <tbody>\n",
       "    <tr>\n",
       "      <th>226</th>\n",
       "      <td>Yemen</td>\n",
       "      <td>-2998.60</td>\n",
       "    </tr>\n",
       "    <tr>\n",
       "      <th>174</th>\n",
       "      <td>San Marino</td>\n",
       "      <td>1.00</td>\n",
       "    </tr>\n",
       "    <tr>\n",
       "      <th>204</th>\n",
       "      <td>Tokelau</td>\n",
       "      <td>1.00</td>\n",
       "    </tr>\n",
       "    <tr>\n",
       "      <th>131</th>\n",
       "      <td>Monaco</td>\n",
       "      <td>2.18</td>\n",
       "    </tr>\n",
       "    <tr>\n",
       "      <th>191</th>\n",
       "      <td>State of Palestine</td>\n",
       "      <td>2.50</td>\n",
       "    </tr>\n",
       "    <tr>\n",
       "      <th>...</th>\n",
       "      <td>...</td>\n",
       "      <td>...</td>\n",
       "    </tr>\n",
       "    <tr>\n",
       "      <th>215</th>\n",
       "      <td>United Kingdom</td>\n",
       "      <td>555919.37</td>\n",
       "    </tr>\n",
       "    <tr>\n",
       "      <th>92</th>\n",
       "      <td>India</td>\n",
       "      <td>690601.04</td>\n",
       "    </tr>\n",
       "    <tr>\n",
       "      <th>100</th>\n",
       "      <td>Japan</td>\n",
       "      <td>1094358.17</td>\n",
       "    </tr>\n",
       "    <tr>\n",
       "      <th>41</th>\n",
       "      <td>China</td>\n",
       "      <td>2460773.08</td>\n",
       "    </tr>\n",
       "    <tr>\n",
       "      <th>217</th>\n",
       "      <td>United States</td>\n",
       "      <td>4823599.85</td>\n",
       "    </tr>\n",
       "  </tbody>\n",
       "</table>\n",
       "<p>230 rows × 2 columns</p>\n",
       "</div>"
      ],
      "text/plain": [
       "                Country        1990\n",
       "226               Yemen    -2998.60\n",
       "174          San Marino        1.00\n",
       "204             Tokelau        1.00\n",
       "131              Monaco        2.18\n",
       "191  State of Palestine        2.50\n",
       "..                  ...         ...\n",
       "215      United Kingdom   555919.37\n",
       "92                India   690601.04\n",
       "100               Japan  1094358.17\n",
       "41                China  2460773.08\n",
       "217       United States  4823599.85\n",
       "\n",
       "[230 rows x 2 columns]"
      ]
     },
     "execution_count": 191,
     "metadata": {},
     "output_type": "execute_result"
    }
   ],
   "source": [
    "#Sorting my dataframe to see the bottom and top 5 countries in descending order in the 1990 column\n",
    "\n",
    "df4.reset_index().sort_values([\"1990\"],ascending = True)"
   ]
  },
  {
   "cell_type": "code",
   "execution_count": 192,
   "metadata": {},
   "outputs": [
    {
     "data": {
      "text/html": [
       "<div>\n",
       "<style scoped>\n",
       "    .dataframe tbody tr th:only-of-type {\n",
       "        vertical-align: middle;\n",
       "    }\n",
       "\n",
       "    .dataframe tbody tr th {\n",
       "        vertical-align: top;\n",
       "    }\n",
       "\n",
       "    .dataframe thead th {\n",
       "        text-align: right;\n",
       "    }\n",
       "</style>\n",
       "<table border=\"1\" class=\"dataframe\">\n",
       "  <thead>\n",
       "    <tr style=\"text-align: right;\">\n",
       "      <th></th>\n",
       "      <th>Country</th>\n",
       "      <th>2011</th>\n",
       "    </tr>\n",
       "  </thead>\n",
       "  <tbody>\n",
       "    <tr>\n",
       "      <th>0</th>\n",
       "      <td>Afghanistan</td>\n",
       "      <td>1</td>\n",
       "    </tr>\n",
       "    <tr>\n",
       "      <th>1</th>\n",
       "      <td>Afghanistan</td>\n",
       "      <td>12251.4</td>\n",
       "    </tr>\n",
       "    <tr>\n",
       "      <th>2</th>\n",
       "      <td>Afghanistan</td>\n",
       "      <td>1</td>\n",
       "    </tr>\n",
       "    <tr>\n",
       "      <th>3</th>\n",
       "      <td>Albania</td>\n",
       "      <td>1</td>\n",
       "    </tr>\n",
       "    <tr>\n",
       "      <th>4</th>\n",
       "      <td>Albania</td>\n",
       "      <td>4668.1</td>\n",
       "    </tr>\n",
       "    <tr>\n",
       "      <th>...</th>\n",
       "      <td>...</td>\n",
       "      <td>...</td>\n",
       "    </tr>\n",
       "    <tr>\n",
       "      <th>685</th>\n",
       "      <td>Zambia</td>\n",
       "      <td>3047.3</td>\n",
       "    </tr>\n",
       "    <tr>\n",
       "      <th>686</th>\n",
       "      <td>Zambia</td>\n",
       "      <td>1</td>\n",
       "    </tr>\n",
       "    <tr>\n",
       "      <th>687</th>\n",
       "      <td>Zimbabwe</td>\n",
       "      <td>1</td>\n",
       "    </tr>\n",
       "    <tr>\n",
       "      <th>688</th>\n",
       "      <td>Zimbabwe</td>\n",
       "      <td>9860.6</td>\n",
       "    </tr>\n",
       "    <tr>\n",
       "      <th>689</th>\n",
       "      <td>Zimbabwe</td>\n",
       "      <td>1</td>\n",
       "    </tr>\n",
       "  </tbody>\n",
       "</table>\n",
       "<p>690 rows × 2 columns</p>\n",
       "</div>"
      ],
      "text/plain": [
       "         Country     2011\n",
       "0    Afghanistan        1\n",
       "1    Afghanistan  12251.4\n",
       "2    Afghanistan        1\n",
       "3        Albania        1\n",
       "4        Albania   4668.1\n",
       "..           ...      ...\n",
       "685       Zambia   3047.3\n",
       "686       Zambia        1\n",
       "687     Zimbabwe        1\n",
       "688     Zimbabwe   9860.6\n",
       "689     Zimbabwe        1\n",
       "\n",
       "[690 rows x 2 columns]"
      ]
     },
     "execution_count": 192,
     "metadata": {},
     "output_type": "execute_result"
    }
   ],
   "source": [
    "#Creating a new data frame for country and year 2011\n",
    "df5 = df2.loc[:, (\"Country\",\"2011\") ]\n",
    "\n",
    "#Filling missing values using 1\n",
    "df5[\"2011\"] = df5[\"2011\"].fillna(1)\n",
    "df5"
   ]
  },
  {
   "cell_type": "code",
   "execution_count": 194,
   "metadata": {},
   "outputs": [
    {
     "data": {
      "text/plain": [
       "Country\n",
       "Afghanistan                                        12253.4\n",
       "Albania                                             4670.1\n",
       "Algeria                                           121757.4\n",
       "American Samoa                                         3.0\n",
       "Andorra                                              493.4\n",
       "                                                    ...   \n",
       "Western Sahara                                         3.0\n",
       "Yemen                                              22297.4\n",
       "Yugoslavia [former Socialist Federal Republic]         3.0\n",
       "Zambia                                              3049.3\n",
       "Zimbabwe                                            9862.6\n",
       "Name: 2011, Length: 230, dtype: float64"
      ]
     },
     "execution_count": 194,
     "metadata": {},
     "output_type": "execute_result"
    }
   ],
   "source": [
    "#Grouping by country and 2011,then changing data type from object to float \n",
    "\n",
    "df6 = df5.groupby(\"Country\")[\"2011\"].apply(lambda country : country.astype(float).sum())\n",
    "df6"
   ]
  },
  {
   "cell_type": "code",
   "execution_count": 195,
   "metadata": {},
   "outputs": [
    {
     "data": {
      "text/html": [
       "<div>\n",
       "<style scoped>\n",
       "    .dataframe tbody tr th:only-of-type {\n",
       "        vertical-align: middle;\n",
       "    }\n",
       "\n",
       "    .dataframe tbody tr th {\n",
       "        vertical-align: top;\n",
       "    }\n",
       "\n",
       "    .dataframe thead th {\n",
       "        text-align: right;\n",
       "    }\n",
       "</style>\n",
       "<table border=\"1\" class=\"dataframe\">\n",
       "  <thead>\n",
       "    <tr style=\"text-align: right;\">\n",
       "      <th></th>\n",
       "      <th>Country</th>\n",
       "      <th>2011</th>\n",
       "    </tr>\n",
       "  </thead>\n",
       "  <tbody>\n",
       "    <tr>\n",
       "      <th>41</th>\n",
       "      <td>China</td>\n",
       "      <td>9019520.2</td>\n",
       "    </tr>\n",
       "    <tr>\n",
       "      <th>217</th>\n",
       "      <td>United States</td>\n",
       "      <td>5305571.6</td>\n",
       "    </tr>\n",
       "    <tr>\n",
       "      <th>92</th>\n",
       "      <td>India</td>\n",
       "      <td>2074346.9</td>\n",
       "    </tr>\n",
       "    <tr>\n",
       "      <th>166</th>\n",
       "      <td>Russian Federation</td>\n",
       "      <td>1808075.0</td>\n",
       "    </tr>\n",
       "    <tr>\n",
       "      <th>100</th>\n",
       "      <td>Japan</td>\n",
       "      <td>1187659.0</td>\n",
       "    </tr>\n",
       "    <tr>\n",
       "      <th>...</th>\n",
       "      <td>...</td>\n",
       "      <td>...</td>\n",
       "    </tr>\n",
       "    <tr>\n",
       "      <th>83</th>\n",
       "      <td>Guam</td>\n",
       "      <td>3.0</td>\n",
       "    </tr>\n",
       "    <tr>\n",
       "      <th>179</th>\n",
       "      <td>Serbia and Montenegro</td>\n",
       "      <td>3.0</td>\n",
       "    </tr>\n",
       "    <tr>\n",
       "      <th>188</th>\n",
       "      <td>South Sudan</td>\n",
       "      <td>3.0</td>\n",
       "    </tr>\n",
       "    <tr>\n",
       "      <th>192</th>\n",
       "      <td>Sudan</td>\n",
       "      <td>3.0</td>\n",
       "    </tr>\n",
       "    <tr>\n",
       "      <th>128</th>\n",
       "      <td>Mayotte</td>\n",
       "      <td>3.0</td>\n",
       "    </tr>\n",
       "  </tbody>\n",
       "</table>\n",
       "<p>230 rows × 2 columns</p>\n",
       "</div>"
      ],
      "text/plain": [
       "                   Country       2011\n",
       "41                   China  9019520.2\n",
       "217          United States  5305571.6\n",
       "92                   India  2074346.9\n",
       "166     Russian Federation  1808075.0\n",
       "100                  Japan  1187659.0\n",
       "..                     ...        ...\n",
       "83                    Guam        3.0\n",
       "179  Serbia and Montenegro        3.0\n",
       "188            South Sudan        3.0\n",
       "192                  Sudan        3.0\n",
       "128                Mayotte        3.0\n",
       "\n",
       "[230 rows x 2 columns]"
      ]
     },
     "execution_count": 195,
     "metadata": {},
     "output_type": "execute_result"
    }
   ],
   "source": [
    "#Reseting and sorting dataframe in the 2011 column\n",
    "df6.reset_index().sort_values( [\"2011\"],ascending = False)"
   ]
  },
  {
   "cell_type": "markdown",
   "metadata": {},
   "source": [
    "# Top 5 countries in 1990 in asdending order and the amount of CO2 emisson"
   ]
  },
  {
   "cell_type": "markdown",
   "metadata": {},
   "source": [
    "1.United States      =  4823599.85\n",
    "\n",
    "2.China\t             =  2460773.08\n",
    "\n",
    "3.Japan\t             =  1094358.17\n",
    "\n",
    "4.India\t             =  690601.04\n",
    "\n",
    "5.United Kingdom     =\t555919.37"
   ]
  },
  {
   "cell_type": "markdown",
   "metadata": {},
   "source": [
    "# Bottom 5 countries in 1990 in descdending order and the amount of CO2 emisson"
   ]
  },
  {
   "cell_type": "markdown",
   "metadata": {},
   "source": [
    "1.Yemen\t = -2998.60\n",
    "\n",
    "2.San Marino = 1.00\n",
    "\n",
    "3.Tokelau\t= 1.00\t \n",
    "\n",
    "4.Monaco =\t2.18\n",
    "\n",
    "5.State of Palestine =\t2.50"
   ]
  },
  {
   "cell_type": "markdown",
   "metadata": {},
   "source": [
    "# Top 5 countries in 2011 in desdending order and the amount of CO2 emisson¶"
   ]
  },
  {
   "cell_type": "markdown",
   "metadata": {},
   "source": [
    "1.China = 9019520.2\n",
    "\n",
    "2.United States = 5305571.6\n",
    "\n",
    "3.India = \t2074346.9\n",
    "\n",
    "4.Russian Federation = 2074346.9\n",
    "\n",
    "5.Japan = 1187659.0"
   ]
  },
  {
   "cell_type": "markdown",
   "metadata": {},
   "source": [
    "# Bottom 5 countries in 2011 and the amount of CO2 emisson¶"
   ]
  },
  {
   "cell_type": "markdown",
   "metadata": {},
   "source": [
    "1.Mayotte = 3.0\n",
    "\n",
    "2.Sudan\t= 3.0\n",
    "\n",
    "3.South Sudan = 3.0\n",
    "\n",
    "4.Serbia and Montenegro = 3.0\n",
    "\n",
    "5.Guam = 3.0\n"
   ]
  },
  {
   "cell_type": "markdown",
   "metadata": {},
   "source": []
  },
  {
   "cell_type": "markdown",
   "metadata": {},
   "source": [
    "# 3.Calculate the mean and median C02 emissions for 1990. Why do you think these values differ?"
   ]
  },
  {
   "cell_type": "code",
   "execution_count": 208,
   "metadata": {},
   "outputs": [
    {
     "data": {
      "text/plain": [
       "count    2.300000e+02\n",
       "mean     7.168530e+04\n",
       "std      3.713651e+05\n",
       "min     -2.998600e+03\n",
       "25%      8.575250e+01\n",
       "50%      1.236955e+03\n",
       "75%      2.138662e+04\n",
       "max      4.823600e+06\n",
       "Name: 1990, dtype: float64"
      ]
     },
     "execution_count": 208,
     "metadata": {},
     "output_type": "execute_result"
    }
   ],
   "source": [
    "#statistical summary of data frame 4\n",
    "\n",
    "df4.describe()"
   ]
  },
  {
   "cell_type": "markdown",
   "metadata": {},
   "source": [
    " # Mean"
   ]
  },
  {
   "cell_type": "code",
   "execution_count": 207,
   "metadata": {},
   "outputs": [
    {
     "data": {
      "text/plain": [
       "71685.30452173913"
      ]
     },
     "execution_count": 207,
     "metadata": {},
     "output_type": "execute_result"
    }
   ],
   "source": [
    "#Checking mean\n",
    "df4.mean()"
   ]
  },
  {
   "cell_type": "markdown",
   "metadata": {},
   "source": [
    "# Median"
   ]
  },
  {
   "cell_type": "code",
   "execution_count": 205,
   "metadata": {},
   "outputs": [
    {
     "data": {
      "text/plain": [
       "1236.955"
      ]
     },
     "execution_count": 205,
     "metadata": {},
     "output_type": "execute_result"
    }
   ],
   "source": [
    "#Checking median\n",
    "df4.median()"
   ]
  },
  {
   "cell_type": "markdown",
   "metadata": {},
   "source": []
  },
  {
   "cell_type": "markdown",
   "metadata": {},
   "source": [
    "# 4.Calculate the minimum, maximum and interquartile range of the CO2 emissions for 1990. Using this information, and the mean and median, what does this tell you about the distribution of CO2 emissions?"
   ]
  },
  {
   "cell_type": "code",
   "execution_count": 209,
   "metadata": {},
   "outputs": [
    {
     "data": {
      "text/plain": [
       "-2998.6"
      ]
     },
     "execution_count": 209,
     "metadata": {},
     "output_type": "execute_result"
    }
   ],
   "source": [
    "df4.min()"
   ]
  },
  {
   "cell_type": "code",
   "execution_count": 210,
   "metadata": {},
   "outputs": [
    {
     "data": {
      "text/plain": [
       "4823599.85"
      ]
     },
     "execution_count": 210,
     "metadata": {},
     "output_type": "execute_result"
    }
   ],
   "source": [
    "df4.max()"
   ]
  },
  {
   "cell_type": "code",
   "execution_count": 212,
   "metadata": {},
   "outputs": [
    {
     "data": {
      "text/plain": [
       "85.7525"
      ]
     },
     "execution_count": 212,
     "metadata": {},
     "output_type": "execute_result"
    }
   ],
   "source": [
    "q1 = df4.quantile(0.25)\n",
    "q1"
   ]
  },
  {
   "cell_type": "code",
   "execution_count": 214,
   "metadata": {},
   "outputs": [
    {
     "data": {
      "text/plain": [
       "1236.955"
      ]
     },
     "execution_count": 214,
     "metadata": {},
     "output_type": "execute_result"
    }
   ],
   "source": [
    "\n",
    "q2 = df4.median()\n",
    "q2"
   ]
  },
  {
   "cell_type": "code",
   "execution_count": 216,
   "metadata": {},
   "outputs": [
    {
     "data": {
      "text/plain": [
       "21386.615"
      ]
     },
     "execution_count": 216,
     "metadata": {},
     "output_type": "execute_result"
    }
   ],
   "source": [
    "q3 = df4.quantile(0.75)\n",
    "q3"
   ]
  },
  {
   "cell_type": "code",
   "execution_count": 218,
   "metadata": {},
   "outputs": [
    {
     "data": {
      "text/plain": [
       "21300.862500000003"
      ]
     },
     "execution_count": 218,
     "metadata": {},
     "output_type": "execute_result"
    }
   ],
   "source": [
    "iqr = q3 - q1\n",
    "iqr "
   ]
  },
  {
   "cell_type": "code",
   "execution_count": null,
   "metadata": {},
   "outputs": [],
   "source": []
  },
  {
   "cell_type": "markdown",
   "metadata": {},
   "source": [
    "# 5. Create a histogram of the CO2 emissions for 1990. Is this what you expected from your answers in questions 3 and 4?"
   ]
  },
  {
   "cell_type": "code",
   "execution_count": 232,
   "metadata": {},
   "outputs": [
    {
     "data": {
      "image/png": "[encoded data removed]",
      "text/plain": [
       "<Figure size 1080x720 with 1 Axes>"
      ]
     },
     "metadata": {},
     "output_type": "display_data"
    }
   ],
   "source": [
    "sns.set()\n",
    "plt.figure(figsize = (15,10))\n",
    "plt.hist(df4, color = 'r', stacked = False, orientation = \"vertical\", bins = 10)\n",
    "plt.xlabel(\"Country\")\n",
    "plt.ylabel(\"CO2 emissions \")\n",
    "plt.title(\"CO2 emissions in 1990\")\n",
    "plt.show()"
   ]
  },
  {
   "cell_type": "markdown",
   "metadata": {},
   "source": [
    "# 6.Calculate the standard deviation and standard error of the mean for CO2 emissions in 1990. How is the standard error different from the standard deviation?"
   ]
  },
  {
   "cell_type": "code",
   "execution_count": 233,
   "metadata": {},
   "outputs": [
    {
     "data": {
      "text/plain": [
       "370556.86784723896"
      ]
     },
     "execution_count": 233,
     "metadata": {},
     "output_type": "execute_result"
    }
   ],
   "source": [
    "np.std(df4)"
   ]
  },
  {
   "cell_type": "code",
   "execution_count": 234,
   "metadata": {},
   "outputs": [
    {
     "data": {
      "text/plain": [
       "24487.08707998341"
      ]
     },
     "execution_count": 234,
     "metadata": {},
     "output_type": "execute_result"
    }
   ],
   "source": [
    "df4.sem()"
   ]
  },
  {
   "cell_type": "markdown",
   "metadata": {},
   "source": [
    "# 7.Create a line graph to show C02 emissions in Brazil, Russia, China, India, the USA and South Africa over time. What does the graph tell you about the difference and change in C02 emissions in these countries?"
   ]
  },
  {
   "cell_type": "code",
   "execution_count": null,
   "metadata": {},
   "outputs": [],
   "source": []
  },
  {
   "cell_type": "code",
   "execution_count": null,
   "metadata": {},
   "outputs": [],
   "source": []
  }
 ],
 "metadata": {
  "kernelspec": {
   "display_name": "Python 3",
   "language": "python",
   "name": "python3"
  },
  "language_info": {
   "codemirror_mode": {
    "name": "ipython",
    "version": 3
   },
   "file_extension": ".py",
   "mimetype": "text/x-python",
   "name": "python",
   "nbconvert_exporter": "python",
   "pygments_lexer": "ipython3",
   "version": "3.6.9"
  }
 },
 "nbformat": 4,
 "nbformat_minor": 4
}
